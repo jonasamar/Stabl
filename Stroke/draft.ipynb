{
 "cells": [
  {
   "cell_type": "code",
   "execution_count": 1,
   "metadata": {},
   "outputs": [],
   "source": [
    "import warnings\n",
    "warnings.filterwarnings('ignore')"
   ]
  },
  {
   "cell_type": "markdown",
   "metadata": {},
   "source": [
    "# Libraries"
   ]
  },
  {
   "cell_type": "markdown",
   "metadata": {},
   "source": [
    "## Basic libraries"
   ]
  },
  {
   "cell_type": "code",
   "execution_count": 2,
   "metadata": {},
   "outputs": [],
   "source": [
    "import numpy as np\n",
    "import pandas as pd\n",
    "from pathlib import Path\n",
    "import os\n",
    "\n",
    "from sklearn.model_selection import LeaveOneOut, RepeatedStratifiedKFold, RepeatedKFold\n",
    "from sklearn.base import clone\n",
    "\n",
    "from stabl.stabl import Stabl, plot_stabl_path, plot_fdr_graph, save_stabl_results\n",
    "from stabl.preprocessing import LowInfoFilter, remove_low_info_samples\n",
    "\n",
    "%config InlineBackend.figure_formats=['retina']"
   ]
  },
  {
   "cell_type": "markdown",
   "metadata": {},
   "source": [
    "## Stabl pipelines"
   ]
  },
  {
   "cell_type": "code",
   "execution_count": 3,
   "metadata": {},
   "outputs": [],
   "source": [
    "from stabl.multi_omic_pipelines import multi_omic_stabl, multi_omic_stabl_cv\n",
    "from stabl.single_omic_pipelines import single_omic_stabl, single_omic_stabl_cv\n",
    "from stabl.pipelines_utils import compute_features_table"
   ]
  },
  {
   "cell_type": "markdown",
   "metadata": {},
   "source": [
    "# Data"
   ]
  },
  {
   "cell_type": "markdown",
   "metadata": {},
   "source": [
    "## Importing dataset"
   ]
  },
  {
   "cell_type": "code",
   "execution_count": 20,
   "metadata": {},
   "outputs": [
    {
     "data": {
      "text/plain": [
       "(19320, 7)"
      ]
     },
     "execution_count": 20,
     "metadata": {},
     "output_type": "execute_result"
    }
   ],
   "source": [
    "dataset = pd.read_csv(\"../Sample Data/Stroke/preprocessed_HT.csv\")\n",
    "dataset.shape\n"
   ]
  },
  {
   "cell_type": "code",
   "execution_count": 21,
   "metadata": {},
   "outputs": [],
   "source": [
    "# cellpop = 'Bcells*'\n",
    "\n",
    "# data1 = dataset[(dataset['population']==cellpop) & (dataset['time']=='P1')]\n",
    "# data2 = dataset[(dataset['population']==cellpop) & (dataset['time']=='P2')]\n",
    "\n",
    "    \n",
    "    \n",
    "# # Rearrangement of the data\n",
    "# dict_x1 = {}\n",
    "# dict_x2 = {}\n",
    "# dict_y = {}\n",
    "# for sample in data1['sampleID']:\n",
    "#     dict_x1[sample] = {}\n",
    "#     dict_x2[sample] = {}\n",
    "#     for feature in data1['reagent'].unique():\n",
    "#         mask1 = (data1['sampleID']==sample) & (data1['reagent']==feature)\n",
    "#         mask2 = (data2['sampleID']==sample) & (data2['reagent']==feature)\n",
    "#         dict_x1[sample][feature] = float(data1[mask1]['feature'])\n",
    "#         dict_x2[sample][feature] = float(data2[mask2]['feature'])\n",
    "#     dict_y[sample] = data1[data1['sampleID']==sample]['group'].iloc[0]\n",
    "\n",
    "# X1 = pd.DataFrame(dict_x1).T\n",
    "# X2 = pd.DataFrame(dict_x2).T\n"
   ]
  },
  {
   "cell_type": "code",
   "execution_count": 22,
   "metadata": {},
   "outputs": [],
   "source": [
    "#X1"
   ]
  },
  {
   "cell_type": "code",
   "execution_count": 23,
   "metadata": {},
   "outputs": [
    {
     "name": "stdout",
     "output_type": "stream",
     "text": [
      "sampleID values : [1326 1330 1331 1337 1357 1377 1381 1400 1414 1418 1427 1428 1431 1464\n",
      " 1469 1472 1473 1475 1480 1488]\n",
      "card(sampleID) : 20\n",
      "\n",
      "population values : ['Bcells*' 'CCR2nncMC*' 'CCR2pcMC*' 'CD41hiCD61hiPLT*' 'CD4Tcm*' 'CD4Tem*'\n",
      " 'CD4Tnaive*' 'CD4Trm*' 'CD56brightCD16nNKcells*' 'CD56dimCD16pNKcells*'\n",
      " 'CD61pCD41pPLT*' 'CD62LnAgedNeutrophils*' 'CD62LpImmatureNeutrophils*'\n",
      " 'CD8Tcm*' 'CD8Tem*' 'CD8Tnaive*' 'CD8Trm*' 'gdTcells*' 'intMC*' 'mDC*'\n",
      " 'MDSC*' 'NKT*' 'pDC*' 'Th1mem*' 'Th1naive*' 'Tregmem*' 'Tregnaive*']\n",
      "card(population) : 27\n",
      "\n",
      "reagent values : ['CREB' 'STAT5' 'p38' 'STAT1' 'STAT3' 'S6' 'IkB' 'NFkB' 'ERK' 'STAT6'\n",
      " 'MAPKAPK2' 'Frequency']\n",
      "card(reagent) : 12\n",
      "\n",
      "time values : ['P1' 'P3' 'P2']\n",
      "card(time) : 3\n",
      "\n",
      "stimulation values : ['Unstim']\n",
      "card(stimulation) : 1\n",
      "\n",
      "feature values : [0.16376094 0.01940237 0.         ... 0.71118115 0.21365683 0.02493233]\n",
      "card(feature) : 15044\n",
      "\n",
      "group values : ['No' 'Yes']\n",
      "card(group) : 2\n",
      "\n"
     ]
    }
   ],
   "source": [
    "for column in dataset.columns:\n",
    "    print(f\"{column} values : {dataset[column].unique()}\")\n",
    "    print(f\"card({column}) : {len(dataset[column].unique())}\")\n",
    "    print()"
   ]
  },
  {
   "cell_type": "markdown",
   "metadata": {},
   "source": [
    "# Test 1 : for Bcells"
   ]
  },
  {
   "cell_type": "code",
   "execution_count": 24,
   "metadata": {},
   "outputs": [
    {
     "name": "stderr",
     "output_type": "stream",
     "text": [
      "/var/folders/v_/wlr8vlpn1tzgb7_j_7kncp4w0000gn/T/ipykernel_9735/4151183322.py:3: SettingWithCopyWarning: \n",
      "A value is trying to be set on a copy of a slice from a DataFrame\n",
      "\n",
      "See the caveats in the documentation: https://pandas.pydata.org/pandas-docs/stable/user_guide/indexing.html#returning-a-view-versus-a-copy\n",
      "  dataset['group'][dataset['group']=='Yes']=1\n"
     ]
    },
    {
     "data": {
      "text/html": [
       "<div>\n",
       "<style scoped>\n",
       "    .dataframe tbody tr th:only-of-type {\n",
       "        vertical-align: middle;\n",
       "    }\n",
       "\n",
       "    .dataframe tbody tr th {\n",
       "        vertical-align: top;\n",
       "    }\n",
       "\n",
       "    .dataframe thead th {\n",
       "        text-align: right;\n",
       "    }\n",
       "</style>\n",
       "<table border=\"1\" class=\"dataframe\">\n",
       "  <thead>\n",
       "    <tr style=\"text-align: right;\">\n",
       "      <th></th>\n",
       "      <th>sampleID</th>\n",
       "      <th>population</th>\n",
       "      <th>reagent</th>\n",
       "      <th>time</th>\n",
       "      <th>stimulation</th>\n",
       "      <th>feature</th>\n",
       "      <th>group</th>\n",
       "    </tr>\n",
       "  </thead>\n",
       "  <tbody>\n",
       "    <tr>\n",
       "      <th>0</th>\n",
       "      <td>1326</td>\n",
       "      <td>Bcells*</td>\n",
       "      <td>CREB</td>\n",
       "      <td>P1</td>\n",
       "      <td>Unstim</td>\n",
       "      <td>0.163761</td>\n",
       "      <td>0</td>\n",
       "    </tr>\n",
       "    <tr>\n",
       "      <th>1</th>\n",
       "      <td>1326</td>\n",
       "      <td>Bcells*</td>\n",
       "      <td>STAT5</td>\n",
       "      <td>P1</td>\n",
       "      <td>Unstim</td>\n",
       "      <td>0.019402</td>\n",
       "      <td>0</td>\n",
       "    </tr>\n",
       "    <tr>\n",
       "      <th>2</th>\n",
       "      <td>1326</td>\n",
       "      <td>Bcells*</td>\n",
       "      <td>p38</td>\n",
       "      <td>P1</td>\n",
       "      <td>Unstim</td>\n",
       "      <td>0.000000</td>\n",
       "      <td>0</td>\n",
       "    </tr>\n",
       "    <tr>\n",
       "      <th>3</th>\n",
       "      <td>1326</td>\n",
       "      <td>Bcells*</td>\n",
       "      <td>STAT1</td>\n",
       "      <td>P1</td>\n",
       "      <td>Unstim</td>\n",
       "      <td>0.000000</td>\n",
       "      <td>0</td>\n",
       "    </tr>\n",
       "    <tr>\n",
       "      <th>4</th>\n",
       "      <td>1326</td>\n",
       "      <td>Bcells*</td>\n",
       "      <td>STAT3</td>\n",
       "      <td>P1</td>\n",
       "      <td>Unstim</td>\n",
       "      <td>0.000000</td>\n",
       "      <td>0</td>\n",
       "    </tr>\n",
       "    <tr>\n",
       "      <th>...</th>\n",
       "      <td>...</td>\n",
       "      <td>...</td>\n",
       "      <td>...</td>\n",
       "      <td>...</td>\n",
       "      <td>...</td>\n",
       "      <td>...</td>\n",
       "      <td>...</td>\n",
       "    </tr>\n",
       "    <tr>\n",
       "      <th>715</th>\n",
       "      <td>1488</td>\n",
       "      <td>Bcells*</td>\n",
       "      <td>NFkB</td>\n",
       "      <td>P1</td>\n",
       "      <td>Unstim</td>\n",
       "      <td>0.617994</td>\n",
       "      <td>1</td>\n",
       "    </tr>\n",
       "    <tr>\n",
       "      <th>716</th>\n",
       "      <td>1488</td>\n",
       "      <td>Bcells*</td>\n",
       "      <td>ERK</td>\n",
       "      <td>P1</td>\n",
       "      <td>Unstim</td>\n",
       "      <td>0.062619</td>\n",
       "      <td>1</td>\n",
       "    </tr>\n",
       "    <tr>\n",
       "      <th>717</th>\n",
       "      <td>1488</td>\n",
       "      <td>Bcells*</td>\n",
       "      <td>STAT6</td>\n",
       "      <td>P1</td>\n",
       "      <td>Unstim</td>\n",
       "      <td>0.000000</td>\n",
       "      <td>1</td>\n",
       "    </tr>\n",
       "    <tr>\n",
       "      <th>718</th>\n",
       "      <td>1488</td>\n",
       "      <td>Bcells*</td>\n",
       "      <td>MAPKAPK2</td>\n",
       "      <td>P1</td>\n",
       "      <td>Unstim</td>\n",
       "      <td>0.559347</td>\n",
       "      <td>1</td>\n",
       "    </tr>\n",
       "    <tr>\n",
       "      <th>719</th>\n",
       "      <td>1488</td>\n",
       "      <td>Bcells*</td>\n",
       "      <td>S6</td>\n",
       "      <td>P1</td>\n",
       "      <td>Unstim</td>\n",
       "      <td>0.432404</td>\n",
       "      <td>1</td>\n",
       "    </tr>\n",
       "  </tbody>\n",
       "</table>\n",
       "<p>720 rows × 7 columns</p>\n",
       "</div>"
      ],
      "text/plain": [
       "     sampleID population   reagent time stimulation   feature group\n",
       "0        1326    Bcells*      CREB   P1      Unstim  0.163761     0\n",
       "1        1326    Bcells*     STAT5   P1      Unstim  0.019402     0\n",
       "2        1326    Bcells*       p38   P1      Unstim  0.000000     0\n",
       "3        1326    Bcells*     STAT1   P1      Unstim  0.000000     0\n",
       "4        1326    Bcells*     STAT3   P1      Unstim  0.000000     0\n",
       "..        ...        ...       ...  ...         ...       ...   ...\n",
       "715      1488    Bcells*      NFkB   P1      Unstim  0.617994     1\n",
       "716      1488    Bcells*       ERK   P1      Unstim  0.062619     1\n",
       "717      1488    Bcells*     STAT6   P1      Unstim  0.000000     1\n",
       "718      1488    Bcells*  MAPKAPK2   P1      Unstim  0.559347     1\n",
       "719      1488    Bcells*        S6   P1      Unstim  0.432404     1\n",
       "\n",
       "[720 rows x 7 columns]"
      ]
     },
     "execution_count": 24,
     "metadata": {},
     "output_type": "execute_result"
    }
   ],
   "source": [
    "dataset = dataset[dataset['population']=='Bcells*']\n",
    "dataset['group'][dataset['group']=='No']=0\n",
    "dataset['group'][dataset['group']=='Yes']=1\n",
    "dataset"
   ]
  },
  {
   "cell_type": "markdown",
   "metadata": {},
   "source": [
    "# P1"
   ]
  },
  {
   "cell_type": "code",
   "execution_count": 25,
   "metadata": {},
   "outputs": [],
   "source": [
    "data_path = Path('./Data', 'Test')\n",
    "os.makedirs(data_path, exist_ok=True)\n",
    "os.makedirs('./Results', exist_ok=True)"
   ]
  },
  {
   "cell_type": "code",
   "execution_count": 26,
   "metadata": {},
   "outputs": [],
   "source": [
    "P3_dataset = dataset[dataset['time']=='P3']"
   ]
  },
  {
   "cell_type": "markdown",
   "metadata": {},
   "source": [
    "## Multivariate Analysis"
   ]
  },
  {
   "cell_type": "markdown",
   "metadata": {},
   "source": [
    "### Dataset"
   ]
  },
  {
   "cell_type": "code",
   "execution_count": 27,
   "metadata": {},
   "outputs": [
    {
     "name": "stderr",
     "output_type": "stream",
     "text": [
      "/var/folders/v_/wlr8vlpn1tzgb7_j_7kncp4w0000gn/T/ipykernel_9735/3047858387.py:7: FutureWarning: Calling float on a single element Series is deprecated and will raise a TypeError in the future. Use float(ser.iloc[0]) instead\n",
      "  P3_dict_x[sample][feature] = float(P3_dataset[mask]['feature'])\n"
     ]
    }
   ],
   "source": [
    "P3_dict_x = {}\n",
    "P3_dict_y = {}\n",
    "for sample in dataset['sampleID']:\n",
    "    P3_dict_x[sample] = {}\n",
    "    for feature in dataset['reagent'].unique():\n",
    "        mask = (P3_dataset['sampleID']==sample) & (P3_dataset['reagent']==feature)\n",
    "        P3_dict_x[sample][feature] = float(P3_dataset[mask]['feature'])\n",
    "    P3_dict_y[sample] = P3_dataset[P3_dataset['sampleID']==sample]['group'].iloc[0]\n",
    "        \n",
    "pd.DataFrame(P3_dict_x).T.to_csv(Path(data_path, \"X.csv\"), index=True)\n",
    "pd.DataFrame([P3_dict_y]).T.to_csv(Path(data_path, \"y.csv\"), index=True)"
   ]
  },
  {
   "cell_type": "code",
   "execution_count": 28,
   "metadata": {},
   "outputs": [],
   "source": [
    "X = pd.read_csv(Path(data_path, \"X.csv\"), index_col=0)\n",
    "y = pd.read_csv(Path(data_path, \"y.csv\"), index_col=0).iloc[:, 0]\n",
    "y.name = None"
   ]
  },
  {
   "cell_type": "markdown",
   "metadata": {},
   "source": [
    "### Result folder name"
   ]
  },
  {
   "cell_type": "code",
   "execution_count": 29,
   "metadata": {},
   "outputs": [],
   "source": [
    "result_folder = \"./Results/Test\""
   ]
  },
  {
   "cell_type": "markdown",
   "metadata": {},
   "source": [
    "### Single-omic Training-CV"
   ]
  },
  {
   "cell_type": "code",
   "execution_count": 30,
   "metadata": {},
   "outputs": [],
   "source": [
    "stabl = Stabl(\n",
    "    lambda_grid=np.linspace(0.01, 5, 10),\n",
    "    n_bootstraps=1000,\n",
    "    artificial_type=\"random_permutation\",\n",
    "    replace=False,\n",
    "    fdr_threshold_range=np.arange(0.1, 1, 0.01),\n",
    "    sample_fraction=.5,\n",
    "    random_state=42\n",
    ")\n",
    "\n",
    "stability_selection = clone(stabl).set_params(hard_threshold=.1, artificial_type = None)\n",
    "\n",
    "#outer_splitter = LeaveOneOut()\n",
    "#outer_splitter = RepeatedStratifiedKFold(n_splits=len(X), n_repeats=20, random_state=42)\n",
    "outer_splitter = RepeatedKFold(n_splits=len(X), n_repeats=1, random_state=42)"
   ]
  },
  {
   "cell_type": "code",
   "execution_count": 1,
   "metadata": {},
   "outputs": [],
   "source": [
    "from stabl.single_omic_pipelines import single_omic_stabl_cv, single_omic_stabl\n",
    "\n",
    "predictions_dict = single_omic_stabl_cv(\n",
    "    X=X,\n",
    "    y=y,\n",
    "    outer_splitter=outer_splitter,\n",
    "    stabl=stabl,\n",
    "    stability_selection=stability_selection,\n",
    "    task_type=\"binary\",\n",
    "    save_path=result_folder,\n",
    "    outer_groups=None\n",
    ")"
   ]
  },
  {
   "cell_type": "code",
   "execution_count": 32,
   "metadata": {},
   "outputs": [],
   "source": [
    "np.random.seed(1)"
   ]
  },
  {
   "cell_type": "code",
   "execution_count": 33,
   "metadata": {},
   "outputs": [],
   "source": [
    "stabl_singl = Stabl(\n",
    "    lambda_grid=np.linspace(0.01, 5, 10),\n",
    "    n_bootstraps=1000,\n",
    "    artificial_proportion=1.,\n",
    "    artificial_type=\"random_permutation\",\n",
    "    hard_threshold=None,\n",
    "    replace=False,\n",
    "    fdr_threshold_range=np.arange(0.1, 1, 0.01),\n",
    "    sample_fraction=.5,\n",
    "    random_state=42\n",
    ")\n",
    "\n",
    "stability_selection = clone(stabl_singl).set_params(artificial_type=None, hard_threshold=.1)"
   ]
  },
  {
   "cell_type": "code",
   "execution_count": 2,
   "metadata": {},
   "outputs": [],
   "source": [
    "predictions_dict = single_omic_stabl(\n",
    "    X=X,\n",
    "    y=y,\n",
    "    stabl=stabl_singl,\n",
    "    stability_selection=stability_selection,\n",
    "    task_type=\"binary\",\n",
    "    save_path=Path(result_folder),\n",
    ")"
   ]
  },
  {
   "cell_type": "markdown",
   "metadata": {},
   "source": [
    "### Tables of features"
   ]
  },
  {
   "cell_type": "code",
   "execution_count": 36,
   "metadata": {},
   "outputs": [],
   "source": [
    "selected_features_dict = dict()\n",
    "for model in [\"STABL\", \"Lasso\", \"Lasso 1SE\", \"ElasticNet\", \"SS 03\", \"SS 05\", \"SS 08\"]:\n",
    "    path = Path(result_folder, \"Training-Validation\", f\"{model} coefficients.csv\")\n",
    "    try:\n",
    "        selected_features_dict[model] = list(pd.read_csv(path, index_col=0).iloc[:, 0].index)\n",
    "    except:\n",
    "        selected_features_dict[model] = []\n",
    "        \n",
    "features_table = compute_features_table(\n",
    "    selected_features_dict,\n",
    "    X_train=X,\n",
    "    y_train=y,\n",
    "    X_test=None,\n",
    "    y_test=None,\n",
    "    task_type=\"binary\")\n",
    "\n",
    "features_table.to_csv(Path(result_folder, \"Training-Validation\", \"Table of features.csv\"))"
   ]
  },
  {
   "cell_type": "markdown",
   "metadata": {},
   "source": [
    "## Univariate"
   ]
  },
  {
   "cell_type": "code",
   "execution_count": null,
   "metadata": {},
   "outputs": [],
   "source": [
    "from scipy.stats import spearmanr\n",
    "import numpy as np\n",
    "\n",
    "Spearmancorr = {}\n",
    "\n",
    "features = X.columns\n",
    "\n",
    "for feature in features:\n",
    "    \n",
    "    corr, pval = spearmanr(X[feature], y)\n",
    "    Spearmancorr[feature] = [corr, pval]\n",
    "\n",
    "SpearmanPvalue = pd.DataFrame(Spearmancorr).T\n",
    "SpearmanPvalue.columns = ['Spearman corr', 'pvalue']\n",
    "SpearmanPvalue.sort_values('pvalue', inplace=True)\n",
    "SpearmanPvalue.to_csv(Path(result_folder, 'Summary', 'SpearmanCorrelationsPval.csv'), index=True)"
   ]
  },
  {
   "cell_type": "code",
   "execution_count": null,
   "metadata": {},
   "outputs": [],
   "source": [
    "from stabl.visualization import boxplot_features\n",
    "\n",
    "os.makedirs(Path(result_folder, 'Univariate'))\n",
    "\n",
    "boxplot_features(\n",
    "        SpearmanPvalue[:5].index,\n",
    "        X,\n",
    "        y,\n",
    "        show_fig=False,\n",
    "        export_file=True,\n",
    "        path=Path(result_folder, 'Univariate'))"
   ]
  },
  {
   "cell_type": "markdown",
   "metadata": {},
   "source": [
    "### Rearrangement of results"
   ]
  },
  {
   "cell_type": "code",
   "execution_count": null,
   "metadata": {},
   "outputs": [],
   "source": [
    "import shutil\n",
    "\n",
    "# Source and destination paths\n",
    "for model in [\"STABL\", \"Lasso\", \"Lasso 1SE\", \"ElasticNet\", \"SS 03\", \"SS 05\", \"SS 08\"]:\n",
    "    src_folder = Path(result_folder, 'Training CV', model)\n",
    "    dst_folder = Path(result_folder, 'Summary')\n",
    "\n",
    "    # Loop over the files in the source folder\n",
    "    for filename in os.listdir(src_folder):\n",
    "        if \"Boxplot\" in filename:\n",
    "            src_file = os.path.join(src_folder, filename)\n",
    "            dst_file = os.path.join(dst_folder, filename)\n",
    "            shutil.copy(src_file, dst_file)"
   ]
  },
  {
   "cell_type": "code",
   "execution_count": null,
   "metadata": {},
   "outputs": [],
   "source": [
    "from PyPDF2 import PdfReader\n",
    "import csv\n",
    "\n",
    "def get_pvalue_from_Boxplot(model):\n",
    "    reader = PdfReader(Path(result_folder, 'Summary', model + ' Boxplot of median predictions.pdf'))         \n",
    "    # getting a specific page from the pdf file\n",
    "    page = reader.pages[0]\n",
    "\n",
    "    # extracting text from page\n",
    "    text = page.extract_text()\n",
    "    start_index = text.find('U-test pvalue = ') + len('U-test pvalue = ')\n",
    "    end_index = text.find('\\n', start_index)\n",
    "    return text[start_index:end_index]\n",
    "\n",
    "# Modifying a csv file to add the U-test pvalue\n",
    "with open(Path(result_folder, 'Summary', 'Scores training CV.csv', newline='')) as csvfile:\n",
    "    reader = csv.reader(csvfile)\n",
    "    with open(Path(result_folder, 'Summary', 'Scores training CV (2).csv'), mode='w', newline='') as new_csvfile:\n",
    "        writer = csv.writer(new_csvfile)\n",
    "        for i, row in enumerate(reader):\n",
    "            # modified values\n",
    "            if i == 0:\n",
    "                row.append('U-test pvalue')\n",
    "            else:\n",
    "                model = row[0]\n",
    "                row.append(get_pvalue_from_Boxplot(model))\n",
    "            writer.writerow(row)"
   ]
  },
  {
   "attachments": {},
   "cell_type": "markdown",
   "metadata": {},
   "source": [
    "# Stacked Generalization"
   ]
  },
  {
   "cell_type": "code",
   "execution_count": 2,
   "metadata": {},
   "outputs": [],
   "source": [
    "import numpy as np\n",
    "import pandas as pd\n",
    "from pathlib import Path\n",
    "import os"
   ]
  },
  {
   "cell_type": "markdown",
   "metadata": {},
   "source": [
    "## Stabl pipelines"
   ]
  },
  {
   "cell_type": "code",
   "execution_count": 3,
   "metadata": {},
   "outputs": [],
   "source": [
    "from stabl.stacked_generalization import stacked_multi_omic\n",
    "from stabl.visualization import plot_prc, plot_roc\n",
    "from stabl.pipelines_utils import save_plots"
   ]
  },
  {
   "attachments": {},
   "cell_type": "markdown",
   "metadata": {},
   "source": [
    "### Collection of results of single omic models"
   ]
  },
  {
   "cell_type": "code",
   "execution_count": 4,
   "metadata": {},
   "outputs": [],
   "source": [
    "Y = pd.read_csv(\"./Data/Delta/Bcells/y.csv\", index_col=0)['0']\n",
    "Y.name = 'outcome'"
   ]
  },
  {
   "cell_type": "code",
   "execution_count": 62,
   "metadata": {},
   "outputs": [],
   "source": [
    "MODEL = 'STABL'\n",
    "time = 'P1'"
   ]
  },
  {
   "cell_type": "code",
   "execution_count": 63,
   "metadata": {},
   "outputs": [],
   "source": [
    "# INITIATLISATION\n",
    "\n",
    "df_predictions = {}\n",
    "for model in ['Lasso', 'Lasso 1SE', 'STABL', 'SS 03', 'SS 05', 'SS 08', 'ElasticNet']:\n",
    "    df_predictions[model] = pd.DataFrame()"
   ]
  },
  {
   "cell_type": "code",
   "execution_count": 64,
   "metadata": {},
   "outputs": [],
   "source": [
    "for foldername in os.listdir(Path('./Results', time)):\n",
    "    if not foldername.startswith('.'):\n",
    "        for model in ['Lasso', 'Lasso 1SE', 'STABL', 'SS 03', 'SS 05', 'SS 08', 'ElasticNet']:\n",
    "            for file in os.listdir(Path('./Results', time, foldername, 'Training CV', model)):\n",
    "                if 'csv' in file:\n",
    "                    new_pred = pd.read_csv(Path('./Results', time, foldername, 'Training CV', model, file), index_col=0)\n",
    "                    new_pred.columns = [foldername.replace('Results', 'predictions'), 'outcome']\n",
    "                    df_predictions[model] = pd.concat([df_predictions[model], new_pred[[foldername.replace('Results', 'predictions')]]], axis='columns')  "
   ]
  },
  {
   "cell_type": "code",
   "execution_count": 75,
   "metadata": {},
   "outputs": [],
   "source": [
    "generalized_models_preds = {}\n",
    "generalized_models_weights = {}\n",
    "for model in ['Lasso', 'Lasso 1SE', 'STABL', 'SS 03', 'SS 05', 'SS 08', 'ElasticNet']:\n",
    "    generalized_models_preds[model], generalized_models_weights[model] = stacked_multi_omic(df_predictions[model], Y, task_type='binary')\n",
    "    generalized_models_preds[model] = generalized_models_preds[model]['Stacked Gen. Predictions']"
   ]
  },
  {
   "cell_type": "code",
   "execution_count": 76,
   "metadata": {},
   "outputs": [
    {
     "data": {
      "text/plain": [
       "(<Figure size 640x480 with 1 Axes>,\n",
       " <Axes: xlabel='1 - Specificity', ylabel='Sensitivity'>)"
      ]
     },
     "execution_count": 76,
     "metadata": {},
     "output_type": "execute_result"
    },
    {
     "data": {
      "image/png": "[encoded data removed]",
      "text/plain": [
       "<Figure size 640x480 with 1 Axes>"
      ]
     },
     "metadata": {},
     "output_type": "display_data"
    }
   ],
   "source": [
    "plot_roc(Y, generalized_models_preds['Lasso'])"
   ]
  },
  {
   "cell_type": "code",
   "execution_count": 77,
   "metadata": {},
   "outputs": [
    {
     "data": {
      "text/plain": [
       "(<Figure size 640x480 with 1 Axes>,\n",
       " <Axes: xlabel='Recall', ylabel='Precision'>)"
      ]
     },
     "execution_count": 77,
     "metadata": {},
     "output_type": "execute_result"
    },
    {
     "data": {
      "image/png": "[encoded data removed]",
      "text/plain": [
       "<Figure size 640x480 with 1 Axes>"
      ]
     },
     "metadata": {},
     "output_type": "display_data"
    }
   ],
   "source": [
    "plot_prc(Y, generalized_models_preds['Lasso'])"
   ]
  },
  {
   "cell_type": "code",
   "execution_count": 81,
   "metadata": {},
   "outputs": [
    {
     "name": "stderr",
     "output_type": "stream",
     "text": [
      "/Users/jonasamar/Stabl/.venv/lib/python3.9/site-packages/stabl/visualization.py:421: FutureWarning: Passing `palette` without assigning `hue` is deprecated.\n",
      "  sns.stripplot(ax=ax, y=classes[y_true], x=y_preds, orient='h', palette=palette, **kwargs)\n",
      "/Users/jonasamar/Stabl/.venv/lib/python3.9/site-packages/stabl/visualization.py:421: FutureWarning: Passing `palette` without assigning `hue` is deprecated.\n",
      "  sns.stripplot(ax=ax, y=classes[y_true], x=y_preds, orient='h', palette=palette, **kwargs)\n",
      "/Users/jonasamar/Stabl/.venv/lib/python3.9/site-packages/stabl/visualization.py:421: FutureWarning: Passing `palette` without assigning `hue` is deprecated.\n",
      "  sns.stripplot(ax=ax, y=classes[y_true], x=y_preds, orient='h', palette=palette, **kwargs)\n",
      "/Users/jonasamar/Stabl/.venv/lib/python3.9/site-packages/stabl/visualization.py:421: FutureWarning: Passing `palette` without assigning `hue` is deprecated.\n",
      "  sns.stripplot(ax=ax, y=classes[y_true], x=y_preds, orient='h', palette=palette, **kwargs)\n",
      "/Users/jonasamar/Stabl/.venv/lib/python3.9/site-packages/stabl/visualization.py:421: FutureWarning: Passing `palette` without assigning `hue` is deprecated.\n",
      "  sns.stripplot(ax=ax, y=classes[y_true], x=y_preds, orient='h', palette=palette, **kwargs)\n",
      "/Users/jonasamar/Stabl/.venv/lib/python3.9/site-packages/stabl/visualization.py:421: FutureWarning: Passing `palette` without assigning `hue` is deprecated.\n",
      "  sns.stripplot(ax=ax, y=classes[y_true], x=y_preds, orient='h', palette=palette, **kwargs)\n",
      "/Users/jonasamar/Stabl/.venv/lib/python3.9/site-packages/stabl/visualization.py:421: FutureWarning: Passing `palette` without assigning `hue` is deprecated.\n",
      "  sns.stripplot(ax=ax, y=classes[y_true], x=y_preds, orient='h', palette=palette, **kwargs)\n"
     ]
    }
   ],
   "source": [
    "save_path = Path('./Results', 'SG Time&Model ', time)\n",
    "os.makedirs(save_path, exist_ok = True)\n",
    "save_plots(generalized_models_preds, Y, task_type='binary', save_path=save_path)"
   ]
  },
  {
   "cell_type": "code",
   "execution_count": 89,
   "metadata": {},
   "outputs": [],
   "source": [
    "import csv\n",
    "\n",
    "generalized_models_weights['Lasso'].sort_values('Associated weight', ascending=False).to_csv(Path(save_path, 'Lasso', 'weights.csv'))"
   ]
  }
 ],
 "metadata": {
  "kernelspec": {
   "display_name": ".venv",
   "language": "python",
   "name": "python3"
  },
  "language_info": {
   "codemirror_mode": {
    "name": "ipython",
    "version": 3
   },
   "file_extension": ".py",
   "mimetype": "text/x-python",
   "name": "python",
   "nbconvert_exporter": "python",
   "pygments_lexer": "ipython3",
   "version": "3.9.5"
  },
  "orig_nbformat": 4
 },
 "nbformat": 4,
 "nbformat_minor": 2
}
