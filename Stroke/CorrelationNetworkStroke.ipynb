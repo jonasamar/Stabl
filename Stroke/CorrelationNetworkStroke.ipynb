{
 "cells": [
  {
   "attachments": {},
   "cell_type": "markdown",
   "metadata": {},
   "source": [
    "# Libraries"
   ]
  },
  {
   "cell_type": "code",
   "execution_count": null,
   "metadata": {},
   "outputs": [],
   "source": [
    "import numpy as np\n",
    "import pandas as pd \n",
    "import networkx as nx\n",
    "import matplotlib.pyplot as plt\n",
    "import seaborn as sns\n",
    "from sklearn.manifold import TSNE\n",
    "from scipy.interpolate import splprep, splev\n",
    "from sklearn.cluster import KMeans\n",
    "from scipy.spatial import ConvexHull\n",
    "\n",
    "%config InlineBackend.figure_formats=['retina']"
   ]
  },
  {
   "cell_type": "code",
   "execution_count": null,
   "metadata": {},
   "outputs": [],
   "source": [
    "from sklearn.pipeline import Pipeline\n",
    "from sklearn.preprocessing import StandardScaler\n",
    "from sklearn.impute import SimpleImputer\n",
    "from sklearn.feature_selection import VarianceThreshold"
   ]
  },
  {
   "cell_type": "code",
   "execution_count": null,
   "metadata": {},
   "outputs": [],
   "source": [
    "from SurgeLibrary.stability_selection import StabilitySelection, plot_stability_path\n",
    "from SurgeLibrary.preprocessing import remove_low_info_samples, LowInfoFilter\n",
    "from SurgeLibrary.visualization import boxplot_features"
   ]
  },
  {
   "attachments": {},
   "cell_type": "markdown",
   "metadata": {},
   "source": [
    "# Data"
   ]
  },
  {
   "cell_type": "code",
   "execution_count": null,
   "metadata": {},
   "outputs": [],
   "source": [
    "D0_unstim = pd.read_csv('../Data_POCK/Immuno/D0_Unstim&Freq.csv', index_col=0)\n",
    "D0_unstim.columns = [el[1]+'_'+el[-1] for el in D0_unstim.columns.str.split('_')]\n",
    "D0 = D0_unstim.copy()\n",
    "D0.index = [idx + '_D0' for idx in D0.index]\n",
    "labels_D0 = pd.read_csv('../Data_POCK/Immuno/labels_D0.csv', index_col=0)\n",
    "# labels_D0.index = [idx + '_D0' for idx in labels_D0.index]\n",
    "\n",
    "D1_unstim = pd.read_csv('../Data_POCK/Immuno/D1_Unstim&Freq.csv', index_col=0)\n",
    "D1_unstim.columns = [el[1]+'_'+el[-1] for el in D1_unstim.columns.str.split('_')]\n",
    "D1 = D1_unstim.copy()\n",
    "D1.index = [idx + '_D1' for idx in D1.index]\n",
    "labels_D1 = pd.read_csv('../Data_POCK/Immuno/labels_D1.csv', index_col=0)\n",
    "# labels_D1.index = [idx + '_D1' for idx in labels_D1.index]\n",
    "\n",
    "D7_unstim = pd.read_csv('../Data_POCK/Immuno/D7_Unstim&Freq.csv', index_col=0)\n",
    "D7_unstim.columns = [el[1]+'_'+el[-1] for el in D7_unstim.columns.str.split('_')]\n",
    "D7 = D7_unstim.copy()\n",
    "D7.index = [idx + '_D7' for idx in D7.index]\n",
    "labels_D7 = pd.read_csv('../Data_POCK/Immuno/labels_D7.csv', index_col=0)\n",
    "# labels_D7.index = [idx + '_D7' for idx in labels_D7.index]\n",
    "\n",
    "D90_unstim = pd.read_csv('../Data_POCK/Immuno/D90_Unstim&Freq.csv', index_col=0)\n",
    "D90_unstim.columns = [el[1]+'_'+el[-1] for el in D90_unstim.columns.str.split('_')]\n",
    "D90 = D90_unstim.copy()\n",
    "D90.index = [idx + '_D90' for idx in D90.index]\n",
    "labels_D90 = pd.read_csv('../Data_POCK/Immuno/labels_D90.csv', index_col=0)\n",
    "# labels_D90.index = [idx + '_D90' for idx in labels_D90.index]\n",
    "df_tot = pd.concat([D0, D1, D7, D90], axis='rows')"
   ]
  },
  {
   "attachments": {},
   "cell_type": "markdown",
   "metadata": {},
   "source": [
    "\n",
    "# Effect directions"
   ]
  },
  {
   "cell_type": "code",
   "execution_count": null,
   "metadata": {},
   "outputs": [],
   "source": [
    "D0_std = (D0_unstim - D0_unstim.mean())/(D0_unstim.std()+1e-8)\n",
    "D1_std = (D1_unstim - D1_unstim.mean())/(D1_unstim.std()+1e-8)\n",
    "D7_std = (D7_unstim - D7_unstim.mean())/(D7_unstim.std()+1e-8)\n",
    "D90_std = (D90_unstim - D90_unstim.mean())/(D90_unstim.std()+1e-8)"
   ]
  },
  {
   "attachments": {},
   "cell_type": "markdown",
   "metadata": {},
   "source": [
    "# ANOVA"
   ]
  },
  {
   "cell_type": "code",
   "execution_count": null,
   "metadata": {},
   "outputs": [],
   "source": [
    "X_D0 = D0_unstim.join(labels_D0)\n",
    "X_D0['TimePoint'] = 0\n",
    "X_D1 = D1_unstim.join(labels_D1)\n",
    "X_D1['TimePoint'] = 1\n",
    "X_D7 = D7_unstim.join(labels_D7)\n",
    "X_D7['TimePoint'] = 2\n",
    "X_D90 = D90_unstim.join(labels_D90)\n",
    "X_D90['TimePoint'] = 3"
   ]
  },
  {
   "cell_type": "code",
   "execution_count": null,
   "metadata": {},
   "outputs": [],
   "source": [
    "df_anova = pd.concat([X_D0, X_D1, X_D7, X_D90],axis='rows').dropna(subset=['POCD_J7_pos']).reset_index(drop=True)\n",
    "#df_anova.fillna(df_anova.median(), inplace=True)\n",
    "df_anova['POCD_J7_pos'] = df_anova.POCD_J7_pos.astype(int)"
   ]
  },
  {
   "cell_type": "code",
   "execution_count": null,
   "metadata": {},
   "outputs": [],
   "source": [
    "import statsmodels.api as sm\n",
    "from statsmodels.formula.api import ols\n",
    "pvalues_anova = pd.DataFrame(index = df_anova.columns[:-2])\n",
    "for feature in df_anova.columns[:-2]:\n",
    "    # Ordinary Least Squares (OLS) model\n",
    "    model = ols(f'{feature} ~ C(POCD_J7_pos)*C(TimePoint)', data=df_anova).fit()\n",
    "    table = sm.stats.anova_lm(model,typ=1)\n",
    "    pvalues_anova.loc[feature,'pvalue_anova']=table.loc['C(POCD_J7_pos)', 'PR(>F)']\n",
    "pvalues_anova = pvalues_anova.fillna(1)"
   ]
  },
  {
   "attachments": {},
   "cell_type": "markdown",
   "metadata": {},
   "source": [
    "# t-SNE"
   ]
  },
  {
   "cell_type": "code",
   "execution_count": null,
   "metadata": {},
   "outputs": [],
   "source": [
    "df_corr = df_tot.corr()\n",
    "tsne = TSNE(learning_rate='auto', random_state=4).fit(df_tot.fillna(df_tot.median()).T)\n",
    "df_tsne = pd.DataFrame(data=tsne.embedding_, index = df_tot.columns, columns = ['coor1', 'coor2'])\n",
    "clusterer = KMeans(n_clusters=10, n_init=100, random_state=42, init='k-means++')\n",
    "cluster_labels = clusterer.fit_predict(df_tsne[['coor1', 'coor2']])\n",
    "cen_x, cen_y = clusterer.cluster_centers_.T\n",
    "df_tsne['cluster'] = cluster_labels\n",
    "df_tsne = pd.concat([df_tsne, pvalues_anova], axis='columns')"
   ]
  },
  {
   "attachments": {},
   "cell_type": "markdown",
   "metadata": {},
   "source": [
    "# Correlation Plot"
   ]
  },
  {
   "cell_type": "code",
   "execution_count": null,
   "metadata": {},
   "outputs": [],
   "source": [
    "#df_tsne.to_csv('./df_tsne.csv')\n",
    "from matplotlib import cm\n",
    "from matplotlib.colors import ListedColormap, LinearSegmentedColormap\n",
    "\n",
    "colors = [(1, 0, 0), (.7, .4, 0), (0, 0, 1)]  # R -> G -> B\n",
    "colors = [(0,(0, 0, 1)),(.35,(227/256, 163/256, 103/256)),(.65,(227/256, 163/256, 103/256)), (1,(1, 0, 0))]\n",
    "n_bins = [3, 6, 10, 100]  # Discretizes the interpolation into bins\n",
    "cmap_name = 'custom_cmp'\n",
    "\n",
    "cmap = LinearSegmentedColormap.from_list(cmap_name, colors, N=256,gamma=1)\n",
    "from adjustText import adjust_text\n",
    "from matplotlib import colors\n",
    "\n",
    "CORR_THRESH = .7\n",
    "TIMESTAMP = 'D1'\n",
    "# sizes_source = 'pvalue_'+TIMESTAMP\n",
    "sizes_source = 'pvalue_anova'\n",
    "#colors_source = 'effect_dir_'+TIMESTAMP\n",
    "\n",
    "SIZES = []\n",
    "for value in df_tsne[sizes_source].astype(float):\n",
    "    if value > 0.05:\n",
    "        SIZES.append(5)\n",
    "    else:\n",
    "        SIZES.append(2*(-np.log10(value)*6)**2)\n",
    "\n",
    "        \n",
    "COLORS = ['C'+str(i) for i in df_tsne.cluster]\n",
    "\n",
    "fig, ax = plt.subplots(figsize=(10, 10))\n",
    "\n",
    "# --DRAWING CLUSTERS--\n",
    "\n",
    "for i in np.unique(cluster_labels):\n",
    "    points = df_tsne[df_tsne.cluster == i][['coor1', 'coor2']].values\n",
    "    # get convex hull\n",
    "    hull = ConvexHull(points)\n",
    "    # get x and y coordinates\n",
    "    # repeat last point to close the polygon\n",
    "    x_hull = np.append(points[hull.vertices,0],\n",
    "                       points[hull.vertices,0][0])\n",
    "    y_hull = np.append(points[hull.vertices,1],\n",
    "                       points[hull.vertices,1][0])\n",
    "    \n",
    "    tck, _ = splprep([x_hull, y_hull], s=0, per = True)\n",
    "    xx, yy = splev(np.linspace(0, 1, 100), tck, der = 0)\n",
    "    \n",
    "    # plot shape\n",
    "    plt.fill(xx, yy, alpha=.1, color='C'+str(i), label=f'Cluster {i}')\n",
    "\n",
    "# --DRAWING POINTS--\n",
    "scatter = plt.scatter(df_tsne.coor1,\n",
    "                     df_tsne.coor2, \n",
    "                     s=SIZES, \n",
    "                     marker='o', \n",
    "                     c=COLORS,\n",
    "                     norm=colors.CenteredNorm(),\n",
    "                     edgecolors=None,\n",
    "                     cmap=cmap,\n",
    "                     alpha=.7\n",
    "                    )\n",
    "\n",
    "ax.axis(\"off\")\n",
    "plt.legend()\n",
    "# fig.colorbar(scatter,\n",
    "#              anchor=(0, 0),\n",
    "#              ax=ax, \n",
    "#              shrink=.2, \n",
    "#              label='Effect direction', \n",
    "#              aspect=8, \n",
    "#              use_gridspec=True,\n",
    "#              location='right'\n",
    "#             )\n",
    "\n",
    "def funct(s):\n",
    "    to_ret=np.zeros(len(s))\n",
    "    for idx, el in enumerate(s):\n",
    "        if el==5:\n",
    "            to_ret[idx] = 1\n",
    "        else:\n",
    "            to_ret[idx] = np.exp(np.log(10)*(-((el/2)**(1/2))/6))\n",
    "    return to_ret\n",
    "\n",
    "kw = dict(prop=\"sizes\", num=[1, 0.05, 0.01, 0.001], color='gray',\n",
    "          func=funct)\n",
    "\n",
    "# kw = dict(prop=\"sizes\", num=[0, .1, .2], color='gray', fmt=\"{x:.2f}\",\n",
    "#            func=lambda s: np.sqrt(s)/75 - 0.01)\n",
    "\n",
    "ax.legend(*scatter.legend_elements(**kw),title=\"ANOVA pvalue\",labelspacing=2, loc='lower right', frameon=False)\n",
    "\n",
    "for i in df_tot.columns:\n",
    "    for j in df_tot.columns:\n",
    "        if df_corr.loc[i,j]>=CORR_THRESH and df_corr.loc[i,j] < 1:\n",
    "            sub_df = df_tsne.loc[[i, j]]\n",
    "            ax.plot(sub_df.coor1, sub_df.coor2, linewidth=.2,color='gray', alpha=.05)\n",
    "            \n",
    "annot=[]        \n",
    "for i, txt in enumerate(df_tsne.index):\n",
    "    if df_tsne.iloc[i][sizes_source] <= 0.01:\n",
    "        annot.append(ax.annotate(txt, (df_tsne.iloc[i].coor1, df_tsne.iloc[i].coor2), fontsize=12))\n",
    "        \n",
    "adjust_text(annot)\n",
    "\n",
    "#plt.savefig('./Correlation networks/Correlation network - ANOVA/correlation networks.pdf', dpi=200)"
   ]
  }
 ],
 "metadata": {
  "language_info": {
   "name": "python"
  },
  "orig_nbformat": 4
 },
 "nbformat": 4,
 "nbformat_minor": 2
}
