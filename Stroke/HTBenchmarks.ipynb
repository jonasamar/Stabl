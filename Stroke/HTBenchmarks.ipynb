{
 "cells": [
  {
   "cell_type": "code",
   "execution_count": 2,
   "metadata": {},
   "outputs": [],
   "source": [
    "import warnings\n",
    "warnings.filterwarnings('ignore')"
   ]
  },
  {
   "attachments": {},
   "cell_type": "markdown",
   "metadata": {},
   "source": [
    "# Libraries"
   ]
  },
  {
   "attachments": {},
   "cell_type": "markdown",
   "metadata": {},
   "source": [
    "## Basic libraries"
   ]
  },
  {
   "cell_type": "code",
   "execution_count": 3,
   "metadata": {},
   "outputs": [],
   "source": [
    "import numpy as np\n",
    "import pandas as pd\n",
    "from pathlib import Path\n",
    "\n",
    "from sklearn.model_selection import RepeatedStratifiedKFold\n",
    "from sklearn.base import clone\n",
    "\n",
    "from stabl.stabl import Stabl, plot_stabl_path, plot_fdr_graph, save_stabl_results\n",
    "from stabl.preprocessing import LowInfoFilter, remove_low_info_samples\n",
    "\n",
    "%config InlineBackend.figure_formats=['retina']"
   ]
  },
  {
   "attachments": {},
   "cell_type": "markdown",
   "metadata": {},
   "source": [
    "## Stabl pipelines"
   ]
  },
  {
   "cell_type": "code",
   "execution_count": 4,
   "metadata": {},
   "outputs": [],
   "source": [
    "from stabl.multi_omic_pipelines import multi_omic_stabl, multi_omic_stabl_cv\n",
    "from stabl.single_omic_pipelines import single_omic_stabl, single_omic_stabl_cv\n",
    "from stabl.pipelines_utils import compute_features_table"
   ]
  },
  {
   "attachments": {},
   "cell_type": "markdown",
   "metadata": {},
   "source": [
    "# Data"
   ]
  },
  {
   "attachments": {},
   "cell_type": "markdown",
   "metadata": {},
   "source": [
    "## Importing dataset"
   ]
  },
  {
   "cell_type": "code",
   "execution_count": 81,
   "metadata": {},
   "outputs": [
    {
     "data": {
      "text/plain": [
       "(19320, 7)"
      ]
     },
     "execution_count": 81,
     "metadata": {},
     "output_type": "execute_result"
    }
   ],
   "source": [
    "dataset = pd.read_csv(\"../Sample Data/Stroke/preprocessed_HT.csv\")\n",
    "dataset.shape"
   ]
  },
  {
   "cell_type": "code",
   "execution_count": 82,
   "metadata": {},
   "outputs": [
    {
     "name": "stdout",
     "output_type": "stream",
     "text": [
      "sampleID values : [1326 1330 1331 1337 1357 1377 1381 1400 1414 1418 1427 1428 1431 1464\n",
      " 1469 1472 1473 1475 1480 1488]\n",
      "card(sampleID) : 20\n",
      "\n",
      "population values : ['Bcells*' 'CCR2nncMC*' 'CCR2pcMC*' 'CD41hiCD61hiPLT*' 'CD4Tcm*' 'CD4Tem*'\n",
      " 'CD4Tnaive*' 'CD4Trm*' 'CD56brightCD16nNKcells*' 'CD56dimCD16pNKcells*'\n",
      " 'CD61pCD41pPLT*' 'CD62LnAgedNeutrophils*' 'CD62LpImmatureNeutrophils*'\n",
      " 'CD8Tcm*' 'CD8Tem*' 'CD8Tnaive*' 'CD8Trm*' 'gdTcells*' 'intMC*' 'mDC*'\n",
      " 'MDSC*' 'NKT*' 'pDC*' 'Th1mem*' 'Th1naive*' 'Tregmem*' 'Tregnaive*']\n",
      "card(population) : 27\n",
      "\n",
      "reagent values : ['CREB' 'STAT5' 'p38' 'STAT1' 'STAT3' 'S6' 'IkB' 'NFkB' 'ERK' 'STAT6'\n",
      " 'MAPKAPK2' 'Frequency']\n",
      "card(reagent) : 12\n",
      "\n",
      "time values : ['P1' 'P3' 'P2']\n",
      "card(time) : 3\n",
      "\n",
      "stimulation values : ['Unstim']\n",
      "card(stimulation) : 1\n",
      "\n",
      "feature values : [0.16376094 0.01940237 0.         ... 0.71118115 0.21365683 0.02493233]\n",
      "card(feature) : 15044\n",
      "\n",
      "group values : ['No' 'Yes']\n",
      "card(group) : 2\n",
      "\n"
     ]
    }
   ],
   "source": [
    "for column in dataset.columns:\n",
    "    print(f\"{column} values : {dataset[column].unique()}\")\n",
    "    print(f\"card({column}) : {len(dataset[column].unique())}\")\n",
    "    print()"
   ]
  },
  {
   "attachments": {},
   "cell_type": "markdown",
   "metadata": {},
   "source": [
    "# Test 1 : for Bcells"
   ]
  },
  {
   "cell_type": "code",
   "execution_count": 83,
   "metadata": {},
   "outputs": [
    {
     "data": {
      "text/html": [
       "<div>\n",
       "<style scoped>\n",
       "    .dataframe tbody tr th:only-of-type {\n",
       "        vertical-align: middle;\n",
       "    }\n",
       "\n",
       "    .dataframe tbody tr th {\n",
       "        vertical-align: top;\n",
       "    }\n",
       "\n",
       "    .dataframe thead th {\n",
       "        text-align: right;\n",
       "    }\n",
       "</style>\n",
       "<table border=\"1\" class=\"dataframe\">\n",
       "  <thead>\n",
       "    <tr style=\"text-align: right;\">\n",
       "      <th></th>\n",
       "      <th>sampleID</th>\n",
       "      <th>population</th>\n",
       "      <th>reagent</th>\n",
       "      <th>time</th>\n",
       "      <th>stimulation</th>\n",
       "      <th>feature</th>\n",
       "      <th>group</th>\n",
       "    </tr>\n",
       "  </thead>\n",
       "  <tbody>\n",
       "    <tr>\n",
       "      <th>0</th>\n",
       "      <td>1326</td>\n",
       "      <td>Bcells*</td>\n",
       "      <td>CREB</td>\n",
       "      <td>P1</td>\n",
       "      <td>Unstim</td>\n",
       "      <td>0.163761</td>\n",
       "      <td>0</td>\n",
       "    </tr>\n",
       "    <tr>\n",
       "      <th>1</th>\n",
       "      <td>1326</td>\n",
       "      <td>Bcells*</td>\n",
       "      <td>STAT5</td>\n",
       "      <td>P1</td>\n",
       "      <td>Unstim</td>\n",
       "      <td>0.019402</td>\n",
       "      <td>0</td>\n",
       "    </tr>\n",
       "    <tr>\n",
       "      <th>2</th>\n",
       "      <td>1326</td>\n",
       "      <td>Bcells*</td>\n",
       "      <td>p38</td>\n",
       "      <td>P1</td>\n",
       "      <td>Unstim</td>\n",
       "      <td>0.000000</td>\n",
       "      <td>0</td>\n",
       "    </tr>\n",
       "    <tr>\n",
       "      <th>3</th>\n",
       "      <td>1326</td>\n",
       "      <td>Bcells*</td>\n",
       "      <td>STAT1</td>\n",
       "      <td>P1</td>\n",
       "      <td>Unstim</td>\n",
       "      <td>0.000000</td>\n",
       "      <td>0</td>\n",
       "    </tr>\n",
       "    <tr>\n",
       "      <th>4</th>\n",
       "      <td>1326</td>\n",
       "      <td>Bcells*</td>\n",
       "      <td>STAT3</td>\n",
       "      <td>P1</td>\n",
       "      <td>Unstim</td>\n",
       "      <td>0.000000</td>\n",
       "      <td>0</td>\n",
       "    </tr>\n",
       "    <tr>\n",
       "      <th>...</th>\n",
       "      <td>...</td>\n",
       "      <td>...</td>\n",
       "      <td>...</td>\n",
       "      <td>...</td>\n",
       "      <td>...</td>\n",
       "      <td>...</td>\n",
       "      <td>...</td>\n",
       "    </tr>\n",
       "    <tr>\n",
       "      <th>715</th>\n",
       "      <td>1488</td>\n",
       "      <td>Bcells*</td>\n",
       "      <td>NFkB</td>\n",
       "      <td>P1</td>\n",
       "      <td>Unstim</td>\n",
       "      <td>0.617994</td>\n",
       "      <td>1</td>\n",
       "    </tr>\n",
       "    <tr>\n",
       "      <th>716</th>\n",
       "      <td>1488</td>\n",
       "      <td>Bcells*</td>\n",
       "      <td>ERK</td>\n",
       "      <td>P1</td>\n",
       "      <td>Unstim</td>\n",
       "      <td>0.062619</td>\n",
       "      <td>1</td>\n",
       "    </tr>\n",
       "    <tr>\n",
       "      <th>717</th>\n",
       "      <td>1488</td>\n",
       "      <td>Bcells*</td>\n",
       "      <td>STAT6</td>\n",
       "      <td>P1</td>\n",
       "      <td>Unstim</td>\n",
       "      <td>0.000000</td>\n",
       "      <td>1</td>\n",
       "    </tr>\n",
       "    <tr>\n",
       "      <th>718</th>\n",
       "      <td>1488</td>\n",
       "      <td>Bcells*</td>\n",
       "      <td>MAPKAPK2</td>\n",
       "      <td>P1</td>\n",
       "      <td>Unstim</td>\n",
       "      <td>0.559347</td>\n",
       "      <td>1</td>\n",
       "    </tr>\n",
       "    <tr>\n",
       "      <th>719</th>\n",
       "      <td>1488</td>\n",
       "      <td>Bcells*</td>\n",
       "      <td>S6</td>\n",
       "      <td>P1</td>\n",
       "      <td>Unstim</td>\n",
       "      <td>0.432404</td>\n",
       "      <td>1</td>\n",
       "    </tr>\n",
       "  </tbody>\n",
       "</table>\n",
       "<p>720 rows × 7 columns</p>\n",
       "</div>"
      ],
      "text/plain": [
       "     sampleID population   reagent time stimulation   feature group\n",
       "0        1326    Bcells*      CREB   P1      Unstim  0.163761     0\n",
       "1        1326    Bcells*     STAT5   P1      Unstim  0.019402     0\n",
       "2        1326    Bcells*       p38   P1      Unstim  0.000000     0\n",
       "3        1326    Bcells*     STAT1   P1      Unstim  0.000000     0\n",
       "4        1326    Bcells*     STAT3   P1      Unstim  0.000000     0\n",
       "..        ...        ...       ...  ...         ...       ...   ...\n",
       "715      1488    Bcells*      NFkB   P1      Unstim  0.617994     1\n",
       "716      1488    Bcells*       ERK   P1      Unstim  0.062619     1\n",
       "717      1488    Bcells*     STAT6   P1      Unstim  0.000000     1\n",
       "718      1488    Bcells*  MAPKAPK2   P1      Unstim  0.559347     1\n",
       "719      1488    Bcells*        S6   P1      Unstim  0.432404     1\n",
       "\n",
       "[720 rows x 7 columns]"
      ]
     },
     "execution_count": 83,
     "metadata": {},
     "output_type": "execute_result"
    }
   ],
   "source": [
    "dataset = dataset[dataset['population']=='Bcells*']\n",
    "dataset['group'][dataset['group']=='No']=0\n",
    "dataset['group'][dataset['group']=='Yes']=1\n",
    "dataset"
   ]
  },
  {
   "attachments": {},
   "cell_type": "markdown",
   "metadata": {},
   "source": [
    "# PO"
   ]
  },
  {
   "cell_type": "code",
   "execution_count": 84,
   "metadata": {},
   "outputs": [],
   "source": [
    "PO_dataset = dataset[dataset['time']=='P1']"
   ]
  },
  {
   "attachments": {},
   "cell_type": "markdown",
   "metadata": {},
   "source": [
    "## Multivariate Analysis"
   ]
  },
  {
   "attachments": {},
   "cell_type": "markdown",
   "metadata": {},
   "source": [
    "### Dataset"
   ]
  },
  {
   "cell_type": "code",
   "execution_count": 90,
   "metadata": {},
   "outputs": [],
   "source": [
    "PO_dict_x = {}\n",
    "PO_dict_y = {}\n",
    "for sample in dataset['sampleID']:\n",
    "    PO_dict_x[sample] = {}\n",
    "    for feature in dataset['reagent'].unique():\n",
    "        mask = (PO_dataset['sampleID']==sample) & (PO_dataset['reagent']==feature)\n",
    "        PO_dict_x[sample][feature] = float(PO_dataset[mask]['feature'])\n",
    "    PO_dict_y[sample] = PO_dataset[PO_dataset['sampleID']==sample]['group'].iloc[0]\n",
    "        \n",
    "X_PO = pd.DataFrame(PO_dict_x).T \n",
    "y_PO = pd.DataFrame([PO_dict_y]).T "
   ]
  },
  {
   "attachments": {},
   "cell_type": "markdown",
   "metadata": {},
   "source": [
    "### Result folder name"
   ]
  },
  {
   "cell_type": "code",
   "execution_count": null,
   "metadata": {},
   "outputs": [],
   "source": [
    "result_folder = \"./Results PO Bcells\""
   ]
  },
  {
   "attachments": {},
   "cell_type": "markdown",
   "metadata": {},
   "source": [
    "### Single-omic Training-CV"
   ]
  },
  {
   "cell_type": "code",
   "execution_count": null,
   "metadata": {},
   "outputs": [],
   "source": [
    "stabl = Stabl(\n",
    "    lambda_grid=np.linspace(0.01, 5, 10),\n",
    "    n_bootstraps=1000,\n",
    "    artificial_type=\"random_permutation\",\n",
    "    replace=False,\n",
    "    fdr_threshold_range=np.arange(0.1, 1, 0.01),\n",
    "    sample_fraction=.5,\n",
    "    random_state=42\n",
    ")\n",
    "\n",
    "stability_selection = clone(stabl).set_params(hard_threshold=.1, artificial_type = None)\n",
    "\n",
    "outer_splitter = RepeatedStratifiedKFold(n_splits=5, n_repeats=20, random_state=42)"
   ]
  },
  {
   "cell_type": "code",
   "execution_count": null,
   "metadata": {},
   "outputs": [],
   "source": [
    "predictions_dict = single_omic_stabl_cv(\n",
    "    X=X_PO,\n",
    "    y=y_PO,\n",
    "    outer_splitter=outer_splitter,\n",
    "    stabl=stabl,\n",
    "    stability_selection=stability_selection,\n",
    "    task_type=\"binary\",\n",
    "    save_path=result_folder,\n",
    "    outer_groups=None\n",
    ")"
   ]
  },
  {
   "attachments": {},
   "cell_type": "markdown",
   "metadata": {},
   "source": [
    "### Tables of features"
   ]
  },
  {
   "cell_type": "code",
   "execution_count": null,
   "metadata": {},
   "outputs": [],
   "source": [
    "selected_features_dict = dict()\n",
    "for model in [\"STABL\", \"Lasso\", \"Lasso 1SE\", \"ElasticNet\", \"SS 03\", \"SS 05\", \"SS 08\"]:\n",
    "    path = Path(result_folder, \"Training-Validation\", f\"{model} coefficients.csv\")\n",
    "    try:\n",
    "        selected_features_dict[model] = list(pd.read_csv(path, index_col=0).iloc[:, 0].index)\n",
    "    except:\n",
    "        selected_features_dict[model] = []\n",
    "        \n",
    "features_table = compute_features_table(\n",
    "    selected_features_dict,\n",
    "    X_train=X_PO,\n",
    "    y_train=y_PO,\n",
    "    X_test=None,\n",
    "    y_test=None,\n",
    "    task_type=\"binary\")\n",
    "\n",
    "features_table.to_csv(Path(result_folder, \"Training-Validation\", \"Table of features.csv\"))"
   ]
  },
  {
   "attachments": {},
   "cell_type": "markdown",
   "metadata": {},
   "source": [
    "# POD1"
   ]
  },
  {
   "attachments": {},
   "cell_type": "markdown",
   "metadata": {},
   "source": [
    "# POD1 - PO"
   ]
  },
  {
   "cell_type": "markdown",
   "metadata": {},
   "source": []
  }
 ],
 "metadata": {
  "kernelspec": {
   "display_name": ".venv",
   "language": "python",
   "name": "python3"
  },
  "language_info": {
   "codemirror_mode": {
    "name": "ipython",
    "version": 3
   },
   "file_extension": ".py",
   "mimetype": "text/x-python",
   "name": "python",
   "nbconvert_exporter": "python",
   "pygments_lexer": "ipython3",
   "version": "3.9.5"
  },
  "orig_nbformat": 4
 },
 "nbformat": 4,
 "nbformat_minor": 2
}
