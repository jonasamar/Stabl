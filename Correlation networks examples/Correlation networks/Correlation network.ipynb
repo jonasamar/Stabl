{
 "cells": [
  {
   "cell_type": "markdown",
   "id": "efc87cb8",
   "metadata": {},
   "source": [
    "# Libraries"
   ]
  },
  {
   "cell_type": "code",
   "execution_count": 1,
   "id": "65f6bb06",
   "metadata": {},
   "outputs": [],
   "source": [
    "import numpy as np\n",
    "import pandas as pd \n",
    "import networkx as nx\n",
    "import matplotlib.pyplot as plt\n",
    "import seaborn as sns\n",
    "from sklearn.manifold import TSNE\n",
    "\n",
    "%config InlineBackend.figure_formats=['retina']"
   ]
  },
  {
   "cell_type": "code",
   "execution_count": 4,
   "id": "e37f8ee7",
   "metadata": {},
   "outputs": [],
   "source": [
    "from sklearn.pipeline import Pipeline\n",
    "from sklearn.preprocessing import StandardScaler\n",
    "from sklearn.impute import SimpleImputer\n",
    "from sklearn.feature_selection import VarianceThreshold\n",
    "\n",
    "from stabl.stabl import Stabl, plot_stabl_path\n",
    "from stabl.preprocessing import remove_low_info_samples, LowInfoFilter\n",
    "from stabl.visualization import boxplot_features"
   ]
  },
  {
   "cell_type": "markdown",
   "id": "08a40176",
   "metadata": {},
   "source": [
    "# Data"
   ]
  },
  {
   "cell_type": "code",
   "execution_count": 6,
   "id": "b0cdcf78",
   "metadata": {},
   "outputs": [
    {
     "ename": "FileNotFoundError",
     "evalue": "[Errno 2] No such file or directory: './Data_POCK/Immuno/D0_Unstim.csv'",
     "output_type": "error",
     "traceback": [
      "\u001b[0;31m---------------------------------------------------------------------------\u001b[0m",
      "\u001b[0;31mFileNotFoundError\u001b[0m                         Traceback (most recent call last)",
      "Cell \u001b[0;32mIn[6], line 1\u001b[0m\n\u001b[0;32m----> 1\u001b[0m D0_unstim \u001b[39m=\u001b[39m pd\u001b[39m.\u001b[39;49mread_csv(\u001b[39m'\u001b[39;49m\u001b[39m./Data_POCK/Immuno/D0_Unstim.csv\u001b[39;49m\u001b[39m'\u001b[39;49m, index_col\u001b[39m=\u001b[39;49m\u001b[39m0\u001b[39;49m)\n\u001b[1;32m      2\u001b[0m D0_freq \u001b[39m=\u001b[39m pd\u001b[39m.\u001b[39mread_csv(\u001b[39m'\u001b[39m\u001b[39m./Data_POCK/Immuno/D0_Freq.csv\u001b[39m\u001b[39m'\u001b[39m, index_col\u001b[39m=\u001b[39m\u001b[39m0\u001b[39m)\n\u001b[1;32m      3\u001b[0m D0_unstim \u001b[39m=\u001b[39m pd\u001b[39m.\u001b[39mconcat([D0_unstim, D0_freq], axis\u001b[39m=\u001b[39m\u001b[39m'\u001b[39m\u001b[39mcolumns\u001b[39m\u001b[39m'\u001b[39m)\n",
      "File \u001b[0;32m~/Stabl/.venv/lib/python3.9/site-packages/pandas/io/parsers/readers.py:912\u001b[0m, in \u001b[0;36mread_csv\u001b[0;34m(filepath_or_buffer, sep, delimiter, header, names, index_col, usecols, dtype, engine, converters, true_values, false_values, skipinitialspace, skiprows, skipfooter, nrows, na_values, keep_default_na, na_filter, verbose, skip_blank_lines, parse_dates, infer_datetime_format, keep_date_col, date_parser, date_format, dayfirst, cache_dates, iterator, chunksize, compression, thousands, decimal, lineterminator, quotechar, quoting, doublequote, escapechar, comment, encoding, encoding_errors, dialect, on_bad_lines, delim_whitespace, low_memory, memory_map, float_precision, storage_options, dtype_backend)\u001b[0m\n\u001b[1;32m    899\u001b[0m kwds_defaults \u001b[39m=\u001b[39m _refine_defaults_read(\n\u001b[1;32m    900\u001b[0m     dialect,\n\u001b[1;32m    901\u001b[0m     delimiter,\n\u001b[0;32m   (...)\u001b[0m\n\u001b[1;32m    908\u001b[0m     dtype_backend\u001b[39m=\u001b[39mdtype_backend,\n\u001b[1;32m    909\u001b[0m )\n\u001b[1;32m    910\u001b[0m kwds\u001b[39m.\u001b[39mupdate(kwds_defaults)\n\u001b[0;32m--> 912\u001b[0m \u001b[39mreturn\u001b[39;00m _read(filepath_or_buffer, kwds)\n",
      "File \u001b[0;32m~/Stabl/.venv/lib/python3.9/site-packages/pandas/io/parsers/readers.py:577\u001b[0m, in \u001b[0;36m_read\u001b[0;34m(filepath_or_buffer, kwds)\u001b[0m\n\u001b[1;32m    574\u001b[0m _validate_names(kwds\u001b[39m.\u001b[39mget(\u001b[39m\"\u001b[39m\u001b[39mnames\u001b[39m\u001b[39m\"\u001b[39m, \u001b[39mNone\u001b[39;00m))\n\u001b[1;32m    576\u001b[0m \u001b[39m# Create the parser.\u001b[39;00m\n\u001b[0;32m--> 577\u001b[0m parser \u001b[39m=\u001b[39m TextFileReader(filepath_or_buffer, \u001b[39m*\u001b[39;49m\u001b[39m*\u001b[39;49mkwds)\n\u001b[1;32m    579\u001b[0m \u001b[39mif\u001b[39;00m chunksize \u001b[39mor\u001b[39;00m iterator:\n\u001b[1;32m    580\u001b[0m     \u001b[39mreturn\u001b[39;00m parser\n",
      "File \u001b[0;32m~/Stabl/.venv/lib/python3.9/site-packages/pandas/io/parsers/readers.py:1407\u001b[0m, in \u001b[0;36mTextFileReader.__init__\u001b[0;34m(self, f, engine, **kwds)\u001b[0m\n\u001b[1;32m   1404\u001b[0m     \u001b[39mself\u001b[39m\u001b[39m.\u001b[39moptions[\u001b[39m\"\u001b[39m\u001b[39mhas_index_names\u001b[39m\u001b[39m\"\u001b[39m] \u001b[39m=\u001b[39m kwds[\u001b[39m\"\u001b[39m\u001b[39mhas_index_names\u001b[39m\u001b[39m\"\u001b[39m]\n\u001b[1;32m   1406\u001b[0m \u001b[39mself\u001b[39m\u001b[39m.\u001b[39mhandles: IOHandles \u001b[39m|\u001b[39m \u001b[39mNone\u001b[39;00m \u001b[39m=\u001b[39m \u001b[39mNone\u001b[39;00m\n\u001b[0;32m-> 1407\u001b[0m \u001b[39mself\u001b[39m\u001b[39m.\u001b[39m_engine \u001b[39m=\u001b[39m \u001b[39mself\u001b[39;49m\u001b[39m.\u001b[39;49m_make_engine(f, \u001b[39mself\u001b[39;49m\u001b[39m.\u001b[39;49mengine)\n",
      "File \u001b[0;32m~/Stabl/.venv/lib/python3.9/site-packages/pandas/io/parsers/readers.py:1661\u001b[0m, in \u001b[0;36mTextFileReader._make_engine\u001b[0;34m(self, f, engine)\u001b[0m\n\u001b[1;32m   1659\u001b[0m     \u001b[39mif\u001b[39;00m \u001b[39m\"\u001b[39m\u001b[39mb\u001b[39m\u001b[39m\"\u001b[39m \u001b[39mnot\u001b[39;00m \u001b[39min\u001b[39;00m mode:\n\u001b[1;32m   1660\u001b[0m         mode \u001b[39m+\u001b[39m\u001b[39m=\u001b[39m \u001b[39m\"\u001b[39m\u001b[39mb\u001b[39m\u001b[39m\"\u001b[39m\n\u001b[0;32m-> 1661\u001b[0m \u001b[39mself\u001b[39m\u001b[39m.\u001b[39mhandles \u001b[39m=\u001b[39m get_handle(\n\u001b[1;32m   1662\u001b[0m     f,\n\u001b[1;32m   1663\u001b[0m     mode,\n\u001b[1;32m   1664\u001b[0m     encoding\u001b[39m=\u001b[39;49m\u001b[39mself\u001b[39;49m\u001b[39m.\u001b[39;49moptions\u001b[39m.\u001b[39;49mget(\u001b[39m\"\u001b[39;49m\u001b[39mencoding\u001b[39;49m\u001b[39m\"\u001b[39;49m, \u001b[39mNone\u001b[39;49;00m),\n\u001b[1;32m   1665\u001b[0m     compression\u001b[39m=\u001b[39;49m\u001b[39mself\u001b[39;49m\u001b[39m.\u001b[39;49moptions\u001b[39m.\u001b[39;49mget(\u001b[39m\"\u001b[39;49m\u001b[39mcompression\u001b[39;49m\u001b[39m\"\u001b[39;49m, \u001b[39mNone\u001b[39;49;00m),\n\u001b[1;32m   1666\u001b[0m     memory_map\u001b[39m=\u001b[39;49m\u001b[39mself\u001b[39;49m\u001b[39m.\u001b[39;49moptions\u001b[39m.\u001b[39;49mget(\u001b[39m\"\u001b[39;49m\u001b[39mmemory_map\u001b[39;49m\u001b[39m\"\u001b[39;49m, \u001b[39mFalse\u001b[39;49;00m),\n\u001b[1;32m   1667\u001b[0m     is_text\u001b[39m=\u001b[39;49mis_text,\n\u001b[1;32m   1668\u001b[0m     errors\u001b[39m=\u001b[39;49m\u001b[39mself\u001b[39;49m\u001b[39m.\u001b[39;49moptions\u001b[39m.\u001b[39;49mget(\u001b[39m\"\u001b[39;49m\u001b[39mencoding_errors\u001b[39;49m\u001b[39m\"\u001b[39;49m, \u001b[39m\"\u001b[39;49m\u001b[39mstrict\u001b[39;49m\u001b[39m\"\u001b[39;49m),\n\u001b[1;32m   1669\u001b[0m     storage_options\u001b[39m=\u001b[39;49m\u001b[39mself\u001b[39;49m\u001b[39m.\u001b[39;49moptions\u001b[39m.\u001b[39;49mget(\u001b[39m\"\u001b[39;49m\u001b[39mstorage_options\u001b[39;49m\u001b[39m\"\u001b[39;49m, \u001b[39mNone\u001b[39;49;00m),\n\u001b[1;32m   1670\u001b[0m )\n\u001b[1;32m   1671\u001b[0m \u001b[39massert\u001b[39;00m \u001b[39mself\u001b[39m\u001b[39m.\u001b[39mhandles \u001b[39mis\u001b[39;00m \u001b[39mnot\u001b[39;00m \u001b[39mNone\u001b[39;00m\n\u001b[1;32m   1672\u001b[0m f \u001b[39m=\u001b[39m \u001b[39mself\u001b[39m\u001b[39m.\u001b[39mhandles\u001b[39m.\u001b[39mhandle\n",
      "File \u001b[0;32m~/Stabl/.venv/lib/python3.9/site-packages/pandas/io/common.py:859\u001b[0m, in \u001b[0;36mget_handle\u001b[0;34m(path_or_buf, mode, encoding, compression, memory_map, is_text, errors, storage_options)\u001b[0m\n\u001b[1;32m    854\u001b[0m \u001b[39melif\u001b[39;00m \u001b[39misinstance\u001b[39m(handle, \u001b[39mstr\u001b[39m):\n\u001b[1;32m    855\u001b[0m     \u001b[39m# Check whether the filename is to be opened in binary mode.\u001b[39;00m\n\u001b[1;32m    856\u001b[0m     \u001b[39m# Binary mode does not support 'encoding' and 'newline'.\u001b[39;00m\n\u001b[1;32m    857\u001b[0m     \u001b[39mif\u001b[39;00m ioargs\u001b[39m.\u001b[39mencoding \u001b[39mand\u001b[39;00m \u001b[39m\"\u001b[39m\u001b[39mb\u001b[39m\u001b[39m\"\u001b[39m \u001b[39mnot\u001b[39;00m \u001b[39min\u001b[39;00m ioargs\u001b[39m.\u001b[39mmode:\n\u001b[1;32m    858\u001b[0m         \u001b[39m# Encoding\u001b[39;00m\n\u001b[0;32m--> 859\u001b[0m         handle \u001b[39m=\u001b[39m \u001b[39mopen\u001b[39;49m(\n\u001b[1;32m    860\u001b[0m             handle,\n\u001b[1;32m    861\u001b[0m             ioargs\u001b[39m.\u001b[39;49mmode,\n\u001b[1;32m    862\u001b[0m             encoding\u001b[39m=\u001b[39;49mioargs\u001b[39m.\u001b[39;49mencoding,\n\u001b[1;32m    863\u001b[0m             errors\u001b[39m=\u001b[39;49merrors,\n\u001b[1;32m    864\u001b[0m             newline\u001b[39m=\u001b[39;49m\u001b[39m\"\u001b[39;49m\u001b[39m\"\u001b[39;49m,\n\u001b[1;32m    865\u001b[0m         )\n\u001b[1;32m    866\u001b[0m     \u001b[39melse\u001b[39;00m:\n\u001b[1;32m    867\u001b[0m         \u001b[39m# Binary mode\u001b[39;00m\n\u001b[1;32m    868\u001b[0m         handle \u001b[39m=\u001b[39m \u001b[39mopen\u001b[39m(handle, ioargs\u001b[39m.\u001b[39mmode)\n",
      "\u001b[0;31mFileNotFoundError\u001b[0m: [Errno 2] No such file or directory: './Data_POCK/Immuno/D0_Unstim.csv'"
     ]
    }
   ],
   "source": [
    "D0_unstim = pd.read_csv('./Data_POCK/Immuno/D0_Unstim.csv', index_col=0)\n",
    "D0_freq = pd.read_csv('./Data_POCK/Immuno/D0_Freq.csv', index_col=0)\n",
    "D0_unstim = pd.concat([D0_unstim, D0_freq], axis='columns')\n",
    "D0_unstim.index = [idx + '_D0' for idx in D0_unstim.index]\n",
    "labels_D0 = pd.read_csv('./Data_POCK/Immuno/labels_D0.csv', index_col=0)\n",
    "labels_D0.index = [idx + '_D0' for idx in labels_D0.index]\n",
    "\n",
    "D1_unstim = pd.read_csv('./Data_POCK/Immuno/D1_Unstim.csv', index_col=0)\n",
    "D1_freq = pd.read_csv('./Data_POCK/Immuno/D1_Freq.csv', index_col=0)\n",
    "D1_unstim = pd.concat([D1_unstim, D1_freq], axis='columns')\n",
    "D1_unstim.index = [idx + '_D1' for idx in D1_unstim.index]\n",
    "labels_D1 = pd.read_csv('./Data_POCK/Immuno/labels_D1.csv', index_col=0)\n",
    "labels_D1.index = [idx + '_D1' for idx in labels_D1.index]\n",
    "\n",
    "D7_unstim = pd.read_csv('./Data_POCK/Immuno/D7_Unstim.csv', index_col=0)\n",
    "D7_freq = pd.read_csv('./Data_POCK/Immuno/D7_Freq.csv', index_col=0)\n",
    "D7_unstim = pd.concat([D7_unstim, D7_freq], axis='columns')\n",
    "D7_unstim.index = [idx + '_D7' for idx in D7_unstim.index]\n",
    "labels_D7 = pd.read_csv('./Data_POCK/Immuno/labels_D7.csv', index_col=0)\n",
    "labels_D7.index = [idx + '_D7' for idx in labels_D7.index]\n",
    "\n",
    "D90_unstim = pd.read_csv('./Data_POCK/Immuno/D90_Unstim&Freq.csv', index_col=0)\n",
    "#D90_unstim = D90_unstim.loc[:, ~D90_unstim.columns.str.contains('Freq')]\n",
    "D90_unstim.index = [idx + '_D90' for idx in D90_unstim.index]\n",
    "labels_D90 = pd.read_csv('./Data_POCK/Immuno/labels_D90.csv', index_col=0)\n",
    "labels_D90.index = [idx + '_D90' for idx in labels_D90.index]"
   ]
  },
  {
   "cell_type": "code",
   "execution_count": 4,
   "id": "2e2990ae",
   "metadata": {},
   "outputs": [],
   "source": [
    "df_tot = pd.concat([D0_unstim, D1_unstim, D7_unstim, D90_unstim], axis='rows')\n",
    "df_tot.columns = [el[1]+'_'+el[-1] for el in df_tot.columns.str.split('_')]"
   ]
  },
  {
   "cell_type": "markdown",
   "id": "5b44466c",
   "metadata": {},
   "source": [
    "# Effect directions"
   ]
  },
  {
   "cell_type": "code",
   "execution_count": 5,
   "id": "83911f6d",
   "metadata": {},
   "outputs": [],
   "source": [
    "D0_unstim_std = (D0_unstim - D0_unstim.mean())/D0_unstim.std()\n",
    "D1_unstim_std = (D1_unstim - D1_unstim.mean())/D1_unstim.std()\n",
    "D7_unstim_std = (D7_unstim - D7_unstim.mean())/D7_unstim.std()\n",
    "D90_unstim_std = (D90_unstim - D90_unstim.mean())/D90_unstim.std()"
   ]
  },
  {
   "cell_type": "code",
   "execution_count": 6,
   "id": "1d295794",
   "metadata": {},
   "outputs": [],
   "source": [
    "effect_dir_D0 = D0_unstim_std[labels_D0.POCD_J7_pos==1].median() - D0_unstim_std[labels_D0.POCD_J7_pos==0].median()\n",
    "effect_dir_D0.index = [el[1]+'_'+el[-1] for el in effect_dir_D0.index.str.split('_')]\n",
    "\n",
    "effect_dir_D1 = D1_unstim_std[labels_D1.POCD_J7_pos==1].median() - D1_unstim_std[labels_D1.POCD_J7_pos==0].median()\n",
    "effect_dir_D1.index = [el[1]+'_'+el[-1] for el in effect_dir_D1.index.str.split('_')]\n",
    "\n",
    "effect_dir_D7 = D7_unstim_std[labels_D7.POCD_J7_pos==1].median() - D7_unstim_std[labels_D7.POCD_J7_pos==0].median()\n",
    "effect_dir_D7.index = [el[1]+'_'+el[-1] for el in effect_dir_D7.index.str.split('_')]\n",
    "\n",
    "effect_dir_D90 = D90_unstim_std[labels_D90.POCD_J7_pos==1].median() - D90_unstim_std[labels_D90.POCD_J7_pos==0].median()\n",
    "effect_dir_D90.index = [el[1]+'_'+el[-1] for el in effect_dir_D90.index.str.split('_')]"
   ]
  },
  {
   "cell_type": "markdown",
   "id": "d4b3fec5",
   "metadata": {},
   "source": [
    "# Stability scores"
   ]
  },
  {
   "cell_type": "code",
   "execution_count": 7,
   "id": "ddd8b4f9",
   "metadata": {},
   "outputs": [],
   "source": [
    "prepro_pipe = Pipeline(steps=[('var', VarianceThreshold(0.01)),\n",
    "                            ('lif', LowInfoFilter(.2)),\n",
    "                            ('si', SimpleImputer(strategy='median')),\n",
    "                            ('std', StandardScaler()),\n",
    "                           ])\n",
    "\n",
    "stab = StabilitySelection(lambda_grid=np.linspace(0.01,5,30),\n",
    "                          sample_fraction=.5,\n",
    "                          replace=False,\n",
    "                          threshold=.3\n",
    "                         )"
   ]
  },
  {
   "cell_type": "markdown",
   "id": "efd792a1",
   "metadata": {},
   "source": [
    "## D0"
   ]
  },
  {
   "cell_type": "code",
   "execution_count": 8,
   "id": "61128c17",
   "metadata": {},
   "outputs": [],
   "source": [
    "labels_D0_red = labels_D0.dropna().drop('04-0155-FR_D0')\n",
    "D0_unstim_red = remove_low_info_samples(D0_unstim).loc[labels_D0_red.index]"
   ]
  },
  {
   "cell_type": "code",
   "execution_count": 9,
   "id": "0e233407",
   "metadata": {},
   "outputs": [],
   "source": [
    "D0_prepro = pd.DataFrame(data=prepro_pipe.fit_transform(D0_unstim_red),\n",
    "                         index=D0_unstim_red.index,\n",
    "                         columns=prepro_pipe.get_feature_names_out()\n",
    "                        )"
   ]
  },
  {
   "cell_type": "code",
   "execution_count": 10,
   "id": "a38278f0",
   "metadata": {},
   "outputs": [
    {
     "data": {
      "application/vnd.jupyter.widget-view+json": {
       "model_id": "",
       "version_major": 2,
       "version_minor": 0
      },
      "text/plain": [
       "Stability selection progress:   0%|          | 0/30 [00:00<?, ?it/s]"
      ]
     },
     "metadata": {},
     "output_type": "display_data"
    },
    {
     "data": {
      "text/html": [
       "<style>#sk-container-id-1 {color: black;background-color: white;}#sk-container-id-1 pre{padding: 0;}#sk-container-id-1 div.sk-toggleable {background-color: white;}#sk-container-id-1 label.sk-toggleable__label {cursor: pointer;display: block;width: 100%;margin-bottom: 0;padding: 0.3em;box-sizing: border-box;text-align: center;}#sk-container-id-1 label.sk-toggleable__label-arrow:before {content: \"▸\";float: left;margin-right: 0.25em;color: #696969;}#sk-container-id-1 label.sk-toggleable__label-arrow:hover:before {color: black;}#sk-container-id-1 div.sk-estimator:hover label.sk-toggleable__label-arrow:before {color: black;}#sk-container-id-1 div.sk-toggleable__content {max-height: 0;max-width: 0;overflow: hidden;text-align: left;background-color: #f0f8ff;}#sk-container-id-1 div.sk-toggleable__content pre {margin: 0.2em;color: black;border-radius: 0.25em;background-color: #f0f8ff;}#sk-container-id-1 input.sk-toggleable__control:checked~div.sk-toggleable__content {max-height: 200px;max-width: 100%;overflow: auto;}#sk-container-id-1 input.sk-toggleable__control:checked~label.sk-toggleable__label-arrow:before {content: \"▾\";}#sk-container-id-1 div.sk-estimator input.sk-toggleable__control:checked~label.sk-toggleable__label {background-color: #d4ebff;}#sk-container-id-1 div.sk-label input.sk-toggleable__control:checked~label.sk-toggleable__label {background-color: #d4ebff;}#sk-container-id-1 input.sk-hidden--visually {border: 0;clip: rect(1px 1px 1px 1px);clip: rect(1px, 1px, 1px, 1px);height: 1px;margin: -1px;overflow: hidden;padding: 0;position: absolute;width: 1px;}#sk-container-id-1 div.sk-estimator {font-family: monospace;background-color: #f0f8ff;border: 1px dotted black;border-radius: 0.25em;box-sizing: border-box;margin-bottom: 0.5em;}#sk-container-id-1 div.sk-estimator:hover {background-color: #d4ebff;}#sk-container-id-1 div.sk-parallel-item::after {content: \"\";width: 100%;border-bottom: 1px solid gray;flex-grow: 1;}#sk-container-id-1 div.sk-label:hover label.sk-toggleable__label {background-color: #d4ebff;}#sk-container-id-1 div.sk-serial::before {content: \"\";position: absolute;border-left: 1px solid gray;box-sizing: border-box;top: 0;bottom: 0;left: 50%;z-index: 0;}#sk-container-id-1 div.sk-serial {display: flex;flex-direction: column;align-items: center;background-color: white;padding-right: 0.2em;padding-left: 0.2em;position: relative;}#sk-container-id-1 div.sk-item {position: relative;z-index: 1;}#sk-container-id-1 div.sk-parallel {display: flex;align-items: stretch;justify-content: center;background-color: white;position: relative;}#sk-container-id-1 div.sk-item::before, #sk-container-id-1 div.sk-parallel-item::before {content: \"\";position: absolute;border-left: 1px solid gray;box-sizing: border-box;top: 0;bottom: 0;left: 50%;z-index: -1;}#sk-container-id-1 div.sk-parallel-item {display: flex;flex-direction: column;z-index: 1;position: relative;background-color: white;}#sk-container-id-1 div.sk-parallel-item:first-child::after {align-self: flex-end;width: 50%;}#sk-container-id-1 div.sk-parallel-item:last-child::after {align-self: flex-start;width: 50%;}#sk-container-id-1 div.sk-parallel-item:only-child::after {width: 0;}#sk-container-id-1 div.sk-dashed-wrapped {border: 1px dashed gray;margin: 0 0.4em 0.5em 0.4em;box-sizing: border-box;padding-bottom: 0.4em;background-color: white;}#sk-container-id-1 div.sk-label label {font-family: monospace;font-weight: bold;display: inline-block;line-height: 1.2em;}#sk-container-id-1 div.sk-label-container {text-align: center;}#sk-container-id-1 div.sk-container {/* jupyter's `normalize.less` sets `[hidden] { display: none; }` but bootstrap.min.css set `[hidden] { display: none !important; }` so we also need the `!important` here to be able to override the default hidden behavior on the sphinx rendered scikit-learn.org. See: https://github.com/scikit-learn/scikit-learn/issues/21755 */display: inline-block !important;position: relative;}#sk-container-id-1 div.sk-text-repr-fallback {display: none;}</style><div id=\"sk-container-id-1\" class=\"sk-top-container\"><div class=\"sk-text-repr-fallback\"><pre>StabilitySelection(lambda_grid=array([0.01      , 0.18206897, 0.35413793, 0.5262069 , 0.69827586,\n",
       "       0.87034483, 1.04241379, 1.21448276, 1.38655172, 1.55862069,\n",
       "       1.73068966, 1.90275862, 2.07482759, 2.24689655, 2.41896552,\n",
       "       2.59103448, 2.76310345, 2.93517241, 3.10724138, 3.27931034,\n",
       "       3.45137931, 3.62344828, 3.79551724, 3.96758621, 4.13965517,\n",
       "       4.31172414, 4.4837931 , 4.65586207, 4.82793103, 5.        ]),\n",
       "                   replace=False, sample_fraction=0.5, threshold=0.3)</pre><b>In a Jupyter environment, please rerun this cell to show the HTML representation or trust the notebook. <br />On GitHub, the HTML representation is unable to render, please try loading this page with nbviewer.org.</b></div><div class=\"sk-container\" hidden><div class=\"sk-item sk-dashed-wrapped\"><div class=\"sk-label-container\"><div class=\"sk-label sk-toggleable\"><input class=\"sk-toggleable__control sk-hidden--visually\" id=\"sk-estimator-id-1\" type=\"checkbox\" ><label for=\"sk-estimator-id-1\" class=\"sk-toggleable__label sk-toggleable__label-arrow\">StabilitySelection</label><div class=\"sk-toggleable__content\"><pre>StabilitySelection(lambda_grid=array([0.01      , 0.18206897, 0.35413793, 0.5262069 , 0.69827586,\n",
       "       0.87034483, 1.04241379, 1.21448276, 1.38655172, 1.55862069,\n",
       "       1.73068966, 1.90275862, 2.07482759, 2.24689655, 2.41896552,\n",
       "       2.59103448, 2.76310345, 2.93517241, 3.10724138, 3.27931034,\n",
       "       3.45137931, 3.62344828, 3.79551724, 3.96758621, 4.13965517,\n",
       "       4.31172414, 4.4837931 , 4.65586207, 4.82793103, 5.        ]),\n",
       "                   replace=False, sample_fraction=0.5, threshold=0.3)</pre></div></div></div><div class=\"sk-parallel\"><div class=\"sk-parallel-item\"><div class=\"sk-item\"><div class=\"sk-label-container\"><div class=\"sk-label sk-toggleable\"><input class=\"sk-toggleable__control sk-hidden--visually\" id=\"sk-estimator-id-2\" type=\"checkbox\" ><label for=\"sk-estimator-id-2\" class=\"sk-toggleable__label sk-toggleable__label-arrow\">base_estimator: LogisticRegression</label><div class=\"sk-toggleable__content\"><pre>LogisticRegression(class_weight=&#x27;balanced&#x27;, penalty=&#x27;l1&#x27;, solver=&#x27;liblinear&#x27;)</pre></div></div></div><div class=\"sk-serial\"><div class=\"sk-item\"><div class=\"sk-estimator sk-toggleable\"><input class=\"sk-toggleable__control sk-hidden--visually\" id=\"sk-estimator-id-3\" type=\"checkbox\" ><label for=\"sk-estimator-id-3\" class=\"sk-toggleable__label sk-toggleable__label-arrow\">LogisticRegression</label><div class=\"sk-toggleable__content\"><pre>LogisticRegression(class_weight=&#x27;balanced&#x27;, penalty=&#x27;l1&#x27;, solver=&#x27;liblinear&#x27;)</pre></div></div></div></div></div></div></div></div></div></div>"
      ],
      "text/plain": [
       "StabilitySelection(lambda_grid=array([0.01      , 0.18206897, 0.35413793, 0.5262069 , 0.69827586,\n",
       "       0.87034483, 1.04241379, 1.21448276, 1.38655172, 1.55862069,\n",
       "       1.73068966, 1.90275862, 2.07482759, 2.24689655, 2.41896552,\n",
       "       2.59103448, 2.76310345, 2.93517241, 3.10724138, 3.27931034,\n",
       "       3.45137931, 3.62344828, 3.79551724, 3.96758621, 4.13965517,\n",
       "       4.31172414, 4.4837931 , 4.65586207, 4.82793103, 5.        ]),\n",
       "                   replace=False, sample_fraction=0.5, threshold=0.3)"
      ]
     },
     "execution_count": 10,
     "metadata": {},
     "output_type": "execute_result"
    }
   ],
   "source": [
    "stab.fit(D0_prepro, labels_D0_red.POCD_J7_pos)"
   ]
  },
  {
   "cell_type": "code",
   "execution_count": 11,
   "id": "ea7e4b2c",
   "metadata": {},
   "outputs": [],
   "source": [
    "max_scores_D0 = pd.DataFrame(data=stab.stability_scores_.max(1),\n",
    "                             index=[el[1]+'_'+el[-1] for el in D0_prepro.columns.str.split('_')],\n",
    "                             columns=['Max_Proba']\n",
    "                            ) "
   ]
  },
  {
   "cell_type": "code",
   "execution_count": 12,
   "id": "fba3c7e5",
   "metadata": {
    "scrolled": true
   },
   "outputs": [
    {
     "data": {
      "text/html": [
       "<div>\n",
       "<style scoped>\n",
       "    .dataframe tbody tr th:only-of-type {\n",
       "        vertical-align: middle;\n",
       "    }\n",
       "\n",
       "    .dataframe tbody tr th {\n",
       "        vertical-align: top;\n",
       "    }\n",
       "\n",
       "    .dataframe thead th {\n",
       "        text-align: right;\n",
       "    }\n",
       "</style>\n",
       "<table border=\"1\" class=\"dataframe\">\n",
       "  <thead>\n",
       "    <tr style=\"text-align: right;\">\n",
       "      <th></th>\n",
       "      <th>Max_Proba</th>\n",
       "    </tr>\n",
       "  </thead>\n",
       "  <tbody>\n",
       "    <tr>\n",
       "      <th>CD56brightCD16negNK_IkB</th>\n",
       "      <td>0.412</td>\n",
       "    </tr>\n",
       "    <tr>\n",
       "      <th>Baso_Frequency</th>\n",
       "      <td>0.379</td>\n",
       "    </tr>\n",
       "    <tr>\n",
       "      <th>gdT_Frequency</th>\n",
       "      <td>0.352</td>\n",
       "    </tr>\n",
       "    <tr>\n",
       "      <th>CD56brightCD16negNK_CREB</th>\n",
       "      <td>0.344</td>\n",
       "    </tr>\n",
       "    <tr>\n",
       "      <th>DC_NFkB</th>\n",
       "      <td>0.343</td>\n",
       "    </tr>\n",
       "    <tr>\n",
       "      <th>Bnaive_Frequency</th>\n",
       "      <td>0.338</td>\n",
       "    </tr>\n",
       "    <tr>\n",
       "      <th>Bcells_Frequency</th>\n",
       "      <td>0.311</td>\n",
       "    </tr>\n",
       "    <tr>\n",
       "      <th>Th1naive_Frequency</th>\n",
       "      <td>0.297</td>\n",
       "    </tr>\n",
       "    <tr>\n",
       "      <th>mDC_Frequency</th>\n",
       "      <td>0.262</td>\n",
       "    </tr>\n",
       "    <tr>\n",
       "      <th>CD56brightCD16negNK_Frequency</th>\n",
       "      <td>0.253</td>\n",
       "    </tr>\n",
       "  </tbody>\n",
       "</table>\n",
       "</div>"
      ],
      "text/plain": [
       "                               Max_Proba\n",
       "CD56brightCD16negNK_IkB            0.412\n",
       "Baso_Frequency                     0.379\n",
       "gdT_Frequency                      0.352\n",
       "CD56brightCD16negNK_CREB           0.344\n",
       "DC_NFkB                            0.343\n",
       "Bnaive_Frequency                   0.338\n",
       "Bcells_Frequency                   0.311\n",
       "Th1naive_Frequency                 0.297\n",
       "mDC_Frequency                      0.262\n",
       "CD56brightCD16negNK_Frequency      0.253"
      ]
     },
     "execution_count": 12,
     "metadata": {},
     "output_type": "execute_result"
    }
   ],
   "source": [
    "max_scores_D0.sort_values(by='Max_Proba',ascending=False).head(10)"
   ]
  },
  {
   "cell_type": "markdown",
   "id": "66dae4ba",
   "metadata": {},
   "source": [
    "## D1"
   ]
  },
  {
   "cell_type": "code",
   "execution_count": 13,
   "id": "1465098d",
   "metadata": {},
   "outputs": [],
   "source": [
    "labels_D1_red = labels_D1.dropna().drop('04-0155-FR_D0', errors='ignore')\n",
    "D1_unstim_red = remove_low_info_samples(D1_unstim).loc[labels_D1_red.index]"
   ]
  },
  {
   "cell_type": "code",
   "execution_count": 14,
   "id": "afdb240c",
   "metadata": {},
   "outputs": [],
   "source": [
    "D1_prepro = pd.DataFrame(data=prepro_pipe.fit_transform(D1_unstim_red),\n",
    "                         index=D1_unstim_red.index,\n",
    "                         columns=prepro_pipe.get_feature_names_out()\n",
    "                        )"
   ]
  },
  {
   "cell_type": "code",
   "execution_count": 15,
   "id": "186f57c4",
   "metadata": {},
   "outputs": [
    {
     "data": {
      "application/vnd.jupyter.widget-view+json": {
       "model_id": "",
       "version_major": 2,
       "version_minor": 0
      },
      "text/plain": [
       "Stability selection progress:   0%|          | 0/30 [00:00<?, ?it/s]"
      ]
     },
     "metadata": {},
     "output_type": "display_data"
    },
    {
     "data": {
      "text/html": [
       "<style>#sk-container-id-2 {color: black;background-color: white;}#sk-container-id-2 pre{padding: 0;}#sk-container-id-2 div.sk-toggleable {background-color: white;}#sk-container-id-2 label.sk-toggleable__label {cursor: pointer;display: block;width: 100%;margin-bottom: 0;padding: 0.3em;box-sizing: border-box;text-align: center;}#sk-container-id-2 label.sk-toggleable__label-arrow:before {content: \"▸\";float: left;margin-right: 0.25em;color: #696969;}#sk-container-id-2 label.sk-toggleable__label-arrow:hover:before {color: black;}#sk-container-id-2 div.sk-estimator:hover label.sk-toggleable__label-arrow:before {color: black;}#sk-container-id-2 div.sk-toggleable__content {max-height: 0;max-width: 0;overflow: hidden;text-align: left;background-color: #f0f8ff;}#sk-container-id-2 div.sk-toggleable__content pre {margin: 0.2em;color: black;border-radius: 0.25em;background-color: #f0f8ff;}#sk-container-id-2 input.sk-toggleable__control:checked~div.sk-toggleable__content {max-height: 200px;max-width: 100%;overflow: auto;}#sk-container-id-2 input.sk-toggleable__control:checked~label.sk-toggleable__label-arrow:before {content: \"▾\";}#sk-container-id-2 div.sk-estimator input.sk-toggleable__control:checked~label.sk-toggleable__label {background-color: #d4ebff;}#sk-container-id-2 div.sk-label input.sk-toggleable__control:checked~label.sk-toggleable__label {background-color: #d4ebff;}#sk-container-id-2 input.sk-hidden--visually {border: 0;clip: rect(1px 1px 1px 1px);clip: rect(1px, 1px, 1px, 1px);height: 1px;margin: -1px;overflow: hidden;padding: 0;position: absolute;width: 1px;}#sk-container-id-2 div.sk-estimator {font-family: monospace;background-color: #f0f8ff;border: 1px dotted black;border-radius: 0.25em;box-sizing: border-box;margin-bottom: 0.5em;}#sk-container-id-2 div.sk-estimator:hover {background-color: #d4ebff;}#sk-container-id-2 div.sk-parallel-item::after {content: \"\";width: 100%;border-bottom: 1px solid gray;flex-grow: 1;}#sk-container-id-2 div.sk-label:hover label.sk-toggleable__label {background-color: #d4ebff;}#sk-container-id-2 div.sk-serial::before {content: \"\";position: absolute;border-left: 1px solid gray;box-sizing: border-box;top: 0;bottom: 0;left: 50%;z-index: 0;}#sk-container-id-2 div.sk-serial {display: flex;flex-direction: column;align-items: center;background-color: white;padding-right: 0.2em;padding-left: 0.2em;position: relative;}#sk-container-id-2 div.sk-item {position: relative;z-index: 1;}#sk-container-id-2 div.sk-parallel {display: flex;align-items: stretch;justify-content: center;background-color: white;position: relative;}#sk-container-id-2 div.sk-item::before, #sk-container-id-2 div.sk-parallel-item::before {content: \"\";position: absolute;border-left: 1px solid gray;box-sizing: border-box;top: 0;bottom: 0;left: 50%;z-index: -1;}#sk-container-id-2 div.sk-parallel-item {display: flex;flex-direction: column;z-index: 1;position: relative;background-color: white;}#sk-container-id-2 div.sk-parallel-item:first-child::after {align-self: flex-end;width: 50%;}#sk-container-id-2 div.sk-parallel-item:last-child::after {align-self: flex-start;width: 50%;}#sk-container-id-2 div.sk-parallel-item:only-child::after {width: 0;}#sk-container-id-2 div.sk-dashed-wrapped {border: 1px dashed gray;margin: 0 0.4em 0.5em 0.4em;box-sizing: border-box;padding-bottom: 0.4em;background-color: white;}#sk-container-id-2 div.sk-label label {font-family: monospace;font-weight: bold;display: inline-block;line-height: 1.2em;}#sk-container-id-2 div.sk-label-container {text-align: center;}#sk-container-id-2 div.sk-container {/* jupyter's `normalize.less` sets `[hidden] { display: none; }` but bootstrap.min.css set `[hidden] { display: none !important; }` so we also need the `!important` here to be able to override the default hidden behavior on the sphinx rendered scikit-learn.org. See: https://github.com/scikit-learn/scikit-learn/issues/21755 */display: inline-block !important;position: relative;}#sk-container-id-2 div.sk-text-repr-fallback {display: none;}</style><div id=\"sk-container-id-2\" class=\"sk-top-container\"><div class=\"sk-text-repr-fallback\"><pre>StabilitySelection(lambda_grid=array([0.01      , 0.18206897, 0.35413793, 0.5262069 , 0.69827586,\n",
       "       0.87034483, 1.04241379, 1.21448276, 1.38655172, 1.55862069,\n",
       "       1.73068966, 1.90275862, 2.07482759, 2.24689655, 2.41896552,\n",
       "       2.59103448, 2.76310345, 2.93517241, 3.10724138, 3.27931034,\n",
       "       3.45137931, 3.62344828, 3.79551724, 3.96758621, 4.13965517,\n",
       "       4.31172414, 4.4837931 , 4.65586207, 4.82793103, 5.        ]),\n",
       "                   replace=False, sample_fraction=0.5, threshold=0.3)</pre><b>In a Jupyter environment, please rerun this cell to show the HTML representation or trust the notebook. <br />On GitHub, the HTML representation is unable to render, please try loading this page with nbviewer.org.</b></div><div class=\"sk-container\" hidden><div class=\"sk-item sk-dashed-wrapped\"><div class=\"sk-label-container\"><div class=\"sk-label sk-toggleable\"><input class=\"sk-toggleable__control sk-hidden--visually\" id=\"sk-estimator-id-4\" type=\"checkbox\" ><label for=\"sk-estimator-id-4\" class=\"sk-toggleable__label sk-toggleable__label-arrow\">StabilitySelection</label><div class=\"sk-toggleable__content\"><pre>StabilitySelection(lambda_grid=array([0.01      , 0.18206897, 0.35413793, 0.5262069 , 0.69827586,\n",
       "       0.87034483, 1.04241379, 1.21448276, 1.38655172, 1.55862069,\n",
       "       1.73068966, 1.90275862, 2.07482759, 2.24689655, 2.41896552,\n",
       "       2.59103448, 2.76310345, 2.93517241, 3.10724138, 3.27931034,\n",
       "       3.45137931, 3.62344828, 3.79551724, 3.96758621, 4.13965517,\n",
       "       4.31172414, 4.4837931 , 4.65586207, 4.82793103, 5.        ]),\n",
       "                   replace=False, sample_fraction=0.5, threshold=0.3)</pre></div></div></div><div class=\"sk-parallel\"><div class=\"sk-parallel-item\"><div class=\"sk-item\"><div class=\"sk-label-container\"><div class=\"sk-label sk-toggleable\"><input class=\"sk-toggleable__control sk-hidden--visually\" id=\"sk-estimator-id-5\" type=\"checkbox\" ><label for=\"sk-estimator-id-5\" class=\"sk-toggleable__label sk-toggleable__label-arrow\">base_estimator: LogisticRegression</label><div class=\"sk-toggleable__content\"><pre>LogisticRegression(class_weight=&#x27;balanced&#x27;, penalty=&#x27;l1&#x27;, solver=&#x27;liblinear&#x27;)</pre></div></div></div><div class=\"sk-serial\"><div class=\"sk-item\"><div class=\"sk-estimator sk-toggleable\"><input class=\"sk-toggleable__control sk-hidden--visually\" id=\"sk-estimator-id-6\" type=\"checkbox\" ><label for=\"sk-estimator-id-6\" class=\"sk-toggleable__label sk-toggleable__label-arrow\">LogisticRegression</label><div class=\"sk-toggleable__content\"><pre>LogisticRegression(class_weight=&#x27;balanced&#x27;, penalty=&#x27;l1&#x27;, solver=&#x27;liblinear&#x27;)</pre></div></div></div></div></div></div></div></div></div></div>"
      ],
      "text/plain": [
       "StabilitySelection(lambda_grid=array([0.01      , 0.18206897, 0.35413793, 0.5262069 , 0.69827586,\n",
       "       0.87034483, 1.04241379, 1.21448276, 1.38655172, 1.55862069,\n",
       "       1.73068966, 1.90275862, 2.07482759, 2.24689655, 2.41896552,\n",
       "       2.59103448, 2.76310345, 2.93517241, 3.10724138, 3.27931034,\n",
       "       3.45137931, 3.62344828, 3.79551724, 3.96758621, 4.13965517,\n",
       "       4.31172414, 4.4837931 , 4.65586207, 4.82793103, 5.        ]),\n",
       "                   replace=False, sample_fraction=0.5, threshold=0.3)"
      ]
     },
     "execution_count": 15,
     "metadata": {},
     "output_type": "execute_result"
    }
   ],
   "source": [
    "stab.fit(D1_prepro, labels_D1_red.POCD_J7_pos)"
   ]
  },
  {
   "cell_type": "code",
   "execution_count": 16,
   "id": "8ba01a75",
   "metadata": {},
   "outputs": [],
   "source": [
    "max_scores_D1 = pd.DataFrame(data=stab.stability_scores_.max(1),\n",
    "                             index=[el[1]+'_'+el[-1] for el in D1_prepro.columns.str.split('_')],\n",
    "                             columns=['Max_Proba']\n",
    "                            ) "
   ]
  },
  {
   "cell_type": "code",
   "execution_count": 17,
   "id": "9a149dba",
   "metadata": {
    "scrolled": true
   },
   "outputs": [
    {
     "data": {
      "text/html": [
       "<div>\n",
       "<style scoped>\n",
       "    .dataframe tbody tr th:only-of-type {\n",
       "        vertical-align: middle;\n",
       "    }\n",
       "\n",
       "    .dataframe tbody tr th {\n",
       "        vertical-align: top;\n",
       "    }\n",
       "\n",
       "    .dataframe thead th {\n",
       "        text-align: right;\n",
       "    }\n",
       "</style>\n",
       "<table border=\"1\" class=\"dataframe\">\n",
       "  <thead>\n",
       "    <tr style=\"text-align: right;\">\n",
       "      <th></th>\n",
       "      <th>Max_Proba</th>\n",
       "    </tr>\n",
       "  </thead>\n",
       "  <tbody>\n",
       "    <tr>\n",
       "      <th>Tregnaive_ERK12</th>\n",
       "      <td>0.597</td>\n",
       "    </tr>\n",
       "    <tr>\n",
       "      <th>Tregnaive_S6</th>\n",
       "      <td>0.416</td>\n",
       "    </tr>\n",
       "    <tr>\n",
       "      <th>Bnaive_Frequency</th>\n",
       "      <td>0.410</td>\n",
       "    </tr>\n",
       "    <tr>\n",
       "      <th>Th1naive_ERK12</th>\n",
       "      <td>0.244</td>\n",
       "    </tr>\n",
       "    <tr>\n",
       "      <th>Tregnaive_STAT6</th>\n",
       "      <td>0.238</td>\n",
       "    </tr>\n",
       "    <tr>\n",
       "      <th>MDSC_Frequency</th>\n",
       "      <td>0.235</td>\n",
       "    </tr>\n",
       "    <tr>\n",
       "      <th>Baso_STAT5</th>\n",
       "      <td>0.232</td>\n",
       "    </tr>\n",
       "    <tr>\n",
       "      <th>intMC_STAT3</th>\n",
       "      <td>0.219</td>\n",
       "    </tr>\n",
       "    <tr>\n",
       "      <th>Th2_STAT3</th>\n",
       "      <td>0.214</td>\n",
       "    </tr>\n",
       "    <tr>\n",
       "      <th>CD56brightCD16negNK_S6</th>\n",
       "      <td>0.208</td>\n",
       "    </tr>\n",
       "  </tbody>\n",
       "</table>\n",
       "</div>"
      ],
      "text/plain": [
       "                        Max_Proba\n",
       "Tregnaive_ERK12             0.597\n",
       "Tregnaive_S6                0.416\n",
       "Bnaive_Frequency            0.410\n",
       "Th1naive_ERK12              0.244\n",
       "Tregnaive_STAT6             0.238\n",
       "MDSC_Frequency              0.235\n",
       "Baso_STAT5                  0.232\n",
       "intMC_STAT3                 0.219\n",
       "Th2_STAT3                   0.214\n",
       "CD56brightCD16negNK_S6      0.208"
      ]
     },
     "execution_count": 17,
     "metadata": {},
     "output_type": "execute_result"
    }
   ],
   "source": [
    "max_scores_D1.sort_values(by='Max_Proba',ascending=False).head(10)"
   ]
  },
  {
   "cell_type": "markdown",
   "id": "b617e142",
   "metadata": {},
   "source": [
    "## D7"
   ]
  },
  {
   "cell_type": "code",
   "execution_count": 18,
   "id": "3d988f18",
   "metadata": {},
   "outputs": [],
   "source": [
    "labels_D7_red = labels_D7.dropna().drop('04-0155-FR_D0', errors='ignore')\n",
    "D7_unstim_red = remove_low_info_samples(D7_unstim).loc[labels_D7_red.index]"
   ]
  },
  {
   "cell_type": "code",
   "execution_count": 19,
   "id": "87152f17",
   "metadata": {},
   "outputs": [],
   "source": [
    "D7_prepro = pd.DataFrame(data=prepro_pipe.fit_transform(D7_unstim_red),\n",
    "                         index=D7_unstim_red.index,\n",
    "                         columns=prepro_pipe.get_feature_names_out()\n",
    "                        )"
   ]
  },
  {
   "cell_type": "code",
   "execution_count": 20,
   "id": "784fa2c4",
   "metadata": {
    "scrolled": true
   },
   "outputs": [
    {
     "data": {
      "application/vnd.jupyter.widget-view+json": {
       "model_id": "",
       "version_major": 2,
       "version_minor": 0
      },
      "text/plain": [
       "Stability selection progress:   0%|          | 0/30 [00:00<?, ?it/s]"
      ]
     },
     "metadata": {},
     "output_type": "display_data"
    },
    {
     "data": {
      "text/html": [
       "<style>#sk-container-id-3 {color: black;background-color: white;}#sk-container-id-3 pre{padding: 0;}#sk-container-id-3 div.sk-toggleable {background-color: white;}#sk-container-id-3 label.sk-toggleable__label {cursor: pointer;display: block;width: 100%;margin-bottom: 0;padding: 0.3em;box-sizing: border-box;text-align: center;}#sk-container-id-3 label.sk-toggleable__label-arrow:before {content: \"▸\";float: left;margin-right: 0.25em;color: #696969;}#sk-container-id-3 label.sk-toggleable__label-arrow:hover:before {color: black;}#sk-container-id-3 div.sk-estimator:hover label.sk-toggleable__label-arrow:before {color: black;}#sk-container-id-3 div.sk-toggleable__content {max-height: 0;max-width: 0;overflow: hidden;text-align: left;background-color: #f0f8ff;}#sk-container-id-3 div.sk-toggleable__content pre {margin: 0.2em;color: black;border-radius: 0.25em;background-color: #f0f8ff;}#sk-container-id-3 input.sk-toggleable__control:checked~div.sk-toggleable__content {max-height: 200px;max-width: 100%;overflow: auto;}#sk-container-id-3 input.sk-toggleable__control:checked~label.sk-toggleable__label-arrow:before {content: \"▾\";}#sk-container-id-3 div.sk-estimator input.sk-toggleable__control:checked~label.sk-toggleable__label {background-color: #d4ebff;}#sk-container-id-3 div.sk-label input.sk-toggleable__control:checked~label.sk-toggleable__label {background-color: #d4ebff;}#sk-container-id-3 input.sk-hidden--visually {border: 0;clip: rect(1px 1px 1px 1px);clip: rect(1px, 1px, 1px, 1px);height: 1px;margin: -1px;overflow: hidden;padding: 0;position: absolute;width: 1px;}#sk-container-id-3 div.sk-estimator {font-family: monospace;background-color: #f0f8ff;border: 1px dotted black;border-radius: 0.25em;box-sizing: border-box;margin-bottom: 0.5em;}#sk-container-id-3 div.sk-estimator:hover {background-color: #d4ebff;}#sk-container-id-3 div.sk-parallel-item::after {content: \"\";width: 100%;border-bottom: 1px solid gray;flex-grow: 1;}#sk-container-id-3 div.sk-label:hover label.sk-toggleable__label {background-color: #d4ebff;}#sk-container-id-3 div.sk-serial::before {content: \"\";position: absolute;border-left: 1px solid gray;box-sizing: border-box;top: 0;bottom: 0;left: 50%;z-index: 0;}#sk-container-id-3 div.sk-serial {display: flex;flex-direction: column;align-items: center;background-color: white;padding-right: 0.2em;padding-left: 0.2em;position: relative;}#sk-container-id-3 div.sk-item {position: relative;z-index: 1;}#sk-container-id-3 div.sk-parallel {display: flex;align-items: stretch;justify-content: center;background-color: white;position: relative;}#sk-container-id-3 div.sk-item::before, #sk-container-id-3 div.sk-parallel-item::before {content: \"\";position: absolute;border-left: 1px solid gray;box-sizing: border-box;top: 0;bottom: 0;left: 50%;z-index: -1;}#sk-container-id-3 div.sk-parallel-item {display: flex;flex-direction: column;z-index: 1;position: relative;background-color: white;}#sk-container-id-3 div.sk-parallel-item:first-child::after {align-self: flex-end;width: 50%;}#sk-container-id-3 div.sk-parallel-item:last-child::after {align-self: flex-start;width: 50%;}#sk-container-id-3 div.sk-parallel-item:only-child::after {width: 0;}#sk-container-id-3 div.sk-dashed-wrapped {border: 1px dashed gray;margin: 0 0.4em 0.5em 0.4em;box-sizing: border-box;padding-bottom: 0.4em;background-color: white;}#sk-container-id-3 div.sk-label label {font-family: monospace;font-weight: bold;display: inline-block;line-height: 1.2em;}#sk-container-id-3 div.sk-label-container {text-align: center;}#sk-container-id-3 div.sk-container {/* jupyter's `normalize.less` sets `[hidden] { display: none; }` but bootstrap.min.css set `[hidden] { display: none !important; }` so we also need the `!important` here to be able to override the default hidden behavior on the sphinx rendered scikit-learn.org. See: https://github.com/scikit-learn/scikit-learn/issues/21755 */display: inline-block !important;position: relative;}#sk-container-id-3 div.sk-text-repr-fallback {display: none;}</style><div id=\"sk-container-id-3\" class=\"sk-top-container\"><div class=\"sk-text-repr-fallback\"><pre>StabilitySelection(lambda_grid=array([0.01      , 0.18206897, 0.35413793, 0.5262069 , 0.69827586,\n",
       "       0.87034483, 1.04241379, 1.21448276, 1.38655172, 1.55862069,\n",
       "       1.73068966, 1.90275862, 2.07482759, 2.24689655, 2.41896552,\n",
       "       2.59103448, 2.76310345, 2.93517241, 3.10724138, 3.27931034,\n",
       "       3.45137931, 3.62344828, 3.79551724, 3.96758621, 4.13965517,\n",
       "       4.31172414, 4.4837931 , 4.65586207, 4.82793103, 5.        ]),\n",
       "                   replace=False, sample_fraction=0.5, threshold=0.3)</pre><b>In a Jupyter environment, please rerun this cell to show the HTML representation or trust the notebook. <br />On GitHub, the HTML representation is unable to render, please try loading this page with nbviewer.org.</b></div><div class=\"sk-container\" hidden><div class=\"sk-item sk-dashed-wrapped\"><div class=\"sk-label-container\"><div class=\"sk-label sk-toggleable\"><input class=\"sk-toggleable__control sk-hidden--visually\" id=\"sk-estimator-id-7\" type=\"checkbox\" ><label for=\"sk-estimator-id-7\" class=\"sk-toggleable__label sk-toggleable__label-arrow\">StabilitySelection</label><div class=\"sk-toggleable__content\"><pre>StabilitySelection(lambda_grid=array([0.01      , 0.18206897, 0.35413793, 0.5262069 , 0.69827586,\n",
       "       0.87034483, 1.04241379, 1.21448276, 1.38655172, 1.55862069,\n",
       "       1.73068966, 1.90275862, 2.07482759, 2.24689655, 2.41896552,\n",
       "       2.59103448, 2.76310345, 2.93517241, 3.10724138, 3.27931034,\n",
       "       3.45137931, 3.62344828, 3.79551724, 3.96758621, 4.13965517,\n",
       "       4.31172414, 4.4837931 , 4.65586207, 4.82793103, 5.        ]),\n",
       "                   replace=False, sample_fraction=0.5, threshold=0.3)</pre></div></div></div><div class=\"sk-parallel\"><div class=\"sk-parallel-item\"><div class=\"sk-item\"><div class=\"sk-label-container\"><div class=\"sk-label sk-toggleable\"><input class=\"sk-toggleable__control sk-hidden--visually\" id=\"sk-estimator-id-8\" type=\"checkbox\" ><label for=\"sk-estimator-id-8\" class=\"sk-toggleable__label sk-toggleable__label-arrow\">base_estimator: LogisticRegression</label><div class=\"sk-toggleable__content\"><pre>LogisticRegression(class_weight=&#x27;balanced&#x27;, penalty=&#x27;l1&#x27;, solver=&#x27;liblinear&#x27;)</pre></div></div></div><div class=\"sk-serial\"><div class=\"sk-item\"><div class=\"sk-estimator sk-toggleable\"><input class=\"sk-toggleable__control sk-hidden--visually\" id=\"sk-estimator-id-9\" type=\"checkbox\" ><label for=\"sk-estimator-id-9\" class=\"sk-toggleable__label sk-toggleable__label-arrow\">LogisticRegression</label><div class=\"sk-toggleable__content\"><pre>LogisticRegression(class_weight=&#x27;balanced&#x27;, penalty=&#x27;l1&#x27;, solver=&#x27;liblinear&#x27;)</pre></div></div></div></div></div></div></div></div></div></div>"
      ],
      "text/plain": [
       "StabilitySelection(lambda_grid=array([0.01      , 0.18206897, 0.35413793, 0.5262069 , 0.69827586,\n",
       "       0.87034483, 1.04241379, 1.21448276, 1.38655172, 1.55862069,\n",
       "       1.73068966, 1.90275862, 2.07482759, 2.24689655, 2.41896552,\n",
       "       2.59103448, 2.76310345, 2.93517241, 3.10724138, 3.27931034,\n",
       "       3.45137931, 3.62344828, 3.79551724, 3.96758621, 4.13965517,\n",
       "       4.31172414, 4.4837931 , 4.65586207, 4.82793103, 5.        ]),\n",
       "                   replace=False, sample_fraction=0.5, threshold=0.3)"
      ]
     },
     "execution_count": 20,
     "metadata": {},
     "output_type": "execute_result"
    }
   ],
   "source": [
    "stab.fit(D7_prepro, labels_D7_red.POCD_J7_pos)"
   ]
  },
  {
   "cell_type": "code",
   "execution_count": 21,
   "id": "7c0653da",
   "metadata": {},
   "outputs": [],
   "source": [
    "max_scores_D7 = pd.DataFrame(data=stab.stability_scores_.max(1),\n",
    "                             index=[el[1]+'_'+el[-1] for el in D7_prepro.columns.str.split('_')],\n",
    "                             columns=['Max_Proba']\n",
    "                            ) "
   ]
  },
  {
   "cell_type": "code",
   "execution_count": 22,
   "id": "1cdac214",
   "metadata": {
    "scrolled": true
   },
   "outputs": [
    {
     "data": {
      "text/html": [
       "<div>\n",
       "<style scoped>\n",
       "    .dataframe tbody tr th:only-of-type {\n",
       "        vertical-align: middle;\n",
       "    }\n",
       "\n",
       "    .dataframe tbody tr th {\n",
       "        vertical-align: top;\n",
       "    }\n",
       "\n",
       "    .dataframe thead th {\n",
       "        text-align: right;\n",
       "    }\n",
       "</style>\n",
       "<table border=\"1\" class=\"dataframe\">\n",
       "  <thead>\n",
       "    <tr style=\"text-align: right;\">\n",
       "      <th></th>\n",
       "      <th>Max_Proba</th>\n",
       "    </tr>\n",
       "  </thead>\n",
       "  <tbody>\n",
       "    <tr>\n",
       "      <th>mDC_IkB</th>\n",
       "      <td>0.531</td>\n",
       "    </tr>\n",
       "    <tr>\n",
       "      <th>Bnaive_Frequency</th>\n",
       "      <td>0.429</td>\n",
       "    </tr>\n",
       "    <tr>\n",
       "      <th>CD56brightCD16negNK_ERK12</th>\n",
       "      <td>0.344</td>\n",
       "    </tr>\n",
       "    <tr>\n",
       "      <th>CD56dimCD16posNK_Frequency</th>\n",
       "      <td>0.338</td>\n",
       "    </tr>\n",
       "    <tr>\n",
       "      <th>MDSC_Frequency</th>\n",
       "      <td>0.324</td>\n",
       "    </tr>\n",
       "    <tr>\n",
       "      <th>Tregnaive_STAT3</th>\n",
       "      <td>0.316</td>\n",
       "    </tr>\n",
       "    <tr>\n",
       "      <th>NK_Frequency</th>\n",
       "      <td>0.226</td>\n",
       "    </tr>\n",
       "    <tr>\n",
       "      <th>gdT_Frequency</th>\n",
       "      <td>0.213</td>\n",
       "    </tr>\n",
       "    <tr>\n",
       "      <th>intMC_Frequency</th>\n",
       "      <td>0.210</td>\n",
       "    </tr>\n",
       "    <tr>\n",
       "      <th>CD4T_STAT3</th>\n",
       "      <td>0.201</td>\n",
       "    </tr>\n",
       "  </tbody>\n",
       "</table>\n",
       "</div>"
      ],
      "text/plain": [
       "                            Max_Proba\n",
       "mDC_IkB                         0.531\n",
       "Bnaive_Frequency                0.429\n",
       "CD56brightCD16negNK_ERK12       0.344\n",
       "CD56dimCD16posNK_Frequency      0.338\n",
       "MDSC_Frequency                  0.324\n",
       "Tregnaive_STAT3                 0.316\n",
       "NK_Frequency                    0.226\n",
       "gdT_Frequency                   0.213\n",
       "intMC_Frequency                 0.210\n",
       "CD4T_STAT3                      0.201"
      ]
     },
     "execution_count": 22,
     "metadata": {},
     "output_type": "execute_result"
    }
   ],
   "source": [
    "max_scores_D7.sort_values(by='Max_Proba',ascending=False).head(10)"
   ]
  },
  {
   "cell_type": "markdown",
   "id": "738c561a",
   "metadata": {},
   "source": [
    "## D90"
   ]
  },
  {
   "cell_type": "code",
   "execution_count": 23,
   "id": "7f30ad6d",
   "metadata": {},
   "outputs": [],
   "source": [
    "labels_D90_red = labels_D90.dropna().drop('04-0155-FR_D0', errors='ignore')\n",
    "D90_unstim_red = remove_low_info_samples(D90_unstim).loc[labels_D90_red.index]"
   ]
  },
  {
   "cell_type": "code",
   "execution_count": 24,
   "id": "b55f187d",
   "metadata": {},
   "outputs": [],
   "source": [
    "D90_prepro = pd.DataFrame(data=prepro_pipe.fit_transform(D90_unstim_red),\n",
    "                         index=D90_unstim_red.index,\n",
    "                         columns=prepro_pipe.get_feature_names_out()\n",
    "                        )"
   ]
  },
  {
   "cell_type": "code",
   "execution_count": 25,
   "id": "2fd1a234",
   "metadata": {},
   "outputs": [
    {
     "data": {
      "application/vnd.jupyter.widget-view+json": {
       "model_id": "",
       "version_major": 2,
       "version_minor": 0
      },
      "text/plain": [
       "Stability selection progress:   0%|          | 0/30 [00:00<?, ?it/s]"
      ]
     },
     "metadata": {},
     "output_type": "display_data"
    },
    {
     "data": {
      "text/html": [
       "<style>#sk-container-id-4 {color: black;background-color: white;}#sk-container-id-4 pre{padding: 0;}#sk-container-id-4 div.sk-toggleable {background-color: white;}#sk-container-id-4 label.sk-toggleable__label {cursor: pointer;display: block;width: 100%;margin-bottom: 0;padding: 0.3em;box-sizing: border-box;text-align: center;}#sk-container-id-4 label.sk-toggleable__label-arrow:before {content: \"▸\";float: left;margin-right: 0.25em;color: #696969;}#sk-container-id-4 label.sk-toggleable__label-arrow:hover:before {color: black;}#sk-container-id-4 div.sk-estimator:hover label.sk-toggleable__label-arrow:before {color: black;}#sk-container-id-4 div.sk-toggleable__content {max-height: 0;max-width: 0;overflow: hidden;text-align: left;background-color: #f0f8ff;}#sk-container-id-4 div.sk-toggleable__content pre {margin: 0.2em;color: black;border-radius: 0.25em;background-color: #f0f8ff;}#sk-container-id-4 input.sk-toggleable__control:checked~div.sk-toggleable__content {max-height: 200px;max-width: 100%;overflow: auto;}#sk-container-id-4 input.sk-toggleable__control:checked~label.sk-toggleable__label-arrow:before {content: \"▾\";}#sk-container-id-4 div.sk-estimator input.sk-toggleable__control:checked~label.sk-toggleable__label {background-color: #d4ebff;}#sk-container-id-4 div.sk-label input.sk-toggleable__control:checked~label.sk-toggleable__label {background-color: #d4ebff;}#sk-container-id-4 input.sk-hidden--visually {border: 0;clip: rect(1px 1px 1px 1px);clip: rect(1px, 1px, 1px, 1px);height: 1px;margin: -1px;overflow: hidden;padding: 0;position: absolute;width: 1px;}#sk-container-id-4 div.sk-estimator {font-family: monospace;background-color: #f0f8ff;border: 1px dotted black;border-radius: 0.25em;box-sizing: border-box;margin-bottom: 0.5em;}#sk-container-id-4 div.sk-estimator:hover {background-color: #d4ebff;}#sk-container-id-4 div.sk-parallel-item::after {content: \"\";width: 100%;border-bottom: 1px solid gray;flex-grow: 1;}#sk-container-id-4 div.sk-label:hover label.sk-toggleable__label {background-color: #d4ebff;}#sk-container-id-4 div.sk-serial::before {content: \"\";position: absolute;border-left: 1px solid gray;box-sizing: border-box;top: 0;bottom: 0;left: 50%;z-index: 0;}#sk-container-id-4 div.sk-serial {display: flex;flex-direction: column;align-items: center;background-color: white;padding-right: 0.2em;padding-left: 0.2em;position: relative;}#sk-container-id-4 div.sk-item {position: relative;z-index: 1;}#sk-container-id-4 div.sk-parallel {display: flex;align-items: stretch;justify-content: center;background-color: white;position: relative;}#sk-container-id-4 div.sk-item::before, #sk-container-id-4 div.sk-parallel-item::before {content: \"\";position: absolute;border-left: 1px solid gray;box-sizing: border-box;top: 0;bottom: 0;left: 50%;z-index: -1;}#sk-container-id-4 div.sk-parallel-item {display: flex;flex-direction: column;z-index: 1;position: relative;background-color: white;}#sk-container-id-4 div.sk-parallel-item:first-child::after {align-self: flex-end;width: 50%;}#sk-container-id-4 div.sk-parallel-item:last-child::after {align-self: flex-start;width: 50%;}#sk-container-id-4 div.sk-parallel-item:only-child::after {width: 0;}#sk-container-id-4 div.sk-dashed-wrapped {border: 1px dashed gray;margin: 0 0.4em 0.5em 0.4em;box-sizing: border-box;padding-bottom: 0.4em;background-color: white;}#sk-container-id-4 div.sk-label label {font-family: monospace;font-weight: bold;display: inline-block;line-height: 1.2em;}#sk-container-id-4 div.sk-label-container {text-align: center;}#sk-container-id-4 div.sk-container {/* jupyter's `normalize.less` sets `[hidden] { display: none; }` but bootstrap.min.css set `[hidden] { display: none !important; }` so we also need the `!important` here to be able to override the default hidden behavior on the sphinx rendered scikit-learn.org. See: https://github.com/scikit-learn/scikit-learn/issues/21755 */display: inline-block !important;position: relative;}#sk-container-id-4 div.sk-text-repr-fallback {display: none;}</style><div id=\"sk-container-id-4\" class=\"sk-top-container\"><div class=\"sk-text-repr-fallback\"><pre>StabilitySelection(lambda_grid=array([0.01      , 0.18206897, 0.35413793, 0.5262069 , 0.69827586,\n",
       "       0.87034483, 1.04241379, 1.21448276, 1.38655172, 1.55862069,\n",
       "       1.73068966, 1.90275862, 2.07482759, 2.24689655, 2.41896552,\n",
       "       2.59103448, 2.76310345, 2.93517241, 3.10724138, 3.27931034,\n",
       "       3.45137931, 3.62344828, 3.79551724, 3.96758621, 4.13965517,\n",
       "       4.31172414, 4.4837931 , 4.65586207, 4.82793103, 5.        ]),\n",
       "                   replace=False, sample_fraction=0.5, threshold=0.3)</pre><b>In a Jupyter environment, please rerun this cell to show the HTML representation or trust the notebook. <br />On GitHub, the HTML representation is unable to render, please try loading this page with nbviewer.org.</b></div><div class=\"sk-container\" hidden><div class=\"sk-item sk-dashed-wrapped\"><div class=\"sk-label-container\"><div class=\"sk-label sk-toggleable\"><input class=\"sk-toggleable__control sk-hidden--visually\" id=\"sk-estimator-id-10\" type=\"checkbox\" ><label for=\"sk-estimator-id-10\" class=\"sk-toggleable__label sk-toggleable__label-arrow\">StabilitySelection</label><div class=\"sk-toggleable__content\"><pre>StabilitySelection(lambda_grid=array([0.01      , 0.18206897, 0.35413793, 0.5262069 , 0.69827586,\n",
       "       0.87034483, 1.04241379, 1.21448276, 1.38655172, 1.55862069,\n",
       "       1.73068966, 1.90275862, 2.07482759, 2.24689655, 2.41896552,\n",
       "       2.59103448, 2.76310345, 2.93517241, 3.10724138, 3.27931034,\n",
       "       3.45137931, 3.62344828, 3.79551724, 3.96758621, 4.13965517,\n",
       "       4.31172414, 4.4837931 , 4.65586207, 4.82793103, 5.        ]),\n",
       "                   replace=False, sample_fraction=0.5, threshold=0.3)</pre></div></div></div><div class=\"sk-parallel\"><div class=\"sk-parallel-item\"><div class=\"sk-item\"><div class=\"sk-label-container\"><div class=\"sk-label sk-toggleable\"><input class=\"sk-toggleable__control sk-hidden--visually\" id=\"sk-estimator-id-11\" type=\"checkbox\" ><label for=\"sk-estimator-id-11\" class=\"sk-toggleable__label sk-toggleable__label-arrow\">base_estimator: LogisticRegression</label><div class=\"sk-toggleable__content\"><pre>LogisticRegression(class_weight=&#x27;balanced&#x27;, penalty=&#x27;l1&#x27;, solver=&#x27;liblinear&#x27;)</pre></div></div></div><div class=\"sk-serial\"><div class=\"sk-item\"><div class=\"sk-estimator sk-toggleable\"><input class=\"sk-toggleable__control sk-hidden--visually\" id=\"sk-estimator-id-12\" type=\"checkbox\" ><label for=\"sk-estimator-id-12\" class=\"sk-toggleable__label sk-toggleable__label-arrow\">LogisticRegression</label><div class=\"sk-toggleable__content\"><pre>LogisticRegression(class_weight=&#x27;balanced&#x27;, penalty=&#x27;l1&#x27;, solver=&#x27;liblinear&#x27;)</pre></div></div></div></div></div></div></div></div></div></div>"
      ],
      "text/plain": [
       "StabilitySelection(lambda_grid=array([0.01      , 0.18206897, 0.35413793, 0.5262069 , 0.69827586,\n",
       "       0.87034483, 1.04241379, 1.21448276, 1.38655172, 1.55862069,\n",
       "       1.73068966, 1.90275862, 2.07482759, 2.24689655, 2.41896552,\n",
       "       2.59103448, 2.76310345, 2.93517241, 3.10724138, 3.27931034,\n",
       "       3.45137931, 3.62344828, 3.79551724, 3.96758621, 4.13965517,\n",
       "       4.31172414, 4.4837931 , 4.65586207, 4.82793103, 5.        ]),\n",
       "                   replace=False, sample_fraction=0.5, threshold=0.3)"
      ]
     },
     "execution_count": 25,
     "metadata": {},
     "output_type": "execute_result"
    }
   ],
   "source": [
    "stab.fit(D90_prepro, labels_D90_red.POCD_J7_pos)"
   ]
  },
  {
   "cell_type": "code",
   "execution_count": 26,
   "id": "35b1120e",
   "metadata": {},
   "outputs": [],
   "source": [
    "max_scores_D90 = pd.DataFrame(data=stab.stability_scores_.max(1),\n",
    "                             index=[el[1]+'_'+el[-1] for el in D90_prepro.columns.str.split('_')],\n",
    "                             columns=['Max_Proba']\n",
    "                            ) "
   ]
  },
  {
   "cell_type": "code",
   "execution_count": 27,
   "id": "6b2444bc",
   "metadata": {
    "scrolled": true
   },
   "outputs": [
    {
     "data": {
      "text/html": [
       "<div>\n",
       "<style scoped>\n",
       "    .dataframe tbody tr th:only-of-type {\n",
       "        vertical-align: middle;\n",
       "    }\n",
       "\n",
       "    .dataframe tbody tr th {\n",
       "        vertical-align: top;\n",
       "    }\n",
       "\n",
       "    .dataframe thead th {\n",
       "        text-align: right;\n",
       "    }\n",
       "</style>\n",
       "<table border=\"1\" class=\"dataframe\">\n",
       "  <thead>\n",
       "    <tr style=\"text-align: right;\">\n",
       "      <th></th>\n",
       "      <th>Max_Proba</th>\n",
       "    </tr>\n",
       "  </thead>\n",
       "  <tbody>\n",
       "    <tr>\n",
       "      <th>gdT_Frequency</th>\n",
       "      <td>0.280</td>\n",
       "    </tr>\n",
       "    <tr>\n",
       "      <th>DC_Frequency</th>\n",
       "      <td>0.279</td>\n",
       "    </tr>\n",
       "    <tr>\n",
       "      <th>CD4Tmem_Frequency</th>\n",
       "      <td>0.266</td>\n",
       "    </tr>\n",
       "    <tr>\n",
       "      <th>DC_STAT5</th>\n",
       "      <td>0.231</td>\n",
       "    </tr>\n",
       "    <tr>\n",
       "      <th>Bmem_Frequency</th>\n",
       "      <td>0.216</td>\n",
       "    </tr>\n",
       "    <tr>\n",
       "      <th>Th2_Frequency</th>\n",
       "      <td>0.155</td>\n",
       "    </tr>\n",
       "    <tr>\n",
       "      <th>Granulocytes_Frequency</th>\n",
       "      <td>0.149</td>\n",
       "    </tr>\n",
       "    <tr>\n",
       "      <th>CD56brightCD16negNK_Frequency</th>\n",
       "      <td>0.149</td>\n",
       "    </tr>\n",
       "    <tr>\n",
       "      <th>MDSC_Frequency</th>\n",
       "      <td>0.142</td>\n",
       "    </tr>\n",
       "    <tr>\n",
       "      <th>Granulocytes_STAT3</th>\n",
       "      <td>0.137</td>\n",
       "    </tr>\n",
       "  </tbody>\n",
       "</table>\n",
       "</div>"
      ],
      "text/plain": [
       "                               Max_Proba\n",
       "gdT_Frequency                      0.280\n",
       "DC_Frequency                       0.279\n",
       "CD4Tmem_Frequency                  0.266\n",
       "DC_STAT5                           0.231\n",
       "Bmem_Frequency                     0.216\n",
       "Th2_Frequency                      0.155\n",
       "Granulocytes_Frequency             0.149\n",
       "CD56brightCD16negNK_Frequency      0.149\n",
       "MDSC_Frequency                     0.142\n",
       "Granulocytes_STAT3                 0.137"
      ]
     },
     "execution_count": 27,
     "metadata": {},
     "output_type": "execute_result"
    }
   ],
   "source": [
    "max_scores_D90.sort_values(by='Max_Proba',ascending=False).head(10)"
   ]
  },
  {
   "cell_type": "markdown",
   "id": "780577f3",
   "metadata": {},
   "source": [
    "# Mann-Whitney tests"
   ]
  },
  {
   "cell_type": "code",
   "execution_count": 28,
   "id": "1e11ab40",
   "metadata": {},
   "outputs": [],
   "source": [
    "from scipy.stats import mannwhitneyu\n",
    "p_values = pd.DataFrame(data=None, \n",
    "                           index=[el[1]+'_'+el[-1] for el in D0_unstim.columns.str.split('_')],\n",
    "                           columns=['pvalue_D0','pvalue_D1', 'pvalue_D7', 'pvalue_D90']\n",
    "                          )\n",
    "for col in D0_unstim.columns:\n",
    "    x_D0 = D0_unstim[col][labels_D0.POCD_J7_pos==0]\n",
    "    y_D0 = D0_unstim[col][labels_D0.POCD_J7_pos==1]\n",
    "    pvalue_d0 = mannwhitneyu(x_D0, y_D0, nan_policy='omit').pvalue\n",
    "    \n",
    "    x_D1 = D1_unstim[col][labels_D1.POCD_J7_pos==0]\n",
    "    y_D1 = D1_unstim[col][labels_D1.POCD_J7_pos==1]\n",
    "    pvalue_d1 = mannwhitneyu(x_D1, y_D1, nan_policy='omit').pvalue\n",
    "    \n",
    "    x_D7 = D7_unstim[col][labels_D7.POCD_J7_pos==0]\n",
    "    y_D7 = D7_unstim[col][labels_D7.POCD_J7_pos==1]\n",
    "    pvalue_d7 = mannwhitneyu(x_D7, y_D7, nan_policy='omit').pvalue\n",
    "    \n",
    "    x_D90 = D90_unstim[col][labels_D90.POCD_J7_pos==0]\n",
    "    y_D90 = D90_unstim[col][labels_D90.POCD_J7_pos==1]\n",
    "    pvalue_d90 = mannwhitneyu(x_D90, y_D90, nan_policy='omit').pvalue\n",
    "    \n",
    "    \n",
    "    col = col.split('_')[1]+'_'+col.split('_')[-1]\n",
    "    \n",
    "    p_values.loc[col,'pvalue_D0']=pvalue_d0\n",
    "    p_values.loc[col,'pvalue_D1']=pvalue_d1\n",
    "    p_values.loc[col,'pvalue_D7']=pvalue_d7\n",
    "    p_values.loc[col,'pvalue_D90']=pvalue_d90"
   ]
  },
  {
   "cell_type": "code",
   "execution_count": 29,
   "id": "f00b19ab",
   "metadata": {},
   "outputs": [
    {
     "data": {
      "text/plain": [
       "0.006949432142267338"
      ]
     },
     "execution_count": 29,
     "metadata": {},
     "output_type": "execute_result"
    }
   ],
   "source": [
    "p_values.pvalue_D0.min()"
   ]
  },
  {
   "cell_type": "markdown",
   "id": "dca3a3fa",
   "metadata": {},
   "source": [
    "# t-SNE"
   ]
  },
  {
   "cell_type": "code",
   "execution_count": 30,
   "id": "2f8e13c0",
   "metadata": {},
   "outputs": [],
   "source": [
    "df_corr = df_tot.corr()"
   ]
  },
  {
   "cell_type": "code",
   "execution_count": 31,
   "id": "2ee6de1d",
   "metadata": {},
   "outputs": [
    {
     "name": "stderr",
     "output_type": "stream",
     "text": [
      "/Users/gregoirebellan/opt/anaconda3/envs/surge/lib/python3.10/site-packages/sklearn/manifold/_t_sne.py:795: FutureWarning: The default initialization in TSNE will change from 'random' to 'pca' in 1.2.\n",
      "  warnings.warn(\n"
     ]
    }
   ],
   "source": [
    "tsne = TSNE(learning_rate='auto', random_state=4).fit(df_tot.fillna(df_tot.median()).T)\n",
    "df_tsne = pd.DataFrame(data=tsne.embedding_, index = df_tot.columns, columns = ['coor1', 'coor2'])"
   ]
  },
  {
   "cell_type": "code",
   "execution_count": 32,
   "id": "c3bd9685",
   "metadata": {},
   "outputs": [],
   "source": [
    "df_tsne['max_prob_stab_D0'] = max_scores_D0.Max_Proba\n",
    "df_tsne['max_prob_stab_D1'] = max_scores_D1.Max_Proba\n",
    "df_tsne['max_prob_stab_D7'] = max_scores_D7.Max_Proba\n",
    "df_tsne['max_prob_stab_D90'] = max_scores_D90.Max_Proba\n",
    "df_tsne['effect_dir_D0'] = effect_dir_D0\n",
    "df_tsne['effect_dir_D1'] = effect_dir_D1\n",
    "df_tsne['effect_dir_D7'] = effect_dir_D7\n",
    "df_tsne['effect_dir_D90'] = effect_dir_D90\n",
    "df_tsne.fillna(df_tsne.min(),inplace=True)\n",
    "df_tsne = pd.concat([df_tsne, p_values], axis='columns')"
   ]
  },
  {
   "cell_type": "markdown",
   "id": "f86d309f",
   "metadata": {},
   "source": [
    "# Plot"
   ]
  },
  {
   "cell_type": "code",
   "execution_count": 70,
   "id": "98574ad2",
   "metadata": {},
   "outputs": [
    {
     "data": {
      "text/html": [
       "<div>\n",
       "<style scoped>\n",
       "    .dataframe tbody tr th:only-of-type {\n",
       "        vertical-align: middle;\n",
       "    }\n",
       "\n",
       "    .dataframe tbody tr th {\n",
       "        vertical-align: top;\n",
       "    }\n",
       "\n",
       "    .dataframe thead th {\n",
       "        text-align: right;\n",
       "    }\n",
       "</style>\n",
       "<table border=\"1\" class=\"dataframe\">\n",
       "  <thead>\n",
       "    <tr style=\"text-align: right;\">\n",
       "      <th></th>\n",
       "      <th>Granulocytes_CREB</th>\n",
       "      <th>Bcells_CREB</th>\n",
       "      <th>Bmem_CREB</th>\n",
       "      <th>Bnaive_CREB</th>\n",
       "      <th>Baso_CREB</th>\n",
       "      <th>cMC_CREB</th>\n",
       "      <th>MDSC_CREB</th>\n",
       "      <th>DC_CREB</th>\n",
       "      <th>mDC_CREB</th>\n",
       "      <th>pDC_CREB</th>\n",
       "      <th>...</th>\n",
       "      <th>Bcells_Frequency</th>\n",
       "      <th>cMC_Frequency</th>\n",
       "      <th>DC_Frequency</th>\n",
       "      <th>NK_Frequency</th>\n",
       "      <th>Tcells_Frequency</th>\n",
       "      <th>CD4T_Frequency</th>\n",
       "      <th>Th1_Frequency</th>\n",
       "      <th>Treg_Frequency</th>\n",
       "      <th>CD8T_Frequency</th>\n",
       "      <th>Granulocytes_Frequency</th>\n",
       "    </tr>\n",
       "  </thead>\n",
       "  <tbody>\n",
       "    <tr>\n",
       "      <th>01-0020-LA_D0</th>\n",
       "      <td>0.722763</td>\n",
       "      <td>0.705713</td>\n",
       "      <td>0.734252</td>\n",
       "      <td>0.693411</td>\n",
       "      <td>1.550300</td>\n",
       "      <td>2.011587</td>\n",
       "      <td>1.723186</td>\n",
       "      <td>1.013122</td>\n",
       "      <td>1.571381</td>\n",
       "      <td>1.145136</td>\n",
       "      <td>...</td>\n",
       "      <td>15.711032</td>\n",
       "      <td>0.995473</td>\n",
       "      <td>4.429009</td>\n",
       "      <td>14.018166</td>\n",
       "      <td>61.665870</td>\n",
       "      <td>54.163269</td>\n",
       "      <td>0.773319</td>\n",
       "      <td>6.656168</td>\n",
       "      <td>6.172492</td>\n",
       "      <td>58.622210</td>\n",
       "    </tr>\n",
       "    <tr>\n",
       "      <th>01-0126-SE_D0</th>\n",
       "      <td>0.934536</td>\n",
       "      <td>0.657072</td>\n",
       "      <td>0.666897</td>\n",
       "      <td>0.632954</td>\n",
       "      <td>1.665999</td>\n",
       "      <td>2.166291</td>\n",
       "      <td>1.951504</td>\n",
       "      <td>1.360621</td>\n",
       "      <td>1.855346</td>\n",
       "      <td>0.979888</td>\n",
       "      <td>...</td>\n",
       "      <td>4.494093</td>\n",
       "      <td>9.089376</td>\n",
       "      <td>6.221540</td>\n",
       "      <td>14.064520</td>\n",
       "      <td>62.412162</td>\n",
       "      <td>47.434528</td>\n",
       "      <td>0.926766</td>\n",
       "      <td>5.097214</td>\n",
       "      <td>11.962833</td>\n",
       "      <td>63.909879</td>\n",
       "    </tr>\n",
       "    <tr>\n",
       "      <th>01-0145-BS_D0</th>\n",
       "      <td>0.752379</td>\n",
       "      <td>0.765966</td>\n",
       "      <td>0.775602</td>\n",
       "      <td>0.752597</td>\n",
       "      <td>1.818088</td>\n",
       "      <td>2.308533</td>\n",
       "      <td>2.034379</td>\n",
       "      <td>1.210258</td>\n",
       "      <td>2.062405</td>\n",
       "      <td>1.016885</td>\n",
       "      <td>...</td>\n",
       "      <td>8.084829</td>\n",
       "      <td>2.718966</td>\n",
       "      <td>3.367571</td>\n",
       "      <td>15.835211</td>\n",
       "      <td>66.140272</td>\n",
       "      <td>45.729839</td>\n",
       "      <td>1.190160</td>\n",
       "      <td>3.387862</td>\n",
       "      <td>16.624452</td>\n",
       "      <td>51.653646</td>\n",
       "    </tr>\n",
       "    <tr>\n",
       "      <th>02-0004-BH_D0</th>\n",
       "      <td>1.451582</td>\n",
       "      <td>1.032224</td>\n",
       "      <td>0.871247</td>\n",
       "      <td>1.023660</td>\n",
       "      <td>1.945009</td>\n",
       "      <td>2.545804</td>\n",
       "      <td>2.507495</td>\n",
       "      <td>0.932398</td>\n",
       "      <td>1.940680</td>\n",
       "      <td>1.687115</td>\n",
       "      <td>...</td>\n",
       "      <td>4.770558</td>\n",
       "      <td>2.664651</td>\n",
       "      <td>12.963215</td>\n",
       "      <td>15.709385</td>\n",
       "      <td>62.730546</td>\n",
       "      <td>36.955266</td>\n",
       "      <td>5.196834</td>\n",
       "      <td>4.084440</td>\n",
       "      <td>21.291736</td>\n",
       "      <td>68.754543</td>\n",
       "    </tr>\n",
       "    <tr>\n",
       "      <th>02-0005-DH_D0</th>\n",
       "      <td>0.566339</td>\n",
       "      <td>0.404133</td>\n",
       "      <td>0.351665</td>\n",
       "      <td>0.416875</td>\n",
       "      <td>0.958657</td>\n",
       "      <td>1.379340</td>\n",
       "      <td>1.240181</td>\n",
       "      <td>0.035501</td>\n",
       "      <td>1.025340</td>\n",
       "      <td>0.543447</td>\n",
       "      <td>...</td>\n",
       "      <td>2.319491</td>\n",
       "      <td>11.555308</td>\n",
       "      <td>5.134187</td>\n",
       "      <td>9.022081</td>\n",
       "      <td>64.637175</td>\n",
       "      <td>41.997682</td>\n",
       "      <td>1.103301</td>\n",
       "      <td>2.071135</td>\n",
       "      <td>13.900387</td>\n",
       "      <td>64.817004</td>\n",
       "    </tr>\n",
       "    <tr>\n",
       "      <th>...</th>\n",
       "      <td>...</td>\n",
       "      <td>...</td>\n",
       "      <td>...</td>\n",
       "      <td>...</td>\n",
       "      <td>...</td>\n",
       "      <td>...</td>\n",
       "      <td>...</td>\n",
       "      <td>...</td>\n",
       "      <td>...</td>\n",
       "      <td>...</td>\n",
       "      <td>...</td>\n",
       "      <td>...</td>\n",
       "      <td>...</td>\n",
       "      <td>...</td>\n",
       "      <td>...</td>\n",
       "      <td>...</td>\n",
       "      <td>...</td>\n",
       "      <td>...</td>\n",
       "      <td>...</td>\n",
       "      <td>...</td>\n",
       "      <td>...</td>\n",
       "    </tr>\n",
       "    <tr>\n",
       "      <th>04-0102-LC_D90</th>\n",
       "      <td>0.793602</td>\n",
       "      <td>0.162812</td>\n",
       "      <td>0.147617</td>\n",
       "      <td>0.153423</td>\n",
       "      <td>0.784954</td>\n",
       "      <td>1.057962</td>\n",
       "      <td>1.230050</td>\n",
       "      <td>0.383591</td>\n",
       "      <td>0.817731</td>\n",
       "      <td>0.263060</td>\n",
       "      <td>...</td>\n",
       "      <td>6.559030</td>\n",
       "      <td>10.835649</td>\n",
       "      <td>6.417646</td>\n",
       "      <td>17.532602</td>\n",
       "      <td>52.009531</td>\n",
       "      <td>34.403765</td>\n",
       "      <td>0.578389</td>\n",
       "      <td>0.875987</td>\n",
       "      <td>15.213608</td>\n",
       "      <td>71.707436</td>\n",
       "    </tr>\n",
       "    <tr>\n",
       "      <th>04-0103-HA_D90</th>\n",
       "      <td>NaN</td>\n",
       "      <td>0.274806</td>\n",
       "      <td>0.245914</td>\n",
       "      <td>0.275424</td>\n",
       "      <td>1.049371</td>\n",
       "      <td>1.549664</td>\n",
       "      <td>1.406717</td>\n",
       "      <td>0.487636</td>\n",
       "      <td>0.935890</td>\n",
       "      <td>0.496099</td>\n",
       "      <td>...</td>\n",
       "      <td>3.686537</td>\n",
       "      <td>7.086651</td>\n",
       "      <td>5.908622</td>\n",
       "      <td>16.344570</td>\n",
       "      <td>62.680362</td>\n",
       "      <td>23.964028</td>\n",
       "      <td>0.486611</td>\n",
       "      <td>2.374536</td>\n",
       "      <td>30.353101</td>\n",
       "      <td>69.445884</td>\n",
       "    </tr>\n",
       "    <tr>\n",
       "      <th>04-0107-BC_D90</th>\n",
       "      <td>1.329193</td>\n",
       "      <td>1.109436</td>\n",
       "      <td>0.902342</td>\n",
       "      <td>1.084714</td>\n",
       "      <td>2.017368</td>\n",
       "      <td>2.137763</td>\n",
       "      <td>2.065303</td>\n",
       "      <td>1.173024</td>\n",
       "      <td>1.733097</td>\n",
       "      <td>1.625087</td>\n",
       "      <td>...</td>\n",
       "      <td>3.016099</td>\n",
       "      <td>22.763399</td>\n",
       "      <td>2.214523</td>\n",
       "      <td>17.607499</td>\n",
       "      <td>49.921880</td>\n",
       "      <td>29.556416</td>\n",
       "      <td>0.692888</td>\n",
       "      <td>3.953536</td>\n",
       "      <td>18.035460</td>\n",
       "      <td>90.350025</td>\n",
       "    </tr>\n",
       "    <tr>\n",
       "      <th>04-0115-LY_D90</th>\n",
       "      <td>1.765894</td>\n",
       "      <td>2.047235</td>\n",
       "      <td>2.051700</td>\n",
       "      <td>1.968116</td>\n",
       "      <td>2.277012</td>\n",
       "      <td>2.561245</td>\n",
       "      <td>2.413288</td>\n",
       "      <td>0.928515</td>\n",
       "      <td>2.344266</td>\n",
       "      <td>1.938274</td>\n",
       "      <td>...</td>\n",
       "      <td>4.227859</td>\n",
       "      <td>12.914441</td>\n",
       "      <td>9.938251</td>\n",
       "      <td>11.354028</td>\n",
       "      <td>49.329662</td>\n",
       "      <td>28.971963</td>\n",
       "      <td>2.533934</td>\n",
       "      <td>2.892746</td>\n",
       "      <td>15.256453</td>\n",
       "      <td>76.764901</td>\n",
       "    </tr>\n",
       "    <tr>\n",
       "      <th>04-0124-GN_D90</th>\n",
       "      <td>1.551499</td>\n",
       "      <td>1.515967</td>\n",
       "      <td>1.449622</td>\n",
       "      <td>1.426178</td>\n",
       "      <td>2.306319</td>\n",
       "      <td>2.452759</td>\n",
       "      <td>2.268796</td>\n",
       "      <td>1.517399</td>\n",
       "      <td>2.180991</td>\n",
       "      <td>1.396304</td>\n",
       "      <td>...</td>\n",
       "      <td>3.980985</td>\n",
       "      <td>12.663146</td>\n",
       "      <td>8.051638</td>\n",
       "      <td>5.761539</td>\n",
       "      <td>52.730611</td>\n",
       "      <td>35.749157</td>\n",
       "      <td>3.405969</td>\n",
       "      <td>4.951679</td>\n",
       "      <td>11.032039</td>\n",
       "      <td>74.932311</td>\n",
       "    </tr>\n",
       "  </tbody>\n",
       "</table>\n",
       "<p>105 rows × 360 columns</p>\n",
       "</div>"
      ],
      "text/plain": [
       "                Granulocytes_CREB  Bcells_CREB  Bmem_CREB  Bnaive_CREB  \\\n",
       "01-0020-LA_D0            0.722763     0.705713   0.734252     0.693411   \n",
       "01-0126-SE_D0            0.934536     0.657072   0.666897     0.632954   \n",
       "01-0145-BS_D0            0.752379     0.765966   0.775602     0.752597   \n",
       "02-0004-BH_D0            1.451582     1.032224   0.871247     1.023660   \n",
       "02-0005-DH_D0            0.566339     0.404133   0.351665     0.416875   \n",
       "...                           ...          ...        ...          ...   \n",
       "04-0102-LC_D90           0.793602     0.162812   0.147617     0.153423   \n",
       "04-0103-HA_D90                NaN     0.274806   0.245914     0.275424   \n",
       "04-0107-BC_D90           1.329193     1.109436   0.902342     1.084714   \n",
       "04-0115-LY_D90           1.765894     2.047235   2.051700     1.968116   \n",
       "04-0124-GN_D90           1.551499     1.515967   1.449622     1.426178   \n",
       "\n",
       "                Baso_CREB  cMC_CREB  MDSC_CREB   DC_CREB  mDC_CREB  pDC_CREB  \\\n",
       "01-0020-LA_D0    1.550300  2.011587   1.723186  1.013122  1.571381  1.145136   \n",
       "01-0126-SE_D0    1.665999  2.166291   1.951504  1.360621  1.855346  0.979888   \n",
       "01-0145-BS_D0    1.818088  2.308533   2.034379  1.210258  2.062405  1.016885   \n",
       "02-0004-BH_D0    1.945009  2.545804   2.507495  0.932398  1.940680  1.687115   \n",
       "02-0005-DH_D0    0.958657  1.379340   1.240181  0.035501  1.025340  0.543447   \n",
       "...                   ...       ...        ...       ...       ...       ...   \n",
       "04-0102-LC_D90   0.784954  1.057962   1.230050  0.383591  0.817731  0.263060   \n",
       "04-0103-HA_D90   1.049371  1.549664   1.406717  0.487636  0.935890  0.496099   \n",
       "04-0107-BC_D90   2.017368  2.137763   2.065303  1.173024  1.733097  1.625087   \n",
       "04-0115-LY_D90   2.277012  2.561245   2.413288  0.928515  2.344266  1.938274   \n",
       "04-0124-GN_D90   2.306319  2.452759   2.268796  1.517399  2.180991  1.396304   \n",
       "\n",
       "                ...  Bcells_Frequency  cMC_Frequency  DC_Frequency  \\\n",
       "01-0020-LA_D0   ...         15.711032       0.995473      4.429009   \n",
       "01-0126-SE_D0   ...          4.494093       9.089376      6.221540   \n",
       "01-0145-BS_D0   ...          8.084829       2.718966      3.367571   \n",
       "02-0004-BH_D0   ...          4.770558       2.664651     12.963215   \n",
       "02-0005-DH_D0   ...          2.319491      11.555308      5.134187   \n",
       "...             ...               ...            ...           ...   \n",
       "04-0102-LC_D90  ...          6.559030      10.835649      6.417646   \n",
       "04-0103-HA_D90  ...          3.686537       7.086651      5.908622   \n",
       "04-0107-BC_D90  ...          3.016099      22.763399      2.214523   \n",
       "04-0115-LY_D90  ...          4.227859      12.914441      9.938251   \n",
       "04-0124-GN_D90  ...          3.980985      12.663146      8.051638   \n",
       "\n",
       "                NK_Frequency  Tcells_Frequency  CD4T_Frequency  Th1_Frequency  \\\n",
       "01-0020-LA_D0      14.018166         61.665870       54.163269       0.773319   \n",
       "01-0126-SE_D0      14.064520         62.412162       47.434528       0.926766   \n",
       "01-0145-BS_D0      15.835211         66.140272       45.729839       1.190160   \n",
       "02-0004-BH_D0      15.709385         62.730546       36.955266       5.196834   \n",
       "02-0005-DH_D0       9.022081         64.637175       41.997682       1.103301   \n",
       "...                      ...               ...             ...            ...   \n",
       "04-0102-LC_D90     17.532602         52.009531       34.403765       0.578389   \n",
       "04-0103-HA_D90     16.344570         62.680362       23.964028       0.486611   \n",
       "04-0107-BC_D90     17.607499         49.921880       29.556416       0.692888   \n",
       "04-0115-LY_D90     11.354028         49.329662       28.971963       2.533934   \n",
       "04-0124-GN_D90      5.761539         52.730611       35.749157       3.405969   \n",
       "\n",
       "                Treg_Frequency  CD8T_Frequency  Granulocytes_Frequency  \n",
       "01-0020-LA_D0         6.656168        6.172492               58.622210  \n",
       "01-0126-SE_D0         5.097214       11.962833               63.909879  \n",
       "01-0145-BS_D0         3.387862       16.624452               51.653646  \n",
       "02-0004-BH_D0         4.084440       21.291736               68.754543  \n",
       "02-0005-DH_D0         2.071135       13.900387               64.817004  \n",
       "...                        ...             ...                     ...  \n",
       "04-0102-LC_D90        0.875987       15.213608               71.707436  \n",
       "04-0103-HA_D90        2.374536       30.353101               69.445884  \n",
       "04-0107-BC_D90        3.953536       18.035460               90.350025  \n",
       "04-0115-LY_D90        2.892746       15.256453               76.764901  \n",
       "04-0124-GN_D90        4.951679       11.032039               74.932311  \n",
       "\n",
       "[105 rows x 360 columns]"
      ]
     },
     "execution_count": 70,
     "metadata": {},
     "output_type": "execute_result"
    }
   ],
   "source": [
    "df_tot"
   ]
  },
  {
   "cell_type": "code",
   "execution_count": 33,
   "id": "53bfb955",
   "metadata": {},
   "outputs": [],
   "source": [
    "from matplotlib import cm\n",
    "from matplotlib.colors import ListedColormap, LinearSegmentedColormap\n",
    "\n",
    "colors = [(1, 0, 0), (.7, .4, 0), (0, 0, 1)]  # R -> G -> B\n",
    "colors = [(0,(1, 0, 0)),(.35,(227/256, 163/256, 103/256)),(.65,(227/256, 163/256, 103/256)), (1,(0, 0, 1))]\n",
    "n_bins = [3, 6, 10, 100]  # Discretizes the interpolation into bins\n",
    "cmap_name = 'custom_cmp'\n",
    "\n",
    "cmap = LinearSegmentedColormap.from_list(cmap_name, colors, N=256,gamma=1)"
   ]
  },
  {
   "cell_type": "code",
   "execution_count": 68,
   "id": "c55b7354",
   "metadata": {},
   "outputs": [
    {
     "data": {
      "image/png": "[encoded data removed]",
      "text/plain": [
       "<Figure size 720x720 with 2 Axes>"
      ]
     },
     "metadata": {
      "image/png": {
       "height": 558,
       "width": 537
      },
      "needs_background": "light"
     },
     "output_type": "display_data"
    }
   ],
   "source": [
    "from adjustText import adjust_text\n",
    "from matplotlib import colors\n",
    "\n",
    "CORR_THRESH = .9\n",
    "TIMESTAMP = 'D90'\n",
    "sizes_source = 'max_prob_stab_'+TIMESTAMP\n",
    "#sizes_source = 'pvalue_'+TIMESTAMP\n",
    "colors_source = 'effect_dir_'+TIMESTAMP\n",
    "\n",
    "SIZES = ((df_tsne[sizes_source]+0.01)*75)**2\n",
    "# SIZES = []\n",
    "# for value in df_tsne[sizes_source].astype(float):\n",
    "#     if value > 0.2:\n",
    "#         SIZES.append(5)\n",
    "#     else:\n",
    "#         SIZES.append((-np.log10(value)*15)**2)\n",
    "\n",
    "        \n",
    "COLORS = df_tsne[colors_source]\n",
    "\n",
    "fig, ax = plt.subplots(figsize=(10, 10))\n",
    "\n",
    "scatter = plt.scatter(df_tsne.coor1,\n",
    "                     df_tsne.coor2, \n",
    "                     s=SIZES, \n",
    "                     marker='o', \n",
    "                     c=COLORS,\n",
    "                     norm=colors.CenteredNorm(),\n",
    "                     edgecolors=None,\n",
    "                     cmap=cmap,\n",
    "                     alpha=.7\n",
    "                    )\n",
    "\n",
    "ax.axis(\"off\")\n",
    "fig.colorbar(scatter,\n",
    "             anchor=(0, 0),\n",
    "             ax=ax, \n",
    "             shrink=.2, \n",
    "             label='Effect direction', \n",
    "             aspect=8, \n",
    "             use_gridspec=True,\n",
    "             location='right'\n",
    "            )\n",
    "def funct(s):\n",
    "    to_ret=np.zeros(len(s))\n",
    "    for idx, el in enumerate(s):\n",
    "        if el==5:\n",
    "            to_ret[idx] = 1\n",
    "        else:\n",
    "            to_ret[idx] = np.exp(np.log(10)*(-np.sqrt(el)/15))\n",
    "    return to_ret\n",
    "\n",
    "# kw = dict(prop=\"sizes\", num=[1, .1, 0.05, 0.01], color='gray',\n",
    "#           func=funct)\n",
    "\n",
    "kw = dict(prop=\"sizes\", num=[0, .1, .2], color='gray', fmt=\"{x:.2f}\",\n",
    "           func=lambda s: np.sqrt(s)/75 - 0.01)\n",
    "\n",
    "ax.legend(*scatter.legend_elements(**kw),title=\"Max Proba\",labelspacing=2, loc='lower right', frameon=False)\n",
    "\n",
    "for i in df_tot.columns:\n",
    "    for j in df_tot.columns:\n",
    "        if df_corr.loc[i,j]>=CORR_THRESH and df_corr.loc[i,j] < 1:\n",
    "            sub_df = df_tsne.loc[[i, j]]\n",
    "            ax.plot(sub_df.coor1, sub_df.coor2, linewidth=.5,color='gray', alpha=.1)\n",
    "            \n",
    "annot=[]        \n",
    "for i, txt in enumerate(df_tsne.index):\n",
    "    if df_tsne.iloc[i][sizes_source] > 0.3:\n",
    "        annot.append(ax.annotate(txt, (df_tsne.iloc[i].coor1, df_tsne.iloc[i].coor2), fontsize=10))\n",
    "        \n",
    "adjust_text(annot)\n",
    "\n",
    "plt.savefig('./correlation networks/Stability/'+TIMESTAMP+'.pdf', dpi=95)"
   ]
  },
  {
   "cell_type": "code",
   "execution_count": null,
   "id": "6dfbd2b7",
   "metadata": {},
   "outputs": [],
   "source": []
  }
 ],
 "metadata": {
  "kernelspec": {
   "display_name": "Python 3 (ipykernel)",
   "language": "python",
   "name": "python3"
  },
  "language_info": {
   "codemirror_mode": {
    "name": "ipython",
    "version": 3
   },
   "file_extension": ".py",
   "mimetype": "text/x-python",
   "name": "python",
   "nbconvert_exporter": "python",
   "pygments_lexer": "ipython3",
   "version": "3.9.5"
  },
  "toc": {
   "base_numbering": 1,
   "nav_menu": {},
   "number_sections": true,
   "sideBar": true,
   "skip_h1_title": false,
   "title_cell": "Table of Contents",
   "title_sidebar": "Contents",
   "toc_cell": false,
   "toc_position": {},
   "toc_section_display": true,
   "toc_window_display": true
  }
 },
 "nbformat": 4,
 "nbformat_minor": 5
}
