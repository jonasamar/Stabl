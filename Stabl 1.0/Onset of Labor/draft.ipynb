{
 "cells": [
  {
   "attachments": {},
   "cell_type": "markdown",
   "metadata": {},
   "source": [
    "# Libraries"
   ]
  },
  {
   "cell_type": "code",
   "execution_count": 1,
   "metadata": {},
   "outputs": [],
   "source": [
    "import pandas as pd\n",
    "import numpy as np \n",
    "import os"
   ]
  },
  {
   "attachments": {},
   "cell_type": "markdown",
   "metadata": {},
   "source": [
    "# Data from Onset of Labor Study"
   ]
  },
  {
   "cell_type": "code",
   "execution_count": 35,
   "metadata": {},
   "outputs": [],
   "source": [
    "Cytof_data = pd.read_csv('./Data/CYTOF_data_model_OOL.csv')\n",
    "features = pd.read_csv('./Data/features_model_OOL.csv')\n",
    "Id = pd.read_csv('./Data/Id_data_model_OOL.csv')\n",
    "coefs = pd.read_csv('./Data/LeaveOneOut_coefs_model_OOL.csv')\n",
    "SG_coefs = pd.read_csv('./Data/coefs_SG_model_OOL.csv')\n",
    "time_points = pd.read_csv('./Data/Timepoints_data_model_OOL.csv')\n",
    "EGA = pd.read_csv('./Data/EGA_data_model_OOL.csv')\n",
    "DOS = pd.read_csv('./Data/DOS.csv')"
   ]
  },
  {
   "cell_type": "code",
   "execution_count": 48,
   "metadata": {},
   "outputs": [],
   "source": [
    "Id.columns = ['index', 'ID']\n",
    "time_points.columns = ['index','Timepoint']\n",
    "EGA.columns = ['index','EGA']\n",
    "DOS.columns = ['index','DOS']\n",
    "Cytof_data.columns = ['SampleID']+list(Cytof_data.columns)[1:]\n",
    "CyTOF = pd.concat([Cytof_data, Id['ID'], time_points['Timepoint'], EGA['EGA'], DOS['DOS']], axis=1)\n",
    "CyTOF.index = CyTOF['SampleID']\n",
    "CyTOF.drop('SampleID', axis=1, inplace=True)\n",
    "CyTOF.to_csv('./Data/Onset of Labor CyTOF.csv')"
   ]
  },
  {
   "attachments": {},
   "cell_type": "markdown",
   "metadata": {},
   "source": [
    "# P-values of the immunome features with Spearmanr correlation"
   ]
  },
  {
   "cell_type": "code",
   "execution_count": 36,
   "metadata": {},
   "outputs": [],
   "source": [
    "from scipy.stats import spearmanr\n",
    "from stabl.visualization import scatterplot_features\n",
    "\n",
    "X = features\n",
    "y = DOS['x']\n",
    "\n",
    "os.makedirs('../Onset of Labor/Univariate', exist_ok=True)\n",
    "\n",
    "Spearmancorr = {}\n",
    "features = X.columns[1:]\n",
    "for feature in features:\n",
    "\tcorr, pval = spearmanr(X[feature], y)\n",
    "\tSpearmancorr[feature] = [corr, pval]\n",
    "\n",
    "SpearmanPvalue = pd.DataFrame(Spearmancorr).T\n",
    "SpearmanPvalue.columns = ['Spearman corr', 'pvalue']\n",
    "SpearmanPvalue.sort_values('pvalue', inplace=True)\n",
    "SpearmanPvalue.to_csv(\"../Onset of Labor/Data/SpearmanCorrelationsPval.csv\", index=True)\n",
    "\n",
    "scatterplot_features(\n",
    "\tSpearmanPvalue[:10].index,\n",
    "\tX,\n",
    "\ty,\n",
    "\tshow_fig=False,\n",
    "\texport_file=True,\n",
    "\tpath='../Onset of Labor/Univariate')"
   ]
  },
  {
   "attachments": {},
   "cell_type": "markdown",
   "metadata": {},
   "source": [
    "# Coefficients of the OOL model for immunome features"
   ]
  },
  {
   "cell_type": "code",
   "execution_count": 80,
   "metadata": {},
   "outputs": [
    {
     "data": {
      "text/plain": [
       "CCR5posCCR2posCD4Tcm_IkB_unstim      -1.182613\n",
       "CD4Tem_MAPKAPK2_unstim               -0.816871\n",
       "CD69posCD8Tmem_MAPKAPK2_unstim       -8.978811\n",
       "ncMCs_CREB_GMCSF                     -7.507944\n",
       "Bcells_STAT1_IFNa                     4.403599\n",
       "DCs_STAT6_IFNa                       -2.749978\n",
       "mDCs_STAT1_IFNa                       1.426287\n",
       "pDCs_STAT1_IFNa                       2.218389\n",
       "CD69negCD56loCD16negNK_STAT1_IFNa    33.982482\n",
       "CD4Tcells_MAPKAPK2_IFNa               0.566993\n",
       "CD62LposCD4Tnaive_MAPKAPK2_IFNa       4.377609\n",
       "CCR5posCCR2posCD4Tem_NFkB_IL246      -1.427272\n",
       "Bcells_MAPKAPK2_LPS                   2.167044\n",
       "NK_CREB_LPS                           0.110689\n",
       "CD69posCD56loCD16negNK_CREB_LPS       0.779535\n",
       "Bcells                               -1.030805\n",
       "Granulocytes                         -6.197337\n",
       "dtype: float64"
      ]
     },
     "execution_count": 80,
     "metadata": {},
     "output_type": "execute_result"
    }
   ],
   "source": [
    "all_coefs = pd.DataFrame(index=[f\"iteration{i}\" for i in range(1, 54)], \n",
    "                         columns=features.columns[1:], \n",
    "                         data=np.array(coefs['x']).reshape((53, 1423)))\n",
    "\n",
    "all_SG_coefs = pd.DataFrame(index=[f\"iteration{i}\" for i in range(1, 54)], \n",
    "                         columns=['metabolomic', 'proteomics', 'immuno'], \n",
    "                         data=np.array(SG_coefs['x']).reshape((53, 3)))\n",
    "\n",
    "# We are taking the median of the coeff for all the models which were built during LeaveOneOut\n",
    "final_coefs = all_coefs.median() #* all_SG_coefs.median()['immuno']\n",
    "\n",
    "#final_coefs.to_csv('../Drug Study/Onset of Labor csv/OOL_median_coefs.csv')\n",
    "\n",
    "final_coefs[final_coefs != 0]"
   ]
  },
  {
   "attachments": {},
   "cell_type": "markdown",
   "metadata": {},
   "source": [
    "# Index Score from OOL"
   ]
  },
  {
   "cell_type": "code",
   "execution_count": 81,
   "metadata": {},
   "outputs": [],
   "source": [
    "final_coefs = pd.DataFrame(data=final_coefs, columns=['coef'])"
   ]
  },
  {
   "cell_type": "code",
   "execution_count": 82,
   "metadata": {},
   "outputs": [
    {
     "data": {
      "text/html": [
       "<div>\n",
       "<style scoped>\n",
       "    .dataframe tbody tr th:only-of-type {\n",
       "        vertical-align: middle;\n",
       "    }\n",
       "\n",
       "    .dataframe tbody tr th {\n",
       "        vertical-align: top;\n",
       "    }\n",
       "\n",
       "    .dataframe thead th {\n",
       "        text-align: right;\n",
       "    }\n",
       "</style>\n",
       "<table border=\"1\" class=\"dataframe\">\n",
       "  <thead>\n",
       "    <tr style=\"text-align: right;\">\n",
       "      <th></th>\n",
       "      <th>coef</th>\n",
       "      <th>Spearman corr</th>\n",
       "      <th>pvalue</th>\n",
       "      <th>IndexScore</th>\n",
       "    </tr>\n",
       "  </thead>\n",
       "  <tbody>\n",
       "    <tr>\n",
       "      <th>CD69negCD56loCD16negNK_STAT1_IFNa</th>\n",
       "      <td>33.982482</td>\n",
       "      <td>0.609242</td>\n",
       "      <td>1.311126e-16</td>\n",
       "      <td>539.721866</td>\n",
       "    </tr>\n",
       "    <tr>\n",
       "      <th>Bcells_STAT1_IFNa</th>\n",
       "      <td>4.403599</td>\n",
       "      <td>0.562410</td>\n",
       "      <td>6.914545e-14</td>\n",
       "      <td>57.952399</td>\n",
       "    </tr>\n",
       "    <tr>\n",
       "      <th>Granulocytes</th>\n",
       "      <td>-6.197337</td>\n",
       "      <td>-0.342882</td>\n",
       "      <td>1.744975e-05</td>\n",
       "      <td>29.488234</td>\n",
       "    </tr>\n",
       "    <tr>\n",
       "      <th>CD69posCD8Tmem_MAPKAPK2_unstim</th>\n",
       "      <td>-8.978811</td>\n",
       "      <td>-0.272075</td>\n",
       "      <td>7.568320e-04</td>\n",
       "      <td>28.022873</td>\n",
       "    </tr>\n",
       "    <tr>\n",
       "      <th>ncMCs_CREB_GMCSF</th>\n",
       "      <td>-7.507944</td>\n",
       "      <td>-0.277071</td>\n",
       "      <td>5.980945e-04</td>\n",
       "      <td>24.199833</td>\n",
       "    </tr>\n",
       "    <tr>\n",
       "      <th>pDCs_STAT1_IFNa</th>\n",
       "      <td>2.218389</td>\n",
       "      <td>0.506051</td>\n",
       "      <td>3.948520e-11</td>\n",
       "      <td>23.079160</td>\n",
       "    </tr>\n",
       "    <tr>\n",
       "      <th>CD62LposCD4Tnaive_MAPKAPK2_IFNa</th>\n",
       "      <td>4.377609</td>\n",
       "      <td>0.346689</td>\n",
       "      <td>1.385747e-05</td>\n",
       "      <td>21.267806</td>\n",
       "    </tr>\n",
       "    <tr>\n",
       "      <th>mDCs_STAT1_IFNa</th>\n",
       "      <td>1.426287</td>\n",
       "      <td>0.520401</td>\n",
       "      <td>8.753178e-12</td>\n",
       "      <td>15.771644</td>\n",
       "    </tr>\n",
       "    <tr>\n",
       "      <th>Bcells_MAPKAPK2_LPS</th>\n",
       "      <td>2.167044</td>\n",
       "      <td>0.306330</td>\n",
       "      <td>1.376011e-04</td>\n",
       "      <td>8.367776</td>\n",
       "    </tr>\n",
       "    <tr>\n",
       "      <th>DCs_STAT6_IFNa</th>\n",
       "      <td>-2.749978</td>\n",
       "      <td>-0.183878</td>\n",
       "      <td>2.429429e-02</td>\n",
       "      <td>4.439828</td>\n",
       "    </tr>\n",
       "    <tr>\n",
       "      <th>CD4Tcells_MAPKAPK2_IFNa</th>\n",
       "      <td>0.566993</td>\n",
       "      <td>0.412033</td>\n",
       "      <td>1.616650e-07</td>\n",
       "      <td>3.850665</td>\n",
       "    </tr>\n",
       "    <tr>\n",
       "      <th>CCR5posCCR2posCD4Tcm_IkB_unstim</th>\n",
       "      <td>-1.182613</td>\n",
       "      <td>-0.277448</td>\n",
       "      <td>5.874597e-04</td>\n",
       "      <td>3.821050</td>\n",
       "    </tr>\n",
       "    <tr>\n",
       "      <th>CCR5posCCR2posCD4Tem_NFkB_IL246</th>\n",
       "      <td>-1.427272</td>\n",
       "      <td>-0.186149</td>\n",
       "      <td>2.256330e-02</td>\n",
       "      <td>2.350142</td>\n",
       "    </tr>\n",
       "    <tr>\n",
       "      <th>CD4Tem_MAPKAPK2_unstim</th>\n",
       "      <td>-0.816871</td>\n",
       "      <td>-0.192111</td>\n",
       "      <td>1.851436e-02</td>\n",
       "      <td>1.415222</td>\n",
       "    </tr>\n",
       "    <tr>\n",
       "      <th>CD69posCD56loCD16negNK_CREB_LPS</th>\n",
       "      <td>0.779535</td>\n",
       "      <td>0.194629</td>\n",
       "      <td>1.700339e-02</td>\n",
       "      <td>1.379359</td>\n",
       "    </tr>\n",
       "    <tr>\n",
       "      <th>Bcells</th>\n",
       "      <td>-1.030805</td>\n",
       "      <td>-0.137640</td>\n",
       "      <td>9.302683e-02</td>\n",
       "      <td>1.063164</td>\n",
       "    </tr>\n",
       "    <tr>\n",
       "      <th>NK_CREB_LPS</th>\n",
       "      <td>0.110689</td>\n",
       "      <td>0.277811</td>\n",
       "      <td>5.773749e-04</td>\n",
       "      <td>0.358470</td>\n",
       "    </tr>\n",
       "  </tbody>\n",
       "</table>\n",
       "</div>"
      ],
      "text/plain": [
       "                                        coef  Spearman corr        pvalue   \n",
       "CD69negCD56loCD16negNK_STAT1_IFNa  33.982482       0.609242  1.311126e-16  \\\n",
       "Bcells_STAT1_IFNa                   4.403599       0.562410  6.914545e-14   \n",
       "Granulocytes                       -6.197337      -0.342882  1.744975e-05   \n",
       "CD69posCD8Tmem_MAPKAPK2_unstim     -8.978811      -0.272075  7.568320e-04   \n",
       "ncMCs_CREB_GMCSF                   -7.507944      -0.277071  5.980945e-04   \n",
       "pDCs_STAT1_IFNa                     2.218389       0.506051  3.948520e-11   \n",
       "CD62LposCD4Tnaive_MAPKAPK2_IFNa     4.377609       0.346689  1.385747e-05   \n",
       "mDCs_STAT1_IFNa                     1.426287       0.520401  8.753178e-12   \n",
       "Bcells_MAPKAPK2_LPS                 2.167044       0.306330  1.376011e-04   \n",
       "DCs_STAT6_IFNa                     -2.749978      -0.183878  2.429429e-02   \n",
       "CD4Tcells_MAPKAPK2_IFNa             0.566993       0.412033  1.616650e-07   \n",
       "CCR5posCCR2posCD4Tcm_IkB_unstim    -1.182613      -0.277448  5.874597e-04   \n",
       "CCR5posCCR2posCD4Tem_NFkB_IL246    -1.427272      -0.186149  2.256330e-02   \n",
       "CD4Tem_MAPKAPK2_unstim             -0.816871      -0.192111  1.851436e-02   \n",
       "CD69posCD56loCD16negNK_CREB_LPS     0.779535       0.194629  1.700339e-02   \n",
       "Bcells                             -1.030805      -0.137640  9.302683e-02   \n",
       "NK_CREB_LPS                         0.110689       0.277811  5.773749e-04   \n",
       "\n",
       "                                   IndexScore  \n",
       "CD69negCD56loCD16negNK_STAT1_IFNa  539.721866  \n",
       "Bcells_STAT1_IFNa                   57.952399  \n",
       "Granulocytes                        29.488234  \n",
       "CD69posCD8Tmem_MAPKAPK2_unstim      28.022873  \n",
       "ncMCs_CREB_GMCSF                    24.199833  \n",
       "pDCs_STAT1_IFNa                     23.079160  \n",
       "CD62LposCD4Tnaive_MAPKAPK2_IFNa     21.267806  \n",
       "mDCs_STAT1_IFNa                     15.771644  \n",
       "Bcells_MAPKAPK2_LPS                  8.367776  \n",
       "DCs_STAT6_IFNa                       4.439828  \n",
       "CD4Tcells_MAPKAPK2_IFNa              3.850665  \n",
       "CCR5posCCR2posCD4Tcm_IkB_unstim      3.821050  \n",
       "CCR5posCCR2posCD4Tem_NFkB_IL246      2.350142  \n",
       "CD4Tem_MAPKAPK2_unstim               1.415222  \n",
       "CD69posCD56loCD16negNK_CREB_LPS      1.379359  \n",
       "Bcells                               1.063164  \n",
       "NK_CREB_LPS                          0.358470  "
      ]
     },
     "execution_count": 82,
     "metadata": {},
     "output_type": "execute_result"
    }
   ],
   "source": [
    "score_tabl = pd.merge(final_coefs, SpearmanPvalue, left_index=True, right_index=True)\n",
    "score_tabl['IndexScore'] = -abs(score_tabl['coef'])*np.log10(score_tabl['pvalue'])\n",
    "score_tabl.sort_values(by='IndexScore', ascending=False, inplace=True)\n",
    "score_tabl[score_tabl['IndexScore'] != 0]"
   ]
  },
  {
   "cell_type": "code",
   "execution_count": 61,
   "metadata": {},
   "outputs": [
    {
     "data": {
      "text/plain": [
       "coef    1423\n",
       "dtype: int64"
      ]
     },
     "execution_count": 61,
     "metadata": {},
     "output_type": "execute_result"
    }
   ],
   "source": []
  },
  {
   "cell_type": "code",
   "execution_count": null,
   "metadata": {},
   "outputs": [],
   "source": []
  }
 ],
 "metadata": {
  "kernelspec": {
   "display_name": ".venv",
   "language": "python",
   "name": "python3"
  },
  "language_info": {
   "codemirror_mode": {
    "name": "ipython",
    "version": 3
   },
   "file_extension": ".py",
   "mimetype": "text/x-python",
   "name": "python",
   "nbconvert_exporter": "python",
   "pygments_lexer": "ipython3",
   "version": "3.9.5"
  },
  "orig_nbformat": 4
 },
 "nbformat": 4,
 "nbformat_minor": 2
}
