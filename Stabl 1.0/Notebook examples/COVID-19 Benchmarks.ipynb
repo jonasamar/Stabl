{
 "cells": [
  {
   "cell_type": "code",
   "execution_count": 1,
   "id": "8e9a7aa1",
   "metadata": {},
   "outputs": [],
   "source": [
    "import warnings\n",
    "warnings.filterwarnings('ignore')"
   ]
  },
  {
   "attachments": {},
   "cell_type": "markdown",
   "id": "89424e6b",
   "metadata": {},
   "source": [
    "# Libraries"
   ]
  },
  {
   "attachments": {},
   "cell_type": "markdown",
   "id": "453b83ba",
   "metadata": {},
   "source": [
    "## Basic libraries"
   ]
  },
  {
   "cell_type": "code",
   "execution_count": 2,
   "id": "46d4d5b0",
   "metadata": {
    "tags": []
   },
   "outputs": [],
   "source": [
    "import numpy as np\n",
    "import pandas as pd\n",
    "from pathlib import Path\n",
    "\n",
    "from sklearn.model_selection import RepeatedStratifiedKFold\n",
    "from sklearn.base import clone\n",
    "\n",
    "from stabl.stabl import Stabl, plot_stabl_path, plot_fdr_graph, save_stabl_results\n",
    "from stabl.preprocessing import LowInfoFilter, remove_low_info_samples\n",
    "\n",
    "%config InlineBackend.figure_formats=['retina']"
   ]
  },
  {
   "attachments": {},
   "cell_type": "markdown",
   "id": "a4e6088e",
   "metadata": {},
   "source": [
    "## Stabl Pipelines"
   ]
  },
  {
   "cell_type": "code",
   "execution_count": 3,
   "id": "ca733a9e",
   "metadata": {
    "tags": []
   },
   "outputs": [],
   "source": [
    "from stabl.multi_omic_pipelines import multi_omic_stabl, multi_omic_stabl_cv\n",
    "from stabl.single_omic_pipelines import single_omic_stabl, single_omic_stabl_cv\n",
    "from stabl.pipelines_utils import compute_features_table"
   ]
  },
  {
   "attachments": {},
   "cell_type": "markdown",
   "id": "216799f5",
   "metadata": {},
   "source": [
    "# Data"
   ]
  },
  {
   "attachments": {},
   "cell_type": "markdown",
   "id": "894f75ce",
   "metadata": {},
   "source": [
    "## Training data"
   ]
  },
  {
   "cell_type": "code",
   "execution_count": 4,
   "id": "8c57e425",
   "metadata": {
    "tags": []
   },
   "outputs": [],
   "source": [
    "# Importing the training data\n",
    "X_train = pd.read_csv('../Sample Data/COVID-19/Training/Proteomics.csv',index_col=\"sampleID\")\n",
    "y_train = pd.read_csv(\"../Sample Data/COVID-19/Training/Mild&ModVsSevere.csv\", index_col=0).iloc[:, 0]"
   ]
  },
  {
   "attachments": {},
   "cell_type": "markdown",
   "id": "89ac7942",
   "metadata": {},
   "source": [
    "## Validation Data"
   ]
  },
  {
   "cell_type": "code",
   "execution_count": 5,
   "id": "89f6e868-a862-4cc4-b0a2-29d75279dd85",
   "metadata": {
    "tags": []
   },
   "outputs": [],
   "source": [
    "X_val = pd.read_csv(\"../Sample Data/COVID-19/Validation/Validation_proteomics.csv\", index_col=0)\n",
    "y_val = ~pd.read_csv(\"../Sample Data/COVID-19/Validation/Validation_outcome(WHO.0 ≥ 5).csv\", index_col=0).iloc[:,0]"
   ]
  },
  {
   "cell_type": "code",
   "execution_count": 20,
   "id": "e301b734",
   "metadata": {},
   "outputs": [
    {
     "data": {
      "text/plain": [
       "007-0003    1\n",
       "007-0005    1\n",
       "007-0007    1\n",
       "007-0008    0\n",
       "007-0009    1\n",
       "           ..\n",
       "384_D0      1\n",
       "384_D7      1\n",
       "385_D3      1\n",
       "385_D0      1\n",
       "386_D0      1\n",
       "Length: 852, dtype: object"
      ]
     },
     "execution_count": 20,
     "metadata": {},
     "output_type": "execute_result"
    }
   ],
   "source": [
    "pd.concat([y_train, y_val], axis=0)"
   ]
  },
  {
   "attachments": {},
   "cell_type": "markdown",
   "id": "ba43c6d4",
   "metadata": {},
   "source": [
    "# Result folder name"
   ]
  },
  {
   "cell_type": "code",
   "execution_count": 6,
   "id": "e0bfa286",
   "metadata": {
    "tags": []
   },
   "outputs": [],
   "source": [
    "result_folder = \"./Results COVID-19\""
   ]
  },
  {
   "attachments": {},
   "cell_type": "markdown",
   "id": "abbb89da",
   "metadata": {},
   "source": [
    "# Single-omic Training-CV"
   ]
  },
  {
   "cell_type": "code",
   "execution_count": 7,
   "id": "8c688774",
   "metadata": {
    "tags": []
   },
   "outputs": [],
   "source": [
    "stabl = Stabl(\n",
    "    lambda_grid=np.linspace(0.01, 5, 10),\n",
    "    n_bootstraps=1000,\n",
    "    artificial_type=\"random_permutation\",\n",
    "    replace=False,\n",
    "    fdr_threshold_range=np.arange(0.1, 1, 0.01),\n",
    "    sample_fraction=.5,\n",
    "    random_state=42\n",
    ")\n",
    "\n",
    "stability_selection = clone(stabl).set_params(hard_threshold=.1, artificial_type = None)\n",
    "\n",
    "outer_splitter = RepeatedStratifiedKFold(n_splits=5, n_repeats=20, random_state=42)"
   ]
  },
  {
   "cell_type": "code",
   "execution_count": 15,
   "id": "cbf974e4-3fe1-419d-b1b0-8698191191f4",
   "metadata": {
    "scrolled": true,
    "tags": []
   },
   "outputs": [
    {
     "name": "stdout",
     "output_type": "stream",
     "text": [
      "***************************** Iteration 1 over 100 ***************************** \n",
      "\n",
      "54 train samples, 14 test samples\n"
     ]
    },
    {
     "name": "stderr",
     "output_type": "stream",
     "text": [
      "exception calling callback for <Future at 0x7fa2ae798f40 state=finished returned list>\n",
      "Traceback (most recent call last):\n",
      "  File \"/Users/jonasamar/Stabl/.venv/lib/python3.9/site-packages/joblib/externals/loky/_base.py\", line 26, in _invoke_callbacks\n",
      "    callback(self)\n",
      "  File \"/Users/jonasamar/Stabl/.venv/lib/python3.9/site-packages/joblib/parallel.py\", line 385, in __call__\n",
      "    self.parallel.dispatch_next()\n",
      "  File \"/Users/jonasamar/Stabl/.venv/lib/python3.9/site-packages/joblib/parallel.py\", line 834, in dispatch_next\n",
      "    if not self.dispatch_one_batch(self._original_iterator):\n",
      "  File \"/Users/jonasamar/Stabl/.venv/lib/python3.9/site-packages/joblib/parallel.py\", line 901, in dispatch_one_batch\n",
      "    self._dispatch(tasks)\n",
      "  File \"/Users/jonasamar/Stabl/.venv/lib/python3.9/site-packages/joblib/parallel.py\", line 819, in _dispatch\n",
      "    job = self._backend.apply_async(batch, callback=cb)\n",
      "  File \"/Users/jonasamar/Stabl/.venv/lib/python3.9/site-packages/joblib/_parallel_backends.py\", line 556, in apply_async\n",
      "    future = self._workers.submit(SafeFunction(func))\n",
      "AttributeError: 'NoneType' object has no attribute 'submit'\n",
      "exception calling callback for <Future at 0x7fa2ae6a75b0 state=finished raised PicklingError>\n",
      "Traceback (most recent call last):\n",
      "  File \"/Users/jonasamar/Stabl/.venv/lib/python3.9/site-packages/joblib/externals/loky/backend/queues.py\", line 125, in _feed\n",
      "    obj_ = dumps(obj, reducers=reducers)\n",
      "  File \"/Users/jonasamar/Stabl/.venv/lib/python3.9/site-packages/joblib/externals/loky/backend/reduction.py\", line 211, in dumps\n",
      "    dump(obj, buf, reducers=reducers, protocol=protocol)\n",
      "  File \"/Users/jonasamar/Stabl/.venv/lib/python3.9/site-packages/joblib/externals/loky/backend/reduction.py\", line 204, in dump\n",
      "    _LokyPickler(file, reducers=reducers, protocol=protocol).dump(obj)\n",
      "  File \"/Users/jonasamar/Stabl/.venv/lib/python3.9/site-packages/joblib/externals/cloudpickle/cloudpickle_fast.py\", line 632, in dump\n",
      "    return Pickler.dump(self, obj)\n",
      "  File \"/Users/jonasamar/Stabl/.venv/lib/python3.9/site-packages/joblib/parallel.py\", line 293, in __reduce__\n",
      "    self._reducer_callback()\n",
      "  File \"/Users/jonasamar/Stabl/.venv/lib/python3.9/site-packages/joblib/parallel.py\", line 1028, in _batched_calls_reducer_callback\n",
      "    self._backend._workers._temp_folder_manager.set_current_context(  # noqa\n",
      "AttributeError: 'NoneType' object has no attribute '_temp_folder_manager'\n",
      "\n",
      "During handling of the above exception, another exception occurred:\n",
      "\n",
      "Traceback (most recent call last):\n",
      "  File \"/Users/jonasamar/Stabl/.venv/lib/python3.9/site-packages/joblib/externals/loky/_base.py\", line 26, in _invoke_callbacks\n",
      "    callback(self)\n",
      "  File \"/Users/jonasamar/Stabl/.venv/lib/python3.9/site-packages/joblib/parallel.py\", line 385, in __call__\n",
      "    self.parallel.dispatch_next()\n",
      "  File \"/Users/jonasamar/Stabl/.venv/lib/python3.9/site-packages/joblib/parallel.py\", line 834, in dispatch_next\n",
      "    if not self.dispatch_one_batch(self._original_iterator):\n",
      "  File \"/Users/jonasamar/Stabl/.venv/lib/python3.9/site-packages/joblib/parallel.py\", line 901, in dispatch_one_batch\n",
      "    self._dispatch(tasks)\n",
      "  File \"/Users/jonasamar/Stabl/.venv/lib/python3.9/site-packages/joblib/parallel.py\", line 819, in _dispatch\n",
      "    job = self._backend.apply_async(batch, callback=cb)\n",
      "  File \"/Users/jonasamar/Stabl/.venv/lib/python3.9/site-packages/joblib/_parallel_backends.py\", line 556, in apply_async\n",
      "    future = self._workers.submit(SafeFunction(func))\n",
      "AttributeError: 'NoneType' object has no attribute 'submit'\n",
      "exception calling callback for <Future at 0x7fa2ad7d95e0 state=finished returned list>\n",
      "Traceback (most recent call last):\n",
      "  File \"/Users/jonasamar/Stabl/.venv/lib/python3.9/site-packages/joblib/externals/loky/_base.py\", line 26, in _invoke_callbacks\n",
      "    callback(self)\n",
      "  File \"/Users/jonasamar/Stabl/.venv/lib/python3.9/site-packages/joblib/parallel.py\", line 385, in __call__\n",
      "    self.parallel.dispatch_next()\n",
      "  File \"/Users/jonasamar/Stabl/.venv/lib/python3.9/site-packages/joblib/parallel.py\", line 834, in dispatch_next\n",
      "    if not self.dispatch_one_batch(self._original_iterator):\n",
      "  File \"/Users/jonasamar/Stabl/.venv/lib/python3.9/site-packages/joblib/parallel.py\", line 901, in dispatch_one_batch\n",
      "    self._dispatch(tasks)\n",
      "  File \"/Users/jonasamar/Stabl/.venv/lib/python3.9/site-packages/joblib/parallel.py\", line 819, in _dispatch\n",
      "    job = self._backend.apply_async(batch, callback=cb)\n",
      "  File \"/Users/jonasamar/Stabl/.venv/lib/python3.9/site-packages/joblib/_parallel_backends.py\", line 556, in apply_async\n",
      "    future = self._workers.submit(SafeFunction(func))\n",
      "AttributeError: 'NoneType' object has no attribute 'submit'\n",
      "exception calling callback for <Future at 0x7fa2adb9d160 state=finished raised PicklingError>\n",
      "Traceback (most recent call last):\n",
      "  File \"/Users/jonasamar/Stabl/.venv/lib/python3.9/site-packages/joblib/externals/loky/backend/queues.py\", line 125, in _feed\n",
      "    obj_ = dumps(obj, reducers=reducers)\n",
      "  File \"/Users/jonasamar/Stabl/.venv/lib/python3.9/site-packages/joblib/externals/loky/backend/reduction.py\", line 211, in dumps\n",
      "    dump(obj, buf, reducers=reducers, protocol=protocol)\n",
      "  File \"/Users/jonasamar/Stabl/.venv/lib/python3.9/site-packages/joblib/externals/loky/backend/reduction.py\", line 204, in dump\n",
      "    _LokyPickler(file, reducers=reducers, protocol=protocol).dump(obj)\n",
      "  File \"/Users/jonasamar/Stabl/.venv/lib/python3.9/site-packages/joblib/externals/cloudpickle/cloudpickle_fast.py\", line 632, in dump\n",
      "    return Pickler.dump(self, obj)\n",
      "  File \"/Users/jonasamar/Stabl/.venv/lib/python3.9/site-packages/joblib/parallel.py\", line 293, in __reduce__\n",
      "    self._reducer_callback()\n",
      "  File \"/Users/jonasamar/Stabl/.venv/lib/python3.9/site-packages/joblib/parallel.py\", line 1028, in _batched_calls_reducer_callback\n",
      "    self._backend._workers._temp_folder_manager.set_current_context(  # noqa\n",
      "AttributeError: 'NoneType' object has no attribute '_temp_folder_manager'\n",
      "\n",
      "During handling of the above exception, another exception occurred:\n",
      "\n",
      "Traceback (most recent call last):\n",
      "  File \"/Users/jonasamar/Stabl/.venv/lib/python3.9/site-packages/joblib/externals/loky/_base.py\", line 26, in _invoke_callbacks\n",
      "    callback(self)\n",
      "  File \"/Users/jonasamar/Stabl/.venv/lib/python3.9/site-packages/joblib/parallel.py\", line 385, in __call__\n",
      "    self.parallel.dispatch_next()\n",
      "  File \"/Users/jonasamar/Stabl/.venv/lib/python3.9/site-packages/joblib/parallel.py\", line 834, in dispatch_next\n",
      "    if not self.dispatch_one_batch(self._original_iterator):\n",
      "  File \"/Users/jonasamar/Stabl/.venv/lib/python3.9/site-packages/joblib/parallel.py\", line 901, in dispatch_one_batch\n",
      "    self._dispatch(tasks)\n",
      "  File \"/Users/jonasamar/Stabl/.venv/lib/python3.9/site-packages/joblib/parallel.py\", line 819, in _dispatch\n",
      "    job = self._backend.apply_async(batch, callback=cb)\n",
      "  File \"/Users/jonasamar/Stabl/.venv/lib/python3.9/site-packages/joblib/_parallel_backends.py\", line 556, in apply_async\n",
      "    future = self._workers.submit(SafeFunction(func))\n",
      "AttributeError: 'NoneType' object has no attribute 'submit'\n",
      "exception calling callback for <Future at 0x7fa2ae6a7880 state=finished returned list>\n",
      "Traceback (most recent call last):\n",
      "  File \"/Users/jonasamar/Stabl/.venv/lib/python3.9/site-packages/joblib/externals/loky/_base.py\", line 26, in _invoke_callbacks\n",
      "    callback(self)\n",
      "  File \"/Users/jonasamar/Stabl/.venv/lib/python3.9/site-packages/joblib/parallel.py\", line 385, in __call__\n",
      "    self.parallel.dispatch_next()\n",
      "  File \"/Users/jonasamar/Stabl/.venv/lib/python3.9/site-packages/joblib/parallel.py\", line 834, in dispatch_next\n",
      "    if not self.dispatch_one_batch(self._original_iterator):\n",
      "  File \"/Users/jonasamar/Stabl/.venv/lib/python3.9/site-packages/joblib/parallel.py\", line 901, in dispatch_one_batch\n",
      "    self._dispatch(tasks)\n",
      "  File \"/Users/jonasamar/Stabl/.venv/lib/python3.9/site-packages/joblib/parallel.py\", line 819, in _dispatch\n",
      "    job = self._backend.apply_async(batch, callback=cb)\n",
      "  File \"/Users/jonasamar/Stabl/.venv/lib/python3.9/site-packages/joblib/_parallel_backends.py\", line 556, in apply_async\n",
      "    future = self._workers.submit(SafeFunction(func))\n",
      "AttributeError: 'NoneType' object has no attribute 'submit'\n",
      "exception calling callback for <Future at 0x7fa2ad7d9bb0 state=finished raised PicklingError>\n",
      "Traceback (most recent call last):\n",
      "  File \"/Users/jonasamar/Stabl/.venv/lib/python3.9/site-packages/joblib/externals/loky/backend/queues.py\", line 125, in _feed\n",
      "    obj_ = dumps(obj, reducers=reducers)\n",
      "  File \"/Users/jonasamar/Stabl/.venv/lib/python3.9/site-packages/joblib/externals/loky/backend/reduction.py\", line 211, in dumps\n",
      "    dump(obj, buf, reducers=reducers, protocol=protocol)\n",
      "  File \"/Users/jonasamar/Stabl/.venv/lib/python3.9/site-packages/joblib/externals/loky/backend/reduction.py\", line 204, in dump\n",
      "    _LokyPickler(file, reducers=reducers, protocol=protocol).dump(obj)\n",
      "  File \"/Users/jonasamar/Stabl/.venv/lib/python3.9/site-packages/joblib/externals/cloudpickle/cloudpickle_fast.py\", line 632, in dump\n",
      "    return Pickler.dump(self, obj)\n",
      "  File \"/Users/jonasamar/Stabl/.venv/lib/python3.9/site-packages/joblib/parallel.py\", line 293, in __reduce__\n",
      "    self._reducer_callback()\n",
      "  File \"/Users/jonasamar/Stabl/.venv/lib/python3.9/site-packages/joblib/parallel.py\", line 1028, in _batched_calls_reducer_callback\n",
      "    self._backend._workers._temp_folder_manager.set_current_context(  # noqa\n",
      "AttributeError: 'NoneType' object has no attribute '_temp_folder_manager'\n",
      "\n",
      "During handling of the above exception, another exception occurred:\n",
      "\n",
      "Traceback (most recent call last):\n",
      "  File \"/Users/jonasamar/Stabl/.venv/lib/python3.9/site-packages/joblib/externals/loky/_base.py\", line 26, in _invoke_callbacks\n",
      "    callback(self)\n",
      "  File \"/Users/jonasamar/Stabl/.venv/lib/python3.9/site-packages/joblib/parallel.py\", line 385, in __call__\n",
      "    self.parallel.dispatch_next()\n",
      "  File \"/Users/jonasamar/Stabl/.venv/lib/python3.9/site-packages/joblib/parallel.py\", line 834, in dispatch_next\n",
      "    if not self.dispatch_one_batch(self._original_iterator):\n",
      "  File \"/Users/jonasamar/Stabl/.venv/lib/python3.9/site-packages/joblib/parallel.py\", line 901, in dispatch_one_batch\n",
      "    self._dispatch(tasks)\n",
      "  File \"/Users/jonasamar/Stabl/.venv/lib/python3.9/site-packages/joblib/parallel.py\", line 819, in _dispatch\n",
      "    job = self._backend.apply_async(batch, callback=cb)\n",
      "  File \"/Users/jonasamar/Stabl/.venv/lib/python3.9/site-packages/joblib/_parallel_backends.py\", line 556, in apply_async\n",
      "    future = self._workers.submit(SafeFunction(func))\n",
      "AttributeError: 'NoneType' object has no attribute 'submit'\n",
      "exception calling callback for <Future at 0x7fa2ae7988b0 state=finished raised PicklingError>\n",
      "Traceback (most recent call last):\n",
      "  File \"/Users/jonasamar/Stabl/.venv/lib/python3.9/site-packages/joblib/externals/loky/backend/queues.py\", line 125, in _feed\n",
      "    obj_ = dumps(obj, reducers=reducers)\n",
      "  File \"/Users/jonasamar/Stabl/.venv/lib/python3.9/site-packages/joblib/externals/loky/backend/reduction.py\", line 211, in dumps\n",
      "    dump(obj, buf, reducers=reducers, protocol=protocol)\n",
      "  File \"/Users/jonasamar/Stabl/.venv/lib/python3.9/site-packages/joblib/externals/loky/backend/reduction.py\", line 204, in dump\n",
      "    _LokyPickler(file, reducers=reducers, protocol=protocol).dump(obj)\n",
      "  File \"/Users/jonasamar/Stabl/.venv/lib/python3.9/site-packages/joblib/externals/cloudpickle/cloudpickle_fast.py\", line 632, in dump\n",
      "    return Pickler.dump(self, obj)\n",
      "  File \"/Users/jonasamar/Stabl/.venv/lib/python3.9/site-packages/joblib/parallel.py\", line 293, in __reduce__\n",
      "    self._reducer_callback()\n",
      "  File \"/Users/jonasamar/Stabl/.venv/lib/python3.9/site-packages/joblib/parallel.py\", line 1028, in _batched_calls_reducer_callback\n",
      "    self._backend._workers._temp_folder_manager.set_current_context(  # noqa\n",
      "AttributeError: 'NoneType' object has no attribute '_temp_folder_manager'\n",
      "\n",
      "During handling of the above exception, another exception occurred:\n",
      "\n",
      "Traceback (most recent call last):\n",
      "  File \"/Users/jonasamar/Stabl/.venv/lib/python3.9/site-packages/joblib/externals/loky/_base.py\", line 26, in _invoke_callbacks\n",
      "    callback(self)\n",
      "  File \"/Users/jonasamar/Stabl/.venv/lib/python3.9/site-packages/joblib/parallel.py\", line 385, in __call__\n",
      "    self.parallel.dispatch_next()\n",
      "  File \"/Users/jonasamar/Stabl/.venv/lib/python3.9/site-packages/joblib/parallel.py\", line 834, in dispatch_next\n",
      "    if not self.dispatch_one_batch(self._original_iterator):\n",
      "  File \"/Users/jonasamar/Stabl/.venv/lib/python3.9/site-packages/joblib/parallel.py\", line 901, in dispatch_one_batch\n",
      "    self._dispatch(tasks)\n",
      "  File \"/Users/jonasamar/Stabl/.venv/lib/python3.9/site-packages/joblib/parallel.py\", line 819, in _dispatch\n",
      "    job = self._backend.apply_async(batch, callback=cb)\n",
      "  File \"/Users/jonasamar/Stabl/.venv/lib/python3.9/site-packages/joblib/_parallel_backends.py\", line 556, in apply_async\n",
      "    future = self._workers.submit(SafeFunction(func))\n",
      "AttributeError: 'NoneType' object has no attribute 'submit'\n",
      "exception calling callback for <Future at 0x7fa2ae798310 state=finished raised PicklingError>\n",
      "Traceback (most recent call last):\n",
      "  File \"/Users/jonasamar/Stabl/.venv/lib/python3.9/site-packages/joblib/externals/loky/backend/queues.py\", line 125, in _feed\n",
      "    obj_ = dumps(obj, reducers=reducers)\n",
      "  File \"/Users/jonasamar/Stabl/.venv/lib/python3.9/site-packages/joblib/externals/loky/backend/reduction.py\", line 211, in dumps\n",
      "    dump(obj, buf, reducers=reducers, protocol=protocol)\n",
      "  File \"/Users/jonasamar/Stabl/.venv/lib/python3.9/site-packages/joblib/externals/loky/backend/reduction.py\", line 204, in dump\n",
      "    _LokyPickler(file, reducers=reducers, protocol=protocol).dump(obj)\n",
      "  File \"/Users/jonasamar/Stabl/.venv/lib/python3.9/site-packages/joblib/externals/cloudpickle/cloudpickle_fast.py\", line 632, in dump\n",
      "    return Pickler.dump(self, obj)\n",
      "  File \"/Users/jonasamar/Stabl/.venv/lib/python3.9/site-packages/joblib/parallel.py\", line 293, in __reduce__\n",
      "    self._reducer_callback()\n",
      "  File \"/Users/jonasamar/Stabl/.venv/lib/python3.9/site-packages/joblib/parallel.py\", line 1028, in _batched_calls_reducer_callback\n",
      "    self._backend._workers._temp_folder_manager.set_current_context(  # noqa\n",
      "AttributeError: 'NoneType' object has no attribute '_temp_folder_manager'\n",
      "\n",
      "During handling of the above exception, another exception occurred:\n",
      "\n",
      "Traceback (most recent call last):\n",
      "  File \"/Users/jonasamar/Stabl/.venv/lib/python3.9/site-packages/joblib/externals/loky/_base.py\", line 26, in _invoke_callbacks\n",
      "    callback(self)\n",
      "  File \"/Users/jonasamar/Stabl/.venv/lib/python3.9/site-packages/joblib/parallel.py\", line 385, in __call__\n",
      "    self.parallel.dispatch_next()\n",
      "  File \"/Users/jonasamar/Stabl/.venv/lib/python3.9/site-packages/joblib/parallel.py\", line 834, in dispatch_next\n",
      "    if not self.dispatch_one_batch(self._original_iterator):\n",
      "  File \"/Users/jonasamar/Stabl/.venv/lib/python3.9/site-packages/joblib/parallel.py\", line 901, in dispatch_one_batch\n",
      "    self._dispatch(tasks)\n",
      "  File \"/Users/jonasamar/Stabl/.venv/lib/python3.9/site-packages/joblib/parallel.py\", line 819, in _dispatch\n",
      "    job = self._backend.apply_async(batch, callback=cb)\n",
      "  File \"/Users/jonasamar/Stabl/.venv/lib/python3.9/site-packages/joblib/_parallel_backends.py\", line 556, in apply_async\n",
      "    future = self._workers.submit(SafeFunction(func))\n",
      "AttributeError: 'NoneType' object has no attribute 'submit'\n"
     ]
    },
    {
     "ename": "KeyboardInterrupt",
     "evalue": "",
     "output_type": "error",
     "traceback": [
      "\u001b[0;31m---------------------------------------------------------------------------\u001b[0m",
      "\u001b[0;31mKeyboardInterrupt\u001b[0m                         Traceback (most recent call last)",
      "Cell \u001b[0;32mIn[15], line 1\u001b[0m\n\u001b[0;32m----> 1\u001b[0m predictions_dict \u001b[39m=\u001b[39m single_omic_stabl_cv(\n\u001b[1;32m      2\u001b[0m     X\u001b[39m=\u001b[39;49mX_train,\n\u001b[1;32m      3\u001b[0m     y\u001b[39m=\u001b[39;49my_train,\n\u001b[1;32m      4\u001b[0m     outer_splitter\u001b[39m=\u001b[39;49mouter_splitter,\n\u001b[1;32m      5\u001b[0m     stabl\u001b[39m=\u001b[39;49mstabl,\n\u001b[1;32m      6\u001b[0m     stability_selection\u001b[39m=\u001b[39;49mstability_selection,\n\u001b[1;32m      7\u001b[0m     task_type\u001b[39m=\u001b[39;49m\u001b[39m\"\u001b[39;49m\u001b[39mbinary\u001b[39;49m\u001b[39m\"\u001b[39;49m,\n\u001b[1;32m      8\u001b[0m     save_path\u001b[39m=\u001b[39;49mresult_folder,\n\u001b[1;32m      9\u001b[0m     outer_groups\u001b[39m=\u001b[39;49m\u001b[39mNone\u001b[39;49;00m\n\u001b[1;32m     10\u001b[0m )\n",
      "File \u001b[0;32m~/Stabl/.venv/lib/python3.9/site-packages/stabl/single_omic_pipelines.py:142\u001b[0m, in \u001b[0;36msingle_omic_stabl_cv\u001b[0;34m(X, y, outer_splitter, stabl, stability_selection, task_type, save_path, outer_groups)\u001b[0m\n\u001b[1;32m    139\u001b[0m     stabl\u001b[39m.\u001b[39mset_params(lambda_grid\u001b[39m=\u001b[39mlambda_grid)\n\u001b[1;32m    140\u001b[0m     stability_selection\u001b[39m.\u001b[39mset_params(lambda_grid\u001b[39m=\u001b[39mlambda_grid)\n\u001b[0;32m--> 142\u001b[0m stabl\u001b[39m.\u001b[39;49mfit(X_tmp_std, y_tmp)\n\u001b[1;32m    143\u001b[0m tmp_sel_features \u001b[39m=\u001b[39m \u001b[39mlist\u001b[39m(stabl\u001b[39m.\u001b[39mget_feature_names_out())\n\u001b[1;32m    144\u001b[0m fold_selected_features[\u001b[39m\"\u001b[39m\u001b[39mSTABL\u001b[39m\u001b[39m\"\u001b[39m] \u001b[39m=\u001b[39m tmp_sel_features\n",
      "File \u001b[0;32m~/Stabl/.venv/lib/python3.9/site-packages/stabl/stabl.py:802\u001b[0m, in \u001b[0;36mStabl.fit\u001b[0;34m(self, X, y)\u001b[0m\n\u001b[1;32m    791\u001b[0m bootstrap_indices \u001b[39m=\u001b[39m _bootstrap_generator(\n\u001b[1;32m    792\u001b[0m     n_bootstraps\u001b[39m=\u001b[39m\u001b[39mself\u001b[39m\u001b[39m.\u001b[39mn_bootstraps,\n\u001b[1;32m    793\u001b[0m     bootstrap_func\u001b[39m=\u001b[39m\u001b[39mself\u001b[39m\u001b[39m.\u001b[39mbootstrap_func,\n\u001b[0;32m   (...)\u001b[0m\n\u001b[1;32m    798\u001b[0m     random_state\u001b[39m=\u001b[39m\u001b[39mself\u001b[39m\u001b[39m.\u001b[39mrandom_state\n\u001b[1;32m    799\u001b[0m )\n\u001b[1;32m    801\u001b[0m \u001b[39m# Computing the frequencies\u001b[39;00m\n\u001b[0;32m--> 802\u001b[0m selected_variables \u001b[39m=\u001b[39m Parallel(\n\u001b[1;32m    803\u001b[0m     n_jobs\u001b[39m=\u001b[39;49m\u001b[39mself\u001b[39;49m\u001b[39m.\u001b[39;49mn_jobs,\n\u001b[1;32m    804\u001b[0m     verbose\u001b[39m=\u001b[39;49m\u001b[39m0\u001b[39;49m,\n\u001b[1;32m    805\u001b[0m     pre_dispatch\u001b[39m=\u001b[39;49m\u001b[39m'\u001b[39;49m\u001b[39m2*n_jobs\u001b[39;49m\u001b[39m'\u001b[39;49m,\n\u001b[1;32m    806\u001b[0m     backend\u001b[39m=\u001b[39;49m\u001b[39mself\u001b[39;49m\u001b[39m.\u001b[39;49mbackend_multi\n\u001b[1;32m    807\u001b[0m )(delayed(fit_bootstrapped_sample)(\n\u001b[1;32m    808\u001b[0m     clone(base_estimator),\n\u001b[1;32m    809\u001b[0m     X\u001b[39m=\u001b[39;49mX[safe_mask(X, subsample_indices), :],\n\u001b[1;32m    810\u001b[0m     y\u001b[39m=\u001b[39;49my[subsample_indices],\n\u001b[1;32m    811\u001b[0m     lambda_name\u001b[39m=\u001b[39;49m\u001b[39mself\u001b[39;49m\u001b[39m.\u001b[39;49mlambda_name,\n\u001b[1;32m    812\u001b[0m     lambda_value\u001b[39m=\u001b[39;49mlambda_value,\n\u001b[1;32m    813\u001b[0m     threshold\u001b[39m=\u001b[39;49m\u001b[39mself\u001b[39;49m\u001b[39m.\u001b[39;49mbootstrap_threshold,\n\u001b[1;32m    814\u001b[0m     random_state\u001b[39m=\u001b[39;49m\u001b[39mself\u001b[39;49m\u001b[39m.\u001b[39;49mrandom_state\n\u001b[1;32m    815\u001b[0m )\n\u001b[1;32m    816\u001b[0m   \u001b[39mfor\u001b[39;49;00m subsample_indices \u001b[39min\u001b[39;49;00m bootstrap_indices\n\u001b[1;32m    817\u001b[0m   )\n\u001b[1;32m    819\u001b[0m \u001b[39mif\u001b[39;00m \u001b[39mself\u001b[39m\u001b[39m.\u001b[39martificial_type \u001b[39mis\u001b[39;00m \u001b[39mnot\u001b[39;00m \u001b[39mNone\u001b[39;00m:\n\u001b[1;32m    820\u001b[0m     \u001b[39mself\u001b[39m\u001b[39m.\u001b[39mstabl_scores_artificial_[:, idx] \u001b[39m=\u001b[39m np\u001b[39m.\u001b[39mvstack(selected_variables)[:, n_features:]\u001b[39m.\u001b[39mmean(axis\u001b[39m=\u001b[39m\u001b[39m0\u001b[39m)\n",
      "File \u001b[0;32m~/Stabl/.venv/lib/python3.9/site-packages/joblib/parallel.py:1098\u001b[0m, in \u001b[0;36mParallel.__call__\u001b[0;34m(self, iterable)\u001b[0m\n\u001b[1;32m   1095\u001b[0m     \u001b[39mself\u001b[39m\u001b[39m.\u001b[39m_iterating \u001b[39m=\u001b[39m \u001b[39mFalse\u001b[39;00m\n\u001b[1;32m   1097\u001b[0m \u001b[39mwith\u001b[39;00m \u001b[39mself\u001b[39m\u001b[39m.\u001b[39m_backend\u001b[39m.\u001b[39mretrieval_context():\n\u001b[0;32m-> 1098\u001b[0m     \u001b[39mself\u001b[39;49m\u001b[39m.\u001b[39;49mretrieve()\n\u001b[1;32m   1099\u001b[0m \u001b[39m# Make sure that we get a last message telling us we are done\u001b[39;00m\n\u001b[1;32m   1100\u001b[0m elapsed_time \u001b[39m=\u001b[39m time\u001b[39m.\u001b[39mtime() \u001b[39m-\u001b[39m \u001b[39mself\u001b[39m\u001b[39m.\u001b[39m_start_time\n",
      "File \u001b[0;32m~/Stabl/.venv/lib/python3.9/site-packages/joblib/parallel.py:970\u001b[0m, in \u001b[0;36mParallel.retrieve\u001b[0;34m(self)\u001b[0m\n\u001b[1;32m    966\u001b[0m     \u001b[39mcontinue\u001b[39;00m\n\u001b[1;32m    967\u001b[0m \u001b[39m# We need to be careful: the job list can be filling up as\u001b[39;00m\n\u001b[1;32m    968\u001b[0m \u001b[39m# we empty it and Python list are not thread-safe by default hence\u001b[39;00m\n\u001b[1;32m    969\u001b[0m \u001b[39m# the use of the lock\u001b[39;00m\n\u001b[0;32m--> 970\u001b[0m \u001b[39mwith\u001b[39;00m \u001b[39mself\u001b[39m\u001b[39m.\u001b[39m_lock:\n\u001b[1;32m    971\u001b[0m     job \u001b[39m=\u001b[39m \u001b[39mself\u001b[39m\u001b[39m.\u001b[39m_jobs\u001b[39m.\u001b[39mpop(\u001b[39m0\u001b[39m)\n\u001b[1;32m    973\u001b[0m \u001b[39mtry\u001b[39;00m:\n",
      "\u001b[0;31mKeyboardInterrupt\u001b[0m: "
     ]
    }
   ],
   "source": [
    "predictions_dict = single_omic_stabl_cv(\n",
    "    X=X_train,\n",
    "    y=y_train,\n",
    "    outer_splitter=outer_splitter,\n",
    "    stabl=stabl,\n",
    "    stability_selection=stability_selection,\n",
    "    task_type=\"binary\",\n",
    "    save_path=result_folder,\n",
    "    outer_groups=None\n",
    ")"
   ]
  },
  {
   "attachments": {},
   "cell_type": "markdown",
   "id": "017ca697-569a-4996-927d-adf7c9ec7565",
   "metadata": {},
   "source": [
    "# Tables of features"
   ]
  },
  {
   "cell_type": "code",
   "execution_count": 8,
   "id": "42866cb9-02ca-4d2b-8739-609a96ee367c",
   "metadata": {
    "tags": []
   },
   "outputs": [],
   "source": [
    "selected_features_dict = dict()\n",
    "for model in [\"STABL\", \"Lasso\", \"Lasso 1SE\", \"ElasticNet\", \"SS 03\", \"SS 05\", \"SS 08\"]:\n",
    "    path = Path(result_folder, \"Training-Validation\", f\"{model} coefficients.csv\")\n",
    "    try:\n",
    "        selected_features_dict[model] = list(pd.read_csv(path, index_col=0).iloc[:, 0].index)\n",
    "    except:\n",
    "        selected_features_dict[model] = []"
   ]
  },
  {
   "cell_type": "code",
   "execution_count": 9,
   "id": "feafb92f",
   "metadata": {},
   "outputs": [],
   "source": [
    "features_table = compute_features_table(\n",
    "    selected_features_dict,\n",
    "    X_train=X_train,\n",
    "    y_train=y_train,\n",
    "    X_test=X_val,\n",
    "    y_test=y_val,\n",
    "    task_type=\"binary\")"
   ]
  },
  {
   "cell_type": "code",
   "execution_count": 12,
   "id": "50bee53d-a56c-4118-a6c5-6b74f22c67c6",
   "metadata": {
    "tags": []
   },
   "outputs": [],
   "source": [
    "import os\n",
    "\n",
    "os.makedirs(Path(result_folder, \"Training-Validation\"))\n",
    "features_table.to_csv(Path(result_folder, \"Training-Validation\", \"Table of features.csv\"))"
   ]
  },
  {
   "cell_type": "code",
   "execution_count": 4,
   "id": "9b615fc5",
   "metadata": {},
   "outputs": [
    {
     "name": "stdout",
     "output_type": "stream",
     "text": [
      "['', 'ROC AUC', 'Average Precision', 'N features', 'CVS']\n",
      "['STABL', '0.871 [0.770, 0.951]', '0.785 [0.618, 0.936]', '7.500 [5.000, 13.250]', '0.222 [0.154, 0.294]']\n",
      "['SS 03', '0.847 [0.739, 0.938] (p=0.281)', '0.755 [0.563, 0.923] (p=0.316)', '3.500 [2.000, 4.000] (p=6.237e-19)', '0.200 [0.100, 0.333] (p=5.364e-14)']\n",
      "['SS 05', '0.480 [0.432, 0.500] (p=0.0)', '0.359 [0.250, 0.478] (p=0.0)', '0.000 [0.000, 1.000] (p=6.859e-36)', '0.000 [0.000, 0.000] (p=0.000e+00)']\n",
      "['SS 08', '0.500 [0.500, 0.500] (p=0.0)', '0.368 [0.265, 0.485] (p=0.0)', '0.000 [0.000, 0.000] (p=5.233e-39)', '0.000 [0.000, 0.000] (p=0.000e+00)']\n",
      "['Lasso', '0.855 [0.739, 0.954] (p=0.367)', '0.829 [0.675, 0.936] (p=0.33)', '21.500 [8.000, 105.250] (p=6.825e-09)', '0.105 [0.043, 0.217] (p=0.000e+00)']\n",
      "['Lasso 1SE', '0.854 [0.747, 0.943] (p=0.362)', '0.823 [0.675, 0.932] (p=0.338)', '22.000 [5.000, 103.250] (p=3.913e-05)', '0.071 [0.011, 0.200] (p=0.000e+00)']\n",
      "['ElasticNet', '0.859 [0.738, 0.957] (p=0.411)', '0.811 [0.644, 0.941] (p=0.388)', '31.000 [18.750, 845.000] (p=6.189e-25)', '0.113 [0.021, 0.286] (p=1.387e-148)']\n"
     ]
    }
   ],
   "source": [
    "import csv\n",
    "\n",
    "# Lecture du fichier CSV\n",
    "with open('/Users/jonasamar/Stabl/Notebook examples/Results COVID-19/Summary/Scores training CV.csv', newline='') as csvfile:\n",
    "    reader = csv.reader(csvfile)\n",
    "    for row in reader:\n",
    "        print(row)"
   ]
  },
  {
   "cell_type": "code",
   "execution_count": 38,
   "id": "635cedf3",
   "metadata": {},
   "outputs": [],
   "source": [
    "from PyPDF2 import PdfReader\n",
    "\n",
    "def get_pvalue_from_Boxplot(model):\n",
    "    reader = PdfReader('/Users/jonasamar/Stabl/Notebook examples/Results COVID-19/Training CV/' + model + '/' + model + ' Boxplot of median predictions.pdf')            \n",
    "    # getting a specific page from the pdf file\n",
    "    page = reader.pages[0]\n",
    "\n",
    "    # extracting text from page\n",
    "    text = page.extract_text()\n",
    "    start_index = text.find('U-test pvalue = ') + len('U-test pvalue = ')\n",
    "    end_index = text.find('\\n', start_index)\n",
    "    return text[start_index:end_index]"
   ]
  },
  {
   "cell_type": "code",
   "execution_count": 39,
   "id": "f3c1e896",
   "metadata": {},
   "outputs": [],
   "source": [
    "# Modifying a csv file to add the U-test pvalue\n",
    "with open('/Users/jonasamar/Stabl/Notebook examples/Results COVID-19/Summary/Scores training CV.csv', newline='') as csvfile:\n",
    "    reader = csv.reader(csvfile)\n",
    "    with open('/Users/jonasamar/Stabl/Notebook examples/Results COVID-19/Summary/Scores training CV (2).csv', mode='w', newline='') as new_csvfile:\n",
    "        writer = csv.writer(new_csvfile)\n",
    "        for i, row in enumerate(reader):\n",
    "            # modified values\n",
    "            if i == 0:\n",
    "                row.append('U-test pvalue')\n",
    "            else:\n",
    "                model = row[0]\n",
    "                row.append(get_pvalue_from_Boxplot(model))\n",
    "            writer.writerow(row)"
   ]
  },
  {
   "cell_type": "code",
   "execution_count": null,
   "id": "2dba3ead",
   "metadata": {},
   "outputs": [],
   "source": []
  }
 ],
 "metadata": {
  "instance_type": "ml.c5.2xlarge",
  "kernelspec": {
   "display_name": ".venv",
   "language": "python",
   "name": "python3"
  },
  "language_info": {
   "codemirror_mode": {
    "name": "ipython",
    "version": 3
   },
   "file_extension": ".py",
   "mimetype": "text/x-python",
   "name": "python",
   "nbconvert_exporter": "python",
   "pygments_lexer": "ipython3",
   "version": "3.9.5"
  },
  "lcc_arn": "arn:aws:sagemaker:us-east-1:011021124722:studio-lifecycle-config/pip-install-kernel",
  "toc": {
   "base_numbering": 1,
   "nav_menu": {},
   "number_sections": true,
   "sideBar": true,
   "skip_h1_title": false,
   "title_cell": "Table of Contents",
   "title_sidebar": "Contents",
   "toc_cell": false,
   "toc_position": {
    "height": "calc(100% - 180px)",
    "left": "10px",
    "top": "150px",
    "width": "384px"
   },
   "toc_section_display": true,
   "toc_window_display": true
  },
  "vscode": {
   "interpreter": {
    "hash": "d79ce8a9c567bcd5b807d9facb16a9b5bb341f8ca04ba03de5d1f0eaaf8a7151"
   }
  }
 },
 "nbformat": 4,
 "nbformat_minor": 5
}
