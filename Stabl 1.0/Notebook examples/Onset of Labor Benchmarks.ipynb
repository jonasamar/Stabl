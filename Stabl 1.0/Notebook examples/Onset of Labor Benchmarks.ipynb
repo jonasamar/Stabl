{
 "cells": [
  {
   "cell_type": "code",
   "execution_count": 1,
   "id": "59c8aa51",
   "metadata": {},
   "outputs": [],
   "source": [
    "import warnings\n",
    "warnings.filterwarnings('ignore')"
   ]
  },
  {
   "attachments": {},
   "cell_type": "markdown",
   "id": "4988b56c",
   "metadata": {},
   "source": [
    "# Libraries"
   ]
  },
  {
   "cell_type": "code",
   "execution_count": 2,
   "id": "ed777ae1",
   "metadata": {
    "tags": []
   },
   "outputs": [],
   "source": [
    "import numpy as np\n",
    "import pandas as pd\n",
    "from pathlib import Path\n",
    "\n",
    "from sklearn.model_selection import GroupShuffleSplit\n",
    "from sklearn.base import clone\n",
    "from sklearn.linear_model import Lasso\n",
    "\n",
    "from stabl.stabl import Stabl, plot_stabl_path, plot_fdr_graph, save_stabl_results\n",
    "from stabl.preprocessing import LowInfoFilter, remove_low_info_samples\n",
    "\n",
    "%config InlineBackend.figure_formats=['retina']"
   ]
  },
  {
   "cell_type": "code",
   "execution_count": 3,
   "id": "ebdae33c",
   "metadata": {
    "tags": []
   },
   "outputs": [],
   "source": [
    "from stabl.multi_omic_pipelines import multi_omic_stabl, multi_omic_stabl_cv, late_fusion_lasso_cv\n",
    "from stabl.single_omic_pipelines import single_omic_stabl, single_omic_stabl_cv\n",
    "from stabl.pipelines_utils import compute_features_table"
   ]
  },
  {
   "attachments": {},
   "cell_type": "markdown",
   "id": "9f9ba553",
   "metadata": {},
   "source": [
    "# Data"
   ]
  },
  {
   "attachments": {},
   "cell_type": "markdown",
   "id": "a167cacd",
   "metadata": {},
   "source": [
    "## Training Data"
   ]
  },
  {
   "cell_type": "code",
   "execution_count": 6,
   "id": "c8865975",
   "metadata": {
    "tags": []
   },
   "outputs": [],
   "source": [
    "y_train = pd.read_csv(\"../Sample Data/Onset of Labor/Training/DOS.csv\", index_col=0).DOS\n",
    "patients_id = pd.read_csv(\"../Sample Data/Onset of Labor/Training/ID.csv\",index_col=0).Id\n",
    "\n",
    "# y_train.to_csv(\"../Sample Data/Onset of Labor/Training/y.csv\")\n",
    "# patients_id.to_csv(\"../Sample Data/Onset of Labor/Training/outer_groups.csv\")\n",
    "\n",
    "\n",
    "meta_train = pd.read_csv(\"../Sample Data/Onset of Labor/Training/Metabolomics.csv\", index_col=0)\n",
    "cyto_train = pd.read_csv(\"../Sample Data/Onset of Labor/Training/CyTOF.csv\", index_col=0)\n",
    "prot_train = pd.read_csv(\"../Sample Data/Onset of Labor/Training/Proteomics.csv\", index_col=0)"
   ]
  },
  {
   "attachments": {},
   "cell_type": "markdown",
   "id": "8629885c",
   "metadata": {},
   "source": [
    "## Validation Data"
   ]
  },
  {
   "cell_type": "code",
   "execution_count": 5,
   "id": "76c19361",
   "metadata": {},
   "outputs": [],
   "source": [
    "y_test = pd.read_csv(\"../Sample Data/Onset of Labor/Validation/DOS_validation.csv\",index_col=0).DOS\n",
    "cyto_test = pd.read_csv(\"../Sample Data/Onset of Labor/Validation/CyTOF_validation.csv\", index_col=0)\n",
    "prot_test = pd.read_csv(\"../Sample Data/Onset of Labor/Validation/Proteomics_validation.csv\", index_col=0)"
   ]
  },
  {
   "attachments": {},
   "cell_type": "markdown",
   "id": "7be87bf6",
   "metadata": {},
   "source": [
    "## Data dictionaries"
   ]
  },
  {
   "attachments": {},
   "cell_type": "markdown",
   "id": "dcc220d0",
   "metadata": {},
   "source": [
    "We will define here different dictionaries depending on if we use validation or not"
   ]
  },
  {
   "cell_type": "code",
   "execution_count": 6,
   "id": "d4310a66",
   "metadata": {
    "tags": []
   },
   "outputs": [],
   "source": [
    "train_data_dict = {\n",
    "    \"CyTOF\": cyto_train,\n",
    "    \"Proteomics\": prot_train,\n",
    "    \"Metabolomics\": meta_train\n",
    "}\n",
    "\n",
    "train_data_dict_red = {\n",
    "    \"CyTOF\": cyto_train,\n",
    "    \"Proteomics\": prot_train\n",
    "}\n",
    "\n",
    "test_data_dict = {\n",
    "    \"CyTOF\": cyto_test,\n",
    "    \"Proteomics\": prot_test\n",
    "}"
   ]
  },
  {
   "attachments": {},
   "cell_type": "markdown",
   "id": "ada6f225",
   "metadata": {},
   "source": [
    "# Results folder"
   ]
  },
  {
   "cell_type": "code",
   "execution_count": 7,
   "id": "cc4081b0",
   "metadata": {
    "tags": []
   },
   "outputs": [],
   "source": [
    "result_folder = \"./Results Onset of Labor\""
   ]
  },
  {
   "attachments": {},
   "cell_type": "markdown",
   "id": "2640444c",
   "metadata": {},
   "source": [
    "# Multi-omic Training-CV"
   ]
  },
  {
   "cell_type": "code",
   "execution_count": 8,
   "id": "7f2a67d6",
   "metadata": {
    "tags": []
   },
   "outputs": [],
   "source": [
    "lasso = Lasso(max_iter=int(1e6))  # Redefining the base model as we are in the regressio case\n",
    "\n",
    "stabl = Stabl(\n",
    "    base_estimator=clone(lasso),\n",
    "    lambda_name='alpha',\n",
    "    lambda_grid=np.logspace(0, 2, 10),\n",
    "    n_bootstraps=300,\n",
    "    artificial_proportion=1.,\n",
    "    artificial_type=\"random_permutation\",\n",
    "    replace=False,\n",
    "    fdr_threshold_range=np.arange(0.1, 1, 0.01),\n",
    "    sample_fraction=.5,\n",
    "    random_state=42\n",
    ")\n",
    "\n",
    "outer_splitter = GroupShuffleSplit(n_splits=100, test_size=.2, random_state=42)\n",
    "\n",
    "stability_selection = clone(stabl).set_params(artificial_type=None, hard_threshold=.3)"
   ]
  },
  {
   "cell_type": "code",
   "execution_count": 1,
   "id": "2d933af7",
   "metadata": {
    "scrolled": true,
    "tags": []
   },
   "outputs": [],
   "source": [
    "predictions_dict = multi_omic_stabl_cv(\n",
    "    data_dict=train_data_dict,\n",
    "    y=y_train,\n",
    "    outer_splitter=outer_splitter,\n",
    "    stabl=stabl,\n",
    "    stability_selection=stability_selection,\n",
    "    task_type=\"regression\",\n",
    "    save_path=Path(result_folder, \"Cytof_Prot_Meta\"),\n",
    "    outer_groups=patients_id\n",
    ")"
   ]
  },
  {
   "attachments": {},
   "cell_type": "markdown",
   "id": "90e68587",
   "metadata": {},
   "source": [
    "# Multi-omic Training (Cytof+Prot+Meta)"
   ]
  },
  {
   "cell_type": "code",
   "execution_count": 10,
   "id": "f0dc1407",
   "metadata": {
    "tags": []
   },
   "outputs": [],
   "source": [
    "stabl_multi = Stabl(\n",
    "    base_estimator=lasso,\n",
    "    lambda_name='alpha',\n",
    "    lambda_grid=np.logspace(0, 2, 30),\n",
    "    n_bootstraps=1000,\n",
    "    artificial_proportion=1.,\n",
    "    artificial_type=\"random_permutation\",\n",
    "    replace=False,\n",
    "    fdr_threshold_range=np.arange(0.2, 1, 0.01),\n",
    "    sample_fraction=.5,\n",
    "    random_state=42\n",
    ")\n",
    "\n",
    "stability_selection = clone(stabl_multi).set_params(artificial_type=None, hard_threshold=.1)"
   ]
  },
  {
   "cell_type": "code",
   "execution_count": 11,
   "id": "7266dc63",
   "metadata": {
    "tags": []
   },
   "outputs": [
    {
     "name": "stderr",
     "output_type": "stream",
     "text": [
      "                                                               18<00:00,  4.53s/it]\r"
     ]
    },
    {
     "name": "stdout",
     "output_type": "stream",
     "text": [
      "STABL finished on CyTOF; 2 features selected\n"
     ]
    },
    {
     "name": "stderr",
     "output_type": "stream",
     "text": [
      "                                                               23<00:00, 47.08s/it]\r"
     ]
    },
    {
     "name": "stdout",
     "output_type": "stream",
     "text": [
      "STABL finished on Proteomics; 17 features selected\n"
     ]
    },
    {
     "name": "stderr",
     "output_type": "stream",
     "text": [
      "                                                               14<00:00, 66.34s/it]\r"
     ]
    },
    {
     "name": "stdout",
     "output_type": "stream",
     "text": [
      "STABL finished on Metabolomics; 11 features selected\n"
     ]
    },
    {
     "name": "stderr",
     "output_type": "stream",
     "text": [
      "                                                               58<00:00, 51.38s/it]\r"
     ]
    }
   ],
   "source": [
    "predictions_dict = multi_omic_stabl(\n",
    "    data_dict=train_data_dict,\n",
    "    y=y_train,\n",
    "    stabl=stabl_multi,\n",
    "    stability_selection=stability_selection,\n",
    "    task_type=\"regression\",\n",
    "    save_path=Path(result_folder, \"Cytof_Prot_Meta\"),\n",
    ")"
   ]
  },
  {
   "attachments": {},
   "cell_type": "markdown",
   "id": "4a372416",
   "metadata": {},
   "source": [
    "# Multi-omic Training-Validation (Cytof+Prot)"
   ]
  },
  {
   "cell_type": "code",
   "execution_count": 12,
   "id": "d2b42a8a",
   "metadata": {
    "tags": []
   },
   "outputs": [],
   "source": [
    "stabl_multi = Stabl(\n",
    "    base_estimator=lasso,\n",
    "    lambda_name='alpha',\n",
    "    lambda_grid=np.logspace(0, 2, 30),\n",
    "    n_bootstraps=1000,\n",
    "    artificial_proportion=1.,\n",
    "    artificial_type=\"random_permutation\",\n",
    "    replace=False,\n",
    "    fdr_threshold_range=np.arange(0.2, 1, 0.01),\n",
    "    sample_fraction=.5,\n",
    "    random_state=42\n",
    ")\n",
    "\n",
    "stability_selection = clone(stabl_multi).set_params(artificial_type=None, hard_threshold=.1)"
   ]
  },
  {
   "cell_type": "code",
   "execution_count": 13,
   "id": "34209157",
   "metadata": {
    "tags": []
   },
   "outputs": [
    {
     "name": "stderr",
     "output_type": "stream",
     "text": [
      "                                                               55<00:00,  4.85s/it]\r"
     ]
    },
    {
     "name": "stdout",
     "output_type": "stream",
     "text": [
      "STABL finished on CyTOF; 2 features selected\n"
     ]
    },
    {
     "name": "stderr",
     "output_type": "stream",
     "text": [
      "                                                               25<00:00, 45.67s/it]\r"
     ]
    },
    {
     "name": "stdout",
     "output_type": "stream",
     "text": [
      "STABL finished on Proteomics; 17 features selected\n"
     ]
    },
    {
     "name": "stderr",
     "output_type": "stream",
     "text": [
      "                                                               47<00:00,  5.53s/it]\r"
     ]
    }
   ],
   "source": [
    "predictions_dict = multi_omic_stabl(\n",
    "    data_dict=train_data_dict_red,\n",
    "    y=y_train,\n",
    "    stabl=stabl_multi,\n",
    "    stability_selection=stability_selection,\n",
    "    task_type=\"regression\",\n",
    "    save_path=Path(result_folder, \"Cytof_Prot\"),\n",
    "    X_test=pd.concat(test_data_dict.values(),axis=1),\n",
    "    y_test=y_test\n",
    ")"
   ]
  },
  {
   "attachments": {},
   "cell_type": "markdown",
   "id": "0b99bb77-4834-4fe0-9003-d4cac805ab78",
   "metadata": {},
   "source": [
    "# Late fusion Lasso"
   ]
  },
  {
   "cell_type": "code",
   "execution_count": 14,
   "id": "51f91bc0-678a-4578-8740-99b0656f50e2",
   "metadata": {
    "tags": []
   },
   "outputs": [
    {
     "name": "stdout",
     "output_type": "stream",
     "text": [
      "Omic CyTOF\n",
      "Iteration 1 over 100\n",
      "Iteration 2 over 100\n",
      "Iteration 3 over 100\n",
      "Iteration 4 over 100\n",
      "Iteration 5 over 100\n",
      "Iteration 6 over 100\n",
      "Iteration 7 over 100\n",
      "Iteration 8 over 100\n",
      "Iteration 9 over 100\n",
      "Iteration 10 over 100\n",
      "Iteration 11 over 100\n",
      "Iteration 12 over 100\n",
      "Iteration 13 over 100\n",
      "Iteration 14 over 100\n",
      "Iteration 15 over 100\n",
      "Iteration 16 over 100\n",
      "Iteration 17 over 100\n",
      "Iteration 18 over 100\n",
      "Iteration 19 over 100\n",
      "Iteration 20 over 100\n",
      "Iteration 21 over 100\n",
      "Iteration 22 over 100\n",
      "Iteration 23 over 100\n",
      "Iteration 24 over 100\n",
      "Iteration 25 over 100\n",
      "Iteration 26 over 100\n",
      "Iteration 27 over 100\n",
      "Iteration 28 over 100\n",
      "Iteration 29 over 100\n",
      "Iteration 30 over 100\n",
      "Iteration 31 over 100\n",
      "Iteration 32 over 100\n",
      "Iteration 33 over 100\n",
      "Iteration 34 over 100\n",
      "Iteration 35 over 100\n",
      "Iteration 36 over 100\n",
      "Iteration 37 over 100\n",
      "Iteration 38 over 100\n",
      "Iteration 39 over 100\n",
      "Iteration 40 over 100\n",
      "Iteration 41 over 100\n",
      "Iteration 42 over 100\n",
      "Iteration 43 over 100\n",
      "Iteration 44 over 100\n",
      "Iteration 45 over 100\n",
      "Iteration 46 over 100\n",
      "Iteration 47 over 100\n",
      "Iteration 48 over 100\n",
      "Iteration 49 over 100\n",
      "Iteration 50 over 100\n",
      "Iteration 51 over 100\n",
      "Iteration 52 over 100\n",
      "Iteration 53 over 100\n",
      "Iteration 54 over 100\n",
      "Iteration 55 over 100\n",
      "Iteration 56 over 100\n",
      "Iteration 57 over 100\n",
      "Iteration 58 over 100\n",
      "Iteration 59 over 100\n",
      "Iteration 60 over 100\n",
      "Iteration 61 over 100\n",
      "Iteration 62 over 100\n",
      "Iteration 63 over 100\n",
      "Iteration 64 over 100\n",
      "Iteration 65 over 100\n",
      "Iteration 66 over 100\n",
      "Iteration 67 over 100\n",
      "Iteration 68 over 100\n",
      "Iteration 69 over 100\n",
      "Iteration 70 over 100\n",
      "Iteration 71 over 100\n",
      "Iteration 72 over 100\n",
      "Iteration 73 over 100\n",
      "Iteration 74 over 100\n",
      "Iteration 75 over 100\n",
      "Iteration 76 over 100\n",
      "Iteration 77 over 100\n",
      "Iteration 78 over 100\n",
      "Iteration 79 over 100\n",
      "Iteration 80 over 100\n",
      "Iteration 81 over 100\n",
      "Iteration 82 over 100\n",
      "Iteration 83 over 100\n",
      "Iteration 84 over 100\n",
      "Iteration 85 over 100\n",
      "Iteration 86 over 100\n",
      "Iteration 87 over 100\n",
      "Iteration 88 over 100\n",
      "Iteration 89 over 100\n",
      "Iteration 90 over 100\n",
      "Iteration 91 over 100\n",
      "Iteration 92 over 100\n",
      "Iteration 93 over 100\n",
      "Iteration 94 over 100\n",
      "Iteration 95 over 100\n",
      "Iteration 96 over 100\n",
      "Iteration 97 over 100\n",
      "Iteration 98 over 100\n",
      "Iteration 99 over 100\n",
      "Iteration 100 over 100\n",
      "Omic Proteomics\n",
      "Iteration 1 over 100\n",
      "Iteration 2 over 100\n",
      "Iteration 3 over 100\n",
      "Iteration 4 over 100\n",
      "Iteration 5 over 100\n",
      "Iteration 6 over 100\n",
      "Iteration 7 over 100\n",
      "Iteration 8 over 100\n",
      "Iteration 9 over 100\n",
      "Iteration 10 over 100\n",
      "Iteration 11 over 100\n",
      "Iteration 12 over 100\n",
      "Iteration 13 over 100\n",
      "Iteration 14 over 100\n",
      "Iteration 15 over 100\n",
      "Iteration 16 over 100\n",
      "Iteration 17 over 100\n",
      "Iteration 18 over 100\n",
      "Iteration 19 over 100\n",
      "Iteration 20 over 100\n",
      "Iteration 21 over 100\n",
      "Iteration 22 over 100\n",
      "Iteration 23 over 100\n",
      "Iteration 24 over 100\n",
      "Iteration 25 over 100\n",
      "Iteration 26 over 100\n",
      "Iteration 27 over 100\n",
      "Iteration 28 over 100\n",
      "Iteration 29 over 100\n",
      "Iteration 30 over 100\n",
      "Iteration 31 over 100\n",
      "Iteration 32 over 100\n",
      "Iteration 33 over 100\n",
      "Iteration 34 over 100\n",
      "Iteration 35 over 100\n",
      "Iteration 36 over 100\n",
      "Iteration 37 over 100\n",
      "Iteration 38 over 100\n",
      "Iteration 39 over 100\n",
      "Iteration 40 over 100\n",
      "Iteration 41 over 100\n",
      "Iteration 42 over 100\n",
      "Iteration 43 over 100\n",
      "Iteration 44 over 100\n",
      "Iteration 45 over 100\n",
      "Iteration 46 over 100\n",
      "Iteration 47 over 100\n",
      "Iteration 48 over 100\n",
      "Iteration 49 over 100\n",
      "Iteration 50 over 100\n",
      "Iteration 51 over 100\n",
      "Iteration 52 over 100\n",
      "Iteration 53 over 100\n",
      "Iteration 54 over 100\n",
      "Iteration 55 over 100\n",
      "Iteration 56 over 100\n",
      "Iteration 57 over 100\n",
      "Iteration 58 over 100\n",
      "Iteration 59 over 100\n",
      "Iteration 60 over 100\n",
      "Iteration 61 over 100\n",
      "Iteration 62 over 100\n",
      "Iteration 63 over 100\n",
      "Iteration 64 over 100\n",
      "Iteration 65 over 100\n",
      "Iteration 66 over 100\n",
      "Iteration 67 over 100\n",
      "Iteration 68 over 100\n",
      "Iteration 69 over 100\n",
      "Iteration 70 over 100\n",
      "Iteration 71 over 100\n",
      "Iteration 72 over 100\n",
      "Iteration 73 over 100\n",
      "Iteration 74 over 100\n",
      "Iteration 75 over 100\n",
      "Iteration 76 over 100\n",
      "Iteration 77 over 100\n",
      "Iteration 78 over 100\n",
      "Iteration 79 over 100\n",
      "Iteration 80 over 100\n",
      "Iteration 81 over 100\n",
      "Iteration 82 over 100\n",
      "Iteration 83 over 100\n",
      "Iteration 84 over 100\n",
      "Iteration 85 over 100\n",
      "Iteration 86 over 100\n",
      "Iteration 87 over 100\n",
      "Iteration 88 over 100\n",
      "Iteration 89 over 100\n",
      "Iteration 90 over 100\n",
      "Iteration 91 over 100\n",
      "Iteration 92 over 100\n",
      "Iteration 93 over 100\n",
      "Iteration 94 over 100\n",
      "Iteration 95 over 100\n",
      "Iteration 96 over 100\n",
      "Iteration 97 over 100\n",
      "Iteration 98 over 100\n",
      "Iteration 99 over 100\n",
      "Iteration 100 over 100\n",
      "Omic Metabolomics\n",
      "Iteration 1 over 100\n",
      "Iteration 2 over 100\n",
      "Iteration 3 over 100\n",
      "Iteration 4 over 100\n",
      "Iteration 5 over 100\n",
      "Iteration 6 over 100\n",
      "Iteration 7 over 100\n",
      "Iteration 8 over 100\n",
      "Iteration 9 over 100\n",
      "Iteration 10 over 100\n",
      "Iteration 11 over 100\n",
      "Iteration 12 over 100\n",
      "Iteration 13 over 100\n",
      "Iteration 14 over 100\n",
      "Iteration 15 over 100\n",
      "Iteration 16 over 100\n",
      "Iteration 17 over 100\n",
      "Iteration 18 over 100\n",
      "Iteration 19 over 100\n",
      "Iteration 20 over 100\n",
      "Iteration 21 over 100\n",
      "Iteration 22 over 100\n",
      "Iteration 23 over 100\n",
      "Iteration 24 over 100\n",
      "Iteration 25 over 100\n",
      "Iteration 26 over 100\n",
      "Iteration 27 over 100\n",
      "Iteration 28 over 100\n",
      "Iteration 29 over 100\n",
      "Iteration 30 over 100\n",
      "Iteration 31 over 100\n",
      "Iteration 32 over 100\n",
      "Iteration 33 over 100\n",
      "Iteration 34 over 100\n",
      "Iteration 35 over 100\n",
      "Iteration 36 over 100\n",
      "Iteration 37 over 100\n",
      "Iteration 38 over 100\n",
      "Iteration 39 over 100\n",
      "Iteration 40 over 100\n",
      "Iteration 41 over 100\n",
      "Iteration 42 over 100\n",
      "Iteration 43 over 100\n",
      "Iteration 44 over 100\n",
      "Iteration 45 over 100\n",
      "Iteration 46 over 100\n",
      "Iteration 47 over 100\n",
      "Iteration 48 over 100\n",
      "Iteration 49 over 100\n",
      "Iteration 50 over 100\n",
      "Iteration 51 over 100\n",
      "Iteration 52 over 100\n",
      "Iteration 53 over 100\n",
      "Iteration 54 over 100\n",
      "Iteration 55 over 100\n",
      "Iteration 56 over 100\n",
      "Iteration 57 over 100\n",
      "Iteration 58 over 100\n",
      "Iteration 59 over 100\n",
      "Iteration 60 over 100\n",
      "Iteration 61 over 100\n",
      "Iteration 62 over 100\n",
      "Iteration 63 over 100\n",
      "Iteration 64 over 100\n",
      "Iteration 65 over 100\n",
      "Iteration 66 over 100\n",
      "Iteration 67 over 100\n",
      "Iteration 68 over 100\n",
      "Iteration 69 over 100\n",
      "Iteration 70 over 100\n",
      "Iteration 71 over 100\n",
      "Iteration 72 over 100\n",
      "Iteration 73 over 100\n",
      "Iteration 74 over 100\n",
      "Iteration 75 over 100\n",
      "Iteration 76 over 100\n",
      "Iteration 77 over 100\n",
      "Iteration 78 over 100\n",
      "Iteration 79 over 100\n",
      "Iteration 80 over 100\n",
      "Iteration 81 over 100\n",
      "Iteration 82 over 100\n",
      "Iteration 83 over 100\n",
      "Iteration 84 over 100\n",
      "Iteration 85 over 100\n",
      "Iteration 86 over 100\n",
      "Iteration 87 over 100\n",
      "Iteration 88 over 100\n",
      "Iteration 89 over 100\n",
      "Iteration 90 over 100\n",
      "Iteration 91 over 100\n",
      "Iteration 92 over 100\n",
      "Iteration 93 over 100\n",
      "Iteration 94 over 100\n",
      "Iteration 95 over 100\n",
      "Iteration 96 over 100\n",
      "Iteration 97 over 100\n",
      "Iteration 98 over 100\n",
      "Iteration 99 over 100\n",
      "Iteration 100 over 100\n"
     ]
    }
   ],
   "source": [
    "late_fusion_lasso_cv(\n",
    "    train_data_dict=train_data_dict,\n",
    "    y=y_train,\n",
    "    outer_splitter=outer_splitter,\n",
    "    task_type=\"regression\",\n",
    "    save_path=Path(result_folder, \"Cytof_Prot_Meta\"),\n",
    "    groups=patients_id\n",
    ")"
   ]
  },
  {
   "attachments": {},
   "cell_type": "markdown",
   "id": "dfe92665-cef4-4665-ba16-404f55cfcfd4",
   "metadata": {},
   "source": [
    "# Table of features"
   ]
  },
  {
   "attachments": {},
   "cell_type": "markdown",
   "id": "7393c5ec",
   "metadata": {},
   "source": [
    "## Table of features for Cytof+Prot+Meta case"
   ]
  },
  {
   "cell_type": "code",
   "execution_count": 15,
   "id": "8b23faaa",
   "metadata": {},
   "outputs": [],
   "source": [
    "selected_features_dict = dict()\n",
    "for model in [\"STABL\", \"EF Lasso\", \"SS 03\", \"SS 05\", \"SS 08\"]:\n",
    "    path = Path(result_folder, \"Cytof_Prot_Meta\", \"Training-Validation\", f\"{model} coefficients.csv\")\n",
    "    try:\n",
    "        selected_features_dict[model] = list(pd.read_csv(path, index_col=0).iloc[:, 0].index)\n",
    "    except:\n",
    "        selected_features_dict[model] = []"
   ]
  },
  {
   "cell_type": "code",
   "execution_count": 16,
   "id": "c0c971bd",
   "metadata": {},
   "outputs": [],
   "source": [
    "features_table = compute_features_table(\n",
    "    selected_features_dict,\n",
    "    X_train=pd.concat(train_data_dict.values(), axis=1),\n",
    "    y_train=y_train,\n",
    "    #X_test=pd.concat(test_data_dict.values(), axis=1),\n",
    "    #y_test=y_test,\n",
    "    task_type=\"regression\"\n",
    ")"
   ]
  },
  {
   "cell_type": "code",
   "execution_count": 17,
   "id": "4169ff97",
   "metadata": {},
   "outputs": [],
   "source": [
    "features_table.to_csv(Path(result_folder, \"Cytof_Prot_Meta\", \"Training-Validation\", \"Table of features.csv\"))"
   ]
  },
  {
   "attachments": {},
   "cell_type": "markdown",
   "id": "d9a96fae",
   "metadata": {},
   "source": [
    "## Table of features for Cytof+Prot case (with validation)"
   ]
  },
  {
   "cell_type": "code",
   "execution_count": 18,
   "id": "a0b514bc",
   "metadata": {},
   "outputs": [],
   "source": [
    "selected_features_dict = dict()\n",
    "for model in [\"STABL\", \"EF Lasso\", \"SS 03\", \"SS 05\", \"SS 08\"]:\n",
    "    path = Path(result_folder, \"Cytof_Prot\", \"Training-Validation\", f\"{model} coefficients.csv\")\n",
    "    try:\n",
    "        selected_features_dict[model] = list(pd.read_csv(path, index_col=0).iloc[:, 0].index)\n",
    "    except:\n",
    "        selected_features_dict[model] = []"
   ]
  },
  {
   "cell_type": "code",
   "execution_count": 19,
   "id": "1794379b",
   "metadata": {},
   "outputs": [],
   "source": [
    "features_table = compute_features_table(\n",
    "    selected_features_dict,\n",
    "    X_train=pd.concat(train_data_dict.values(), axis=1),\n",
    "    y_train=y_train,\n",
    "    X_test=pd.concat(test_data_dict.values(), axis=1),\n",
    "    y_test=y_test,\n",
    "    task_type=\"regression\"\n",
    ")"
   ]
  },
  {
   "cell_type": "code",
   "execution_count": 20,
   "id": "8e89a226",
   "metadata": {},
   "outputs": [],
   "source": [
    "features_table.to_csv(Path(result_folder,\"Cytof_Prot\", \"Training-Validation\", \"Table of features.csv\"))"
   ]
  },
  {
   "attachments": {},
   "cell_type": "markdown",
   "id": "ff532f1c",
   "metadata": {},
   "source": [
    "Spearman corr and Pvalue pipeline\n",
    "---"
   ]
  },
  {
   "attachments": {},
   "cell_type": "markdown",
   "id": "f0fb61cb",
   "metadata": {},
   "source": [
    "**Cyto-Prot-Meta**"
   ]
  },
  {
   "cell_type": "code",
   "execution_count": 117,
   "id": "17d2ca2c",
   "metadata": {},
   "outputs": [],
   "source": [
    "from scipy.stats import spearmanr\n",
    "import numpy as np\n",
    "\n",
    "Spearmancorr = {}\n",
    "\n",
    "data_dict = {\n",
    "    \"CyTOF\": pd.concat([cyto_train, cyto_test], axis = 0),\n",
    "    \"Proteomics\": pd.concat([prot_train, prot_test], axis = 0),\n",
    "    \"Metabolomics\": meta_train\n",
    "}\n",
    "X_tot = pd.concat(data_dict.values(), axis=\"columns\")\n",
    "y = pd.concat([y_train, y_test], axis = 0)\n",
    "\n",
    "features = X_tot.columns\n",
    "\n",
    "for feature in features:\n",
    "    \n",
    "    corr, pval = spearmanr(X_tot[feature], y)\n",
    "    Spearmancorr[feature] = [corr, pval]\n",
    "\n",
    "SpearmanPvalue = pd.DataFrame(Spearmancorr).T\n",
    "SpearmanPvalue.columns = ['Spearman corr', 'pvalue']\n",
    "SpearmanPvalue.sort_values('pvalue', inplace=True)\n",
    "SpearmanPvalue.to_csv('/Users/jonasamar/Stabl/Notebook examples/Results Onset of Labor/Cytof_Prot_Meta/Summary/SpearmanCorrelationsPval.csv', index=True)"
   ]
  },
  {
   "cell_type": "code",
   "execution_count": 126,
   "id": "13209348",
   "metadata": {},
   "outputs": [],
   "source": [
    "from stabl.visualization import scatterplot_features\n",
    "\n",
    "scatterplot_features(\n",
    "        SpearmanPvalue[:10].index,\n",
    "        X_tot,\n",
    "        y,\n",
    "        show_fig=False,\n",
    "        export_file=True,\n",
    "        path='/Users/jonasamar/Stabl/Notebook examples/Results Onset of Labor/Cytof_Prot_Meta/Univariate')"
   ]
  },
  {
   "attachments": {},
   "cell_type": "markdown",
   "id": "b82cfcd3",
   "metadata": {},
   "source": [
    "**Cyto-Prot**"
   ]
  },
  {
   "cell_type": "code",
   "execution_count": 128,
   "id": "99bcb1c8",
   "metadata": {},
   "outputs": [],
   "source": [
    "from scipy.stats import spearmanr\n",
    "import numpy as np\n",
    "\n",
    "Spearmancorr = {}\n",
    "\n",
    "data_dict = {\n",
    "    \"CyTOF\": pd.concat([cyto_train, cyto_test], axis = 0),\n",
    "    \"Proteomics\": pd.concat([prot_train, prot_test], axis = 0)\n",
    "}\n",
    "X_tot = pd.concat(data_dict.values(), axis=\"columns\")\n",
    "y = pd.concat([y_train, y_test], axis = 0)\n",
    "\n",
    "features = X_tot.columns\n",
    "\n",
    "for feature in features:\n",
    "    \n",
    "    corr, pval = spearmanr(X_tot[feature], y)\n",
    "    Spearmancorr[feature] = [corr, pval]\n",
    "\n",
    "SpearmanPvalue = pd.DataFrame(Spearmancorr).T\n",
    "SpearmanPvalue.columns = ['Spearman corr', 'pvalue']\n",
    "SpearmanPvalue.sort_values('pvalue', inplace=True)\n",
    "SpearmanPvalue.to_csv('/Users/jonasamar/Stabl/Notebook examples/Results Onset of Labor/Cytof_Prot/Summary/SpearmanCorrelationsPval.csv', index=True)"
   ]
  },
  {
   "cell_type": "code",
   "execution_count": 129,
   "id": "fcd2c8da",
   "metadata": {},
   "outputs": [],
   "source": [
    "from stabl.visualization import scatterplot_features\n",
    "\n",
    "scatterplot_features(\n",
    "        SpearmanPvalue[:10].index,\n",
    "        X_tot,\n",
    "        y,\n",
    "        show_fig=False,\n",
    "        export_file=True,\n",
    "        path='/Users/jonasamar/Stabl/Notebook examples/Results Onset of Labor/Cytof_Prot/Univariate')"
   ]
  },
  {
   "cell_type": "code",
   "execution_count": null,
   "id": "815eba32",
   "metadata": {},
   "outputs": [],
   "source": []
  }
 ],
 "metadata": {
  "kernelspec": {
   "display_name": ".venv",
   "language": "python",
   "name": "python3"
  },
  "language_info": {
   "codemirror_mode": {
    "name": "ipython",
    "version": 3
   },
   "file_extension": ".py",
   "mimetype": "text/x-python",
   "name": "python",
   "nbconvert_exporter": "python",
   "pygments_lexer": "ipython3",
   "version": "3.9.5"
  },
  "lcc_arn": "arn:aws:sagemaker:us-east-1:011021124722:studio-lifecycle-config/pip-install-kernel",
  "toc": {
   "base_numbering": 1,
   "nav_menu": {},
   "number_sections": true,
   "sideBar": true,
   "skip_h1_title": false,
   "title_cell": "Table of Contents",
   "title_sidebar": "Contents",
   "toc_cell": false,
   "toc_position": {},
   "toc_section_display": true,
   "toc_window_display": false
  },
  "vscode": {
   "interpreter": {
    "hash": "d79ce8a9c567bcd5b807d9facb16a9b5bb341f8ca04ba03de5d1f0eaaf8a7151"
   }
  }
 },
 "nbformat": 4,
 "nbformat_minor": 5
}
