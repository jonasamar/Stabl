{
 "cells": [
  {
   "cell_type": "code",
   "execution_count": null,
   "id": "a0f1a5f0",
   "metadata": {},
   "outputs": [],
   "source": [
    "import warnings\n",
    "warnings.filterwarnings('ignore')"
   ]
  },
  {
   "cell_type": "markdown",
   "id": "a1c81832",
   "metadata": {
    "slideshow": {
     "slide_type": "skip"
    }
   },
   "source": [
    "# Libaries"
   ]
  },
  {
   "cell_type": "markdown",
   "id": "ca41965d",
   "metadata": {},
   "source": [
    "Here are the basic libraries that we need to import in order to do the synthetic benchmarks"
   ]
  },
  {
   "cell_type": "code",
   "execution_count": null,
   "id": "96e27706",
   "metadata": {},
   "outputs": [],
   "source": [
    "from sklearn.linear_model import Lasso, ElasticNet\n",
    "from sklearn.base import clone\n",
    "\n",
    "from stabl.synthetic_utils import synthetic_benchmark_regression"
   ]
  },
  {
   "cell_type": "markdown",
   "id": "5c9e7b3f",
   "metadata": {},
   "source": [
    "# Base models"
   ]
  },
  {
   "cell_type": "markdown",
   "id": "affdb493",
   "metadata": {},
   "source": [
    "We define here the base models used in the Stabl bootstrap process"
   ]
  },
  {
   "cell_type": "code",
   "execution_count": null,
   "id": "fa7960fd",
   "metadata": {},
   "outputs": [],
   "source": [
    "lasso = Lasso(max_iter=int(1e6))"
   ]
  },
  {
   "cell_type": "markdown",
   "id": "fa56f896",
   "metadata": {},
   "source": [
    "# Hyperparameters"
   ]
  },
  {
   "cell_type": "markdown",
   "id": "f428de00",
   "metadata": {},
   "source": [
    "These are the hyperparameters used in the generation of data:\n",
    "* **`base_model`** is the base model used in the `Stabl` bootstrap process.\n",
    "* **`lambda_name`** is the name of the penalization parameter in the SRM model.\n",
    "* **`n_informative_list`** list of the number of features that are predictive in the data set to test.\n",
    "* **`n_features_list`** list of the number of features in the generated dataset (informative and non informative) to test.\n",
    "* **`n_samples_list`** list of the number of features that we will be drawned from the original training set (training set 10,000 samples and testing set 40,000 samples).\n",
    "* **`artificial_type`** Type of artificial features to generate in the Stabl algorithm\n",
    "* **`n_experiments`** Number of experiments to do for each tested condition"
   ]
  },
  {
   "cell_type": "code",
   "execution_count": null,
   "id": "5b0ae084",
   "metadata": {},
   "outputs": [],
   "source": [
    "base_estimator = clone(lasso)\n",
    "lambda_name = 'alpha'\n",
    "n_informative_list = [10, 25, 50] # Number of artificial f\n",
    "n_features_list = [1000] \n",
    "#n_features_list = [100, 500, 1000, 2500, 5000, 7500, 10000]\n",
    "n_samples_list = [30, 40, 50, 75, 100, 150, 250, 350, 500, 750, 1000]\n",
    "artificial_type = \"random_permutation\"\n",
    "n_experiments = 50"
   ]
  },
  {
   "cell_type": "code",
   "execution_count": null,
   "id": "f1cde00b-6970-47cd-a39b-d20500b87ca0",
   "metadata": {
    "tags": []
   },
   "outputs": [],
   "source": [
    "result_folder_title = \"test synthetic\""
   ]
  },
  {
   "cell_type": "code",
   "execution_count": null,
   "id": "081b8e2f",
   "metadata": {
    "scrolled": true
   },
   "outputs": [],
   "source": [
    "synthetic_benchmark_regression(\n",
    "    base_estimator=base_estimator,\n",
    "    lambda_name=lambda_name,\n",
    "    n_features_list=n_features_list,\n",
    "    n_informative_list=n_informative_list,\n",
    "    n_samples_list=n_samples_list,\n",
    "    n_experiments=n_experiments,\n",
    "    artificial_type=artificial_type,\n",
    "    result_folder_title=result_folder_title\n",
    ")"
   ]
  }
 ],
 "metadata": {
  "celltoolbar": "Aucun(e)",
  "instance_type": "ml.t3.medium",
  "kernelspec": {
   "display_name": "Python 3 (ipykernel)",
   "language": "python",
   "name": "python3"
  },
  "language_info": {
   "codemirror_mode": {
    "name": "ipython",
    "version": 3
   },
   "file_extension": ".py",
   "mimetype": "text/x-python",
   "name": "python",
   "nbconvert_exporter": "python",
   "pygments_lexer": "ipython3",
   "version": "3.10.4"
  },
  "lcc_arn": "arn:aws:sagemaker:us-east-1:011021124722:studio-lifecycle-config/pip-install-kernel",
  "toc": {
   "base_numbering": 1,
   "nav_menu": {},
   "number_sections": true,
   "sideBar": true,
   "skip_h1_title": false,
   "title_cell": "Table of Contents",
   "title_sidebar": "Contents",
   "toc_cell": false,
   "toc_position": {
    "height": "calc(100% - 180px)",
    "left": "10px",
    "top": "150px",
    "width": "271.391px"
   },
   "toc_section_display": true,
   "toc_window_display": true
  }
 },
 "nbformat": 4,
 "nbformat_minor": 5
}
