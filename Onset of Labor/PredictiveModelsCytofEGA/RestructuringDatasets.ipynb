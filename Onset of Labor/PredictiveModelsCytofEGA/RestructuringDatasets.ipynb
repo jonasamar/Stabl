{
 "cells": [
  {
   "cell_type": "code",
   "execution_count": 2,
   "metadata": {},
   "outputs": [],
   "source": [
    "import warnings \n",
    "warnings.filterwarnings('ignore')\n",
    "# Libraries\n",
    "#Basic libraries\n",
    "import os\n",
    "import numpy as np\n",
    "import pandas as pd\n",
    "from pathlib import Path"
   ]
  },
  {
   "cell_type": "code",
   "execution_count": 3,
   "metadata": {},
   "outputs": [],
   "source": [
    "train_prot = pd.read_csv(\"./Data/Training/Proteomics.csv\")\n",
    "val_prot = pd.read_csv(\"./Data/Validation/Proteomics_validation.csv\")\n",
    "all_prot = pd.concat([train_prot, val_prot], axis=0)\n",
    "all_prot[\"Id\"] = all_prot[\"ID\"].str[:3].astype(int)\n",
    "preterm_prot = all_prot[all_prot[\"Id\"].isin([17, 8, 3, 5, 27])]\n",
    "term_prot = all_prot[~all_prot[\"Id\"].isin([17, 8, 3, 5, 27])]\n",
    "\n",
    "all_GA = pd.DataFrame({\"ID\" : all_prot[\"ID\"], \n",
    "                        \"Id\" : all_prot[\"Id\"], \n",
    "                        \"GA\" : all_prot[\"ID\"].str[-4:-2].astype(int)})\n",
    " \n",
    "preterm_GA = all_GA[all_GA[\"Id\"].isin([17, 8, 3, 5, 27])]\n",
    "term_GA = all_GA[~all_GA[\"Id\"].isin([17, 8, 3, 5, 27])]"
   ]
  },
  {
   "cell_type": "code",
   "execution_count": 4,
   "metadata": {},
   "outputs": [],
   "source": [
    "train_cytof = pd.read_csv(\"./Data/Training/CyTOF.csv\")\n",
    "val_cytof = pd.read_csv(\"./Data/Validation/CyTOF_validation.csv\")\n",
    "all_cytof = pd.concat([train_cytof, val_cytof], axis=0)\n",
    "all_cytof = all_cytof[all_cytof[\"ID\"].isin(all_prot[\"ID\"])]\n",
    "all_cytof[\"Id\"] = all_cytof[\"ID\"].str[:3].astype(int)\n",
    "preterm_cytof = all_cytof[all_cytof[\"Id\"].isin([17, 8, 3, 5, 27])]\n",
    "term_cytof = all_cytof[~all_cytof[\"Id\"].isin([17, 8, 3, 5, 27])]"
   ]
  },
  {
   "cell_type": "code",
   "execution_count": 5,
   "metadata": {},
   "outputs": [],
   "source": [
    "train_DOS = pd.read_csv(\"./Data/Training/DOS.csv\")\n",
    "val_DOS = pd.read_csv(\"./Data/Validation/DOS_validation.csv\")\n",
    "all_DOS = pd.concat([train_DOS, val_DOS], axis=0)\n",
    "all_DOS = all_DOS[all_DOS[\"ID\"].isin(all_prot[\"ID\"])]\n",
    "all_DOS[\"Id\"] = all_DOS[\"ID\"].str[:3].astype(int)\n",
    "preterm_DOS = all_DOS[all_DOS[\"Id\"].isin([17, 8, 3, 5, 27])]\n",
    "term_DOS = all_DOS[~all_DOS[\"Id\"].isin([17, 8, 3, 5, 27])]"
   ]
  },
  {
   "cell_type": "code",
   "execution_count": 6,
   "metadata": {},
   "outputs": [],
   "source": [
    "all_ID = all_DOS[[\"ID\",\"Id\"]]\n",
    "preterm_ID = all_ID[all_ID[\"Id\"].isin([17, 8, 3, 5, 27])]\n",
    "term_ID = all_ID[~all_ID[\"Id\"].isin([17, 8, 3, 5, 27])]"
   ]
  },
  {
   "cell_type": "code",
   "execution_count": 7,
   "metadata": {},
   "outputs": [],
   "source": [
    "all_ID.to_csv(\"./Data/All/ID.csv\", index=False)\n",
    "term_ID.to_csv(\"./Data/Term/ID.csv\", index=False)\n",
    "preterm_ID.to_csv(\"./Data/Preterm/ID.csv\", index=False)\n",
    "\n",
    "all_DOS.drop(\"Id\", axis=1).to_csv(\"./Data/All/DOS.csv\", index=False)\n",
    "term_DOS.drop(\"Id\", axis=1).to_csv(\"./Data/Term/DOS.csv\", index=False)\n",
    "preterm_DOS.drop(\"Id\", axis=1).to_csv(\"./Data/Preterm/DOS.csv\", index=False)\n",
    "\n",
    "all_prot.drop(\"Id\", axis=1).to_csv(\"./Data/All/Proteomics.csv\", index=False)\n",
    "term_prot.drop(\"Id\", axis=1).to_csv(\"./Data/Term/Proteomics.csv\", index=False)\n",
    "preterm_prot.drop(\"Id\", axis=1).to_csv(\"./Data/Preterm/Proteomics.csv\", index=False)\n",
    "\n",
    "all_cytof.drop(\"Id\", axis=1).to_csv(\"./Data/All/Cytof.csv\", index=False)\n",
    "term_cytof.drop(\"Id\", axis=1).to_csv(\"./Data/Term/Cytof.csv\", index=False)\n",
    "preterm_cytof.drop(\"Id\", axis=1).to_csv(\"./Data/Preterm/Cytof.csv\", index=False)\n",
    "\n",
    "all_GA.drop(\"Id\", axis=1).to_csv(\"./Data/All/GA.csv\", index=False)\n",
    "term_GA.drop(\"Id\", axis=1).to_csv(\"./Data/Term/GA.csv\", index=False)\n",
    "preterm_GA.drop(\"Id\", axis=1).to_csv(\"./Data/Preterm/GA.csv\", index=False)"
   ]
  }
 ],
 "metadata": {
  "kernelspec": {
   "display_name": ".venv",
   "language": "python",
   "name": "python3"
  },
  "language_info": {
   "codemirror_mode": {
    "name": "ipython",
    "version": 3
   },
   "file_extension": ".py",
   "mimetype": "text/x-python",
   "name": "python",
   "nbconvert_exporter": "python",
   "pygments_lexer": "ipython3",
   "version": "3.9.5"
  },
  "orig_nbformat": 4
 },
 "nbformat": 4,
 "nbformat_minor": 2
}
