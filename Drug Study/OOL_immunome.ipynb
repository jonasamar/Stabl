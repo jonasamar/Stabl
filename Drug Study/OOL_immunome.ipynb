{
 "cells": [
  {
   "cell_type": "code",
   "execution_count": 4,
   "metadata": {},
   "outputs": [],
   "source": [
    "import warnings \n",
    "warnings.filterwarnings('ignore')"
   ]
  },
  {
   "attachments": {},
   "cell_type": "markdown",
   "metadata": {},
   "source": [
    "# Libraries"
   ]
  },
  {
   "cell_type": "code",
   "execution_count": 5,
   "metadata": {},
   "outputs": [],
   "source": [
    "#Basic libraries\n",
    "import os\n",
    "import numpy as np\n",
    "import pandas as pd\n",
    "from pathlib import Path\n",
    "from sklearn.model_selection import GroupShuffleSplit, RepeatedStratifiedKFold, LeaveOneOut\n",
    "from sklearn.base import clone\n",
    "from scipy.stats import mannwhitneyu, spearmanr\n",
    "from stabl.visualization import scatterplot_features, boxplot_features\n",
    "from stabl.stabl import Stabl, save_stabl_results\n",
    "\n",
    "from sklearn.linear_model import LassoCV, LogisticRegressionCV, LogisticRegression, LinearRegression, ElasticNetCV, Lasso\n",
    "\n",
    "#STABL pipelines\n",
    "from stabl.multi_omic_pipelines import multi_omic_stabl, multi_omic_stabl_cv\n",
    "from stabl.single_omic_pipelines import single_omic_stabl, single_omic_stabl_cv\n",
    "\n",
    "#Preprocessing functions\n",
    "from sklearn.impute import SimpleImputer\n",
    "from sklearn.pipeline import Pipeline\n",
    "from sklearn.preprocessing import StandardScaler\n",
    "from sklearn.feature_selection import VarianceThreshold\n",
    "from stabl.preprocessing import LowInfoFilter, remove_low_info_samples\n"
   ]
  },
  {
   "attachments": {},
   "cell_type": "markdown",
   "metadata": {},
   "source": [
    "# Import Data"
   ]
  },
  {
   "cell_type": "code",
   "execution_count": 7,
   "metadata": {},
   "outputs": [],
   "source": [
    "X_EGA_pen = pd.read_csv('Onset of Labor csv/immunome_EGA_pen_OOL.csv',index_col=\"ID\")\n",
    "X_EGA = pd.read_csv('Onset of Labor csv/immunome_EGA_OOL.csv',index_col=\"ID\")\n",
    "\n",
    "X = X_EGA_pen\n",
    "data_name = \"immunome_EGA_pen_OOL\"\n",
    "\n",
    "y = pd.read_csv('./Onset of Labor csv/outcome_OOL.csv',index_col=\"ID\").iloc[:,0]"
   ]
  },
  {
   "attachments": {},
   "cell_type": "markdown",
   "metadata": {},
   "source": [
    "# Preprocessing"
   ]
  },
  {
   "cell_type": "code",
   "execution_count": null,
   "metadata": {},
   "outputs": [],
   "source": [
    "remove_low_info_samples(X)"
   ]
  },
  {
   "cell_type": "code",
   "execution_count": null,
   "metadata": {},
   "outputs": [],
   "source": [
    "preprocessing = Pipeline(\n",
    "\tsteps=[\n",
    "\t\t('lif', LowInfoFilter(0.2)),\n",
    "\t\t('variance', VarianceThreshold(0.01)),\n",
    "\t\t('impute', SimpleImputer(strategy='median')),\n",
    "\t\t('std', StandardScaler())\n",
    "\t])"
   ]
  },
  {
   "attachments": {},
   "cell_type": "markdown",
   "metadata": {},
   "source": [
    "# Training CV"
   ]
  },
  {
   "cell_type": "code",
   "execution_count": null,
   "metadata": {},
   "outputs": [],
   "source": [
    "run_name = \"LassoKF_L0.2_V0.1_B0.5\""
   ]
  },
  {
   "cell_type": "code",
   "execution_count": 14,
   "metadata": {},
   "outputs": [],
   "source": [
    "logit_en = LogisticRegression(penalty='l1', max_iter=int(1e6), solver='liblinear', class_weight='balanced')\n",
    "\n",
    "stabl = Stabl(base_estimator=clone(logit_en),\n",
    "\tlambda_name='C',\n",
    "\tlambda_grid=list(np.linspace(0.01, 1, 30)),\n",
    "\tn_bootstraps=1000,\n",
    "\tartificial_type='knockoff',\n",
    "\tartificial_proportion=1.,\n",
    "\tsample_fraction=0.5,\n",
    "\treplace=False,\n",
    "\tfdr_threshold_range=list(np.arange(0., 1., .01)),\n",
    "\tsample_weight_bootstrap=None,\n",
    "\tbootstrap_threshold=1e-5,\n",
    "\tbackend_multi='threading',\n",
    "\tverbose=0,\n",
    "\tn_jobs=-1,\n",
    "\trandom_state=42)\n",
    "\n",
    "stability_selection = clone(stabl).set_params(artificial_type=None, hard_threshold=0.3)"
   ]
  },
  {
   "cell_type": "code",
   "execution_count": null,
   "metadata": {},
   "outputs": [],
   "source": [
    "outer_splitter = RepeatedStratifiedKFold(n_splits=5, n_repeats=10, random_state=42)\n",
    "\n",
    "single_omic_stabl_cv(\n",
    "\tX=X,\n",
    "\ty=y.astype(int),\n",
    "\touter_splitter=outer_splitter,\n",
    "\tstabl=stabl,\n",
    "\tstability_selection=stability_selection,\n",
    "\ttask_type='regression',\n",
    "\tsave_path=f\"../Results/{data_name}/{run_name}\"\n",
    ")"
   ]
  },
  {
   "attachments": {},
   "cell_type": "markdown",
   "metadata": {},
   "source": [
    "# Univariate"
   ]
  },
  {
   "cell_type": "code",
   "execution_count": null,
   "metadata": {},
   "outputs": [],
   "source": [
    "os.makedirs(f\"../Results/{data_name}/{run_name}\" + '/Univariate', exist_ok=True)\n",
    "Spearmancorr = {}\n",
    "features = X.columns\n",
    "for feature in features:\n",
    "\tcorr, pval = spearmanr(X[feature], y)\n",
    "\tSpearmancorr[feature] = [corr, pval]\n",
    "\n",
    "SpearmanPvalue = pd.DataFrame(Spearmancorr).T\n",
    "SpearmanPvalue.columns = ['Spearman corr', 'pvalue']\n",
    "SpearmanPvalue.sort_values('pvalue', inplace=True)\n",
    "SpearmanPvalue.to_csv(f\"../Results/{data_name}/{run_name}\"+'/Univariate/SpearmanCorrelationsPval.csv', index=True)\n",
    "\n",
    "scatterplot_features(\n",
    "\tSpearmanPvalue[:10].index,\n",
    "\tX,\n",
    "\ty,\n",
    "\tshow_fig=False,\n",
    "\texport_file=True,\n",
    "\tpath=f\"../{run_name}/Results/Univariate\")"
   ]
  },
  {
   "attachments": {},
   "cell_type": "markdown",
   "metadata": {},
   "source": [
    "# Final STABL"
   ]
  },
  {
   "cell_type": "code",
   "execution_count": null,
   "metadata": {},
   "outputs": [],
   "source": [
    "X_STD = pd.DataFrame(\n",
    "\tdata=preprocessing.fit_transform(X),\n",
    "\tindex=X.index,\n",
    "\tcolumns=preprocessing.get_feature_names_out()\n",
    ")\n",
    "\n",
    "finalstabl = clone(stabl)\n",
    "finalstabl.fit(X_STD,y)\n",
    "\n",
    "save_stabl_results(finalstabl,f\"../Results/{data_name}/{run_name}\"+'/FinalSTABL/',X_STD,y,task_type='regression')"
   ]
  }
 ],
 "metadata": {
  "kernelspec": {
   "display_name": ".venv",
   "language": "python",
   "name": "python3"
  },
  "language_info": {
   "codemirror_mode": {
    "name": "ipython",
    "version": 3
   },
   "file_extension": ".py",
   "mimetype": "text/x-python",
   "name": "python",
   "nbconvert_exporter": "python",
   "pygments_lexer": "ipython3",
   "version": "3.9.5"
  },
  "orig_nbformat": 4
 },
 "nbformat": 4,
 "nbformat_minor": 2
}
