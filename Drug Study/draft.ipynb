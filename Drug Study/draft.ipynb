{
 "cells": [
  {
   "attachments": {},
   "cell_type": "markdown",
   "metadata": {},
   "source": [
    "# Libraries"
   ]
  },
  {
   "cell_type": "code",
   "execution_count": 1,
   "metadata": {},
   "outputs": [],
   "source": [
    "import pandas as pd "
   ]
  },
  {
   "attachments": {},
   "cell_type": "markdown",
   "metadata": {},
   "source": [
    "# OOL"
   ]
  },
  {
   "cell_type": "code",
   "execution_count": 34,
   "metadata": {},
   "outputs": [],
   "source": [
    "EGA = pd.read_csv('Onset of Labor csv/immunome_EGA_pen_OOL.csv',index_col=\"ID\")[\"EGA\"]\n",
    "\n",
    "y = pd.read_csv('./Onset of Labor csv/outcome_OOL.csv',index_col=\"ID\")[\"DOS\"]"
   ]
  },
  {
   "cell_type": "code",
   "execution_count": 41,
   "metadata": {},
   "outputs": [
    {
     "data": {
      "text/html": [
       "<div>\n",
       "<style scoped>\n",
       "    .dataframe tbody tr th:only-of-type {\n",
       "        vertical-align: middle;\n",
       "    }\n",
       "\n",
       "    .dataframe tbody tr th {\n",
       "        vertical-align: top;\n",
       "    }\n",
       "\n",
       "    .dataframe thead th {\n",
       "        text-align: right;\n",
       "    }\n",
       "</style>\n",
       "<table border=\"1\" class=\"dataframe\">\n",
       "  <thead>\n",
       "    <tr style=\"text-align: right;\">\n",
       "      <th></th>\n",
       "      <th>EGA</th>\n",
       "      <th>DOS</th>\n",
       "    </tr>\n",
       "    <tr>\n",
       "      <th>ID</th>\n",
       "      <th></th>\n",
       "      <th></th>\n",
       "    </tr>\n",
       "  </thead>\n",
       "  <tbody>\n",
       "    <tr>\n",
       "      <th>P1_26</th>\n",
       "      <td>-95.2</td>\n",
       "      <td>-101</td>\n",
       "    </tr>\n",
       "    <tr>\n",
       "      <th>P1_33</th>\n",
       "      <td>-44.8</td>\n",
       "      <td>-51</td>\n",
       "    </tr>\n",
       "    <tr>\n",
       "      <th>P1_35</th>\n",
       "      <td>-30.8</td>\n",
       "      <td>-37</td>\n",
       "    </tr>\n",
       "    <tr>\n",
       "      <th>P100_29</th>\n",
       "      <td>-74.2</td>\n",
       "      <td>-71</td>\n",
       "    </tr>\n",
       "    <tr>\n",
       "      <th>P100_37</th>\n",
       "      <td>-18.2</td>\n",
       "      <td>-15</td>\n",
       "    </tr>\n",
       "    <tr>\n",
       "      <th>...</th>\n",
       "      <td>...</td>\n",
       "      <td>...</td>\n",
       "    </tr>\n",
       "    <tr>\n",
       "      <th>P98_36</th>\n",
       "      <td>-23.8</td>\n",
       "      <td>-24</td>\n",
       "    </tr>\n",
       "    <tr>\n",
       "      <th>P98_38</th>\n",
       "      <td>-9.1</td>\n",
       "      <td>-9</td>\n",
       "    </tr>\n",
       "    <tr>\n",
       "      <th>P99_24</th>\n",
       "      <td>-107.8</td>\n",
       "      <td>-106</td>\n",
       "    </tr>\n",
       "    <tr>\n",
       "      <th>P99_38</th>\n",
       "      <td>-9.1</td>\n",
       "      <td>-7</td>\n",
       "    </tr>\n",
       "    <tr>\n",
       "      <th>P99_39</th>\n",
       "      <td>-2.1</td>\n",
       "      <td>0</td>\n",
       "    </tr>\n",
       "  </tbody>\n",
       "</table>\n",
       "<p>150 rows × 2 columns</p>\n",
       "</div>"
      ],
      "text/plain": [
       "           EGA  DOS\n",
       "ID                 \n",
       "P1_26    -95.2 -101\n",
       "P1_33    -44.8  -51\n",
       "P1_35    -30.8  -37\n",
       "P100_29  -74.2  -71\n",
       "P100_37  -18.2  -15\n",
       "...        ...  ...\n",
       "P98_36   -23.8  -24\n",
       "P98_38    -9.1   -9\n",
       "P99_24  -107.8 -106\n",
       "P99_38    -9.1   -7\n",
       "P99_39    -2.1    0\n",
       "\n",
       "[150 rows x 2 columns]"
      ]
     },
     "execution_count": 41,
     "metadata": {},
     "output_type": "execute_result"
    }
   ],
   "source": [
    "outcomes = pd.merge(7*(EGA-40), y, on=\"ID\")\n",
    "outcomes[\"EGA_error\"] = outcomes[\"DOS\"] - outcomes[\"EGA\"]"
   ]
  },
  {
   "cell_type": "code",
   "execution_count": 36,
   "metadata": {},
   "outputs": [
    {
     "data": {
      "text/plain": [
       "ID\n",
       "P99_38      -7\n",
       "P99_24    -106\n",
       "P98_38      -9\n",
       "P75_38      -7\n",
       "P98_36     -24\n",
       "          ... \n",
       "P1_26     -101\n",
       "P100_39     -1\n",
       "P100_37    -15\n",
       "P100_29    -71\n",
       "P99_39       0\n",
       "Name: DOS, Length: 150, dtype: int64"
      ]
     },
     "execution_count": 36,
     "metadata": {},
     "output_type": "execute_result"
    }
   ],
   "source": [
    "y"
   ]
  },
  {
   "cell_type": "code",
   "execution_count": 17,
   "metadata": {},
   "outputs": [
    {
     "data": {
      "text/plain": [
       "1     -19.4\n",
       "2      72.4\n",
       "3     -26.6\n",
       "4     -22.4\n",
       "5     -13.4\n",
       "       ... \n",
       "146    64.4\n",
       "147   -37.7\n",
       "148    -9.6\n",
       "149    32.3\n",
       "150   -39.7\n",
       "Length: 150, dtype: float64"
      ]
     },
     "execution_count": 17,
     "metadata": {},
     "output_type": "execute_result"
    }
   ],
   "source": [
    "EGA_error = -y - X_EGA[\"EGA\"]\n",
    "EGA_error"
   ]
  },
  {
   "attachments": {},
   "cell_type": "markdown",
   "metadata": {},
   "source": [
    "# Data"
   ]
  },
  {
   "attachments": {},
   "cell_type": "markdown",
   "metadata": {},
   "source": [
    "### First Files"
   ]
  },
  {
   "cell_type": "code",
   "execution_count": 3,
   "metadata": {},
   "outputs": [],
   "source": [
    "drug_essay_15 = pd.read_csv('FirstFiles/Drug assay 15 drugs matching gates.csv', index_col=0)\n",
    "immunome_EGA_OOL = pd.read_csv('FirstFiles/immunome_EGA_OOL.csv', index_col=0)\n",
    "immunome_EGA_pen_OOL = pd.read_csv('FirstFiles/immunome_EGA_pen_OOL.csv', index_col=0)\n",
    "immunome_noEGA_OOL = pd.read_csv('FirstFiles/immunome_noEGA_OOL.csv', index_col=0)\n",
    "immunome_noEGA_pen_OOL = pd.read_csv('FirstFiles/immunome_noEGA_pen_OOL.csv', index_col=0)\n",
    "OnsetOfLablorReanalysis = pd.read_csv('FirstFiles/Onset of Labor Study Reanalysis PTB drug assay matching gates.csv', index_col=0)\n",
    "outcome_OOL = pd.read_csv('FirstFiles/outcome_OOL.csv', index_col=0)\n",
    "#penalization_matrix = pd.read_excel('penalization matrix drug assay.xlsx', index_col=0)\n",
    "\n",
    "files = [drug_essay_15, immunome_EGA_OOL, immunome_EGA_pen_OOL, immunome_noEGA_OOL, immunome_noEGA_pen_OOL, OnsetOfLablorReanalysis, outcome_OOL]\n",
    "file_names = ['drug_essay_15', 'immunome_EGA_OOL', 'immunome_EGA_pen_OOL', 'immunome_noEGA_OOL', 'immunome_noEGA_pen_OOL', 'OnsetOfLablorReanalysis', 'outcome_OOL']\n",
    "\n",
    "def display_file_info(df):\n",
    "    print('----------------------------------------------')\n",
    "    print(f\"shape : {df.shape}\")\n",
    "    print(f\"index :\\ng{df.index.unique()}\")\n",
    "    print(f\"len(index) : {len(df.index.unique())}\")\n",
    "    for col in df.columns:\n",
    "        print(f\"{col} values:\\n{df[col].unique()}\")\n",
    "        print(f\"len({col} values):\\n{len(df[col].unique())}\")\n",
    "    print('----------------------------------------------')"
   ]
  },
  {
   "cell_type": "code",
   "execution_count": 4,
   "metadata": {},
   "outputs": [],
   "source": [
    "# for i, file in enumerate(files):\n",
    "#     print(file_names[i])\n",
    "#     display_file_info(file)"
   ]
  },
  {
   "cell_type": "code",
   "execution_count": 5,
   "metadata": {},
   "outputs": [],
   "source": [
    "# for i, file in enumerate(files):\n",
    "#     print('----------------------------------')\n",
    "#     print(file_names[i])\n",
    "#     print('----------------------------------')\n",
    "#     print(file.head())\n",
    "    "
   ]
  },
  {
   "attachments": {},
   "cell_type": "markdown",
   "metadata": {},
   "source": [
    "### Patients 1-2-3 Data"
   ]
  },
  {
   "cell_type": "code",
   "execution_count": 38,
   "metadata": {},
   "outputs": [],
   "source": [
    "ID1 = pd.read_csv(\"../Sample Data/Drug Assay Project/Drug assay ID1re-normalized&barcorded - Statistics.csv\", index_col=0)\n",
    "ID14 = pd.read_csv(\"../Sample Data/Drug Assay Project/Drug assay ID2-4 re-normalized&barcorded - Statistics.csv\", index_col=0)"
   ]
  },
  {
   "cell_type": "code",
   "execution_count": 54,
   "metadata": {},
   "outputs": [
    {
     "data": {
      "text/html": [
       "<div>\n",
       "<style scoped>\n",
       "    .dataframe tbody tr th:only-of-type {\n",
       "        vertical-align: middle;\n",
       "    }\n",
       "\n",
       "    .dataframe tbody tr th {\n",
       "        vertical-align: top;\n",
       "    }\n",
       "\n",
       "    .dataframe thead th {\n",
       "        text-align: right;\n",
       "    }\n",
       "</style>\n",
       "<table border=\"1\" class=\"dataframe\">\n",
       "  <thead>\n",
       "    <tr style=\"text-align: right;\">\n",
       "      <th></th>\n",
       "      <th>population</th>\n",
       "      <th>uniquePopulationName</th>\n",
       "      <th>parentPopulation</th>\n",
       "      <th>channel</th>\n",
       "      <th>reagent</th>\n",
       "      <th>Dose</th>\n",
       "      <th>Drug</th>\n",
       "      <th>ID</th>\n",
       "      <th>Plate</th>\n",
       "      <th>Stims</th>\n",
       "      <th>median</th>\n",
       "    </tr>\n",
       "    <tr>\n",
       "      <th>filename</th>\n",
       "      <th></th>\n",
       "      <th></th>\n",
       "      <th></th>\n",
       "      <th></th>\n",
       "      <th></th>\n",
       "      <th></th>\n",
       "      <th></th>\n",
       "      <th></th>\n",
       "      <th></th>\n",
       "      <th></th>\n",
       "      <th></th>\n",
       "    </tr>\n",
       "  </thead>\n",
       "  <tbody>\n",
       "    <tr>\n",
       "      <th>03_Plate2_03_LPZ10ng_LPS.fcs</th>\n",
       "      <td>CD8Teff</td>\n",
       "      <td>CD8Teff</td>\n",
       "      <td>CD8Tcells</td>\n",
       "      <td>Tb159Di</td>\n",
       "      <td>159Tb_MAPKAPK2</td>\n",
       "      <td>10ng</td>\n",
       "      <td>Lansoprazole</td>\n",
       "      <td>3</td>\n",
       "      <td>2</td>\n",
       "      <td>LPS</td>\n",
       "      <td>2.009657</td>\n",
       "    </tr>\n",
       "    <tr>\n",
       "      <th>03_Plate2_03_LPZ10ng_LPS.fcs</th>\n",
       "      <td>CD8Teff</td>\n",
       "      <td>CD8Teff</td>\n",
       "      <td>CD8Tcells</td>\n",
       "      <td>Dy164Di</td>\n",
       "      <td>164Dy_IkB</td>\n",
       "      <td>10ng</td>\n",
       "      <td>Lansoprazole</td>\n",
       "      <td>3</td>\n",
       "      <td>2</td>\n",
       "      <td>LPS</td>\n",
       "      <td>2.164406</td>\n",
       "    </tr>\n",
       "    <tr>\n",
       "      <th>03_Plate2_03_LPZ10ng_LPS.fcs</th>\n",
       "      <td>CD8Teff</td>\n",
       "      <td>CD8Teff</td>\n",
       "      <td>CD8Tcells</td>\n",
       "      <td>Er166Di</td>\n",
       "      <td>166Er_NFkB</td>\n",
       "      <td>10ng</td>\n",
       "      <td>Lansoprazole</td>\n",
       "      <td>3</td>\n",
       "      <td>2</td>\n",
       "      <td>LPS</td>\n",
       "      <td>11.430651</td>\n",
       "    </tr>\n",
       "    <tr>\n",
       "      <th>03_Plate2_03_LPZ10ng_LPS.fcs</th>\n",
       "      <td>CD8Teff</td>\n",
       "      <td>CD8Teff</td>\n",
       "      <td>CD8Tcells</td>\n",
       "      <td>Er167Di</td>\n",
       "      <td>167Er_ERK</td>\n",
       "      <td>10ng</td>\n",
       "      <td>Lansoprazole</td>\n",
       "      <td>3</td>\n",
       "      <td>2</td>\n",
       "      <td>LPS</td>\n",
       "      <td>1.361021</td>\n",
       "    </tr>\n",
       "    <tr>\n",
       "      <th>03_Plate2_03_LPZ10ng_LPS.fcs</th>\n",
       "      <td>CD8Teff</td>\n",
       "      <td>CD8Teff</td>\n",
       "      <td>CD8Tcells</td>\n",
       "      <td>Er168Di</td>\n",
       "      <td>168Er_STAT6</td>\n",
       "      <td>10ng</td>\n",
       "      <td>Lansoprazole</td>\n",
       "      <td>3</td>\n",
       "      <td>2</td>\n",
       "      <td>LPS</td>\n",
       "      <td>2.742526</td>\n",
       "    </tr>\n",
       "  </tbody>\n",
       "</table>\n",
       "</div>"
      ],
      "text/plain": [
       "                             population uniquePopulationName parentPopulation   \n",
       "filename                                                                        \n",
       "03_Plate2_03_LPZ10ng_LPS.fcs    CD8Teff              CD8Teff        CD8Tcells  \\\n",
       "03_Plate2_03_LPZ10ng_LPS.fcs    CD8Teff              CD8Teff        CD8Tcells   \n",
       "03_Plate2_03_LPZ10ng_LPS.fcs    CD8Teff              CD8Teff        CD8Tcells   \n",
       "03_Plate2_03_LPZ10ng_LPS.fcs    CD8Teff              CD8Teff        CD8Tcells   \n",
       "03_Plate2_03_LPZ10ng_LPS.fcs    CD8Teff              CD8Teff        CD8Tcells   \n",
       "\n",
       "                              channel         reagent  Dose          Drug  ID   \n",
       "filename                                                                        \n",
       "03_Plate2_03_LPZ10ng_LPS.fcs  Tb159Di  159Tb_MAPKAPK2  10ng  Lansoprazole   3  \\\n",
       "03_Plate2_03_LPZ10ng_LPS.fcs  Dy164Di       164Dy_IkB  10ng  Lansoprazole   3   \n",
       "03_Plate2_03_LPZ10ng_LPS.fcs  Er166Di      166Er_NFkB  10ng  Lansoprazole   3   \n",
       "03_Plate2_03_LPZ10ng_LPS.fcs  Er167Di       167Er_ERK  10ng  Lansoprazole   3   \n",
       "03_Plate2_03_LPZ10ng_LPS.fcs  Er168Di     168Er_STAT6  10ng  Lansoprazole   3   \n",
       "\n",
       "                              Plate Stims     median  \n",
       "filename                                              \n",
       "03_Plate2_03_LPZ10ng_LPS.fcs      2   LPS   2.009657  \n",
       "03_Plate2_03_LPZ10ng_LPS.fcs      2   LPS   2.164406  \n",
       "03_Plate2_03_LPZ10ng_LPS.fcs      2   LPS  11.430651  \n",
       "03_Plate2_03_LPZ10ng_LPS.fcs      2   LPS   1.361021  \n",
       "03_Plate2_03_LPZ10ng_LPS.fcs      2   LPS   2.742526  "
      ]
     },
     "execution_count": 54,
     "metadata": {},
     "output_type": "execute_result"
    }
   ],
   "source": [
    "ID14.tail()"
   ]
  },
  {
   "attachments": {},
   "cell_type": "markdown",
   "metadata": {},
   "source": [
    "Filename is only a sum up of the informations in the columns:\n",
    "- ID (patient number)\n",
    "- Plate\n",
    "- Drud and Dose\n",
    "- Stims"
   ]
  },
  {
   "cell_type": "code",
   "execution_count": 40,
   "metadata": {},
   "outputs": [
    {
     "name": "stdout",
     "output_type": "stream",
     "text": [
      "(0, 11)\n",
      "(0, 11)\n"
     ]
    }
   ],
   "source": [
    "print(ID14[ID14['population'] != ID14['uniquePopulationName']].shape)\n",
    "print(ID1[ID1['population'] != ID1['uniquePopulationName']].shape)"
   ]
  },
  {
   "attachments": {},
   "cell_type": "markdown",
   "metadata": {},
   "source": [
    "It seems the two columns (population and uniquePopulationName) are exactly the same"
   ]
  },
  {
   "cell_type": "code",
   "execution_count": 41,
   "metadata": {},
   "outputs": [
    {
     "name": "stdout",
     "output_type": "stream",
     "text": [
      "Pravastatin <=> (ID1) Plate(s) [14] <=> (ID14) Plate(s) [14]\n",
      "DMSO <=> (ID1) Plate(s) [14 13 12 11 10  9  8  7  6  5  4  3  2  1 15] <=> (ID14) Plate(s) [ 2  1 15 14 13 12 11 10  9  8  7  6  5  4  3]\n",
      "Progesterone <=> (ID1) Plate(s) [13] <=> (ID14) Plate(s) [13]\n",
      "Maprotiline <=> (ID1) Plate(s) [12] <=> (ID14) Plate(s) [12]\n",
      "Clotrimazole <=> (ID1) Plate(s) [11] <=> (ID14) Plate(s) [11]\n",
      "Folic acid <=> (ID1) Plate(s) [10] <=> (ID14) Plate(s) [10]\n",
      "Metformin <=> (ID1) Plate(s) [9] <=> (ID14) Plate(s) [9]\n",
      "Benzylpenicillin <=> (ID1) Plate(s) [8] <=> (ID14) Plate(s) [8]\n",
      "Chlorthalidone <=> (ID1) Plate(s) [7] <=> (ID14) Plate(s) [7]\n",
      "Rifabutin <=> (ID1) Plate(s) [6] <=> (ID14) Plate(s) [6]\n",
      "Iodixanol <=> (ID1) Plate(s) [5] <=> (ID14) Plate(s) [5]\n",
      "Iohexol <=> (ID1) Plate(s) [4] <=> (ID14) Plate(s) [4]\n",
      "Iopamidol <=> (ID1) Plate(s) [3] <=> (ID14) Plate(s) [3]\n",
      "Lansoprazole <=> (ID1) Plate(s) [2] <=> (ID14) Plate(s) [2]\n",
      "Cefotaxime <=> (ID1) Plate(s) [1] <=> (ID14) Plate(s) [1]\n",
      "Methylpredonisolone <=> (ID1) Plate(s) [15] <=> (ID14) Plate(s) [15]\n"
     ]
    }
   ],
   "source": [
    "for drug in pd.concat([ID1['Drug'], ID14['Drug']]).unique():\n",
    "    print(f\"{drug} <=> (ID1) Plate(s) {ID1[ID1['Drug']==drug]['Plate'].unique()} <=> (ID14) Plate(s) {ID14[ID14['Drug']==drug]['Plate'].unique()}\")"
   ]
  },
  {
   "attachments": {},
   "cell_type": "markdown",
   "metadata": {},
   "source": [
    "Each Drug corresponds to one plate and DMSO is for the samples without the drug (to make the comparison, on each plate).\n",
    "The plate number doesn't differ from the drug when changing patient."
   ]
  },
  {
   "cell_type": "code",
   "execution_count": 52,
   "metadata": {},
   "outputs": [
    {
     "name": "stderr",
     "output_type": "stream",
     "text": [
      "/var/folders/v_/wlr8vlpn1tzgb7_j_7kncp4w0000gn/T/ipykernel_1041/3232637068.py:7: DeprecationWarning: The truth value of an empty array is ambiguous. Returning False, but in future this will result in an error. Use `array.size > 0` to check that an array is not empty.\n",
      "  same_ID1_ID14.append(id1_reagents==id14_reagents)\n"
     ]
    },
    {
     "data": {
      "text/html": [
       "<div>\n",
       "<style scoped>\n",
       "    .dataframe tbody tr th:only-of-type {\n",
       "        vertical-align: middle;\n",
       "    }\n",
       "\n",
       "    .dataframe tbody tr th {\n",
       "        vertical-align: top;\n",
       "    }\n",
       "\n",
       "    .dataframe thead th {\n",
       "        text-align: right;\n",
       "    }\n",
       "</style>\n",
       "<table border=\"1\" class=\"dataframe\">\n",
       "  <thead>\n",
       "    <tr style=\"text-align: right;\">\n",
       "      <th></th>\n",
       "      <th>Channel</th>\n",
       "      <th>ID1_reagents</th>\n",
       "      <th>ID14_reagents</th>\n",
       "      <th>Same ?</th>\n",
       "    </tr>\n",
       "  </thead>\n",
       "  <tbody>\n",
       "    <tr>\n",
       "      <th>0</th>\n",
       "      <td>Sm149Di</td>\n",
       "      <td>[149Sm_CREB]</td>\n",
       "      <td>[149Sm_CREB]</td>\n",
       "      <td>True</td>\n",
       "    </tr>\n",
       "    <tr>\n",
       "      <th>1</th>\n",
       "      <td>Nd150Di</td>\n",
       "      <td>[150Nd_STAT5]</td>\n",
       "      <td>[150Nd_STAT5]</td>\n",
       "      <td>True</td>\n",
       "    </tr>\n",
       "    <tr>\n",
       "      <th>2</th>\n",
       "      <td>Eu151Di</td>\n",
       "      <td>[151Eu_p38]</td>\n",
       "      <td>[151Eu_p38]</td>\n",
       "      <td>True</td>\n",
       "    </tr>\n",
       "    <tr>\n",
       "      <th>3</th>\n",
       "      <td>Eu153Di</td>\n",
       "      <td>[153Eu_STAT1]</td>\n",
       "      <td>[153Eu_STAT1]</td>\n",
       "      <td>True</td>\n",
       "    </tr>\n",
       "    <tr>\n",
       "      <th>4</th>\n",
       "      <td>Sm154Di</td>\n",
       "      <td>[154Sm_STAT3]</td>\n",
       "      <td>[154Sm_STAT3]</td>\n",
       "      <td>True</td>\n",
       "    </tr>\n",
       "    <tr>\n",
       "      <th>5</th>\n",
       "      <td>Gd155Di</td>\n",
       "      <td>[155Gd_S6]</td>\n",
       "      <td>[155Gd_S6]</td>\n",
       "      <td>True</td>\n",
       "    </tr>\n",
       "    <tr>\n",
       "      <th>6</th>\n",
       "      <td>Tb159Di</td>\n",
       "      <td>[159Tb_MAPKAPK2]</td>\n",
       "      <td>[159Tb_MAPKAPK2]</td>\n",
       "      <td>True</td>\n",
       "    </tr>\n",
       "    <tr>\n",
       "      <th>7</th>\n",
       "      <td>Dy164Di</td>\n",
       "      <td>[164Dy_IkB]</td>\n",
       "      <td>[164Dy_IkB]</td>\n",
       "      <td>True</td>\n",
       "    </tr>\n",
       "    <tr>\n",
       "      <th>8</th>\n",
       "      <td>Er166Di</td>\n",
       "      <td>[166Er_NFkB]</td>\n",
       "      <td>[166Er_NFkB]</td>\n",
       "      <td>True</td>\n",
       "    </tr>\n",
       "    <tr>\n",
       "      <th>9</th>\n",
       "      <td>Er167Di</td>\n",
       "      <td>[167Er_ERK]</td>\n",
       "      <td>[167Er_ERK]</td>\n",
       "      <td>True</td>\n",
       "    </tr>\n",
       "    <tr>\n",
       "      <th>10</th>\n",
       "      <td>Yb168Di</td>\n",
       "      <td>[168Yb_STAT6]</td>\n",
       "      <td>[]</td>\n",
       "      <td>False</td>\n",
       "    </tr>\n",
       "    <tr>\n",
       "      <th>11</th>\n",
       "      <td>Er168Di</td>\n",
       "      <td>[]</td>\n",
       "      <td>[168Er_STAT6]</td>\n",
       "      <td>False</td>\n",
       "    </tr>\n",
       "  </tbody>\n",
       "</table>\n",
       "</div>"
      ],
      "text/plain": [
       "    Channel      ID1_reagents     ID14_reagents  Same ?\n",
       "0   Sm149Di      [149Sm_CREB]      [149Sm_CREB]    True\n",
       "1   Nd150Di     [150Nd_STAT5]     [150Nd_STAT5]    True\n",
       "2   Eu151Di       [151Eu_p38]       [151Eu_p38]    True\n",
       "3   Eu153Di     [153Eu_STAT1]     [153Eu_STAT1]    True\n",
       "4   Sm154Di     [154Sm_STAT3]     [154Sm_STAT3]    True\n",
       "5   Gd155Di        [155Gd_S6]        [155Gd_S6]    True\n",
       "6   Tb159Di  [159Tb_MAPKAPK2]  [159Tb_MAPKAPK2]    True\n",
       "7   Dy164Di       [164Dy_IkB]       [164Dy_IkB]    True\n",
       "8   Er166Di      [166Er_NFkB]      [166Er_NFkB]    True\n",
       "9   Er167Di       [167Er_ERK]       [167Er_ERK]    True\n",
       "10  Yb168Di     [168Yb_STAT6]                []   False\n",
       "11  Er168Di                []     [168Er_STAT6]   False"
      ]
     },
     "execution_count": 52,
     "metadata": {},
     "output_type": "execute_result"
    }
   ],
   "source": [
    "id1_reagents = []\n",
    "id14_reagents = []\n",
    "same_ID1_ID14 = []\n",
    "for channel in pd.concat([ID1['channel'], ID14['channel']]).unique():\n",
    "    id1_reagents.append(ID1[ID1['channel']==channel]['reagent'].unique())\n",
    "    id14_reagents.append(ID14[ID14['channel']==channel]['reagent'].unique())\n",
    "    same_ID1_ID14.append(id1_reagents==id14_reagents)  \n",
    "    #print(f\"{channel} <=> (ID1) reagent(s) {id1_reagents[-1]} <=> (ID14) reagent(s) {id14_reagents[-1]} ==> same for ID1 and ID14 : {same_ID1_ID14[-1]}\")\n",
    "Reagent_Channel_df = pd.DataFrame()\n",
    "Reagent_Channel_df['Channel']=pd.concat([ID1['channel'], ID14['channel']]).unique()\n",
    "Reagent_Channel_df['ID1_reagents'] = id1_reagents\n",
    "Reagent_Channel_df['ID14_reagents'] = id14_reagents\n",
    "Reagent_Channel_df['Same ?'] = same_ID1_ID14\n",
    "Reagent_Channel_df"
   ]
  },
  {
   "attachments": {},
   "cell_type": "markdown",
   "metadata": {},
   "source": [
    "Both datasets have 11 reagents and 11 channels.\n",
    "\n",
    "One channel is for one reagent. we can remove the channel and only consider the reagents.\n",
    "\n",
    "It seems that for patients 2-3, the channel Yb168Di doesn't match any reagent... but matches reagent 168Yb_STAT6 for (ID1)\n",
    "\n",
    "It seems that for patients 1, the channel Er168Di doesn't match any reagent... but matches reagent 168Er_STAT6 for (ID14)\n",
    "\n",
    "Are they same ? YES"
   ]
  },
  {
   "cell_type": "code",
   "execution_count": 36,
   "metadata": {},
   "outputs": [
    {
     "name": "stdout",
     "output_type": "stream",
     "text": [
      "----------------------------------------------\n",
      "shape : (132000, 11)\n",
      "index :\n",
      "gIndex(['02_plate2_02_LPZ10ng_IFNa.fcs', '02_plate2_02_LPZ10ng_GMCSF.fcs',\n",
      "       '02_plate2_02_DMSO_Unstim.fcs', '02_plate2_02_DMSO_LPS.fcs',\n",
      "       '02_plate2_02_DMSO_IL246.fcs', '02_plate2_02_DMSO_IFNa.fcs',\n",
      "       '02_plate2_02_DMSO_GMCSF.fcs', '02_plate1_02_DMSO_Unstim.fcs',\n",
      "       '02_plate1_02_DMSO_LPS.fcs', '02_plate1_02_DMSO_IL246.fcs',\n",
      "       ...\n",
      "       '03_Plate3_03_DMSO_Unstim.fcs', '03_Plate2_03_LPZ1000ng_IL246.fcs',\n",
      "       '03_Plate2_03_LPZ1000ng_IFNa.fcs', '03_Plate2_03_LPZ1000ng_GMCSF.fcs',\n",
      "       '03_Plate2_03_LPZ100ng_Unstim.fcs', '03_Plate2_03_LPZ100ng_LPS.fcs',\n",
      "       '03_Plate2_03_LPZ100ng_IL246.fcs', '03_Plate2_03_LPZ10ng_Unstim.fcs',\n",
      "       '03_Plate2_03_LPZ100ng_GMCSF.fcs', '03_Plate2_03_LPZ10ng_LPS.fcs'],\n",
      "      dtype='object', name='filename', length=600)\n",
      "len(index) : 600\n",
      "population values:\n",
      "['Bcells' 'CD4negCD8negTcells' 'NKT' 'Tregs' 'CD56loCD16posNK'\n",
      " 'CD56hiCD16negNK' 'intMCs' 'ncMCs' 'pDCs' 'mDCs' 'MDSCs' 'Granulocytes'\n",
      " 'CD4Tnaive' 'CD4Tcm' 'CD4Tem' 'CD4Teff' 'CD8Tnaive' 'CD8Tcm' 'CD8Tem'\n",
      " 'CD8Teff']\n",
      "len(population values):\n",
      "20\n",
      "uniquePopulationName values:\n",
      "['Bcells' 'CD4negCD8negTcells' 'NKT' 'Tregs' 'CD56loCD16posNK'\n",
      " 'CD56hiCD16negNK' 'intMCs' 'ncMCs' 'pDCs' 'mDCs' 'MDSCs' 'Granulocytes'\n",
      " 'CD4Tnaive' 'CD4Tcm' 'CD4Tem' 'CD4Teff' 'CD8Tnaive' 'CD8Tcm' 'CD8Tem'\n",
      " 'CD8Teff']\n",
      "len(uniquePopulationName values):\n",
      "20\n",
      "parentPopulation values:\n",
      "['MononuclearCells' 'Tcells' 'FoxP3posCD4T' 'NK' 'lin-' 'DClike' 'cMCs'\n",
      " 'LiveLeukocytes' 'CD4Tcells' 'CD8Tcells']\n",
      "len(parentPopulation values):\n",
      "10\n",
      "channel values:\n",
      "['Sm149Di' 'Nd150Di' 'Eu151Di' 'Eu153Di' 'Sm154Di' 'Gd155Di' 'Tb159Di'\n",
      " 'Dy164Di' 'Er166Di' 'Er167Di' 'Er168Di']\n",
      "len(channel values):\n",
      "11\n",
      "reagent values:\n",
      "['149Sm_CREB' '150Nd_STAT5' '151Eu_p38' '153Eu_STAT1' '154Sm_STAT3'\n",
      " '155Gd_S6' '159Tb_MAPKAPK2' '164Dy_IkB' '166Er_NFkB' '167Er_ERK'\n",
      " '168Er_STAT6']\n",
      "len(reagent values):\n",
      "11\n",
      "Dose values:\n",
      "['10ng' '0.50%' '100ug' '10ug' '1ug' '1000ng' '100ng' '1ng']\n",
      "len(Dose values):\n",
      "8\n",
      "Drug values:\n",
      "['Lansoprazole' 'DMSO' 'Cefotaxime' 'Methylpredonisolone' 'Pravastatin'\n",
      " 'Progesterone' 'Maprotiline' 'Clotrimazole' 'Folic acid' 'Metformin'\n",
      " 'Benzylpenicillin' 'Chlorthalidone' 'Rifabutin' 'Iodixanol' 'Iohexol'\n",
      " 'Iopamidol']\n",
      "len(Drug values):\n",
      "16\n",
      "ID values:\n",
      "[2 3]\n",
      "len(ID values):\n",
      "2\n",
      "Plate values:\n",
      "[ 2  1 15 14 13 12 11 10  9  8  7  6  5  4  3]\n",
      "len(Plate values):\n",
      "15\n",
      "Stims values:\n",
      "['IFNa' 'GM-CSF' 'Unstim' 'LPS' 'IL-246']\n",
      "len(Stims values):\n",
      "5\n",
      "median values:\n",
      "[ 0.          4.6514976   7.49857283 ... 11.43065071  1.36102116\n",
      "  2.74252582]\n",
      "len(median values):\n",
      "91596\n",
      "----------------------------------------------\n"
     ]
    }
   ],
   "source": [
    "display_file_info(ID14)"
   ]
  },
  {
   "attachments": {},
   "cell_type": "markdown",
   "metadata": {},
   "source": [
    "### Removing redundant columns"
   ]
  },
  {
   "attachments": {},
   "cell_type": "markdown",
   "metadata": {},
   "source": [
    "Here we are going to remove redundant columns and create one dataframe per patient.\n",
    "We also remove some measures as indicated in the next comments."
   ]
  },
  {
   "cell_type": "code",
   "execution_count": 64,
   "metadata": {},
   "outputs": [],
   "source": [
    "ID1 = pd.read_csv(\"../Sample Data/Drug Assay Project/Drug assay ID1re-normalized&barcorded - Statistics.csv\", index_col=0)\n",
    "ID14 = pd.read_csv(\"../Sample Data/Drug Assay Project/Drug assay ID2-4 re-normalized&barcorded - Statistics.csv\", index_col=0)"
   ]
  },
  {
   "attachments": {},
   "cell_type": "markdown",
   "metadata": {},
   "source": [
    "* pSTAT6 was conjugated to different metal elements, but it should give comparable results. You can just remove the metal from the reagent column and then everything should match.\n",
    "* Please exclude plate three of patient 2 for now (that is one drug) – maybe I’ll find a way to still include that data, but let’s just exclude it for now.\n",
    "* The plate numbers correspond to the drugs (see my R script that I had sent you) – if you can’t find it let me know or Masa can provide a table with the drug-plate correspondence."
   ]
  },
  {
   "cell_type": "code",
   "execution_count": 65,
   "metadata": {},
   "outputs": [],
   "source": [
    "ID14 = ID14[(ID14['ID'] != 2) | (ID14['Plate'] != 3)] # removing Patient 2 Plate 3"
   ]
  },
  {
   "cell_type": "code",
   "execution_count": 66,
   "metadata": {},
   "outputs": [],
   "source": [
    "P1 = ID1[['population', 'parentPopulation', 'reagent', 'Dose', 'Drug', 'median']].copy()\n",
    "P2 = ID14[ID14['ID']==2][['population', 'parentPopulation', 'reagent', 'Dose', 'Drug', 'median']].copy()\n",
    "P3 = ID14[ID14['ID']==3][['population', 'parentPopulation', 'reagent', 'Dose', 'Drug', 'median']].copy()"
   ]
  },
  {
   "cell_type": "code",
   "execution_count": 69,
   "metadata": {},
   "outputs": [
    {
     "data": {
      "text/plain": [
       "(66000, 6)"
      ]
     },
     "execution_count": 69,
     "metadata": {},
     "output_type": "execute_result"
    }
   ],
   "source": [
    "P3.shape"
   ]
  },
  {
   "cell_type": "code",
   "execution_count": null,
   "metadata": {},
   "outputs": [],
   "source": []
  }
 ],
 "metadata": {
  "kernelspec": {
   "display_name": ".venv",
   "language": "python",
   "name": "python3"
  },
  "language_info": {
   "codemirror_mode": {
    "name": "ipython",
    "version": 3
   },
   "file_extension": ".py",
   "mimetype": "text/x-python",
   "name": "python",
   "nbconvert_exporter": "python",
   "pygments_lexer": "ipython3",
   "version": "3.9.5"
  },
  "orig_nbformat": 4
 },
 "nbformat": 4,
 "nbformat_minor": 2
}
