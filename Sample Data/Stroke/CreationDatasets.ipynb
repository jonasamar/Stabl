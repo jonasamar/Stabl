{
 "cells": [
  {
   "cell_type": "code",
   "execution_count": 1,
   "metadata": {},
   "outputs": [],
   "source": [
    "import pandas as pd \n",
    "import csv\n",
    "import os"
   ]
  },
  {
   "cell_type": "code",
   "execution_count": 7,
   "metadata": {},
   "outputs": [],
   "source": [
    "data = pd.read_csv('./preprocessed_HT.csv', index_col=0)\n",
    "datasets = {}\n",
    "for time in ['P1', 'P2', 'P3']:\n",
    "    datasets[time] = pd.DataFrame(index=data.index.unique(), columns=[cellpop.replace('*', '')+'_'+reagent for cellpop in data['population'].unique() for reagent in data['reagent'].unique()])\n",
    "    for cellpop in data['population'].unique():\n",
    "        for reagent in data['reagent'].unique():\n",
    "            datasets[time][cellpop.replace('*', '')+'_'+reagent] = data[(data['time']==time) & (data['reagent']==reagent) & (data['population']==cellpop)]['feature']\n",
    "    datasets[time].to_csv(time+'.csv')"
   ]
  },
  {
   "cell_type": "code",
   "execution_count": 8,
   "metadata": {},
   "outputs": [],
   "source": [
    "(datasets['P2']-datasets['P1']).to_csv('Delta.csv')"
   ]
  }
 ],
 "metadata": {
  "kernelspec": {
   "display_name": ".venv",
   "language": "python",
   "name": "python3"
  },
  "language_info": {
   "codemirror_mode": {
    "name": "ipython",
    "version": 3
   },
   "file_extension": ".py",
   "mimetype": "text/x-python",
   "name": "python",
   "nbconvert_exporter": "python",
   "pygments_lexer": "ipython3",
   "version": "3.9.5"
  },
  "orig_nbformat": 4
 },
 "nbformat": 4,
 "nbformat_minor": 2
}
