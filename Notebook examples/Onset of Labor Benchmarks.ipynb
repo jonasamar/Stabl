{
 "cells": [
  {
   "cell_type": "code",
   "execution_count": 1,
   "id": "59c8aa51",
   "metadata": {},
   "outputs": [],
   "source": [
    "import warnings\n",
    "warnings.filterwarnings('ignore')"
   ]
  },
  {
   "cell_type": "markdown",
   "id": "4988b56c",
   "metadata": {},
   "source": [
    "# Libraries"
   ]
  },
  {
   "cell_type": "code",
   "execution_count": 2,
   "id": "ed777ae1",
   "metadata": {
    "tags": []
   },
   "outputs": [],
   "source": [
    "import numpy as np\n",
    "import pandas as pd\n",
    "from pathlib import Path\n",
    "\n",
    "from sklearn.model_selection import GroupShuffleSplit\n",
    "from sklearn.base import clone\n",
    "from sklearn.linear_model import Lasso\n",
    "\n",
    "from stabl.stabl import Stabl, plot_stabl_path, plot_fdr_graph, save_stabl_results\n",
    "from stabl.preprocessing import LowInfoFilter, remove_low_info_samples\n",
    "\n",
    "%config InlineBackend.figure_formats=['retina']"
   ]
  },
  {
   "cell_type": "code",
   "execution_count": 3,
   "id": "ebdae33c",
   "metadata": {
    "tags": []
   },
   "outputs": [],
   "source": [
    "from stabl.multi_omic_pipelines import multi_omic_stabl, multi_omic_stabl_cv, late_fusion_lasso_cv\n",
    "from stabl.single_omic_pipelines import single_omic_stabl, single_omic_stabl_cv\n",
    "from stabl.pipelines_utils import compute_features_table"
   ]
  },
  {
   "cell_type": "markdown",
   "id": "9f9ba553",
   "metadata": {},
   "source": [
    "# Data"
   ]
  },
  {
   "cell_type": "markdown",
   "id": "a167cacd",
   "metadata": {},
   "source": [
    "## Training Data"
   ]
  },
  {
   "cell_type": "code",
   "execution_count": 4,
   "id": "c8865975",
   "metadata": {
    "tags": []
   },
   "outputs": [],
   "source": [
    "y_train = pd.read_csv(\"../Sample Data/Onset of Labor/Training/DOS.csv\", index_col=0).DOS\n",
    "patients_id = pd.read_csv(\"../Sample Data/Onset of Labor/Training/ID.csv\",index_col=0).Id\n",
    "\n",
    "meta_train = pd.read_csv(\"../Sample Data/Onset of Labor/Training/Metabolomics.csv\", index_col=0)\n",
    "cyto_train = pd.read_csv(\"../Sample Data/Onset of Labor/Training/CyTOF.csv\", index_col=0)\n",
    "prot_train = pd.read_csv(\"../Sample Data/Onset of Labor/Training/Proteomics.csv\", index_col=0)"
   ]
  },
  {
   "cell_type": "markdown",
   "id": "8629885c",
   "metadata": {},
   "source": [
    "## Validation Data"
   ]
  },
  {
   "cell_type": "code",
   "execution_count": 5,
   "id": "76c19361",
   "metadata": {},
   "outputs": [],
   "source": [
    "y_test = pd.read_csv(\"../Sample Data/Onset of Labor/Validation/DOS_validation.csv\",index_col=0).DOS\n",
    "cyto_test = pd.read_csv(\"../Sample Data/Onset of Labor/Validation/CyTOF_validation.csv\", index_col=0)\n",
    "prot_test = pd.read_csv(\"../Sample Data/Onset of Labor/Validation/Proteomics_validation.csv\", index_col=0)"
   ]
  },
  {
   "cell_type": "markdown",
   "id": "7be87bf6",
   "metadata": {},
   "source": [
    "## Data dictionaries"
   ]
  },
  {
   "cell_type": "markdown",
   "id": "dcc220d0",
   "metadata": {},
   "source": [
    "We will define here different dictionaries depending on if we use validation or not"
   ]
  },
  {
   "cell_type": "code",
   "execution_count": 6,
   "id": "d4310a66",
   "metadata": {
    "tags": []
   },
   "outputs": [],
   "source": [
    "train_data_dict = {\n",
    "    \"CyTOF\": cyto_train,\n",
    "    \"Proteomics\": prot_train,\n",
    "    \"Metabolomics\": meta_train\n",
    "}\n",
    "\n",
    "train_data_dict_red = {\n",
    "    \"CyTOF\": cyto_train,\n",
    "    \"Proteomics\": prot_train\n",
    "}\n",
    "\n",
    "test_data_dict = {\n",
    "    \"CyTOF\": cyto_test,\n",
    "    \"Proteomics\": prot_test\n",
    "}"
   ]
  },
  {
   "cell_type": "markdown",
   "id": "ada6f225",
   "metadata": {},
   "source": [
    "# Results folder"
   ]
  },
  {
   "cell_type": "code",
   "execution_count": 7,
   "id": "cc4081b0",
   "metadata": {
    "tags": []
   },
   "outputs": [],
   "source": [
    "result_folder = \"./Results Onset of Labor\""
   ]
  },
  {
   "cell_type": "markdown",
   "id": "2640444c",
   "metadata": {},
   "source": [
    "# Multi-omic Training-CV"
   ]
  },
  {
   "cell_type": "code",
   "execution_count": 8,
   "id": "7f2a67d6",
   "metadata": {
    "tags": []
   },
   "outputs": [],
   "source": [
    "lasso = Lasso(max_iter=int(1e6))  # Redefining the base model as we are in the regressio case\n",
    "\n",
    "stabl = Stabl(\n",
    "    base_estimator=clone(lasso),\n",
    "    lambda_name='alpha',\n",
    "    lambda_grid=np.logspace(0, 2, 10),\n",
    "    n_bootstraps=300,\n",
    "    artificial_proportion=1.,\n",
    "    artificial_type=\"random_permutation\",\n",
    "    replace=False,\n",
    "    fdr_threshold_range=np.arange(0.1, 1, 0.01),\n",
    "    sample_fraction=.5,\n",
    "    random_state=42\n",
    ")\n",
    "\n",
    "outer_splitter = GroupShuffleSplit(n_splits=100, test_size=.2, random_state=42)\n",
    "\n",
    "stability_selection = clone(stabl).set_params(artificial_type=None, hard_threshold=.3)"
   ]
  },
  {
   "cell_type": "code",
   "execution_count": 9,
   "id": "2d933af7",
   "metadata": {
    "scrolled": true,
    "tags": []
   },
   "outputs": [
    {
     "name": "stdout",
     "output_type": "stream",
     "text": [
      "***************************** Iteration 1 over 100 ***************************** \n",
      "\n",
      "117 train samples, 33 test samples\n"
     ]
    },
    {
     "name": "stderr",
     "output_type": "stream",
     "text": [
      "                                                               17<00:00,  4.45s/it]\r"
     ]
    },
    {
     "name": "stdout",
     "output_type": "stream",
     "text": [
      "STABL finished on CyTOF (117 samples); 1 features selected\n",
      "\n"
     ]
    },
    {
     "name": "stderr",
     "output_type": "stream",
     "text": [
      "                                                               42<00:00,  9.91s/it]\r"
     ]
    },
    {
     "name": "stdout",
     "output_type": "stream",
     "text": [
      "STABL finished on Proteomics (117 samples); 14 features selected\n",
      "\n"
     ]
    },
    {
     "name": "stderr",
     "output_type": "stream",
     "text": [
      "                                                               15<00:00, 17.94s/it]\r"
     ]
    },
    {
     "name": "stdout",
     "output_type": "stream",
     "text": [
      "STABL finished on Metabolomics (117 samples); 13 features selected\n",
      "\n"
     ]
    },
    {
     "name": "stderr",
     "output_type": "stream",
     "text": [
      "                                                               21<00:00, 12.48s/it]\r"
     ]
    },
    {
     "name": "stdout",
     "output_type": "stream",
     "text": [
      "~~~~~~~~~~~~~~~~~~~~~~~~~~~~~~~~~~~~~~~~~~~~~~~~~~~~~~~\n",
      "This fold: 28 features selected for STABL\n",
      "This fold: 81 features selected for SS 03\n",
      "This fold: 35 features selected for SS 05\n",
      "This fold: 12 features selected for SS 08\n",
      "~~~~~~~~~~~~~~~~~~~~~~~~~~~~~~~~~~~~~~~~~~~~~~~~~~~~~~~\n",
      "\n",
      "***************************** Iteration 2 over 100 ***************************** \n",
      "\n",
      "121 train samples, 29 test samples\n"
     ]
    },
    {
     "name": "stderr",
     "output_type": "stream",
     "text": [
      "                                                               41<00:00,  4.00s/it]\r"
     ]
    },
    {
     "name": "stdout",
     "output_type": "stream",
     "text": [
      "STABL finished on CyTOF (121 samples); 2 features selected\n",
      "\n"
     ]
    },
    {
     "name": "stderr",
     "output_type": "stream",
     "text": [
      "                                                               50<00:00, 10.62s/it]\r"
     ]
    },
    {
     "name": "stdout",
     "output_type": "stream",
     "text": [
      "STABL finished on Proteomics (121 samples); 16 features selected\n",
      "\n"
     ]
    },
    {
     "name": "stderr",
     "output_type": "stream",
     "text": [
      "                                                               51<00:00, 19.69s/it]\r"
     ]
    },
    {
     "name": "stdout",
     "output_type": "stream",
     "text": [
      "STABL finished on Metabolomics (121 samples); 9 features selected\n",
      "\n"
     ]
    },
    {
     "name": "stderr",
     "output_type": "stream",
     "text": [
      "                                                               30<00:00, 12.94s/it]\r"
     ]
    },
    {
     "name": "stdout",
     "output_type": "stream",
     "text": [
      "~~~~~~~~~~~~~~~~~~~~~~~~~~~~~~~~~~~~~~~~~~~~~~~~~~~~~~~\n",
      "This fold: 27 features selected for STABL\n",
      "This fold: 84 features selected for SS 03\n",
      "This fold: 36 features selected for SS 05\n",
      "This fold: 8 features selected for SS 08\n",
      "~~~~~~~~~~~~~~~~~~~~~~~~~~~~~~~~~~~~~~~~~~~~~~~~~~~~~~~\n",
      "\n",
      "***************************** Iteration 3 over 100 ***************************** \n",
      "\n",
      "117 train samples, 33 test samples\n"
     ]
    },
    {
     "name": "stderr",
     "output_type": "stream",
     "text": [
      "                                                               09<00:00,  2.80s/it]\r"
     ]
    },
    {
     "name": "stdout",
     "output_type": "stream",
     "text": [
      "STABL finished on CyTOF (117 samples); 2 features selected\n",
      "\n"
     ]
    },
    {
     "name": "stderr",
     "output_type": "stream",
     "text": [
      "                                                               42<00:00, 10.24s/it]\r"
     ]
    },
    {
     "name": "stdout",
     "output_type": "stream",
     "text": [
      "STABL finished on Proteomics (117 samples); 20 features selected\n",
      "\n"
     ]
    },
    {
     "name": "stderr",
     "output_type": "stream",
     "text": [
      "                                                               44<00:00, 18.47s/it]\r"
     ]
    },
    {
     "name": "stdout",
     "output_type": "stream",
     "text": [
      "STABL finished on Metabolomics (117 samples); 12 features selected\n",
      "\n"
     ]
    },
    {
     "name": "stderr",
     "output_type": "stream",
     "text": [
      "                                                               30<00:00, 12.46s/it]\r"
     ]
    },
    {
     "name": "stdout",
     "output_type": "stream",
     "text": [
      "~~~~~~~~~~~~~~~~~~~~~~~~~~~~~~~~~~~~~~~~~~~~~~~~~~~~~~~\n",
      "This fold: 34 features selected for STABL\n",
      "This fold: 90 features selected for SS 03\n",
      "This fold: 38 features selected for SS 05\n",
      "This fold: 11 features selected for SS 08\n",
      "~~~~~~~~~~~~~~~~~~~~~~~~~~~~~~~~~~~~~~~~~~~~~~~~~~~~~~~\n",
      "\n",
      "***************************** Iteration 4 over 100 ***************************** \n",
      "\n",
      "117 train samples, 33 test samples\n"
     ]
    },
    {
     "name": "stderr",
     "output_type": "stream",
     "text": [
      "                                                               24<00:00,  3.61s/it]\r"
     ]
    },
    {
     "name": "stdout",
     "output_type": "stream",
     "text": [
      "STABL finished on CyTOF (117 samples); 4 features selected\n",
      "\n"
     ]
    },
    {
     "name": "stderr",
     "output_type": "stream",
     "text": [
      "                                                               40<00:00,  9.86s/it]\r"
     ]
    },
    {
     "name": "stdout",
     "output_type": "stream",
     "text": [
      "STABL finished on Proteomics (117 samples); 9 features selected\n",
      "\n"
     ]
    },
    {
     "name": "stderr",
     "output_type": "stream",
     "text": [
      "                                                               50<00:00, 17.37s/it]\r"
     ]
    },
    {
     "name": "stdout",
     "output_type": "stream",
     "text": [
      "STABL finished on Metabolomics (117 samples); 5 features selected\n",
      "\n"
     ]
    },
    {
     "name": "stderr",
     "output_type": "stream",
     "text": [
      "                                                               15<00:00, 12.12s/it]\r"
     ]
    },
    {
     "name": "stdout",
     "output_type": "stream",
     "text": [
      "~~~~~~~~~~~~~~~~~~~~~~~~~~~~~~~~~~~~~~~~~~~~~~~~~~~~~~~\n",
      "This fold: 18 features selected for STABL\n",
      "This fold: 74 features selected for SS 03\n",
      "This fold: 30 features selected for SS 05\n",
      "This fold: 7 features selected for SS 08\n",
      "~~~~~~~~~~~~~~~~~~~~~~~~~~~~~~~~~~~~~~~~~~~~~~~~~~~~~~~\n",
      "\n",
      "***************************** Iteration 5 over 100 ***************************** \n",
      "\n",
      "118 train samples, 32 test samples\n"
     ]
    },
    {
     "name": "stderr",
     "output_type": "stream",
     "text": [
      "                                                               39<00:00,  3.70s/it]\r"
     ]
    },
    {
     "name": "stdout",
     "output_type": "stream",
     "text": [
      "STABL finished on CyTOF (118 samples); 5 features selected\n",
      "\n"
     ]
    },
    {
     "name": "stderr",
     "output_type": "stream",
     "text": [
      "                                                               48<00:00, 11.23s/it]\r"
     ]
    },
    {
     "name": "stdout",
     "output_type": "stream",
     "text": [
      "STABL finished on Proteomics (118 samples); 13 features selected\n",
      "\n"
     ]
    },
    {
     "name": "stderr",
     "output_type": "stream",
     "text": [
      "                                                               02<00:00, 18.31s/it]\r"
     ]
    },
    {
     "name": "stdout",
     "output_type": "stream",
     "text": [
      "STABL finished on Metabolomics (118 samples); 5 features selected\n",
      "\n"
     ]
    },
    {
     "name": "stderr",
     "output_type": "stream",
     "text": [
      "                                                               29<00:00, 12.77s/it]\r"
     ]
    },
    {
     "name": "stdout",
     "output_type": "stream",
     "text": [
      "~~~~~~~~~~~~~~~~~~~~~~~~~~~~~~~~~~~~~~~~~~~~~~~~~~~~~~~\n",
      "This fold: 23 features selected for STABL\n",
      "This fold: 83 features selected for SS 03\n",
      "This fold: 34 features selected for SS 05\n",
      "This fold: 8 features selected for SS 08\n",
      "~~~~~~~~~~~~~~~~~~~~~~~~~~~~~~~~~~~~~~~~~~~~~~~~~~~~~~~\n",
      "\n",
      "***************************** Iteration 6 over 100 ***************************** \n",
      "\n",
      "120 train samples, 30 test samples\n"
     ]
    },
    {
     "name": "stderr",
     "output_type": "stream",
     "text": [
      "                                                               23<00:00,  3.50s/it]\r"
     ]
    },
    {
     "name": "stdout",
     "output_type": "stream",
     "text": [
      "STABL finished on CyTOF (120 samples); 2 features selected\n",
      "\n"
     ]
    },
    {
     "name": "stderr",
     "output_type": "stream",
     "text": [
      "                                                               48<00:00, 10.76s/it]\r"
     ]
    },
    {
     "name": "stdout",
     "output_type": "stream",
     "text": [
      "STABL finished on Proteomics (120 samples); 10 features selected\n",
      "\n"
     ]
    },
    {
     "name": "stderr",
     "output_type": "stream",
     "text": [
      "                                                               53<00:00, 17.59s/it]\r"
     ]
    },
    {
     "name": "stdout",
     "output_type": "stream",
     "text": [
      "STABL finished on Metabolomics (120 samples); 11 features selected\n",
      "\n"
     ]
    },
    {
     "name": "stderr",
     "output_type": "stream",
     "text": [
      "                                                               26<00:00, 12.74s/it]\r"
     ]
    },
    {
     "name": "stdout",
     "output_type": "stream",
     "text": [
      "~~~~~~~~~~~~~~~~~~~~~~~~~~~~~~~~~~~~~~~~~~~~~~~~~~~~~~~\n",
      "This fold: 23 features selected for STABL\n",
      "This fold: 89 features selected for SS 03\n",
      "This fold: 33 features selected for SS 05\n",
      "This fold: 11 features selected for SS 08\n",
      "~~~~~~~~~~~~~~~~~~~~~~~~~~~~~~~~~~~~~~~~~~~~~~~~~~~~~~~\n",
      "\n",
      "***************************** Iteration 7 over 100 ***************************** \n",
      "\n",
      "117 train samples, 33 test samples\n"
     ]
    },
    {
     "name": "stderr",
     "output_type": "stream",
     "text": [
      "                                                               39<00:00,  3.77s/it]\r"
     ]
    },
    {
     "name": "stdout",
     "output_type": "stream",
     "text": [
      "STABL finished on CyTOF (117 samples); 4 features selected\n",
      "\n"
     ]
    },
    {
     "name": "stderr",
     "output_type": "stream",
     "text": [
      "                                                               42<00:00, 10.31s/it]\r"
     ]
    },
    {
     "name": "stdout",
     "output_type": "stream",
     "text": [
      "STABL finished on Proteomics (117 samples); 9 features selected\n",
      "\n"
     ]
    },
    {
     "name": "stderr",
     "output_type": "stream",
     "text": [
      "                                                               39<00:00, 16.64s/it]\r"
     ]
    },
    {
     "name": "stdout",
     "output_type": "stream",
     "text": [
      "STABL finished on Metabolomics (117 samples); 5 features selected\n",
      "\n"
     ]
    },
    {
     "name": "stderr",
     "output_type": "stream",
     "text": [
      "                                                               13<00:00, 12.29s/it]\r"
     ]
    },
    {
     "name": "stdout",
     "output_type": "stream",
     "text": [
      "~~~~~~~~~~~~~~~~~~~~~~~~~~~~~~~~~~~~~~~~~~~~~~~~~~~~~~~\n",
      "This fold: 18 features selected for STABL\n",
      "This fold: 74 features selected for SS 03\n",
      "This fold: 34 features selected for SS 05\n",
      "This fold: 8 features selected for SS 08\n",
      "~~~~~~~~~~~~~~~~~~~~~~~~~~~~~~~~~~~~~~~~~~~~~~~~~~~~~~~\n",
      "\n",
      "***************************** Iteration 8 over 100 ***************************** \n",
      "\n",
      "120 train samples, 30 test samples\n"
     ]
    },
    {
     "name": "stderr",
     "output_type": "stream",
     "text": [
      "                                                               42<00:00,  3.58s/it]\r"
     ]
    },
    {
     "name": "stdout",
     "output_type": "stream",
     "text": [
      "STABL finished on CyTOF (120 samples); 2 features selected\n",
      "\n"
     ]
    },
    {
     "name": "stderr",
     "output_type": "stream",
     "text": [
      "                                                               42<00:00, 10.24s/it]\r"
     ]
    },
    {
     "name": "stdout",
     "output_type": "stream",
     "text": [
      "STABL finished on Proteomics (120 samples); 17 features selected\n",
      "\n"
     ]
    },
    {
     "name": "stderr",
     "output_type": "stream",
     "text": [
      "                                                               52<00:00, 17.65s/it]\r"
     ]
    },
    {
     "name": "stdout",
     "output_type": "stream",
     "text": [
      "STABL finished on Metabolomics (120 samples); 13 features selected\n",
      "\n"
     ]
    },
    {
     "name": "stderr",
     "output_type": "stream",
     "text": [
      "                                                               22<00:00, 12.83s/it]\r"
     ]
    },
    {
     "name": "stdout",
     "output_type": "stream",
     "text": [
      "~~~~~~~~~~~~~~~~~~~~~~~~~~~~~~~~~~~~~~~~~~~~~~~~~~~~~~~\n",
      "This fold: 32 features selected for STABL\n",
      "This fold: 81 features selected for SS 03\n",
      "This fold: 32 features selected for SS 05\n",
      "This fold: 6 features selected for SS 08\n",
      "~~~~~~~~~~~~~~~~~~~~~~~~~~~~~~~~~~~~~~~~~~~~~~~~~~~~~~~\n",
      "\n",
      "***************************** Iteration 9 over 100 ***************************** \n",
      "\n",
      "119 train samples, 31 test samples\n"
     ]
    },
    {
     "name": "stderr",
     "output_type": "stream",
     "text": [
      "                                                               57<00:00,  2.34s/it]\r"
     ]
    },
    {
     "name": "stdout",
     "output_type": "stream",
     "text": [
      "STABL finished on CyTOF (119 samples); 5 features selected\n",
      "\n"
     ]
    },
    {
     "name": "stderr",
     "output_type": "stream",
     "text": [
      "                                                               49<00:00, 10.70s/it]\r"
     ]
    },
    {
     "name": "stdout",
     "output_type": "stream",
     "text": [
      "STABL finished on Proteomics (119 samples); 12 features selected\n",
      "\n"
     ]
    },
    {
     "name": "stderr",
     "output_type": "stream",
     "text": [
      "                                                               05<00:00, 19.23s/it]\r"
     ]
    },
    {
     "name": "stdout",
     "output_type": "stream",
     "text": [
      "STABL finished on Metabolomics (119 samples); 16 features selected\n",
      "\n"
     ]
    },
    {
     "name": "stderr",
     "output_type": "stream",
     "text": [
      "                                                               30<00:00, 12.99s/it]\r"
     ]
    },
    {
     "name": "stdout",
     "output_type": "stream",
     "text": [
      "~~~~~~~~~~~~~~~~~~~~~~~~~~~~~~~~~~~~~~~~~~~~~~~~~~~~~~~\n",
      "This fold: 33 features selected for STABL\n",
      "This fold: 82 features selected for SS 03\n",
      "This fold: 40 features selected for SS 05\n",
      "This fold: 10 features selected for SS 08\n",
      "~~~~~~~~~~~~~~~~~~~~~~~~~~~~~~~~~~~~~~~~~~~~~~~~~~~~~~~\n",
      "\n",
      "**************************** Iteration 10 over 100 ***************************** \n",
      "\n",
      "118 train samples, 32 test samples\n"
     ]
    },
    {
     "name": "stderr",
     "output_type": "stream",
     "text": [
      "                                                               05<00:00,  5.11s/it]\r"
     ]
    },
    {
     "name": "stdout",
     "output_type": "stream",
     "text": [
      "STABL finished on CyTOF (118 samples); 3 features selected\n",
      "\n"
     ]
    },
    {
     "name": "stderr",
     "output_type": "stream",
     "text": [
      "                                                               50<00:00, 10.84s/it]\r"
     ]
    },
    {
     "name": "stdout",
     "output_type": "stream",
     "text": [
      "STABL finished on Proteomics (118 samples); 19 features selected\n",
      "\n"
     ]
    },
    {
     "name": "stderr",
     "output_type": "stream",
     "text": [
      "                                                               12<00:00, 18.25s/it]\r"
     ]
    },
    {
     "name": "stdout",
     "output_type": "stream",
     "text": [
      "STABL finished on Metabolomics (118 samples); 7 features selected\n",
      "\n"
     ]
    },
    {
     "name": "stderr",
     "output_type": "stream",
     "text": [
      "                                                               27<00:00, 12.76s/it]\r"
     ]
    },
    {
     "name": "stdout",
     "output_type": "stream",
     "text": [
      "~~~~~~~~~~~~~~~~~~~~~~~~~~~~~~~~~~~~~~~~~~~~~~~~~~~~~~~\n",
      "This fold: 29 features selected for STABL\n",
      "This fold: 78 features selected for SS 03\n",
      "This fold: 32 features selected for SS 05\n",
      "This fold: 13 features selected for SS 08\n",
      "~~~~~~~~~~~~~~~~~~~~~~~~~~~~~~~~~~~~~~~~~~~~~~~~~~~~~~~\n",
      "\n",
      "**************************** Iteration 11 over 100 ***************************** \n",
      "\n",
      "117 train samples, 33 test samples\n"
     ]
    },
    {
     "name": "stderr",
     "output_type": "stream",
     "text": [
      "                                                               17<00:00,  3.41s/it]\r"
     ]
    },
    {
     "name": "stdout",
     "output_type": "stream",
     "text": [
      "STABL finished on CyTOF (117 samples); 2 features selected\n",
      "\n"
     ]
    },
    {
     "name": "stderr",
     "output_type": "stream",
     "text": [
      "                                                                  2<00:00, 148.79s/it] \r"
     ]
    },
    {
     "name": "stdout",
     "output_type": "stream",
     "text": [
      "STABL finished on Proteomics (117 samples); 11 features selected\n",
      "\n"
     ]
    },
    {
     "name": "stderr",
     "output_type": "stream",
     "text": [
      "                                                               09<00:00, 19.96s/it]\r"
     ]
    },
    {
     "name": "stdout",
     "output_type": "stream",
     "text": [
      "STABL finished on Metabolomics (117 samples); 8 features selected\n",
      "\n"
     ]
    },
    {
     "name": "stderr",
     "output_type": "stream",
     "text": [
      "                                                               47<00:00,  9.89s/it]\r"
     ]
    },
    {
     "name": "stdout",
     "output_type": "stream",
     "text": [
      "~~~~~~~~~~~~~~~~~~~~~~~~~~~~~~~~~~~~~~~~~~~~~~~~~~~~~~~\n",
      "This fold: 21 features selected for STABL\n",
      "This fold: 88 features selected for SS 03\n",
      "This fold: 40 features selected for SS 05\n",
      "This fold: 12 features selected for SS 08\n",
      "~~~~~~~~~~~~~~~~~~~~~~~~~~~~~~~~~~~~~~~~~~~~~~~~~~~~~~~\n",
      "\n",
      "**************************** Iteration 12 over 100 ***************************** \n",
      "\n",
      "118 train samples, 32 test samples\n"
     ]
    },
    {
     "name": "stderr",
     "output_type": "stream",
     "text": [
      "                                                               55<00:00,  4.35s/it]\r"
     ]
    },
    {
     "name": "stdout",
     "output_type": "stream",
     "text": [
      "STABL finished on CyTOF (118 samples); 3 features selected\n",
      "\n"
     ]
    },
    {
     "name": "stderr",
     "output_type": "stream",
     "text": [
      "                                                               46<00:00,  8.61s/it]\r"
     ]
    },
    {
     "name": "stdout",
     "output_type": "stream",
     "text": [
      "STABL finished on Proteomics (118 samples); 23 features selected\n",
      "\n"
     ]
    },
    {
     "name": "stderr",
     "output_type": "stream",
     "text": [
      "                                                               22<00:00, 18.91s/it]\r"
     ]
    },
    {
     "name": "stdout",
     "output_type": "stream",
     "text": [
      "STABL finished on Metabolomics (118 samples); 5 features selected\n",
      "\n"
     ]
    },
    {
     "name": "stderr",
     "output_type": "stream",
     "text": [
      "                                                               25<00:00,  9.67s/it]\r"
     ]
    },
    {
     "name": "stdout",
     "output_type": "stream",
     "text": [
      "~~~~~~~~~~~~~~~~~~~~~~~~~~~~~~~~~~~~~~~~~~~~~~~~~~~~~~~\n",
      "This fold: 31 features selected for STABL\n",
      "This fold: 89 features selected for SS 03\n",
      "This fold: 29 features selected for SS 05\n",
      "This fold: 6 features selected for SS 08\n",
      "~~~~~~~~~~~~~~~~~~~~~~~~~~~~~~~~~~~~~~~~~~~~~~~~~~~~~~~\n",
      "\n",
      "**************************** Iteration 13 over 100 ***************************** \n",
      "\n",
      "119 train samples, 31 test samples\n"
     ]
    },
    {
     "name": "stderr",
     "output_type": "stream",
     "text": [
      "                                                               57<00:00,  4.53s/it]\r"
     ]
    },
    {
     "name": "stdout",
     "output_type": "stream",
     "text": [
      "STABL finished on CyTOF (119 samples); 4 features selected\n",
      "\n"
     ]
    },
    {
     "name": "stderr",
     "output_type": "stream",
     "text": [
      "                                                               29<00:00,  8.09s/it]\r"
     ]
    },
    {
     "name": "stdout",
     "output_type": "stream",
     "text": [
      "STABL finished on Proteomics (119 samples); 12 features selected\n",
      "\n"
     ]
    },
    {
     "name": "stderr",
     "output_type": "stream",
     "text": [
      "                                                               10<00:00, 22.58s/it]\r"
     ]
    },
    {
     "name": "stdout",
     "output_type": "stream",
     "text": [
      "STABL finished on Metabolomics (119 samples); 5 features selected\n",
      "\n"
     ]
    },
    {
     "name": "stderr",
     "output_type": "stream",
     "text": [
      "                                                               31<00:00, 13.21s/it]\r"
     ]
    },
    {
     "name": "stdout",
     "output_type": "stream",
     "text": [
      "~~~~~~~~~~~~~~~~~~~~~~~~~~~~~~~~~~~~~~~~~~~~~~~~~~~~~~~\n",
      "This fold: 21 features selected for STABL\n",
      "This fold: 87 features selected for SS 03\n",
      "This fold: 35 features selected for SS 05\n",
      "This fold: 7 features selected for SS 08\n",
      "~~~~~~~~~~~~~~~~~~~~~~~~~~~~~~~~~~~~~~~~~~~~~~~~~~~~~~~\n",
      "\n",
      "**************************** Iteration 14 over 100 ***************************** \n",
      "\n",
      "121 train samples, 29 test samples\n"
     ]
    },
    {
     "name": "stderr",
     "output_type": "stream",
     "text": [
      "                                                               37<00:00,  5.96s/it]\r"
     ]
    },
    {
     "name": "stdout",
     "output_type": "stream",
     "text": [
      "STABL finished on CyTOF (121 samples); 2 features selected\n",
      "\n"
     ]
    },
    {
     "name": "stderr",
     "output_type": "stream",
     "text": [
      "                                                               57<00:00,  9.60s/it]\r"
     ]
    },
    {
     "name": "stdout",
     "output_type": "stream",
     "text": [
      "STABL finished on Proteomics (121 samples); 15 features selected\n",
      "\n"
     ]
    },
    {
     "name": "stderr",
     "output_type": "stream",
     "text": [
      "                                                               32<00:00, 22.70s/it]\r"
     ]
    },
    {
     "name": "stdout",
     "output_type": "stream",
     "text": [
      "STABL finished on Metabolomics (121 samples); 8 features selected\n",
      "\n"
     ]
    },
    {
     "name": "stderr",
     "output_type": "stream",
     "text": [
      "                                                               27<00:00, 13.07s/it]\r"
     ]
    },
    {
     "name": "stdout",
     "output_type": "stream",
     "text": [
      "~~~~~~~~~~~~~~~~~~~~~~~~~~~~~~~~~~~~~~~~~~~~~~~~~~~~~~~\n",
      "This fold: 25 features selected for STABL\n",
      "This fold: 87 features selected for SS 03\n",
      "This fold: 38 features selected for SS 05\n",
      "This fold: 9 features selected for SS 08\n",
      "~~~~~~~~~~~~~~~~~~~~~~~~~~~~~~~~~~~~~~~~~~~~~~~~~~~~~~~\n",
      "\n",
      "**************************** Iteration 15 over 100 ***************************** \n",
      "\n",
      "118 train samples, 32 test samples\n"
     ]
    },
    {
     "name": "stderr",
     "output_type": "stream",
     "text": [
      "                                                               46<00:00,  4.78s/it]\r"
     ]
    },
    {
     "name": "stdout",
     "output_type": "stream",
     "text": [
      "STABL finished on CyTOF (118 samples); 2 features selected\n",
      "\n"
     ]
    },
    {
     "name": "stderr",
     "output_type": "stream",
     "text": [
      "                                                               30<00:00,  7.26s/it]\r"
     ]
    },
    {
     "name": "stdout",
     "output_type": "stream",
     "text": [
      "STABL finished on Proteomics (118 samples); 9 features selected\n",
      "\n"
     ]
    },
    {
     "name": "stderr",
     "output_type": "stream",
     "text": [
      "                                                               52<00:00, 22.96s/it]\r"
     ]
    },
    {
     "name": "stdout",
     "output_type": "stream",
     "text": [
      "STABL finished on Metabolomics (118 samples); 14 features selected\n",
      "\n"
     ]
    },
    {
     "name": "stderr",
     "output_type": "stream",
     "text": [
      "                                                               23<00:00, 12.96s/it]\r"
     ]
    },
    {
     "name": "stdout",
     "output_type": "stream",
     "text": [
      "~~~~~~~~~~~~~~~~~~~~~~~~~~~~~~~~~~~~~~~~~~~~~~~~~~~~~~~\n",
      "This fold: 25 features selected for STABL\n",
      "This fold: 84 features selected for SS 03\n",
      "This fold: 32 features selected for SS 05\n",
      "This fold: 10 features selected for SS 08\n",
      "~~~~~~~~~~~~~~~~~~~~~~~~~~~~~~~~~~~~~~~~~~~~~~~~~~~~~~~\n",
      "\n",
      "**************************** Iteration 16 over 100 ***************************** \n",
      "\n",
      "119 train samples, 31 test samples\n"
     ]
    },
    {
     "name": "stderr",
     "output_type": "stream",
     "text": [
      "                                                               26<00:00,  6.04s/it]\r"
     ]
    },
    {
     "name": "stdout",
     "output_type": "stream",
     "text": [
      "STABL finished on CyTOF (119 samples); 2 features selected\n",
      "\n"
     ]
    },
    {
     "name": "stderr",
     "output_type": "stream",
     "text": [
      "                                                               49<00:00,  7.80s/it]\r"
     ]
    },
    {
     "name": "stdout",
     "output_type": "stream",
     "text": [
      "STABL finished on Proteomics (119 samples); 9 features selected\n",
      "\n"
     ]
    },
    {
     "name": "stderr",
     "output_type": "stream",
     "text": [
      "                                                               30<00:00, 23.82s/it]\r"
     ]
    },
    {
     "name": "stdout",
     "output_type": "stream",
     "text": [
      "STABL finished on Metabolomics (119 samples); 4 features selected\n",
      "\n"
     ]
    },
    {
     "name": "stderr",
     "output_type": "stream",
     "text": [
      "                                                               12<00:00, 13.01s/it]\r"
     ]
    },
    {
     "name": "stdout",
     "output_type": "stream",
     "text": [
      "~~~~~~~~~~~~~~~~~~~~~~~~~~~~~~~~~~~~~~~~~~~~~~~~~~~~~~~\n",
      "This fold: 15 features selected for STABL\n",
      "This fold: 85 features selected for SS 03\n",
      "This fold: 29 features selected for SS 05\n",
      "This fold: 8 features selected for SS 08\n",
      "~~~~~~~~~~~~~~~~~~~~~~~~~~~~~~~~~~~~~~~~~~~~~~~~~~~~~~~\n",
      "\n",
      "**************************** Iteration 17 over 100 ***************************** \n",
      "\n",
      "118 train samples, 32 test samples\n"
     ]
    },
    {
     "name": "stderr",
     "output_type": "stream",
     "text": [
      "                                                               25<00:00,  6.10s/it]\r"
     ]
    },
    {
     "name": "stdout",
     "output_type": "stream",
     "text": [
      "STABL finished on CyTOF (118 samples); 2 features selected\n",
      "\n"
     ]
    },
    {
     "name": "stderr",
     "output_type": "stream",
     "text": [
      "                                                               52<00:00,  8.27s/it]\r"
     ]
    },
    {
     "name": "stdout",
     "output_type": "stream",
     "text": [
      "STABL finished on Proteomics (118 samples); 10 features selected\n",
      "\n"
     ]
    },
    {
     "name": "stderr",
     "output_type": "stream",
     "text": [
      "                                                               08<00:00, 23.80s/it]\r"
     ]
    },
    {
     "name": "stdout",
     "output_type": "stream",
     "text": [
      "STABL finished on Metabolomics (118 samples); 8 features selected\n",
      "\n"
     ]
    },
    {
     "name": "stderr",
     "output_type": "stream",
     "text": [
      "                                                               53<00:00, 61.11s/it]\r"
     ]
    },
    {
     "name": "stdout",
     "output_type": "stream",
     "text": [
      "~~~~~~~~~~~~~~~~~~~~~~~~~~~~~~~~~~~~~~~~~~~~~~~~~~~~~~~\n",
      "This fold: 20 features selected for STABL\n",
      "This fold: 90 features selected for SS 03\n",
      "This fold: 28 features selected for SS 05\n",
      "This fold: 11 features selected for SS 08\n",
      "~~~~~~~~~~~~~~~~~~~~~~~~~~~~~~~~~~~~~~~~~~~~~~~~~~~~~~~\n",
      "\n",
      "**************************** Iteration 18 over 100 ***************************** \n",
      "\n",
      "117 train samples, 33 test samples\n"
     ]
    },
    {
     "name": "stderr",
     "output_type": "stream",
     "text": [
      "                                                               05<00:00,  4.32s/it]\r"
     ]
    },
    {
     "name": "stdout",
     "output_type": "stream",
     "text": [
      "STABL finished on CyTOF (117 samples); 3 features selected\n",
      "\n"
     ]
    },
    {
     "name": "stderr",
     "output_type": "stream",
     "text": [
      "                                                               42<00:00,  8.50s/it]\r"
     ]
    },
    {
     "name": "stdout",
     "output_type": "stream",
     "text": [
      "STABL finished on Proteomics (117 samples); 21 features selected\n",
      "\n"
     ]
    },
    {
     "name": "stderr",
     "output_type": "stream",
     "text": [
      "                                                               47<00:00, 19.85s/it]\r"
     ]
    },
    {
     "name": "stdout",
     "output_type": "stream",
     "text": [
      "STABL finished on Metabolomics (117 samples); 9 features selected\n",
      "\n"
     ]
    },
    {
     "name": "stderr",
     "output_type": "stream",
     "text": [
      "                                                               54<00:00, 12.52s/it]\r"
     ]
    },
    {
     "name": "stdout",
     "output_type": "stream",
     "text": [
      "~~~~~~~~~~~~~~~~~~~~~~~~~~~~~~~~~~~~~~~~~~~~~~~~~~~~~~~\n",
      "This fold: 33 features selected for STABL\n",
      "This fold: 84 features selected for SS 03\n",
      "This fold: 32 features selected for SS 05\n",
      "This fold: 11 features selected for SS 08\n",
      "~~~~~~~~~~~~~~~~~~~~~~~~~~~~~~~~~~~~~~~~~~~~~~~~~~~~~~~\n",
      "\n",
      "**************************** Iteration 19 over 100 ***************************** \n",
      "\n",
      "117 train samples, 33 test samples\n"
     ]
    },
    {
     "name": "stderr",
     "output_type": "stream",
     "text": [
      "                                                               57<00:00,  4.70s/it]\r"
     ]
    },
    {
     "name": "stdout",
     "output_type": "stream",
     "text": [
      "STABL finished on CyTOF (117 samples); 2 features selected\n",
      "\n"
     ]
    },
    {
     "name": "stderr",
     "output_type": "stream",
     "text": [
      "                                                               54<00:00,  9.02s/it]\r"
     ]
    },
    {
     "name": "stdout",
     "output_type": "stream",
     "text": [
      "STABL finished on Proteomics (117 samples); 9 features selected\n",
      "\n"
     ]
    },
    {
     "name": "stderr",
     "output_type": "stream",
     "text": [
      "                                                               41<00:00, 20.03s/it]\r"
     ]
    },
    {
     "name": "stdout",
     "output_type": "stream",
     "text": [
      "STABL finished on Metabolomics (117 samples); 5 features selected\n",
      "\n"
     ]
    },
    {
     "name": "stderr",
     "output_type": "stream",
     "text": [
      "                                                               48<00:00, 12.21s/it]\r"
     ]
    },
    {
     "name": "stdout",
     "output_type": "stream",
     "text": [
      "~~~~~~~~~~~~~~~~~~~~~~~~~~~~~~~~~~~~~~~~~~~~~~~~~~~~~~~\n",
      "This fold: 16 features selected for STABL\n",
      "This fold: 72 features selected for SS 03\n",
      "This fold: 32 features selected for SS 05\n",
      "This fold: 7 features selected for SS 08\n",
      "~~~~~~~~~~~~~~~~~~~~~~~~~~~~~~~~~~~~~~~~~~~~~~~~~~~~~~~\n",
      "\n",
      "**************************** Iteration 20 over 100 ***************************** \n",
      "\n",
      "118 train samples, 32 test samples\n"
     ]
    },
    {
     "name": "stderr",
     "output_type": "stream",
     "text": [
      "                                                               53<00:00, 50.95s/it]\r"
     ]
    },
    {
     "name": "stdout",
     "output_type": "stream",
     "text": [
      "STABL finished on CyTOF (118 samples); 2 features selected\n",
      "\n"
     ]
    },
    {
     "name": "stderr",
     "output_type": "stream",
     "text": [
      "                                                               12<00:00,  6.93s/it]\r"
     ]
    },
    {
     "name": "stdout",
     "output_type": "stream",
     "text": [
      "STABL finished on Proteomics (118 samples); 9 features selected\n",
      "\n"
     ]
    },
    {
     "name": "stderr",
     "output_type": "stream",
     "text": [
      "                                                                7<00:00, 106.82s/it]  \r"
     ]
    },
    {
     "name": "stdout",
     "output_type": "stream",
     "text": [
      "STABL finished on Metabolomics (118 samples); 7 features selected\n",
      "\n"
     ]
    },
    {
     "name": "stderr",
     "output_type": "stream",
     "text": [
      "                                                               10<00:00,  9.16s/it]\r"
     ]
    },
    {
     "name": "stdout",
     "output_type": "stream",
     "text": [
      "~~~~~~~~~~~~~~~~~~~~~~~~~~~~~~~~~~~~~~~~~~~~~~~~~~~~~~~\n",
      "This fold: 18 features selected for STABL\n",
      "This fold: 83 features selected for SS 03\n",
      "This fold: 34 features selected for SS 05\n",
      "This fold: 9 features selected for SS 08\n",
      "~~~~~~~~~~~~~~~~~~~~~~~~~~~~~~~~~~~~~~~~~~~~~~~~~~~~~~~\n",
      "\n",
      "**************************** Iteration 21 over 100 ***************************** \n",
      "\n",
      "119 train samples, 31 test samples\n"
     ]
    },
    {
     "name": "stderr",
     "output_type": "stream",
     "text": [
      "                                                               59<00:00,  5.29s/it]\r"
     ]
    },
    {
     "name": "stdout",
     "output_type": "stream",
     "text": [
      "STABL finished on CyTOF (119 samples); 3 features selected\n",
      "\n"
     ]
    },
    {
     "name": "stderr",
     "output_type": "stream",
     "text": [
      "                                                               42<00:00,  8.38s/it]\r"
     ]
    },
    {
     "name": "stdout",
     "output_type": "stream",
     "text": [
      "STABL finished on Proteomics (119 samples); 11 features selected\n",
      "\n"
     ]
    },
    {
     "name": "stderr",
     "output_type": "stream",
     "text": [
      "                                                               07<00:00, 18.57s/it]\r"
     ]
    },
    {
     "name": "stdout",
     "output_type": "stream",
     "text": [
      "STABL finished on Metabolomics (119 samples); 5 features selected\n",
      "\n"
     ]
    },
    {
     "name": "stderr",
     "output_type": "stream",
     "text": [
      "                                                               30<00:00,  9.84s/it]\r"
     ]
    },
    {
     "name": "stdout",
     "output_type": "stream",
     "text": [
      "~~~~~~~~~~~~~~~~~~~~~~~~~~~~~~~~~~~~~~~~~~~~~~~~~~~~~~~\n",
      "This fold: 19 features selected for STABL\n",
      "This fold: 83 features selected for SS 03\n",
      "This fold: 34 features selected for SS 05\n",
      "This fold: 9 features selected for SS 08\n",
      "~~~~~~~~~~~~~~~~~~~~~~~~~~~~~~~~~~~~~~~~~~~~~~~~~~~~~~~\n",
      "\n",
      "**************************** Iteration 22 over 100 ***************************** \n",
      "\n",
      "117 train samples, 33 test samples\n"
     ]
    },
    {
     "name": "stderr",
     "output_type": "stream",
     "text": [
      "                                                               36<00:00,  4.49s/it]\r"
     ]
    },
    {
     "name": "stdout",
     "output_type": "stream",
     "text": [
      "STABL finished on CyTOF (117 samples); 2 features selected\n",
      "\n"
     ]
    },
    {
     "name": "stderr",
     "output_type": "stream",
     "text": [
      "                                                               45<00:00,  8.62s/it]\r"
     ]
    },
    {
     "name": "stdout",
     "output_type": "stream",
     "text": [
      "STABL finished on Proteomics (117 samples); 14 features selected\n",
      "\n"
     ]
    },
    {
     "name": "stderr",
     "output_type": "stream",
     "text": [
      "                                                               43<00:00, 18.11s/it]\r"
     ]
    },
    {
     "name": "stdout",
     "output_type": "stream",
     "text": [
      "STABL finished on Metabolomics (117 samples); 7 features selected\n",
      "\n"
     ]
    },
    {
     "name": "stderr",
     "output_type": "stream",
     "text": [
      "                                                               22<00:00,  9.52s/it]\r"
     ]
    },
    {
     "name": "stdout",
     "output_type": "stream",
     "text": [
      "~~~~~~~~~~~~~~~~~~~~~~~~~~~~~~~~~~~~~~~~~~~~~~~~~~~~~~~\n",
      "This fold: 23 features selected for STABL\n",
      "This fold: 79 features selected for SS 03\n",
      "This fold: 34 features selected for SS 05\n",
      "This fold: 6 features selected for SS 08\n",
      "~~~~~~~~~~~~~~~~~~~~~~~~~~~~~~~~~~~~~~~~~~~~~~~~~~~~~~~\n",
      "\n",
      "**************************** Iteration 23 over 100 ***************************** \n",
      "\n",
      "118 train samples, 32 test samples\n"
     ]
    },
    {
     "name": "stderr",
     "output_type": "stream",
     "text": [
      "                                                               36<00:00, 55.24s/it]   \r"
     ]
    },
    {
     "name": "stdout",
     "output_type": "stream",
     "text": [
      "STABL finished on CyTOF (118 samples); 5 features selected\n",
      "\n"
     ]
    },
    {
     "name": "stderr",
     "output_type": "stream",
     "text": [
      "                                                               29<00:00,  7.79s/it]\r"
     ]
    },
    {
     "name": "stdout",
     "output_type": "stream",
     "text": [
      "STABL finished on Proteomics (118 samples); 11 features selected\n",
      "\n"
     ]
    },
    {
     "name": "stderr",
     "output_type": "stream",
     "text": [
      "                                                               43<00:00, 18.17s/it]\r"
     ]
    },
    {
     "name": "stdout",
     "output_type": "stream",
     "text": [
      "STABL finished on Metabolomics (118 samples); 11 features selected\n",
      "\n"
     ]
    },
    {
     "name": "stderr",
     "output_type": "stream",
     "text": [
      "                                                               19<00:00,  9.55s/it]\r"
     ]
    },
    {
     "name": "stdout",
     "output_type": "stream",
     "text": [
      "~~~~~~~~~~~~~~~~~~~~~~~~~~~~~~~~~~~~~~~~~~~~~~~~~~~~~~~\n",
      "This fold: 27 features selected for STABL\n",
      "This fold: 81 features selected for SS 03\n",
      "This fold: 28 features selected for SS 05\n",
      "This fold: 9 features selected for SS 08\n",
      "~~~~~~~~~~~~~~~~~~~~~~~~~~~~~~~~~~~~~~~~~~~~~~~~~~~~~~~\n",
      "\n",
      "**************************** Iteration 24 over 100 ***************************** \n",
      "\n",
      "122 train samples, 28 test samples\n"
     ]
    },
    {
     "name": "stderr",
     "output_type": "stream",
     "text": [
      "                                                               28<00:00,  4.21s/it]\r"
     ]
    },
    {
     "name": "stdout",
     "output_type": "stream",
     "text": [
      "STABL finished on CyTOF (122 samples); 4 features selected\n",
      "\n"
     ]
    },
    {
     "name": "stderr",
     "output_type": "stream",
     "text": [
      "                                                               36<00:00,  8.31s/it]\r"
     ]
    },
    {
     "name": "stdout",
     "output_type": "stream",
     "text": [
      "STABL finished on Proteomics (122 samples); 10 features selected\n",
      "\n"
     ]
    },
    {
     "name": "stderr",
     "output_type": "stream",
     "text": [
      "                                                               59<00:00, 18.82s/it]\r"
     ]
    },
    {
     "name": "stdout",
     "output_type": "stream",
     "text": [
      "STABL finished on Metabolomics (122 samples); 10 features selected\n",
      "\n"
     ]
    },
    {
     "name": "stderr",
     "output_type": "stream",
     "text": [
      "                                                               34<00:00, 10.70s/it]\r"
     ]
    },
    {
     "name": "stdout",
     "output_type": "stream",
     "text": [
      "~~~~~~~~~~~~~~~~~~~~~~~~~~~~~~~~~~~~~~~~~~~~~~~~~~~~~~~\n",
      "This fold: 24 features selected for STABL\n",
      "This fold: 85 features selected for SS 03\n",
      "This fold: 35 features selected for SS 05\n",
      "This fold: 12 features selected for SS 08\n",
      "~~~~~~~~~~~~~~~~~~~~~~~~~~~~~~~~~~~~~~~~~~~~~~~~~~~~~~~\n",
      "\n",
      "**************************** Iteration 25 over 100 ***************************** \n",
      "\n",
      "119 train samples, 31 test samples\n"
     ]
    },
    {
     "name": "stderr",
     "output_type": "stream",
     "text": [
      "                                                               41<00:00,  4.67s/it]\r"
     ]
    },
    {
     "name": "stdout",
     "output_type": "stream",
     "text": [
      "STABL finished on CyTOF (119 samples); 3 features selected\n",
      "\n"
     ]
    },
    {
     "name": "stderr",
     "output_type": "stream",
     "text": [
      "                                                               45<00:00,  8.46s/it]\r"
     ]
    },
    {
     "name": "stdout",
     "output_type": "stream",
     "text": [
      "STABL finished on Proteomics (119 samples); 13 features selected\n",
      "\n"
     ]
    },
    {
     "name": "stderr",
     "output_type": "stream",
     "text": [
      "                                                                  7<00:00, 930.29s/it]\r"
     ]
    },
    {
     "name": "stdout",
     "output_type": "stream",
     "text": [
      "STABL finished on Metabolomics (119 samples); 5 features selected\n",
      "\n"
     ]
    },
    {
     "name": "stderr",
     "output_type": "stream",
     "text": [
      "                                                               49<00:00, 12.87s/it]\r"
     ]
    },
    {
     "name": "stdout",
     "output_type": "stream",
     "text": [
      "~~~~~~~~~~~~~~~~~~~~~~~~~~~~~~~~~~~~~~~~~~~~~~~~~~~~~~~\n",
      "This fold: 21 features selected for STABL\n",
      "This fold: 84 features selected for SS 03\n",
      "This fold: 34 features selected for SS 05\n",
      "This fold: 10 features selected for SS 08\n",
      "~~~~~~~~~~~~~~~~~~~~~~~~~~~~~~~~~~~~~~~~~~~~~~~~~~~~~~~\n",
      "\n",
      "**************************** Iteration 26 over 100 ***************************** \n",
      "\n",
      "118 train samples, 32 test samples\n"
     ]
    },
    {
     "name": "stderr",
     "output_type": "stream",
     "text": [
      "                                                               39<00:00,  4.22s/it]\r"
     ]
    },
    {
     "name": "stdout",
     "output_type": "stream",
     "text": [
      "STABL finished on CyTOF (118 samples); 3 features selected\n",
      "\n"
     ]
    },
    {
     "name": "stderr",
     "output_type": "stream",
     "text": [
      "                                                               28<00:00,  7.51s/it]\r"
     ]
    },
    {
     "name": "stdout",
     "output_type": "stream",
     "text": [
      "STABL finished on Proteomics (118 samples); 14 features selected\n",
      "\n"
     ]
    },
    {
     "name": "stderr",
     "output_type": "stream",
     "text": [
      "                                                               34<00:00, 19.44s/it]\r"
     ]
    },
    {
     "name": "stdout",
     "output_type": "stream",
     "text": [
      "STABL finished on Metabolomics (118 samples); 5 features selected\n",
      "\n"
     ]
    },
    {
     "name": "stderr",
     "output_type": "stream",
     "text": [
      "                                                               07<00:00, 13.48s/it]\r"
     ]
    },
    {
     "name": "stdout",
     "output_type": "stream",
     "text": [
      "~~~~~~~~~~~~~~~~~~~~~~~~~~~~~~~~~~~~~~~~~~~~~~~~~~~~~~~\n",
      "This fold: 22 features selected for STABL\n",
      "This fold: 83 features selected for SS 03\n",
      "This fold: 29 features selected for SS 05\n",
      "This fold: 6 features selected for SS 08\n",
      "~~~~~~~~~~~~~~~~~~~~~~~~~~~~~~~~~~~~~~~~~~~~~~~~~~~~~~~\n",
      "\n",
      "**************************** Iteration 27 over 100 ***************************** \n",
      "\n",
      "120 train samples, 30 test samples\n"
     ]
    },
    {
     "name": "stderr",
     "output_type": "stream",
     "text": [
      "                                                               23<00:00,  3.47s/it]\r"
     ]
    },
    {
     "name": "stdout",
     "output_type": "stream",
     "text": [
      "STABL finished on CyTOF (120 samples); 3 features selected\n",
      "\n"
     ]
    },
    {
     "name": "stderr",
     "output_type": "stream",
     "text": [
      "                                                               25<00:00,  7.97s/it]\r"
     ]
    },
    {
     "name": "stdout",
     "output_type": "stream",
     "text": [
      "STABL finished on Proteomics (120 samples); 11 features selected\n",
      "\n"
     ]
    },
    {
     "name": "stderr",
     "output_type": "stream",
     "text": [
      "                                                               38<00:00, 18.12s/it]\r"
     ]
    },
    {
     "name": "stdout",
     "output_type": "stream",
     "text": [
      "STABL finished on Metabolomics (120 samples); 6 features selected\n",
      "\n"
     ]
    },
    {
     "name": "stderr",
     "output_type": "stream",
     "text": [
      "                                                               08<00:00, 11.69s/it]\r"
     ]
    },
    {
     "name": "stdout",
     "output_type": "stream",
     "text": [
      "~~~~~~~~~~~~~~~~~~~~~~~~~~~~~~~~~~~~~~~~~~~~~~~~~~~~~~~\n",
      "This fold: 20 features selected for STABL\n",
      "This fold: 84 features selected for SS 03\n",
      "This fold: 30 features selected for SS 05\n",
      "This fold: 11 features selected for SS 08\n",
      "~~~~~~~~~~~~~~~~~~~~~~~~~~~~~~~~~~~~~~~~~~~~~~~~~~~~~~~\n",
      "\n",
      "**************************** Iteration 28 over 100 ***************************** \n",
      "\n",
      "117 train samples, 33 test samples\n"
     ]
    },
    {
     "name": "stderr",
     "output_type": "stream",
     "text": [
      "                                                               56<00:00,  2.45s/it]\r"
     ]
    },
    {
     "name": "stdout",
     "output_type": "stream",
     "text": [
      "STABL finished on CyTOF (117 samples); 4 features selected\n",
      "\n"
     ]
    },
    {
     "name": "stderr",
     "output_type": "stream",
     "text": [
      "                                                               14<00:00,  7.44s/it]\r"
     ]
    },
    {
     "name": "stdout",
     "output_type": "stream",
     "text": [
      "STABL finished on Proteomics (117 samples); 10 features selected\n",
      "\n"
     ]
    },
    {
     "name": "stderr",
     "output_type": "stream",
     "text": [
      "                                                               40<00:00, 17.18s/it]\r"
     ]
    },
    {
     "name": "stdout",
     "output_type": "stream",
     "text": [
      "STABL finished on Metabolomics (117 samples); 8 features selected\n",
      "\n"
     ]
    },
    {
     "name": "stderr",
     "output_type": "stream",
     "text": [
      "                                                               58<00:00, 10.76s/it]\r"
     ]
    },
    {
     "name": "stdout",
     "output_type": "stream",
     "text": [
      "~~~~~~~~~~~~~~~~~~~~~~~~~~~~~~~~~~~~~~~~~~~~~~~~~~~~~~~\n",
      "This fold: 22 features selected for STABL\n",
      "This fold: 76 features selected for SS 03\n",
      "This fold: 28 features selected for SS 05\n",
      "This fold: 8 features selected for SS 08\n",
      "~~~~~~~~~~~~~~~~~~~~~~~~~~~~~~~~~~~~~~~~~~~~~~~~~~~~~~~\n",
      "\n",
      "**************************** Iteration 29 over 100 ***************************** \n",
      "\n",
      "118 train samples, 32 test samples\n"
     ]
    },
    {
     "name": "stderr",
     "output_type": "stream",
     "text": [
      "                                                               58<00:00,  2.69s/it]\r"
     ]
    },
    {
     "name": "stdout",
     "output_type": "stream",
     "text": [
      "STABL finished on CyTOF (118 samples); 4 features selected\n",
      "\n"
     ]
    },
    {
     "name": "stderr",
     "output_type": "stream",
     "text": [
      "                                                               18<00:00,  7.30s/it]\r"
     ]
    },
    {
     "name": "stdout",
     "output_type": "stream",
     "text": [
      "STABL finished on Proteomics (118 samples); 14 features selected\n",
      "\n"
     ]
    },
    {
     "name": "stderr",
     "output_type": "stream",
     "text": [
      "                                                               12<00:00, 60.40s/it]\r"
     ]
    },
    {
     "name": "stdout",
     "output_type": "stream",
     "text": [
      "STABL finished on Metabolomics (118 samples); 6 features selected\n",
      "\n"
     ]
    },
    {
     "name": "stderr",
     "output_type": "stream",
     "text": [
      "                                                               28<00:00, 12.60s/it]\r"
     ]
    },
    {
     "name": "stdout",
     "output_type": "stream",
     "text": [
      "~~~~~~~~~~~~~~~~~~~~~~~~~~~~~~~~~~~~~~~~~~~~~~~~~~~~~~~\n",
      "This fold: 24 features selected for STABL\n",
      "This fold: 71 features selected for SS 03\n",
      "This fold: 34 features selected for SS 05\n",
      "This fold: 15 features selected for SS 08\n",
      "~~~~~~~~~~~~~~~~~~~~~~~~~~~~~~~~~~~~~~~~~~~~~~~~~~~~~~~\n",
      "\n",
      "**************************** Iteration 30 over 100 ***************************** \n",
      "\n",
      "120 train samples, 30 test samples\n"
     ]
    },
    {
     "name": "stderr",
     "output_type": "stream",
     "text": [
      "                                                               01<00:00,  2.75s/it]\r"
     ]
    },
    {
     "name": "stdout",
     "output_type": "stream",
     "text": [
      "STABL finished on CyTOF (120 samples); 2 features selected\n",
      "\n"
     ]
    },
    {
     "name": "stderr",
     "output_type": "stream",
     "text": [
      "                                                               18<00:00,  7.06s/it]\r"
     ]
    },
    {
     "name": "stdout",
     "output_type": "stream",
     "text": [
      "STABL finished on Proteomics (120 samples); 18 features selected\n",
      "\n"
     ]
    },
    {
     "name": "stderr",
     "output_type": "stream",
     "text": [
      "                                                               03<00:00, 18.60s/it]\r"
     ]
    },
    {
     "name": "stdout",
     "output_type": "stream",
     "text": [
      "STABL finished on Metabolomics (120 samples); 9 features selected\n",
      "\n"
     ]
    },
    {
     "name": "stderr",
     "output_type": "stream",
     "text": [
      "                                                               17<00:00, 11.96s/it]\r"
     ]
    },
    {
     "name": "stdout",
     "output_type": "stream",
     "text": [
      "~~~~~~~~~~~~~~~~~~~~~~~~~~~~~~~~~~~~~~~~~~~~~~~~~~~~~~~\n",
      "This fold: 29 features selected for STABL\n",
      "This fold: 87 features selected for SS 03\n",
      "This fold: 35 features selected for SS 05\n",
      "This fold: 9 features selected for SS 08\n",
      "~~~~~~~~~~~~~~~~~~~~~~~~~~~~~~~~~~~~~~~~~~~~~~~~~~~~~~~\n",
      "\n",
      "**************************** Iteration 31 over 100 ***************************** \n",
      "\n",
      "120 train samples, 30 test samples\n"
     ]
    },
    {
     "name": "stderr",
     "output_type": "stream",
     "text": [
      "                                                               58<00:00,  2.55s/it]\r"
     ]
    },
    {
     "name": "stdout",
     "output_type": "stream",
     "text": [
      "STABL finished on CyTOF (120 samples); 3 features selected\n",
      "\n"
     ]
    },
    {
     "name": "stderr",
     "output_type": "stream",
     "text": [
      "                                                               27<00:00,  7.75s/it]\r"
     ]
    },
    {
     "name": "stdout",
     "output_type": "stream",
     "text": [
      "STABL finished on Proteomics (120 samples); 10 features selected\n",
      "\n"
     ]
    },
    {
     "name": "stderr",
     "output_type": "stream",
     "text": [
      "                                                               27<00:00, 21.31s/it]\r"
     ]
    },
    {
     "name": "stdout",
     "output_type": "stream",
     "text": [
      "STABL finished on Metabolomics (120 samples); 7 features selected\n",
      "\n"
     ]
    },
    {
     "name": "stderr",
     "output_type": "stream",
     "text": [
      "                                                               20<00:00, 12.37s/it]\r"
     ]
    },
    {
     "name": "stdout",
     "output_type": "stream",
     "text": [
      "~~~~~~~~~~~~~~~~~~~~~~~~~~~~~~~~~~~~~~~~~~~~~~~~~~~~~~~\n",
      "This fold: 20 features selected for STABL\n",
      "This fold: 88 features selected for SS 03\n",
      "This fold: 38 features selected for SS 05\n",
      "This fold: 7 features selected for SS 08\n",
      "~~~~~~~~~~~~~~~~~~~~~~~~~~~~~~~~~~~~~~~~~~~~~~~~~~~~~~~\n",
      "\n",
      "**************************** Iteration 32 over 100 ***************************** \n",
      "\n",
      "117 train samples, 33 test samples\n"
     ]
    },
    {
     "name": "stderr",
     "output_type": "stream",
     "text": [
      "                                                               08<00:00,  3.26s/it]\r"
     ]
    },
    {
     "name": "stdout",
     "output_type": "stream",
     "text": [
      "STABL finished on CyTOF (117 samples); 3 features selected\n",
      "\n"
     ]
    },
    {
     "name": "stderr",
     "output_type": "stream",
     "text": [
      "                                                               27<00:00,  7.62s/it]\r"
     ]
    },
    {
     "name": "stdout",
     "output_type": "stream",
     "text": [
      "STABL finished on Proteomics (117 samples); 13 features selected\n",
      "\n"
     ]
    },
    {
     "name": "stderr",
     "output_type": "stream",
     "text": [
      "                                                               49<00:00, 16.94s/it]\r"
     ]
    },
    {
     "name": "stdout",
     "output_type": "stream",
     "text": [
      "STABL finished on Metabolomics (117 samples); 6 features selected\n",
      "\n"
     ]
    },
    {
     "name": "stderr",
     "output_type": "stream",
     "text": [
      "                                                               04<00:00, 11.68s/it]\r"
     ]
    },
    {
     "name": "stdout",
     "output_type": "stream",
     "text": [
      "~~~~~~~~~~~~~~~~~~~~~~~~~~~~~~~~~~~~~~~~~~~~~~~~~~~~~~~\n",
      "This fold: 22 features selected for STABL\n",
      "This fold: 95 features selected for SS 03\n",
      "This fold: 27 features selected for SS 05\n",
      "This fold: 7 features selected for SS 08\n",
      "~~~~~~~~~~~~~~~~~~~~~~~~~~~~~~~~~~~~~~~~~~~~~~~~~~~~~~~\n",
      "\n",
      "**************************** Iteration 33 over 100 ***************************** \n",
      "\n",
      "118 train samples, 32 test samples\n"
     ]
    },
    {
     "name": "stderr",
     "output_type": "stream",
     "text": [
      "                                                               04<00:00,  2.73s/it]\r"
     ]
    },
    {
     "name": "stdout",
     "output_type": "stream",
     "text": [
      "STABL finished on CyTOF (118 samples); 3 features selected\n",
      "\n"
     ]
    },
    {
     "name": "stderr",
     "output_type": "stream",
     "text": [
      "                                                               19<00:00,  7.50s/it]\r"
     ]
    },
    {
     "name": "stdout",
     "output_type": "stream",
     "text": [
      "STABL finished on Proteomics (118 samples); 18 features selected\n",
      "\n"
     ]
    },
    {
     "name": "stderr",
     "output_type": "stream",
     "text": [
      "                                                               25<00:00, 17.12s/it]\r"
     ]
    },
    {
     "name": "stdout",
     "output_type": "stream",
     "text": [
      "STABL finished on Metabolomics (118 samples); 9 features selected\n",
      "\n"
     ]
    },
    {
     "name": "stderr",
     "output_type": "stream",
     "text": [
      "                                                               01<00:00, 19.15s/it]  \r"
     ]
    },
    {
     "name": "stdout",
     "output_type": "stream",
     "text": [
      "~~~~~~~~~~~~~~~~~~~~~~~~~~~~~~~~~~~~~~~~~~~~~~~~~~~~~~~\n",
      "This fold: 30 features selected for STABL\n",
      "This fold: 87 features selected for SS 03\n",
      "This fold: 28 features selected for SS 05\n",
      "This fold: 13 features selected for SS 08\n",
      "~~~~~~~~~~~~~~~~~~~~~~~~~~~~~~~~~~~~~~~~~~~~~~~~~~~~~~~\n",
      "\n",
      "**************************** Iteration 34 over 100 ***************************** \n",
      "\n",
      "118 train samples, 32 test samples\n"
     ]
    },
    {
     "name": "stderr",
     "output_type": "stream",
     "text": [
      "                                                               13<00:00,  2.88s/it]\r"
     ]
    },
    {
     "name": "stdout",
     "output_type": "stream",
     "text": [
      "STABL finished on CyTOF (118 samples); 3 features selected\n",
      "\n"
     ]
    },
    {
     "name": "stderr",
     "output_type": "stream",
     "text": [
      "                                                               37<00:00,  8.28s/it]\r"
     ]
    },
    {
     "name": "stdout",
     "output_type": "stream",
     "text": [
      "STABL finished on Proteomics (118 samples); 15 features selected\n",
      "\n"
     ]
    },
    {
     "name": "stderr",
     "output_type": "stream",
     "text": [
      "                                                               37<00:00, 19.34s/it]\r"
     ]
    },
    {
     "name": "stdout",
     "output_type": "stream",
     "text": [
      "STABL finished on Metabolomics (118 samples); 16 features selected\n",
      "\n"
     ]
    },
    {
     "name": "stderr",
     "output_type": "stream",
     "text": [
      "                                                               43<00:00, 14.10s/it]\r"
     ]
    },
    {
     "name": "stdout",
     "output_type": "stream",
     "text": [
      "~~~~~~~~~~~~~~~~~~~~~~~~~~~~~~~~~~~~~~~~~~~~~~~~~~~~~~~\n",
      "This fold: 34 features selected for STABL\n",
      "This fold: 87 features selected for SS 03\n",
      "This fold: 37 features selected for SS 05\n",
      "This fold: 7 features selected for SS 08\n",
      "~~~~~~~~~~~~~~~~~~~~~~~~~~~~~~~~~~~~~~~~~~~~~~~~~~~~~~~\n",
      "\n",
      "**************************** Iteration 35 over 100 ***************************** \n",
      "\n",
      "119 train samples, 31 test samples\n"
     ]
    },
    {
     "name": "stderr",
     "output_type": "stream",
     "text": [
      "                                                               24<00:00,  3.80s/it]\r"
     ]
    },
    {
     "name": "stdout",
     "output_type": "stream",
     "text": [
      "STABL finished on CyTOF (119 samples); 4 features selected\n",
      "\n"
     ]
    },
    {
     "name": "stderr",
     "output_type": "stream",
     "text": [
      "                                                               31<00:00,  8.15s/it]\r"
     ]
    },
    {
     "name": "stdout",
     "output_type": "stream",
     "text": [
      "STABL finished on Proteomics (119 samples); 15 features selected\n",
      "\n"
     ]
    },
    {
     "name": "stderr",
     "output_type": "stream",
     "text": [
      "                                                               32<00:00, 19.32s/it]\r"
     ]
    },
    {
     "name": "stdout",
     "output_type": "stream",
     "text": [
      "STABL finished on Metabolomics (119 samples); 7 features selected\n",
      "\n"
     ]
    },
    {
     "name": "stderr",
     "output_type": "stream",
     "text": [
      "                                                               13<00:00, 12.25s/it]\r"
     ]
    },
    {
     "name": "stdout",
     "output_type": "stream",
     "text": [
      "~~~~~~~~~~~~~~~~~~~~~~~~~~~~~~~~~~~~~~~~~~~~~~~~~~~~~~~\n",
      "This fold: 26 features selected for STABL\n",
      "This fold: 84 features selected for SS 03\n",
      "This fold: 31 features selected for SS 05\n",
      "This fold: 7 features selected for SS 08\n",
      "~~~~~~~~~~~~~~~~~~~~~~~~~~~~~~~~~~~~~~~~~~~~~~~~~~~~~~~\n",
      "\n",
      "**************************** Iteration 36 over 100 ***************************** \n",
      "\n",
      "118 train samples, 32 test samples\n"
     ]
    },
    {
     "name": "stderr",
     "output_type": "stream",
     "text": [
      "                                                               35<00:00,  3.46s/it]\r"
     ]
    },
    {
     "name": "stdout",
     "output_type": "stream",
     "text": [
      "STABL finished on CyTOF (118 samples); 4 features selected\n",
      "\n"
     ]
    },
    {
     "name": "stderr",
     "output_type": "stream",
     "text": [
      "                                                               22<00:00,  7.49s/it]\r"
     ]
    },
    {
     "name": "stdout",
     "output_type": "stream",
     "text": [
      "STABL finished on Proteomics (118 samples); 13 features selected\n",
      "\n"
     ]
    },
    {
     "name": "stderr",
     "output_type": "stream",
     "text": [
      "                                                               09<00:00, 20.84s/it]\r"
     ]
    },
    {
     "name": "stdout",
     "output_type": "stream",
     "text": [
      "STABL finished on Metabolomics (118 samples); 12 features selected\n",
      "\n"
     ]
    },
    {
     "name": "stderr",
     "output_type": "stream",
     "text": [
      "                                                               07<00:00, 14.05s/it]\r"
     ]
    },
    {
     "name": "stdout",
     "output_type": "stream",
     "text": [
      "~~~~~~~~~~~~~~~~~~~~~~~~~~~~~~~~~~~~~~~~~~~~~~~~~~~~~~~\n",
      "This fold: 29 features selected for STABL\n",
      "This fold: 95 features selected for SS 03\n",
      "This fold: 34 features selected for SS 05\n",
      "This fold: 7 features selected for SS 08\n",
      "~~~~~~~~~~~~~~~~~~~~~~~~~~~~~~~~~~~~~~~~~~~~~~~~~~~~~~~\n",
      "\n",
      "**************************** Iteration 37 over 100 ***************************** \n",
      "\n",
      "117 train samples, 33 test samples\n"
     ]
    },
    {
     "name": "stderr",
     "output_type": "stream",
     "text": [
      "                                                               14<00:00,  3.08s/it]\r"
     ]
    },
    {
     "name": "stdout",
     "output_type": "stream",
     "text": [
      "STABL finished on CyTOF (117 samples); 3 features selected\n",
      "\n"
     ]
    },
    {
     "name": "stderr",
     "output_type": "stream",
     "text": [
      "                                                               22<00:00,  7.37s/it]\r"
     ]
    },
    {
     "name": "stdout",
     "output_type": "stream",
     "text": [
      "STABL finished on Proteomics (117 samples); 18 features selected\n",
      "\n"
     ]
    },
    {
     "name": "stderr",
     "output_type": "stream",
     "text": [
      "                                                               13<00:00, 20.03s/it]\r"
     ]
    },
    {
     "name": "stdout",
     "output_type": "stream",
     "text": [
      "STABL finished on Metabolomics (117 samples); 15 features selected\n",
      "\n"
     ]
    },
    {
     "name": "stderr",
     "output_type": "stream",
     "text": [
      "                                                               33<00:00, 12.36s/it]\r"
     ]
    },
    {
     "name": "stdout",
     "output_type": "stream",
     "text": [
      "~~~~~~~~~~~~~~~~~~~~~~~~~~~~~~~~~~~~~~~~~~~~~~~~~~~~~~~\n",
      "This fold: 36 features selected for STABL\n",
      "This fold: 87 features selected for SS 03\n",
      "This fold: 40 features selected for SS 05\n",
      "This fold: 7 features selected for SS 08\n",
      "~~~~~~~~~~~~~~~~~~~~~~~~~~~~~~~~~~~~~~~~~~~~~~~~~~~~~~~\n",
      "\n",
      "**************************** Iteration 38 over 100 ***************************** \n",
      "\n",
      "117 train samples, 33 test samples\n"
     ]
    },
    {
     "name": "stderr",
     "output_type": "stream",
     "text": [
      "                                                               05<00:00,  3.32s/it]\r"
     ]
    },
    {
     "name": "stdout",
     "output_type": "stream",
     "text": [
      "STABL finished on CyTOF (117 samples); 5 features selected\n",
      "\n"
     ]
    },
    {
     "name": "stderr",
     "output_type": "stream",
     "text": [
      "                                                               24<00:00,  7.51s/it]\r"
     ]
    },
    {
     "name": "stdout",
     "output_type": "stream",
     "text": [
      "STABL finished on Proteomics (117 samples); 14 features selected\n",
      "\n"
     ]
    },
    {
     "name": "stderr",
     "output_type": "stream",
     "text": [
      "                                                               39<00:00, 19.36s/it]\r"
     ]
    },
    {
     "name": "stdout",
     "output_type": "stream",
     "text": [
      "STABL finished on Metabolomics (117 samples); 9 features selected\n",
      "\n"
     ]
    },
    {
     "name": "stderr",
     "output_type": "stream",
     "text": [
      "                                                               37<00:00, 12.54s/it]\r"
     ]
    },
    {
     "name": "stdout",
     "output_type": "stream",
     "text": [
      "~~~~~~~~~~~~~~~~~~~~~~~~~~~~~~~~~~~~~~~~~~~~~~~~~~~~~~~\n",
      "This fold: 28 features selected for STABL\n",
      "This fold: 82 features selected for SS 03\n",
      "This fold: 27 features selected for SS 05\n",
      "This fold: 7 features selected for SS 08\n",
      "~~~~~~~~~~~~~~~~~~~~~~~~~~~~~~~~~~~~~~~~~~~~~~~~~~~~~~~\n",
      "\n",
      "**************************** Iteration 39 over 100 ***************************** \n",
      "\n",
      "118 train samples, 32 test samples\n"
     ]
    },
    {
     "name": "stderr",
     "output_type": "stream",
     "text": [
      "                                                               20<00:00,  3.31s/it]\r"
     ]
    },
    {
     "name": "stdout",
     "output_type": "stream",
     "text": [
      "STABL finished on CyTOF (118 samples); 4 features selected\n",
      "\n"
     ]
    },
    {
     "name": "stderr",
     "output_type": "stream",
     "text": [
      "                                                               20<00:00,  7.40s/it]\r"
     ]
    },
    {
     "name": "stdout",
     "output_type": "stream",
     "text": [
      "STABL finished on Proteomics (118 samples); 14 features selected\n",
      "\n"
     ]
    },
    {
     "name": "stderr",
     "output_type": "stream",
     "text": [
      "                                                               48<00:00, 18.11s/it]\r"
     ]
    },
    {
     "name": "stdout",
     "output_type": "stream",
     "text": [
      "STABL finished on Metabolomics (118 samples); 14 features selected\n",
      "\n"
     ]
    },
    {
     "name": "stderr",
     "output_type": "stream",
     "text": [
      "                                                               25<00:00, 12.40s/it]\r"
     ]
    },
    {
     "name": "stdout",
     "output_type": "stream",
     "text": [
      "~~~~~~~~~~~~~~~~~~~~~~~~~~~~~~~~~~~~~~~~~~~~~~~~~~~~~~~\n",
      "This fold: 32 features selected for STABL\n",
      "This fold: 86 features selected for SS 03\n",
      "This fold: 36 features selected for SS 05\n",
      "This fold: 12 features selected for SS 08\n",
      "~~~~~~~~~~~~~~~~~~~~~~~~~~~~~~~~~~~~~~~~~~~~~~~~~~~~~~~\n",
      "\n",
      "**************************** Iteration 40 over 100 ***************************** \n",
      "\n",
      "120 train samples, 30 test samples\n"
     ]
    },
    {
     "name": "stderr",
     "output_type": "stream",
     "text": [
      "                                                               57<00:00,  2.53s/it]\r"
     ]
    },
    {
     "name": "stdout",
     "output_type": "stream",
     "text": [
      "STABL finished on CyTOF (120 samples); 3 features selected\n",
      "\n"
     ]
    },
    {
     "name": "stderr",
     "output_type": "stream",
     "text": [
      "                                                               26<00:00,  8.12s/it]\r"
     ]
    },
    {
     "name": "stdout",
     "output_type": "stream",
     "text": [
      "STABL finished on Proteomics (120 samples); 9 features selected\n",
      "\n"
     ]
    },
    {
     "name": "stderr",
     "output_type": "stream",
     "text": [
      "                                                               46<00:00, 17.49s/it]\r"
     ]
    },
    {
     "name": "stdout",
     "output_type": "stream",
     "text": [
      "STABL finished on Metabolomics (120 samples); 5 features selected\n",
      "\n"
     ]
    },
    {
     "name": "stderr",
     "output_type": "stream",
     "text": [
      "                                                               09<00:00, 11.92s/it]\r"
     ]
    },
    {
     "name": "stdout",
     "output_type": "stream",
     "text": [
      "~~~~~~~~~~~~~~~~~~~~~~~~~~~~~~~~~~~~~~~~~~~~~~~~~~~~~~~\n",
      "This fold: 17 features selected for STABL\n",
      "This fold: 89 features selected for SS 03\n",
      "This fold: 28 features selected for SS 05\n",
      "This fold: 8 features selected for SS 08\n",
      "~~~~~~~~~~~~~~~~~~~~~~~~~~~~~~~~~~~~~~~~~~~~~~~~~~~~~~~\n",
      "\n",
      "**************************** Iteration 41 over 100 ***************************** \n",
      "\n",
      "118 train samples, 32 test samples\n"
     ]
    },
    {
     "name": "stderr",
     "output_type": "stream",
     "text": [
      "                                                               06<00:00,  2.74s/it]\r"
     ]
    },
    {
     "name": "stdout",
     "output_type": "stream",
     "text": [
      "STABL finished on CyTOF (118 samples); 4 features selected\n",
      "\n"
     ]
    },
    {
     "name": "stderr",
     "output_type": "stream",
     "text": [
      "                                                               28<00:00,  8.27s/it]\r"
     ]
    },
    {
     "name": "stdout",
     "output_type": "stream",
     "text": [
      "STABL finished on Proteomics (118 samples); 10 features selected\n",
      "\n"
     ]
    },
    {
     "name": "stderr",
     "output_type": "stream",
     "text": [
      "                                                               48<00:00, 19.12s/it]\r"
     ]
    },
    {
     "name": "stdout",
     "output_type": "stream",
     "text": [
      "STABL finished on Metabolomics (118 samples); 11 features selected\n",
      "\n"
     ]
    },
    {
     "name": "stderr",
     "output_type": "stream",
     "text": [
      "                                                               27<00:00, 13.37s/it]\r"
     ]
    },
    {
     "name": "stdout",
     "output_type": "stream",
     "text": [
      "~~~~~~~~~~~~~~~~~~~~~~~~~~~~~~~~~~~~~~~~~~~~~~~~~~~~~~~\n",
      "This fold: 25 features selected for STABL\n",
      "This fold: 86 features selected for SS 03\n",
      "This fold: 30 features selected for SS 05\n",
      "This fold: 8 features selected for SS 08\n",
      "~~~~~~~~~~~~~~~~~~~~~~~~~~~~~~~~~~~~~~~~~~~~~~~~~~~~~~~\n",
      "\n",
      "**************************** Iteration 42 over 100 ***************************** \n",
      "\n",
      "120 train samples, 30 test samples\n"
     ]
    },
    {
     "name": "stderr",
     "output_type": "stream",
     "text": [
      "                                                               06<00:00,  2.83s/it]\r"
     ]
    },
    {
     "name": "stdout",
     "output_type": "stream",
     "text": [
      "STABL finished on CyTOF (120 samples); 3 features selected\n",
      "\n"
     ]
    },
    {
     "name": "stderr",
     "output_type": "stream",
     "text": [
      "                                                               29<00:00,  8.16s/it]\r"
     ]
    },
    {
     "name": "stdout",
     "output_type": "stream",
     "text": [
      "STABL finished on Proteomics (120 samples); 16 features selected\n",
      "\n"
     ]
    },
    {
     "name": "stderr",
     "output_type": "stream",
     "text": [
      "                                                               46<00:00, 18.03s/it]\r"
     ]
    },
    {
     "name": "stdout",
     "output_type": "stream",
     "text": [
      "STABL finished on Metabolomics (120 samples); 9 features selected\n",
      "\n"
     ]
    },
    {
     "name": "stderr",
     "output_type": "stream",
     "text": [
      "                                                               32<00:00, 12.55s/it]\r"
     ]
    },
    {
     "name": "stdout",
     "output_type": "stream",
     "text": [
      "~~~~~~~~~~~~~~~~~~~~~~~~~~~~~~~~~~~~~~~~~~~~~~~~~~~~~~~\n",
      "This fold: 28 features selected for STABL\n",
      "This fold: 89 features selected for SS 03\n",
      "This fold: 35 features selected for SS 05\n",
      "This fold: 11 features selected for SS 08\n",
      "~~~~~~~~~~~~~~~~~~~~~~~~~~~~~~~~~~~~~~~~~~~~~~~~~~~~~~~\n",
      "\n",
      "**************************** Iteration 43 over 100 ***************************** \n",
      "\n",
      "119 train samples, 31 test samples\n"
     ]
    },
    {
     "name": "stderr",
     "output_type": "stream",
     "text": [
      "                                                               18<00:00,  3.19s/it]\r"
     ]
    },
    {
     "name": "stdout",
     "output_type": "stream",
     "text": [
      "STABL finished on CyTOF (119 samples); 2 features selected\n",
      "\n"
     ]
    },
    {
     "name": "stderr",
     "output_type": "stream",
     "text": [
      "                                                               27<00:00,  8.31s/it]\r"
     ]
    },
    {
     "name": "stdout",
     "output_type": "stream",
     "text": [
      "STABL finished on Proteomics (119 samples); 15 features selected\n",
      "\n"
     ]
    },
    {
     "name": "stderr",
     "output_type": "stream",
     "text": [
      "                                                               52<00:00, 17.35s/it]\r"
     ]
    },
    {
     "name": "stdout",
     "output_type": "stream",
     "text": [
      "STABL finished on Metabolomics (119 samples); 11 features selected\n",
      "\n"
     ]
    },
    {
     "name": "stderr",
     "output_type": "stream",
     "text": [
      "                                                               07<00:00, 11.92s/it]\r"
     ]
    },
    {
     "name": "stdout",
     "output_type": "stream",
     "text": [
      "~~~~~~~~~~~~~~~~~~~~~~~~~~~~~~~~~~~~~~~~~~~~~~~~~~~~~~~\n",
      "This fold: 28 features selected for STABL\n",
      "This fold: 72 features selected for SS 03\n",
      "This fold: 36 features selected for SS 05\n",
      "This fold: 11 features selected for SS 08\n",
      "~~~~~~~~~~~~~~~~~~~~~~~~~~~~~~~~~~~~~~~~~~~~~~~~~~~~~~~\n",
      "\n",
      "**************************** Iteration 44 over 100 ***************************** \n",
      "\n",
      "118 train samples, 32 test samples\n"
     ]
    },
    {
     "name": "stderr",
     "output_type": "stream",
     "text": [
      "                                                               09<00:00,  3.02s/it]\r"
     ]
    },
    {
     "name": "stdout",
     "output_type": "stream",
     "text": [
      "STABL finished on CyTOF (118 samples); 2 features selected\n",
      "\n"
     ]
    },
    {
     "name": "stderr",
     "output_type": "stream",
     "text": [
      "                                                               24<00:00,  7.94s/it]\r"
     ]
    },
    {
     "name": "stdout",
     "output_type": "stream",
     "text": [
      "STABL finished on Proteomics (118 samples); 17 features selected\n",
      "\n"
     ]
    },
    {
     "name": "stderr",
     "output_type": "stream",
     "text": [
      "                                                               39<00:00, 17.33s/it]\r"
     ]
    },
    {
     "name": "stdout",
     "output_type": "stream",
     "text": [
      "STABL finished on Metabolomics (118 samples); 6 features selected\n",
      "\n"
     ]
    },
    {
     "name": "stderr",
     "output_type": "stream",
     "text": [
      "                                                               18<00:00, 11.91s/it]\r"
     ]
    },
    {
     "name": "stdout",
     "output_type": "stream",
     "text": [
      "~~~~~~~~~~~~~~~~~~~~~~~~~~~~~~~~~~~~~~~~~~~~~~~~~~~~~~~\n",
      "This fold: 25 features selected for STABL\n",
      "This fold: 87 features selected for SS 03\n",
      "This fold: 32 features selected for SS 05\n",
      "This fold: 10 features selected for SS 08\n",
      "~~~~~~~~~~~~~~~~~~~~~~~~~~~~~~~~~~~~~~~~~~~~~~~~~~~~~~~\n",
      "\n",
      "**************************** Iteration 45 over 100 ***************************** \n",
      "\n",
      "119 train samples, 31 test samples\n"
     ]
    },
    {
     "name": "stderr",
     "output_type": "stream",
     "text": [
      "                                                               54<00:00,  2.40s/it]\r"
     ]
    },
    {
     "name": "stdout",
     "output_type": "stream",
     "text": [
      "STABL finished on CyTOF (119 samples); 3 features selected\n",
      "\n"
     ]
    },
    {
     "name": "stderr",
     "output_type": "stream",
     "text": [
      "                                                               24<00:00,  8.21s/it]\r"
     ]
    },
    {
     "name": "stdout",
     "output_type": "stream",
     "text": [
      "STABL finished on Proteomics (119 samples); 8 features selected\n",
      "\n"
     ]
    },
    {
     "name": "stderr",
     "output_type": "stream",
     "text": [
      "                                                               50<00:00, 17.22s/it]\r"
     ]
    },
    {
     "name": "stdout",
     "output_type": "stream",
     "text": [
      "STABL finished on Metabolomics (119 samples); 6 features selected\n",
      "\n"
     ]
    },
    {
     "name": "stderr",
     "output_type": "stream",
     "text": [
      "                                                               07<00:00, 11.89s/it]\r"
     ]
    },
    {
     "name": "stdout",
     "output_type": "stream",
     "text": [
      "~~~~~~~~~~~~~~~~~~~~~~~~~~~~~~~~~~~~~~~~~~~~~~~~~~~~~~~\n",
      "This fold: 17 features selected for STABL\n",
      "This fold: 77 features selected for SS 03\n",
      "This fold: 37 features selected for SS 05\n",
      "This fold: 8 features selected for SS 08\n",
      "~~~~~~~~~~~~~~~~~~~~~~~~~~~~~~~~~~~~~~~~~~~~~~~~~~~~~~~\n",
      "\n",
      "**************************** Iteration 46 over 100 ***************************** \n",
      "\n",
      "119 train samples, 31 test samples\n"
     ]
    },
    {
     "name": "stderr",
     "output_type": "stream",
     "text": [
      "                                                               57<00:00,  2.64s/it]\r"
     ]
    },
    {
     "name": "stdout",
     "output_type": "stream",
     "text": [
      "STABL finished on CyTOF (119 samples); 4 features selected\n",
      "\n"
     ]
    },
    {
     "name": "stderr",
     "output_type": "stream",
     "text": [
      "                                                               23<00:00,  7.79s/it]\r"
     ]
    },
    {
     "name": "stdout",
     "output_type": "stream",
     "text": [
      "STABL finished on Proteomics (119 samples); 12 features selected\n",
      "\n"
     ]
    },
    {
     "name": "stderr",
     "output_type": "stream",
     "text": [
      "                                                               51<00:00, 17.52s/it]\r"
     ]
    },
    {
     "name": "stdout",
     "output_type": "stream",
     "text": [
      "STABL finished on Metabolomics (119 samples); 7 features selected\n",
      "\n"
     ]
    },
    {
     "name": "stderr",
     "output_type": "stream",
     "text": [
      "                                                               20<00:00, 11.67s/it]\r"
     ]
    },
    {
     "name": "stdout",
     "output_type": "stream",
     "text": [
      "~~~~~~~~~~~~~~~~~~~~~~~~~~~~~~~~~~~~~~~~~~~~~~~~~~~~~~~\n",
      "This fold: 23 features selected for STABL\n",
      "This fold: 87 features selected for SS 03\n",
      "This fold: 32 features selected for SS 05\n",
      "This fold: 9 features selected for SS 08\n",
      "~~~~~~~~~~~~~~~~~~~~~~~~~~~~~~~~~~~~~~~~~~~~~~~~~~~~~~~\n",
      "\n",
      "**************************** Iteration 47 over 100 ***************************** \n",
      "\n",
      "117 train samples, 33 test samples\n"
     ]
    },
    {
     "name": "stderr",
     "output_type": "stream",
     "text": [
      "                                                               40<00:00,  1.99s/it]\r"
     ]
    },
    {
     "name": "stdout",
     "output_type": "stream",
     "text": [
      "STABL finished on CyTOF (117 samples); 7 features selected\n",
      "\n"
     ]
    },
    {
     "name": "stderr",
     "output_type": "stream",
     "text": [
      "                                                               22<00:00,  7.91s/it]\r"
     ]
    },
    {
     "name": "stdout",
     "output_type": "stream",
     "text": [
      "STABL finished on Proteomics (117 samples); 13 features selected\n",
      "\n"
     ]
    },
    {
     "name": "stderr",
     "output_type": "stream",
     "text": [
      "                                                               53<00:00, 16.96s/it]\r"
     ]
    },
    {
     "name": "stdout",
     "output_type": "stream",
     "text": [
      "STABL finished on Metabolomics (117 samples); 13 features selected\n",
      "\n"
     ]
    },
    {
     "name": "stderr",
     "output_type": "stream",
     "text": [
      "                                                               11<00:00, 11.97s/it]\r"
     ]
    },
    {
     "name": "stdout",
     "output_type": "stream",
     "text": [
      "~~~~~~~~~~~~~~~~~~~~~~~~~~~~~~~~~~~~~~~~~~~~~~~~~~~~~~~\n",
      "This fold: 33 features selected for STABL\n",
      "This fold: 80 features selected for SS 03\n",
      "This fold: 34 features selected for SS 05\n",
      "This fold: 8 features selected for SS 08\n",
      "~~~~~~~~~~~~~~~~~~~~~~~~~~~~~~~~~~~~~~~~~~~~~~~~~~~~~~~\n",
      "\n",
      "**************************** Iteration 48 over 100 ***************************** \n",
      "\n",
      "119 train samples, 31 test samples\n"
     ]
    },
    {
     "name": "stderr",
     "output_type": "stream",
     "text": [
      "                                                               11<00:00,  3.07s/it]\r"
     ]
    },
    {
     "name": "stdout",
     "output_type": "stream",
     "text": [
      "STABL finished on CyTOF (119 samples); 2 features selected\n",
      "\n"
     ]
    },
    {
     "name": "stderr",
     "output_type": "stream",
     "text": [
      "                                                               22<00:00,  7.82s/it]\r"
     ]
    },
    {
     "name": "stdout",
     "output_type": "stream",
     "text": [
      "STABL finished on Proteomics (119 samples); 14 features selected\n",
      "\n"
     ]
    },
    {
     "name": "stderr",
     "output_type": "stream",
     "text": [
      "                                                               33<00:00, 17.21s/it]\r"
     ]
    },
    {
     "name": "stdout",
     "output_type": "stream",
     "text": [
      "STABL finished on Metabolomics (119 samples); 9 features selected\n",
      "\n"
     ]
    },
    {
     "name": "stderr",
     "output_type": "stream",
     "text": [
      "                                                               13<00:00, 11.62s/it]\r"
     ]
    },
    {
     "name": "stdout",
     "output_type": "stream",
     "text": [
      "~~~~~~~~~~~~~~~~~~~~~~~~~~~~~~~~~~~~~~~~~~~~~~~~~~~~~~~\n",
      "This fold: 25 features selected for STABL\n",
      "This fold: 84 features selected for SS 03\n",
      "This fold: 37 features selected for SS 05\n",
      "This fold: 8 features selected for SS 08\n",
      "~~~~~~~~~~~~~~~~~~~~~~~~~~~~~~~~~~~~~~~~~~~~~~~~~~~~~~~\n",
      "\n",
      "**************************** Iteration 49 over 100 ***************************** \n",
      "\n",
      "119 train samples, 31 test samples\n"
     ]
    },
    {
     "name": "stderr",
     "output_type": "stream",
     "text": [
      "                                                               07<00:00,  2.73s/it]\r"
     ]
    },
    {
     "name": "stdout",
     "output_type": "stream",
     "text": [
      "STABL finished on CyTOF (119 samples); 3 features selected\n",
      "\n"
     ]
    },
    {
     "name": "stderr",
     "output_type": "stream",
     "text": [
      "                                                               19<00:00,  7.49s/it]\r"
     ]
    },
    {
     "name": "stdout",
     "output_type": "stream",
     "text": [
      "STABL finished on Proteomics (119 samples); 14 features selected\n",
      "\n"
     ]
    },
    {
     "name": "stderr",
     "output_type": "stream",
     "text": [
      "                                                               37<00:00, 16.92s/it]\r"
     ]
    },
    {
     "name": "stdout",
     "output_type": "stream",
     "text": [
      "STABL finished on Metabolomics (119 samples); 9 features selected\n",
      "\n"
     ]
    },
    {
     "name": "stderr",
     "output_type": "stream",
     "text": [
      "                                                               08<00:00, 11.96s/it]\r"
     ]
    },
    {
     "name": "stdout",
     "output_type": "stream",
     "text": [
      "~~~~~~~~~~~~~~~~~~~~~~~~~~~~~~~~~~~~~~~~~~~~~~~~~~~~~~~\n",
      "This fold: 26 features selected for STABL\n",
      "This fold: 81 features selected for SS 03\n",
      "This fold: 33 features selected for SS 05\n",
      "This fold: 9 features selected for SS 08\n",
      "~~~~~~~~~~~~~~~~~~~~~~~~~~~~~~~~~~~~~~~~~~~~~~~~~~~~~~~\n",
      "\n",
      "**************************** Iteration 50 over 100 ***************************** \n",
      "\n",
      "119 train samples, 31 test samples\n"
     ]
    },
    {
     "name": "stderr",
     "output_type": "stream",
     "text": [
      "                                                               13<00:00,  3.11s/it]\r"
     ]
    },
    {
     "name": "stdout",
     "output_type": "stream",
     "text": [
      "STABL finished on CyTOF (119 samples); 4 features selected\n",
      "\n"
     ]
    },
    {
     "name": "stderr",
     "output_type": "stream",
     "text": [
      "                                                               18<00:00,  7.42s/it]\r"
     ]
    },
    {
     "name": "stdout",
     "output_type": "stream",
     "text": [
      "STABL finished on Proteomics (119 samples); 17 features selected\n",
      "\n"
     ]
    },
    {
     "name": "stderr",
     "output_type": "stream",
     "text": [
      "                                                               47<00:00, 19.33s/it]\r"
     ]
    },
    {
     "name": "stdout",
     "output_type": "stream",
     "text": [
      "STABL finished on Metabolomics (119 samples); 11 features selected\n",
      "\n"
     ]
    },
    {
     "name": "stderr",
     "output_type": "stream",
     "text": [
      "                                                               24<00:00, 14.60s/it]\r"
     ]
    },
    {
     "name": "stdout",
     "output_type": "stream",
     "text": [
      "~~~~~~~~~~~~~~~~~~~~~~~~~~~~~~~~~~~~~~~~~~~~~~~~~~~~~~~\n",
      "This fold: 32 features selected for STABL\n",
      "This fold: 84 features selected for SS 03\n",
      "This fold: 38 features selected for SS 05\n",
      "This fold: 13 features selected for SS 08\n",
      "~~~~~~~~~~~~~~~~~~~~~~~~~~~~~~~~~~~~~~~~~~~~~~~~~~~~~~~\n",
      "\n",
      "**************************** Iteration 51 over 100 ***************************** \n",
      "\n",
      "121 train samples, 29 test samples\n"
     ]
    },
    {
     "name": "stderr",
     "output_type": "stream",
     "text": [
      "                                                               06<00:00,  2.60s/it]\r"
     ]
    },
    {
     "name": "stdout",
     "output_type": "stream",
     "text": [
      "STABL finished on CyTOF (121 samples); 2 features selected\n",
      "\n"
     ]
    },
    {
     "name": "stderr",
     "output_type": "stream",
     "text": [
      "                                                               38<00:00,  9.55s/it]\r"
     ]
    },
    {
     "name": "stdout",
     "output_type": "stream",
     "text": [
      "STABL finished on Proteomics (121 samples); 21 features selected\n",
      "\n"
     ]
    },
    {
     "name": "stderr",
     "output_type": "stream",
     "text": [
      "                                                               35<00:00, 17.41s/it]\r"
     ]
    },
    {
     "name": "stdout",
     "output_type": "stream",
     "text": [
      "STABL finished on Metabolomics (121 samples); 5 features selected\n",
      "\n"
     ]
    },
    {
     "name": "stderr",
     "output_type": "stream",
     "text": [
      "                                                               14<00:00, 12.62s/it]\r"
     ]
    },
    {
     "name": "stdout",
     "output_type": "stream",
     "text": [
      "~~~~~~~~~~~~~~~~~~~~~~~~~~~~~~~~~~~~~~~~~~~~~~~~~~~~~~~\n",
      "This fold: 28 features selected for STABL\n",
      "This fold: 83 features selected for SS 03\n",
      "This fold: 35 features selected for SS 05\n",
      "This fold: 11 features selected for SS 08\n",
      "~~~~~~~~~~~~~~~~~~~~~~~~~~~~~~~~~~~~~~~~~~~~~~~~~~~~~~~\n",
      "\n",
      "**************************** Iteration 52 over 100 ***************************** \n",
      "\n",
      "121 train samples, 29 test samples\n"
     ]
    },
    {
     "name": "stderr",
     "output_type": "stream",
     "text": [
      "                                                               06<00:00,  2.74s/it]\r"
     ]
    },
    {
     "name": "stdout",
     "output_type": "stream",
     "text": [
      "STABL finished on CyTOF (121 samples); 4 features selected\n",
      "\n"
     ]
    },
    {
     "name": "stderr",
     "output_type": "stream",
     "text": [
      "                                                               34<00:00,  9.30s/it]\r"
     ]
    },
    {
     "name": "stdout",
     "output_type": "stream",
     "text": [
      "STABL finished on Proteomics (121 samples); 25 features selected\n",
      "\n"
     ]
    },
    {
     "name": "stderr",
     "output_type": "stream",
     "text": [
      "                                                               26<00:00, 17.28s/it]\r"
     ]
    },
    {
     "name": "stdout",
     "output_type": "stream",
     "text": [
      "STABL finished on Metabolomics (121 samples); 7 features selected\n",
      "\n"
     ]
    },
    {
     "name": "stderr",
     "output_type": "stream",
     "text": [
      "                                                               12<00:00, 12.28s/it]\r"
     ]
    },
    {
     "name": "stdout",
     "output_type": "stream",
     "text": [
      "~~~~~~~~~~~~~~~~~~~~~~~~~~~~~~~~~~~~~~~~~~~~~~~~~~~~~~~\n",
      "This fold: 36 features selected for STABL\n",
      "This fold: 87 features selected for SS 03\n",
      "This fold: 35 features selected for SS 05\n",
      "This fold: 10 features selected for SS 08\n",
      "~~~~~~~~~~~~~~~~~~~~~~~~~~~~~~~~~~~~~~~~~~~~~~~~~~~~~~~\n",
      "\n",
      "**************************** Iteration 53 over 100 ***************************** \n",
      "\n",
      "119 train samples, 31 test samples\n"
     ]
    },
    {
     "name": "stderr",
     "output_type": "stream",
     "text": [
      "                                                               03<00:00,  2.33s/it]\r"
     ]
    },
    {
     "name": "stdout",
     "output_type": "stream",
     "text": [
      "STABL finished on CyTOF (119 samples); 6 features selected\n",
      "\n"
     ]
    },
    {
     "name": "stderr",
     "output_type": "stream",
     "text": [
      "                                                               36<00:00,  9.36s/it]\r"
     ]
    },
    {
     "name": "stdout",
     "output_type": "stream",
     "text": [
      "STABL finished on Proteomics (119 samples); 8 features selected\n",
      "\n"
     ]
    },
    {
     "name": "stderr",
     "output_type": "stream",
     "text": [
      "                                                               10<00:00, 17.83s/it]\r"
     ]
    },
    {
     "name": "stdout",
     "output_type": "stream",
     "text": [
      "STABL finished on Metabolomics (119 samples); 7 features selected\n",
      "\n"
     ]
    },
    {
     "name": "stderr",
     "output_type": "stream",
     "text": [
      "                                                               29<00:00, 12.80s/it]\r"
     ]
    },
    {
     "name": "stdout",
     "output_type": "stream",
     "text": [
      "~~~~~~~~~~~~~~~~~~~~~~~~~~~~~~~~~~~~~~~~~~~~~~~~~~~~~~~\n",
      "This fold: 21 features selected for STABL\n",
      "This fold: 91 features selected for SS 03\n",
      "This fold: 34 features selected for SS 05\n",
      "This fold: 8 features selected for SS 08\n",
      "~~~~~~~~~~~~~~~~~~~~~~~~~~~~~~~~~~~~~~~~~~~~~~~~~~~~~~~\n",
      "\n",
      "**************************** Iteration 54 over 100 ***************************** \n",
      "\n",
      "120 train samples, 30 test samples\n"
     ]
    },
    {
     "name": "stderr",
     "output_type": "stream",
     "text": [
      "                                                               08<00:00,  2.88s/it]\r"
     ]
    },
    {
     "name": "stdout",
     "output_type": "stream",
     "text": [
      "STABL finished on CyTOF (120 samples); 5 features selected\n",
      "\n"
     ]
    },
    {
     "name": "stderr",
     "output_type": "stream",
     "text": [
      "                                                               36<00:00,  9.64s/it]\r"
     ]
    },
    {
     "name": "stdout",
     "output_type": "stream",
     "text": [
      "STABL finished on Proteomics (120 samples); 12 features selected\n",
      "\n"
     ]
    },
    {
     "name": "stderr",
     "output_type": "stream",
     "text": [
      "                                                               48<00:00, 17.34s/it]\r"
     ]
    },
    {
     "name": "stdout",
     "output_type": "stream",
     "text": [
      "STABL finished on Metabolomics (120 samples); 14 features selected\n",
      "\n"
     ]
    },
    {
     "name": "stderr",
     "output_type": "stream",
     "text": [
      "                                                               13<00:00, 12.38s/it]\r"
     ]
    },
    {
     "name": "stdout",
     "output_type": "stream",
     "text": [
      "~~~~~~~~~~~~~~~~~~~~~~~~~~~~~~~~~~~~~~~~~~~~~~~~~~~~~~~\n",
      "This fold: 31 features selected for STABL\n",
      "This fold: 82 features selected for SS 03\n",
      "This fold: 29 features selected for SS 05\n",
      "This fold: 9 features selected for SS 08\n",
      "~~~~~~~~~~~~~~~~~~~~~~~~~~~~~~~~~~~~~~~~~~~~~~~~~~~~~~~\n",
      "\n",
      "**************************** Iteration 55 over 100 ***************************** \n",
      "\n",
      "117 train samples, 33 test samples\n"
     ]
    },
    {
     "name": "stderr",
     "output_type": "stream",
     "text": [
      "                                                               49<00:00,  2.23s/it]\r"
     ]
    },
    {
     "name": "stdout",
     "output_type": "stream",
     "text": [
      "STABL finished on CyTOF (117 samples); 3 features selected\n",
      "\n"
     ]
    },
    {
     "name": "stderr",
     "output_type": "stream",
     "text": [
      "                                                               36<00:00,  9.28s/it]\r"
     ]
    },
    {
     "name": "stdout",
     "output_type": "stream",
     "text": [
      "STABL finished on Proteomics (117 samples); 8 features selected\n",
      "\n"
     ]
    },
    {
     "name": "stderr",
     "output_type": "stream",
     "text": [
      "                                                               36<00:00, 17.45s/it]\r"
     ]
    },
    {
     "name": "stdout",
     "output_type": "stream",
     "text": [
      "STABL finished on Metabolomics (117 samples); 11 features selected\n",
      "\n"
     ]
    },
    {
     "name": "stderr",
     "output_type": "stream",
     "text": [
      "                                                               17<00:00, 12.60s/it]\r"
     ]
    },
    {
     "name": "stdout",
     "output_type": "stream",
     "text": [
      "~~~~~~~~~~~~~~~~~~~~~~~~~~~~~~~~~~~~~~~~~~~~~~~~~~~~~~~\n",
      "This fold: 22 features selected for STABL\n",
      "This fold: 75 features selected for SS 03\n",
      "This fold: 33 features selected for SS 05\n",
      "This fold: 7 features selected for SS 08\n",
      "~~~~~~~~~~~~~~~~~~~~~~~~~~~~~~~~~~~~~~~~~~~~~~~~~~~~~~~\n",
      "\n",
      "**************************** Iteration 56 over 100 ***************************** \n",
      "\n",
      "120 train samples, 30 test samples\n"
     ]
    },
    {
     "name": "stderr",
     "output_type": "stream",
     "text": [
      "                                                               18<00:00,  3.15s/it]\r"
     ]
    },
    {
     "name": "stdout",
     "output_type": "stream",
     "text": [
      "STABL finished on CyTOF (120 samples); 2 features selected\n",
      "\n"
     ]
    },
    {
     "name": "stderr",
     "output_type": "stream",
     "text": [
      "                                                               39<00:00,  9.67s/it]\r"
     ]
    },
    {
     "name": "stdout",
     "output_type": "stream",
     "text": [
      "STABL finished on Proteomics (120 samples); 15 features selected\n",
      "\n"
     ]
    },
    {
     "name": "stderr",
     "output_type": "stream",
     "text": [
      "                                                               42<00:00, 19.25s/it]\r"
     ]
    },
    {
     "name": "stdout",
     "output_type": "stream",
     "text": [
      "STABL finished on Metabolomics (120 samples); 8 features selected\n",
      "\n"
     ]
    },
    {
     "name": "stderr",
     "output_type": "stream",
     "text": [
      "                                                               24<00:00, 12.59s/it]\r"
     ]
    },
    {
     "name": "stdout",
     "output_type": "stream",
     "text": [
      "~~~~~~~~~~~~~~~~~~~~~~~~~~~~~~~~~~~~~~~~~~~~~~~~~~~~~~~\n",
      "This fold: 25 features selected for STABL\n",
      "This fold: 89 features selected for SS 03\n",
      "This fold: 32 features selected for SS 05\n",
      "This fold: 9 features selected for SS 08\n",
      "~~~~~~~~~~~~~~~~~~~~~~~~~~~~~~~~~~~~~~~~~~~~~~~~~~~~~~~\n",
      "\n",
      "**************************** Iteration 57 over 100 ***************************** \n",
      "\n",
      "117 train samples, 33 test samples\n"
     ]
    },
    {
     "name": "stderr",
     "output_type": "stream",
     "text": [
      "                                                               34<00:00,  3.82s/it]\r"
     ]
    },
    {
     "name": "stdout",
     "output_type": "stream",
     "text": [
      "STABL finished on CyTOF (117 samples); 3 features selected\n",
      "\n"
     ]
    },
    {
     "name": "stderr",
     "output_type": "stream",
     "text": [
      "                                                               43<00:00,  9.55s/it]\r"
     ]
    },
    {
     "name": "stdout",
     "output_type": "stream",
     "text": [
      "STABL finished on Proteomics (117 samples); 9 features selected\n",
      "\n"
     ]
    },
    {
     "name": "stderr",
     "output_type": "stream",
     "text": [
      "                                                               56<00:00, 17.57s/it]\r"
     ]
    },
    {
     "name": "stdout",
     "output_type": "stream",
     "text": [
      "STABL finished on Metabolomics (117 samples); 6 features selected\n",
      "\n"
     ]
    },
    {
     "name": "stderr",
     "output_type": "stream",
     "text": [
      "                                                               14<00:00, 12.80s/it]\r"
     ]
    },
    {
     "name": "stdout",
     "output_type": "stream",
     "text": [
      "~~~~~~~~~~~~~~~~~~~~~~~~~~~~~~~~~~~~~~~~~~~~~~~~~~~~~~~\n",
      "This fold: 18 features selected for STABL\n",
      "This fold: 80 features selected for SS 03\n",
      "This fold: 30 features selected for SS 05\n",
      "This fold: 10 features selected for SS 08\n",
      "~~~~~~~~~~~~~~~~~~~~~~~~~~~~~~~~~~~~~~~~~~~~~~~~~~~~~~~\n",
      "\n",
      "**************************** Iteration 58 over 100 ***************************** \n",
      "\n",
      "119 train samples, 31 test samples\n"
     ]
    },
    {
     "name": "stderr",
     "output_type": "stream",
     "text": [
      "                                                               00<00:00,  2.51s/it]\r"
     ]
    },
    {
     "name": "stdout",
     "output_type": "stream",
     "text": [
      "STABL finished on CyTOF (119 samples); 4 features selected\n",
      "\n"
     ]
    },
    {
     "name": "stderr",
     "output_type": "stream",
     "text": [
      "                                                               34<00:00,  9.16s/it]\r"
     ]
    },
    {
     "name": "stdout",
     "output_type": "stream",
     "text": [
      "STABL finished on Proteomics (119 samples); 15 features selected\n",
      "\n"
     ]
    },
    {
     "name": "stderr",
     "output_type": "stream",
     "text": [
      "                                                               49<00:00, 17.76s/it]\r"
     ]
    },
    {
     "name": "stdout",
     "output_type": "stream",
     "text": [
      "STABL finished on Metabolomics (119 samples); 12 features selected\n",
      "\n"
     ]
    },
    {
     "name": "stderr",
     "output_type": "stream",
     "text": [
      "                                                               16<00:00, 12.09s/it]\r"
     ]
    },
    {
     "name": "stdout",
     "output_type": "stream",
     "text": [
      "~~~~~~~~~~~~~~~~~~~~~~~~~~~~~~~~~~~~~~~~~~~~~~~~~~~~~~~\n",
      "This fold: 31 features selected for STABL\n",
      "This fold: 89 features selected for SS 03\n",
      "This fold: 30 features selected for SS 05\n",
      "This fold: 8 features selected for SS 08\n",
      "~~~~~~~~~~~~~~~~~~~~~~~~~~~~~~~~~~~~~~~~~~~~~~~~~~~~~~~\n",
      "\n",
      "**************************** Iteration 59 over 100 ***************************** \n",
      "\n",
      "119 train samples, 31 test samples\n"
     ]
    },
    {
     "name": "stderr",
     "output_type": "stream",
     "text": [
      "                                                               54<00:00,  2.51s/it]\r"
     ]
    },
    {
     "name": "stdout",
     "output_type": "stream",
     "text": [
      "STABL finished on CyTOF (119 samples); 5 features selected\n",
      "\n"
     ]
    },
    {
     "name": "stderr",
     "output_type": "stream",
     "text": [
      "                                                               49<00:00, 10.89s/it]\r"
     ]
    },
    {
     "name": "stdout",
     "output_type": "stream",
     "text": [
      "STABL finished on Proteomics (119 samples); 13 features selected\n",
      "\n"
     ]
    },
    {
     "name": "stderr",
     "output_type": "stream",
     "text": [
      "                                                               17<00:00, 19.86s/it]\r"
     ]
    },
    {
     "name": "stdout",
     "output_type": "stream",
     "text": [
      "STABL finished on Metabolomics (119 samples); 8 features selected\n",
      "\n"
     ]
    },
    {
     "name": "stderr",
     "output_type": "stream",
     "text": [
      "                                                               40<00:00, 14.24s/it]\r"
     ]
    },
    {
     "name": "stdout",
     "output_type": "stream",
     "text": [
      "~~~~~~~~~~~~~~~~~~~~~~~~~~~~~~~~~~~~~~~~~~~~~~~~~~~~~~~\n",
      "This fold: 26 features selected for STABL\n",
      "This fold: 87 features selected for SS 03\n",
      "This fold: 37 features selected for SS 05\n",
      "This fold: 6 features selected for SS 08\n",
      "~~~~~~~~~~~~~~~~~~~~~~~~~~~~~~~~~~~~~~~~~~~~~~~~~~~~~~~\n",
      "\n",
      "**************************** Iteration 60 over 100 ***************************** \n",
      "\n",
      "118 train samples, 32 test samples\n"
     ]
    },
    {
     "name": "stderr",
     "output_type": "stream",
     "text": [
      "                                                               42<00:00,  3.80s/it]\r"
     ]
    },
    {
     "name": "stdout",
     "output_type": "stream",
     "text": [
      "STABL finished on CyTOF (118 samples); 1 features selected\n",
      "\n"
     ]
    },
    {
     "name": "stderr",
     "output_type": "stream",
     "text": [
      "                                                               46<00:00, 10.34s/it]\r"
     ]
    },
    {
     "name": "stdout",
     "output_type": "stream",
     "text": [
      "STABL finished on Proteomics (118 samples); 13 features selected\n",
      "\n"
     ]
    },
    {
     "name": "stderr",
     "output_type": "stream",
     "text": [
      "                                                               09<00:00, 19.11s/it]\r"
     ]
    },
    {
     "name": "stdout",
     "output_type": "stream",
     "text": [
      "STABL finished on Metabolomics (118 samples); 9 features selected\n",
      "\n"
     ]
    },
    {
     "name": "stderr",
     "output_type": "stream",
     "text": [
      "                                                               36<00:00, 13.29s/it]\r"
     ]
    },
    {
     "name": "stdout",
     "output_type": "stream",
     "text": [
      "~~~~~~~~~~~~~~~~~~~~~~~~~~~~~~~~~~~~~~~~~~~~~~~~~~~~~~~\n",
      "This fold: 23 features selected for STABL\n",
      "This fold: 88 features selected for SS 03\n",
      "This fold: 34 features selected for SS 05\n",
      "This fold: 6 features selected for SS 08\n",
      "~~~~~~~~~~~~~~~~~~~~~~~~~~~~~~~~~~~~~~~~~~~~~~~~~~~~~~~\n",
      "\n",
      "**************************** Iteration 61 over 100 ***************************** \n",
      "\n",
      "120 train samples, 30 test samples\n"
     ]
    },
    {
     "name": "stderr",
     "output_type": "stream",
     "text": [
      "                                                               41<00:00,  4.33s/it]\r"
     ]
    },
    {
     "name": "stdout",
     "output_type": "stream",
     "text": [
      "STABL finished on CyTOF (120 samples); 4 features selected\n",
      "\n"
     ]
    },
    {
     "name": "stderr",
     "output_type": "stream",
     "text": [
      "                                                               52<00:00, 10.68s/it]\r"
     ]
    },
    {
     "name": "stdout",
     "output_type": "stream",
     "text": [
      "STABL finished on Proteomics (120 samples); 16 features selected\n",
      "\n"
     ]
    },
    {
     "name": "stderr",
     "output_type": "stream",
     "text": [
      "                                                               23<00:00, 19.46s/it]\r"
     ]
    },
    {
     "name": "stdout",
     "output_type": "stream",
     "text": [
      "STABL finished on Metabolomics (120 samples); 7 features selected\n",
      "\n"
     ]
    },
    {
     "name": "stderr",
     "output_type": "stream",
     "text": [
      "                                                               32<00:00, 13.38s/it]\r"
     ]
    },
    {
     "name": "stdout",
     "output_type": "stream",
     "text": [
      "~~~~~~~~~~~~~~~~~~~~~~~~~~~~~~~~~~~~~~~~~~~~~~~~~~~~~~~\n",
      "This fold: 27 features selected for STABL\n",
      "This fold: 85 features selected for SS 03\n",
      "This fold: 31 features selected for SS 05\n",
      "This fold: 9 features selected for SS 08\n",
      "~~~~~~~~~~~~~~~~~~~~~~~~~~~~~~~~~~~~~~~~~~~~~~~~~~~~~~~\n",
      "\n",
      "**************************** Iteration 62 over 100 ***************************** \n",
      "\n",
      "118 train samples, 32 test samples\n"
     ]
    },
    {
     "name": "stderr",
     "output_type": "stream",
     "text": [
      "                                                               12<00:00,  3.10s/it]\r"
     ]
    },
    {
     "name": "stdout",
     "output_type": "stream",
     "text": [
      "STABL finished on CyTOF (118 samples); 4 features selected\n",
      "\n"
     ]
    },
    {
     "name": "stderr",
     "output_type": "stream",
     "text": [
      "                                                               47<00:00, 10.24s/it]\r"
     ]
    },
    {
     "name": "stdout",
     "output_type": "stream",
     "text": [
      "STABL finished on Proteomics (118 samples); 12 features selected\n",
      "\n"
     ]
    },
    {
     "name": "stderr",
     "output_type": "stream",
     "text": [
      "                                                               26<00:00, 19.27s/it]\r"
     ]
    },
    {
     "name": "stdout",
     "output_type": "stream",
     "text": [
      "STABL finished on Metabolomics (118 samples); 10 features selected\n",
      "\n"
     ]
    },
    {
     "name": "stderr",
     "output_type": "stream",
     "text": [
      "                                                               17<00:00, 12.74s/it]\r"
     ]
    },
    {
     "name": "stdout",
     "output_type": "stream",
     "text": [
      "~~~~~~~~~~~~~~~~~~~~~~~~~~~~~~~~~~~~~~~~~~~~~~~~~~~~~~~\n",
      "This fold: 26 features selected for STABL\n",
      "This fold: 92 features selected for SS 03\n",
      "This fold: 35 features selected for SS 05\n",
      "This fold: 8 features selected for SS 08\n",
      "~~~~~~~~~~~~~~~~~~~~~~~~~~~~~~~~~~~~~~~~~~~~~~~~~~~~~~~\n",
      "\n",
      "**************************** Iteration 63 over 100 ***************************** \n",
      "\n",
      "118 train samples, 32 test samples\n"
     ]
    },
    {
     "name": "stderr",
     "output_type": "stream",
     "text": [
      "                                                               41<00:00,  1.98s/it]\r"
     ]
    },
    {
     "name": "stdout",
     "output_type": "stream",
     "text": [
      "STABL finished on CyTOF (118 samples); 3 features selected\n",
      "\n"
     ]
    },
    {
     "name": "stderr",
     "output_type": "stream",
     "text": [
      "                                                               35<00:00,  9.59s/it]\r"
     ]
    },
    {
     "name": "stdout",
     "output_type": "stream",
     "text": [
      "STABL finished on Proteomics (118 samples); 14 features selected\n",
      "\n"
     ]
    },
    {
     "name": "stderr",
     "output_type": "stream",
     "text": [
      "                                                               34<00:00, 17.93s/it]\r"
     ]
    },
    {
     "name": "stdout",
     "output_type": "stream",
     "text": [
      "STABL finished on Metabolomics (118 samples); 6 features selected\n",
      "\n"
     ]
    },
    {
     "name": "stderr",
     "output_type": "stream",
     "text": [
      "                                                               11<00:00, 13.20s/it]\r"
     ]
    },
    {
     "name": "stdout",
     "output_type": "stream",
     "text": [
      "~~~~~~~~~~~~~~~~~~~~~~~~~~~~~~~~~~~~~~~~~~~~~~~~~~~~~~~\n",
      "This fold: 23 features selected for STABL\n",
      "This fold: 74 features selected for SS 03\n",
      "This fold: 32 features selected for SS 05\n",
      "This fold: 8 features selected for SS 08\n",
      "~~~~~~~~~~~~~~~~~~~~~~~~~~~~~~~~~~~~~~~~~~~~~~~~~~~~~~~\n",
      "\n",
      "**************************** Iteration 64 over 100 ***************************** \n",
      "\n",
      "119 train samples, 31 test samples\n"
     ]
    },
    {
     "name": "stderr",
     "output_type": "stream",
     "text": [
      "                                                               59<00:00,  2.33s/it]\r"
     ]
    },
    {
     "name": "stdout",
     "output_type": "stream",
     "text": [
      "STABL finished on CyTOF (119 samples); 2 features selected\n",
      "\n"
     ]
    },
    {
     "name": "stderr",
     "output_type": "stream",
     "text": [
      "                                                               44<00:00, 10.39s/it]\r"
     ]
    },
    {
     "name": "stdout",
     "output_type": "stream",
     "text": [
      "STABL finished on Proteomics (119 samples); 15 features selected\n",
      "\n"
     ]
    },
    {
     "name": "stderr",
     "output_type": "stream",
     "text": [
      "                                                               18<00:00, 17.98s/it]\r"
     ]
    },
    {
     "name": "stdout",
     "output_type": "stream",
     "text": [
      "STABL finished on Metabolomics (119 samples); 9 features selected\n",
      "\n"
     ]
    },
    {
     "name": "stderr",
     "output_type": "stream",
     "text": [
      "                                                               09<00:00, 12.93s/it]\r"
     ]
    },
    {
     "name": "stdout",
     "output_type": "stream",
     "text": [
      "~~~~~~~~~~~~~~~~~~~~~~~~~~~~~~~~~~~~~~~~~~~~~~~~~~~~~~~\n",
      "This fold: 26 features selected for STABL\n",
      "This fold: 92 features selected for SS 03\n",
      "This fold: 31 features selected for SS 05\n",
      "This fold: 10 features selected for SS 08\n",
      "~~~~~~~~~~~~~~~~~~~~~~~~~~~~~~~~~~~~~~~~~~~~~~~~~~~~~~~\n",
      "\n",
      "**************************** Iteration 65 over 100 ***************************** \n",
      "\n",
      "120 train samples, 30 test samples\n"
     ]
    },
    {
     "name": "stderr",
     "output_type": "stream",
     "text": [
      "                                                               38<00:00,  1.78s/it]\r"
     ]
    },
    {
     "name": "stdout",
     "output_type": "stream",
     "text": [
      "STABL finished on CyTOF (120 samples); 4 features selected\n",
      "\n"
     ]
    },
    {
     "name": "stderr",
     "output_type": "stream",
     "text": [
      "                                                               41<00:00, 10.22s/it]\r"
     ]
    },
    {
     "name": "stdout",
     "output_type": "stream",
     "text": [
      "STABL finished on Proteomics (120 samples); 10 features selected\n",
      "\n"
     ]
    },
    {
     "name": "stderr",
     "output_type": "stream",
     "text": [
      "                                                               13<00:00, 17.88s/it]\r"
     ]
    },
    {
     "name": "stdout",
     "output_type": "stream",
     "text": [
      "STABL finished on Metabolomics (120 samples); 8 features selected\n",
      "\n"
     ]
    },
    {
     "name": "stderr",
     "output_type": "stream",
     "text": [
      "                                                               10<00:00, 12.93s/it]\r"
     ]
    },
    {
     "name": "stdout",
     "output_type": "stream",
     "text": [
      "~~~~~~~~~~~~~~~~~~~~~~~~~~~~~~~~~~~~~~~~~~~~~~~~~~~~~~~\n",
      "This fold: 22 features selected for STABL\n",
      "This fold: 79 features selected for SS 03\n",
      "This fold: 30 features selected for SS 05\n",
      "This fold: 8 features selected for SS 08\n",
      "~~~~~~~~~~~~~~~~~~~~~~~~~~~~~~~~~~~~~~~~~~~~~~~~~~~~~~~\n",
      "\n",
      "**************************** Iteration 66 over 100 ***************************** \n",
      "\n",
      "117 train samples, 33 test samples\n"
     ]
    },
    {
     "name": "stderr",
     "output_type": "stream",
     "text": [
      "                                                               43<00:00,  1.81s/it]\r"
     ]
    },
    {
     "name": "stdout",
     "output_type": "stream",
     "text": [
      "STABL finished on CyTOF (117 samples); 2 features selected\n",
      "\n"
     ]
    },
    {
     "name": "stderr",
     "output_type": "stream",
     "text": [
      "                                                               48<00:00, 11.36s/it]\r"
     ]
    },
    {
     "name": "stdout",
     "output_type": "stream",
     "text": [
      "STABL finished on Proteomics (117 samples); 13 features selected\n",
      "\n"
     ]
    },
    {
     "name": "stderr",
     "output_type": "stream",
     "text": [
      "                                                               43<00:00, 17.91s/it]\r"
     ]
    },
    {
     "name": "stdout",
     "output_type": "stream",
     "text": [
      "STABL finished on Metabolomics (117 samples); 8 features selected\n",
      "\n"
     ]
    },
    {
     "name": "stderr",
     "output_type": "stream",
     "text": [
      "                                                               05<00:00, 12.46s/it]\r"
     ]
    },
    {
     "name": "stdout",
     "output_type": "stream",
     "text": [
      "~~~~~~~~~~~~~~~~~~~~~~~~~~~~~~~~~~~~~~~~~~~~~~~~~~~~~~~\n",
      "This fold: 23 features selected for STABL\n",
      "This fold: 77 features selected for SS 03\n",
      "This fold: 30 features selected for SS 05\n",
      "This fold: 10 features selected for SS 08\n",
      "~~~~~~~~~~~~~~~~~~~~~~~~~~~~~~~~~~~~~~~~~~~~~~~~~~~~~~~\n",
      "\n",
      "**************************** Iteration 67 over 100 ***************************** \n",
      "\n",
      "118 train samples, 32 test samples\n"
     ]
    },
    {
     "name": "stderr",
     "output_type": "stream",
     "text": [
      "                                                               41<00:00,  1.90s/it]\r"
     ]
    },
    {
     "name": "stdout",
     "output_type": "stream",
     "text": [
      "STABL finished on CyTOF (118 samples); 5 features selected\n",
      "\n"
     ]
    },
    {
     "name": "stderr",
     "output_type": "stream",
     "text": [
      "                                                               47<00:00, 11.36s/it]\r"
     ]
    },
    {
     "name": "stdout",
     "output_type": "stream",
     "text": [
      "STABL finished on Proteomics (118 samples); 13 features selected\n",
      "\n"
     ]
    },
    {
     "name": "stderr",
     "output_type": "stream",
     "text": [
      "                                                               17<00:00, 18.34s/it]\r"
     ]
    },
    {
     "name": "stdout",
     "output_type": "stream",
     "text": [
      "STABL finished on Metabolomics (118 samples); 5 features selected\n",
      "\n"
     ]
    },
    {
     "name": "stderr",
     "output_type": "stream",
     "text": [
      "                                                               10<00:00, 12.75s/it]\r"
     ]
    },
    {
     "name": "stdout",
     "output_type": "stream",
     "text": [
      "~~~~~~~~~~~~~~~~~~~~~~~~~~~~~~~~~~~~~~~~~~~~~~~~~~~~~~~\n",
      "This fold: 23 features selected for STABL\n",
      "This fold: 83 features selected for SS 03\n",
      "This fold: 39 features selected for SS 05\n",
      "This fold: 9 features selected for SS 08\n",
      "~~~~~~~~~~~~~~~~~~~~~~~~~~~~~~~~~~~~~~~~~~~~~~~~~~~~~~~\n",
      "\n",
      "**************************** Iteration 68 over 100 ***************************** \n",
      "\n",
      "118 train samples, 32 test samples\n"
     ]
    },
    {
     "name": "stderr",
     "output_type": "stream",
     "text": [
      "                                                               34<00:00,  1.63s/it]\r"
     ]
    },
    {
     "name": "stdout",
     "output_type": "stream",
     "text": [
      "STABL finished on CyTOF (118 samples); 2 features selected\n",
      "\n"
     ]
    },
    {
     "name": "stderr",
     "output_type": "stream",
     "text": [
      "                                                               39<00:00,  9.95s/it]\r"
     ]
    },
    {
     "name": "stdout",
     "output_type": "stream",
     "text": [
      "STABL finished on Proteomics (118 samples); 20 features selected\n",
      "\n"
     ]
    },
    {
     "name": "stderr",
     "output_type": "stream",
     "text": [
      "                                                               04<00:00, 16.86s/it]\r"
     ]
    },
    {
     "name": "stdout",
     "output_type": "stream",
     "text": [
      "STABL finished on Metabolomics (118 samples); 9 features selected\n",
      "\n"
     ]
    },
    {
     "name": "stderr",
     "output_type": "stream",
     "text": [
      "                                                               05<00:00, 12.57s/it]\r"
     ]
    },
    {
     "name": "stdout",
     "output_type": "stream",
     "text": [
      "~~~~~~~~~~~~~~~~~~~~~~~~~~~~~~~~~~~~~~~~~~~~~~~~~~~~~~~\n",
      "This fold: 31 features selected for STABL\n",
      "This fold: 87 features selected for SS 03\n",
      "This fold: 38 features selected for SS 05\n",
      "This fold: 7 features selected for SS 08\n",
      "~~~~~~~~~~~~~~~~~~~~~~~~~~~~~~~~~~~~~~~~~~~~~~~~~~~~~~~\n",
      "\n",
      "**************************** Iteration 69 over 100 ***************************** \n",
      "\n",
      "123 train samples, 27 test samples\n"
     ]
    },
    {
     "name": "stderr",
     "output_type": "stream",
     "text": [
      "                                                               51<00:00,  1.99s/it]\r"
     ]
    },
    {
     "name": "stdout",
     "output_type": "stream",
     "text": [
      "STABL finished on CyTOF (123 samples); 4 features selected\n",
      "\n"
     ]
    },
    {
     "name": "stderr",
     "output_type": "stream",
     "text": [
      "                                                               59<00:00,  5.64s/it]\r"
     ]
    },
    {
     "name": "stdout",
     "output_type": "stream",
     "text": [
      "STABL finished on Proteomics (123 samples); 11 features selected\n",
      "\n"
     ]
    },
    {
     "name": "stderr",
     "output_type": "stream",
     "text": [
      "                                                               05<00:00, 17.29s/it]\r"
     ]
    },
    {
     "name": "stdout",
     "output_type": "stream",
     "text": [
      "STABL finished on Metabolomics (123 samples); 26 features selected\n",
      "\n"
     ]
    },
    {
     "name": "stderr",
     "output_type": "stream",
     "text": [
      "                                                               47<00:00,  9.89s/it]\r"
     ]
    },
    {
     "name": "stdout",
     "output_type": "stream",
     "text": [
      "~~~~~~~~~~~~~~~~~~~~~~~~~~~~~~~~~~~~~~~~~~~~~~~~~~~~~~~\n",
      "This fold: 41 features selected for STABL\n",
      "This fold: 92 features selected for SS 03\n",
      "This fold: 36 features selected for SS 05\n",
      "This fold: 10 features selected for SS 08\n",
      "~~~~~~~~~~~~~~~~~~~~~~~~~~~~~~~~~~~~~~~~~~~~~~~~~~~~~~~\n",
      "\n",
      "**************************** Iteration 70 over 100 ***************************** \n",
      "\n",
      "118 train samples, 32 test samples\n"
     ]
    },
    {
     "name": "stderr",
     "output_type": "stream",
     "text": [
      "                                                               49<00:00,  2.08s/it]\r"
     ]
    },
    {
     "name": "stdout",
     "output_type": "stream",
     "text": [
      "STABL finished on CyTOF (118 samples); 2 features selected\n",
      "\n"
     ]
    },
    {
     "name": "stderr",
     "output_type": "stream",
     "text": [
      "                                                               00<00:00,  5.66s/it]\r"
     ]
    },
    {
     "name": "stdout",
     "output_type": "stream",
     "text": [
      "STABL finished on Proteomics (118 samples); 16 features selected\n",
      "\n"
     ]
    },
    {
     "name": "stderr",
     "output_type": "stream",
     "text": [
      "                                                               03<00:00, 16.66s/it]\r"
     ]
    },
    {
     "name": "stdout",
     "output_type": "stream",
     "text": [
      "STABL finished on Metabolomics (118 samples); 7 features selected\n",
      "\n"
     ]
    },
    {
     "name": "stderr",
     "output_type": "stream",
     "text": [
      "                                                               40<00:00,  9.47s/it]\r"
     ]
    },
    {
     "name": "stdout",
     "output_type": "stream",
     "text": [
      "~~~~~~~~~~~~~~~~~~~~~~~~~~~~~~~~~~~~~~~~~~~~~~~~~~~~~~~\n",
      "This fold: 25 features selected for STABL\n",
      "This fold: 76 features selected for SS 03\n",
      "This fold: 33 features selected for SS 05\n",
      "This fold: 8 features selected for SS 08\n",
      "~~~~~~~~~~~~~~~~~~~~~~~~~~~~~~~~~~~~~~~~~~~~~~~~~~~~~~~\n",
      "\n",
      "**************************** Iteration 71 over 100 ***************************** \n",
      "\n",
      "118 train samples, 32 test samples\n"
     ]
    },
    {
     "name": "stderr",
     "output_type": "stream",
     "text": [
      "                                                               29<00:00,  1.49s/it]\r"
     ]
    },
    {
     "name": "stdout",
     "output_type": "stream",
     "text": [
      "STABL finished on CyTOF (118 samples); 4 features selected\n",
      "\n"
     ]
    },
    {
     "name": "stderr",
     "output_type": "stream",
     "text": [
      "                                                               00<00:00,  5.99s/it]\r"
     ]
    },
    {
     "name": "stdout",
     "output_type": "stream",
     "text": [
      "STABL finished on Proteomics (118 samples); 8 features selected\n",
      "\n"
     ]
    },
    {
     "name": "stderr",
     "output_type": "stream",
     "text": [
      "                                                               01<00:00, 16.60s/it]\r"
     ]
    },
    {
     "name": "stdout",
     "output_type": "stream",
     "text": [
      "STABL finished on Metabolomics (118 samples); 15 features selected\n",
      "\n"
     ]
    },
    {
     "name": "stderr",
     "output_type": "stream",
     "text": [
      "                                                               41<00:00,  9.78s/it]\r"
     ]
    },
    {
     "name": "stdout",
     "output_type": "stream",
     "text": [
      "~~~~~~~~~~~~~~~~~~~~~~~~~~~~~~~~~~~~~~~~~~~~~~~~~~~~~~~\n",
      "This fold: 27 features selected for STABL\n",
      "This fold: 79 features selected for SS 03\n",
      "This fold: 33 features selected for SS 05\n",
      "This fold: 11 features selected for SS 08\n",
      "~~~~~~~~~~~~~~~~~~~~~~~~~~~~~~~~~~~~~~~~~~~~~~~~~~~~~~~\n",
      "\n",
      "**************************** Iteration 72 over 100 ***************************** \n",
      "\n",
      "119 train samples, 31 test samples\n"
     ]
    },
    {
     "name": "stderr",
     "output_type": "stream",
     "text": [
      "                                                               42<00:00,  1.77s/it]\r"
     ]
    },
    {
     "name": "stdout",
     "output_type": "stream",
     "text": [
      "STABL finished on CyTOF (119 samples); 2 features selected\n",
      "\n"
     ]
    },
    {
     "name": "stderr",
     "output_type": "stream",
     "text": [
      "                                                               57<00:00,  5.50s/it]\r"
     ]
    },
    {
     "name": "stdout",
     "output_type": "stream",
     "text": [
      "STABL finished on Proteomics (119 samples); 13 features selected\n",
      "\n"
     ]
    },
    {
     "name": "stderr",
     "output_type": "stream",
     "text": [
      "                                                               09<00:00, 16.99s/it]\r"
     ]
    },
    {
     "name": "stdout",
     "output_type": "stream",
     "text": [
      "STABL finished on Metabolomics (119 samples); 12 features selected\n",
      "\n"
     ]
    },
    {
     "name": "stderr",
     "output_type": "stream",
     "text": [
      "                                                               37<00:00,  9.42s/it]\r"
     ]
    },
    {
     "name": "stdout",
     "output_type": "stream",
     "text": [
      "~~~~~~~~~~~~~~~~~~~~~~~~~~~~~~~~~~~~~~~~~~~~~~~~~~~~~~~\n",
      "This fold: 27 features selected for STABL\n",
      "This fold: 84 features selected for SS 03\n",
      "This fold: 37 features selected for SS 05\n",
      "This fold: 8 features selected for SS 08\n",
      "~~~~~~~~~~~~~~~~~~~~~~~~~~~~~~~~~~~~~~~~~~~~~~~~~~~~~~~\n",
      "\n",
      "**************************** Iteration 73 over 100 ***************************** \n",
      "\n",
      "118 train samples, 32 test samples\n"
     ]
    },
    {
     "name": "stderr",
     "output_type": "stream",
     "text": [
      "                                                               28<00:00,  1.48s/it]\r"
     ]
    },
    {
     "name": "stdout",
     "output_type": "stream",
     "text": [
      "STABL finished on CyTOF (118 samples); 4 features selected\n",
      "\n"
     ]
    },
    {
     "name": "stderr",
     "output_type": "stream",
     "text": [
      "                                                               58<00:00,  5.67s/it]\r"
     ]
    },
    {
     "name": "stdout",
     "output_type": "stream",
     "text": [
      "STABL finished on Proteomics (118 samples); 12 features selected\n",
      "\n"
     ]
    },
    {
     "name": "stderr",
     "output_type": "stream",
     "text": [
      "                                                               54<00:00, 16.49s/it]\r"
     ]
    },
    {
     "name": "stdout",
     "output_type": "stream",
     "text": [
      "STABL finished on Metabolomics (118 samples); 9 features selected\n",
      "\n"
     ]
    },
    {
     "name": "stderr",
     "output_type": "stream",
     "text": [
      "                                                               50<00:00, 11.39s/it]\r"
     ]
    },
    {
     "name": "stdout",
     "output_type": "stream",
     "text": [
      "~~~~~~~~~~~~~~~~~~~~~~~~~~~~~~~~~~~~~~~~~~~~~~~~~~~~~~~\n",
      "This fold: 25 features selected for STABL\n",
      "This fold: 81 features selected for SS 03\n",
      "This fold: 33 features selected for SS 05\n",
      "This fold: 14 features selected for SS 08\n",
      "~~~~~~~~~~~~~~~~~~~~~~~~~~~~~~~~~~~~~~~~~~~~~~~~~~~~~~~\n",
      "\n",
      "**************************** Iteration 74 over 100 ***************************** \n",
      "\n",
      "119 train samples, 31 test samples\n"
     ]
    },
    {
     "name": "stderr",
     "output_type": "stream",
     "text": [
      "                                                               09<00:00,  2.68s/it]\r"
     ]
    },
    {
     "name": "stdout",
     "output_type": "stream",
     "text": [
      "STABL finished on CyTOF (119 samples); 2 features selected\n",
      "\n"
     ]
    },
    {
     "name": "stderr",
     "output_type": "stream",
     "text": [
      "                                                               05<00:00,  6.03s/it]\r"
     ]
    },
    {
     "name": "stdout",
     "output_type": "stream",
     "text": [
      "STABL finished on Proteomics (119 samples); 15 features selected\n",
      "\n"
     ]
    },
    {
     "name": "stderr",
     "output_type": "stream",
     "text": [
      "                                                               34<00:00, 18.07s/it]\r"
     ]
    },
    {
     "name": "stdout",
     "output_type": "stream",
     "text": [
      "STABL finished on Metabolomics (119 samples); 12 features selected\n",
      "\n"
     ]
    },
    {
     "name": "stderr",
     "output_type": "stream",
     "text": [
      "                                                               06<00:00, 11.78s/it]\r"
     ]
    },
    {
     "name": "stdout",
     "output_type": "stream",
     "text": [
      "~~~~~~~~~~~~~~~~~~~~~~~~~~~~~~~~~~~~~~~~~~~~~~~~~~~~~~~\n",
      "This fold: 29 features selected for STABL\n",
      "This fold: 81 features selected for SS 03\n",
      "This fold: 35 features selected for SS 05\n",
      "This fold: 7 features selected for SS 08\n",
      "~~~~~~~~~~~~~~~~~~~~~~~~~~~~~~~~~~~~~~~~~~~~~~~~~~~~~~~\n",
      "\n",
      "**************************** Iteration 75 over 100 ***************************** \n",
      "\n",
      "119 train samples, 31 test samples\n"
     ]
    },
    {
     "name": "stderr",
     "output_type": "stream",
     "text": [
      "                                                               52<00:00,  2.04s/it]\r"
     ]
    },
    {
     "name": "stdout",
     "output_type": "stream",
     "text": [
      "STABL finished on CyTOF (119 samples); 2 features selected\n",
      "\n"
     ]
    },
    {
     "name": "stderr",
     "output_type": "stream",
     "text": [
      "                                                               04<00:00,  6.24s/it]\r"
     ]
    },
    {
     "name": "stdout",
     "output_type": "stream",
     "text": [
      "STABL finished on Proteomics (119 samples); 11 features selected\n",
      "\n"
     ]
    },
    {
     "name": "stderr",
     "output_type": "stream",
     "text": [
      "                                                               15<00:00, 17.95s/it]\r"
     ]
    },
    {
     "name": "stdout",
     "output_type": "stream",
     "text": [
      "STABL finished on Metabolomics (119 samples); 15 features selected\n",
      "\n"
     ]
    },
    {
     "name": "stderr",
     "output_type": "stream",
     "text": [
      "                                                               45<00:00, 10.41s/it]\r"
     ]
    },
    {
     "name": "stdout",
     "output_type": "stream",
     "text": [
      "~~~~~~~~~~~~~~~~~~~~~~~~~~~~~~~~~~~~~~~~~~~~~~~~~~~~~~~\n",
      "This fold: 28 features selected for STABL\n",
      "This fold: 74 features selected for SS 03\n",
      "This fold: 31 features selected for SS 05\n",
      "This fold: 11 features selected for SS 08\n",
      "~~~~~~~~~~~~~~~~~~~~~~~~~~~~~~~~~~~~~~~~~~~~~~~~~~~~~~~\n",
      "\n",
      "**************************** Iteration 76 over 100 ***************************** \n",
      "\n",
      "118 train samples, 32 test samples\n"
     ]
    },
    {
     "name": "stderr",
     "output_type": "stream",
     "text": [
      "                                                               31<00:00,  1.88s/it]\r"
     ]
    },
    {
     "name": "stdout",
     "output_type": "stream",
     "text": [
      "STABL finished on CyTOF (118 samples); 3 features selected\n",
      "\n"
     ]
    },
    {
     "name": "stderr",
     "output_type": "stream",
     "text": [
      "                                                               12<00:00,  6.86s/it]\r"
     ]
    },
    {
     "name": "stdout",
     "output_type": "stream",
     "text": [
      "STABL finished on Proteomics (118 samples); 17 features selected\n",
      "\n"
     ]
    },
    {
     "name": "stderr",
     "output_type": "stream",
     "text": [
      "                                                               39<00:00, 17.41s/it]\r"
     ]
    },
    {
     "name": "stdout",
     "output_type": "stream",
     "text": [
      "STABL finished on Metabolomics (118 samples); 11 features selected\n",
      "\n"
     ]
    },
    {
     "name": "stderr",
     "output_type": "stream",
     "text": [
      "                                                               58<00:00, 12.08s/it]\r"
     ]
    },
    {
     "name": "stdout",
     "output_type": "stream",
     "text": [
      "~~~~~~~~~~~~~~~~~~~~~~~~~~~~~~~~~~~~~~~~~~~~~~~~~~~~~~~\n",
      "This fold: 31 features selected for STABL\n",
      "This fold: 91 features selected for SS 03\n",
      "This fold: 39 features selected for SS 05\n",
      "This fold: 10 features selected for SS 08\n",
      "~~~~~~~~~~~~~~~~~~~~~~~~~~~~~~~~~~~~~~~~~~~~~~~~~~~~~~~\n",
      "\n",
      "**************************** Iteration 77 over 100 ***************************** \n",
      "\n",
      "121 train samples, 29 test samples\n"
     ]
    },
    {
     "name": "stderr",
     "output_type": "stream",
     "text": [
      "                                                               34<00:00,  1.80s/it]\r"
     ]
    },
    {
     "name": "stdout",
     "output_type": "stream",
     "text": [
      "STABL finished on CyTOF (121 samples); 3 features selected\n",
      "\n"
     ]
    },
    {
     "name": "stderr",
     "output_type": "stream",
     "text": [
      "                                                               14<00:00,  7.08s/it]\r"
     ]
    },
    {
     "name": "stdout",
     "output_type": "stream",
     "text": [
      "STABL finished on Proteomics (121 samples); 12 features selected\n",
      "\n"
     ]
    },
    {
     "name": "stderr",
     "output_type": "stream",
     "text": [
      "                                                               11<00:00, 17.78s/it]\r"
     ]
    },
    {
     "name": "stdout",
     "output_type": "stream",
     "text": [
      "STABL finished on Metabolomics (121 samples); 12 features selected\n",
      "\n"
     ]
    },
    {
     "name": "stderr",
     "output_type": "stream",
     "text": [
      "                                                               09<00:00, 12.76s/it]\r"
     ]
    },
    {
     "name": "stdout",
     "output_type": "stream",
     "text": [
      "~~~~~~~~~~~~~~~~~~~~~~~~~~~~~~~~~~~~~~~~~~~~~~~~~~~~~~~\n",
      "This fold: 27 features selected for STABL\n",
      "This fold: 81 features selected for SS 03\n",
      "This fold: 34 features selected for SS 05\n",
      "This fold: 12 features selected for SS 08\n",
      "~~~~~~~~~~~~~~~~~~~~~~~~~~~~~~~~~~~~~~~~~~~~~~~~~~~~~~~\n",
      "\n",
      "**************************** Iteration 78 over 100 ***************************** \n",
      "\n",
      "122 train samples, 28 test samples\n"
     ]
    },
    {
     "name": "stderr",
     "output_type": "stream",
     "text": [
      "                                                               43<00:00,  2.20s/it]\r"
     ]
    },
    {
     "name": "stdout",
     "output_type": "stream",
     "text": [
      "STABL finished on CyTOF (122 samples); 3 features selected\n",
      "\n"
     ]
    },
    {
     "name": "stderr",
     "output_type": "stream",
     "text": [
      "                                                               27<00:00,  8.47s/it]\r"
     ]
    },
    {
     "name": "stdout",
     "output_type": "stream",
     "text": [
      "STABL finished on Proteomics (122 samples); 11 features selected\n",
      "\n"
     ]
    },
    {
     "name": "stderr",
     "output_type": "stream",
     "text": [
      "                                                               20<00:00, 19.04s/it]\r"
     ]
    },
    {
     "name": "stdout",
     "output_type": "stream",
     "text": [
      "STABL finished on Metabolomics (122 samples); 5 features selected\n",
      "\n"
     ]
    },
    {
     "name": "stderr",
     "output_type": "stream",
     "text": [
      "                                                               22<00:00, 13.97s/it]\r"
     ]
    },
    {
     "name": "stdout",
     "output_type": "stream",
     "text": [
      "~~~~~~~~~~~~~~~~~~~~~~~~~~~~~~~~~~~~~~~~~~~~~~~~~~~~~~~\n",
      "This fold: 19 features selected for STABL\n",
      "This fold: 76 features selected for SS 03\n",
      "This fold: 28 features selected for SS 05\n",
      "This fold: 10 features selected for SS 08\n",
      "~~~~~~~~~~~~~~~~~~~~~~~~~~~~~~~~~~~~~~~~~~~~~~~~~~~~~~~\n",
      "\n",
      "**************************** Iteration 79 over 100 ***************************** \n",
      "\n",
      "121 train samples, 29 test samples\n"
     ]
    },
    {
     "name": "stderr",
     "output_type": "stream",
     "text": [
      "                                                               42<00:00,  1.93s/it]\r"
     ]
    },
    {
     "name": "stdout",
     "output_type": "stream",
     "text": [
      "STABL finished on CyTOF (121 samples); 2 features selected\n",
      "\n"
     ]
    },
    {
     "name": "stderr",
     "output_type": "stream",
     "text": [
      "                                                               28<00:00,  8.57s/it]\r"
     ]
    },
    {
     "name": "stdout",
     "output_type": "stream",
     "text": [
      "STABL finished on Proteomics (121 samples); 10 features selected\n",
      "\n"
     ]
    },
    {
     "name": "stderr",
     "output_type": "stream",
     "text": [
      "                                                               10<00:00, 18.07s/it]\r"
     ]
    },
    {
     "name": "stdout",
     "output_type": "stream",
     "text": [
      "STABL finished on Metabolomics (121 samples); 9 features selected\n",
      "\n"
     ]
    },
    {
     "name": "stderr",
     "output_type": "stream",
     "text": [
      "                                                               00<00:00, 12.07s/it]\r"
     ]
    },
    {
     "name": "stdout",
     "output_type": "stream",
     "text": [
      "~~~~~~~~~~~~~~~~~~~~~~~~~~~~~~~~~~~~~~~~~~~~~~~~~~~~~~~\n",
      "This fold: 21 features selected for STABL\n",
      "This fold: 83 features selected for SS 03\n",
      "This fold: 31 features selected for SS 05\n",
      "This fold: 12 features selected for SS 08\n",
      "~~~~~~~~~~~~~~~~~~~~~~~~~~~~~~~~~~~~~~~~~~~~~~~~~~~~~~~\n",
      "\n",
      "**************************** Iteration 80 over 100 ***************************** \n",
      "\n",
      "117 train samples, 33 test samples\n"
     ]
    },
    {
     "name": "stderr",
     "output_type": "stream",
     "text": [
      "                                                               38<00:00,  1.57s/it]\r"
     ]
    },
    {
     "name": "stdout",
     "output_type": "stream",
     "text": [
      "STABL finished on CyTOF (117 samples); 3 features selected\n",
      "\n"
     ]
    },
    {
     "name": "stderr",
     "output_type": "stream",
     "text": [
      "                                                               16<00:00,  7.60s/it]\r"
     ]
    },
    {
     "name": "stdout",
     "output_type": "stream",
     "text": [
      "STABL finished on Proteomics (117 samples); 11 features selected\n",
      "\n"
     ]
    },
    {
     "name": "stderr",
     "output_type": "stream",
     "text": [
      "                                                               20<00:00, 17.49s/it]\r"
     ]
    },
    {
     "name": "stdout",
     "output_type": "stream",
     "text": [
      "STABL finished on Metabolomics (117 samples); 11 features selected\n",
      "\n"
     ]
    },
    {
     "name": "stderr",
     "output_type": "stream",
     "text": [
      "                                                               04<00:00, 12.02s/it]\r"
     ]
    },
    {
     "name": "stdout",
     "output_type": "stream",
     "text": [
      "~~~~~~~~~~~~~~~~~~~~~~~~~~~~~~~~~~~~~~~~~~~~~~~~~~~~~~~\n",
      "This fold: 25 features selected for STABL\n",
      "This fold: 87 features selected for SS 03\n",
      "This fold: 34 features selected for SS 05\n",
      "This fold: 11 features selected for SS 08\n",
      "~~~~~~~~~~~~~~~~~~~~~~~~~~~~~~~~~~~~~~~~~~~~~~~~~~~~~~~\n",
      "\n",
      "**************************** Iteration 81 over 100 ***************************** \n",
      "\n",
      "119 train samples, 31 test samples\n"
     ]
    },
    {
     "name": "stderr",
     "output_type": "stream",
     "text": [
      "                                                               31<00:00,  1.52s/it]\r"
     ]
    },
    {
     "name": "stdout",
     "output_type": "stream",
     "text": [
      "STABL finished on CyTOF (119 samples); 3 features selected\n",
      "\n"
     ]
    },
    {
     "name": "stderr",
     "output_type": "stream",
     "text": [
      "                                                               21<00:00,  8.04s/it]\r"
     ]
    },
    {
     "name": "stdout",
     "output_type": "stream",
     "text": [
      "STABL finished on Proteomics (119 samples); 16 features selected\n",
      "\n"
     ]
    },
    {
     "name": "stderr",
     "output_type": "stream",
     "text": [
      "                                                               12<00:00, 18.07s/it]\r"
     ]
    },
    {
     "name": "stdout",
     "output_type": "stream",
     "text": [
      "STABL finished on Metabolomics (119 samples); 8 features selected\n",
      "\n"
     ]
    },
    {
     "name": "stderr",
     "output_type": "stream",
     "text": [
      "                                                               08<00:00, 12.67s/it]\r"
     ]
    },
    {
     "name": "stdout",
     "output_type": "stream",
     "text": [
      "~~~~~~~~~~~~~~~~~~~~~~~~~~~~~~~~~~~~~~~~~~~~~~~~~~~~~~~\n",
      "This fold: 27 features selected for STABL\n",
      "This fold: 80 features selected for SS 03\n",
      "This fold: 34 features selected for SS 05\n",
      "This fold: 13 features selected for SS 08\n",
      "~~~~~~~~~~~~~~~~~~~~~~~~~~~~~~~~~~~~~~~~~~~~~~~~~~~~~~~\n",
      "\n",
      "**************************** Iteration 82 over 100 ***************************** \n",
      "\n",
      "118 train samples, 32 test samples\n"
     ]
    },
    {
     "name": "stderr",
     "output_type": "stream",
     "text": [
      "                                                               33<00:00,  1.60s/it]\r"
     ]
    },
    {
     "name": "stdout",
     "output_type": "stream",
     "text": [
      "STABL finished on CyTOF (118 samples); 6 features selected\n",
      "\n"
     ]
    },
    {
     "name": "stderr",
     "output_type": "stream",
     "text": [
      "                                                               25<00:00,  8.40s/it]\r"
     ]
    },
    {
     "name": "stdout",
     "output_type": "stream",
     "text": [
      "STABL finished on Proteomics (118 samples); 12 features selected\n",
      "\n"
     ]
    },
    {
     "name": "stderr",
     "output_type": "stream",
     "text": [
      "                                                               08<00:00, 17.16s/it]\r"
     ]
    },
    {
     "name": "stdout",
     "output_type": "stream",
     "text": [
      "STABL finished on Metabolomics (118 samples); 6 features selected\n",
      "\n"
     ]
    },
    {
     "name": "stderr",
     "output_type": "stream",
     "text": [
      "                                                               59<00:00, 11.87s/it]\r"
     ]
    },
    {
     "name": "stdout",
     "output_type": "stream",
     "text": [
      "~~~~~~~~~~~~~~~~~~~~~~~~~~~~~~~~~~~~~~~~~~~~~~~~~~~~~~~\n",
      "This fold: 24 features selected for STABL\n",
      "This fold: 77 features selected for SS 03\n",
      "This fold: 34 features selected for SS 05\n",
      "This fold: 11 features selected for SS 08\n",
      "~~~~~~~~~~~~~~~~~~~~~~~~~~~~~~~~~~~~~~~~~~~~~~~~~~~~~~~\n",
      "\n",
      "**************************** Iteration 83 over 100 ***************************** \n",
      "\n",
      "120 train samples, 30 test samples\n"
     ]
    },
    {
     "name": "stderr",
     "output_type": "stream",
     "text": [
      "                                                               35<00:00,  1.70s/it]\r"
     ]
    },
    {
     "name": "stdout",
     "output_type": "stream",
     "text": [
      "STABL finished on CyTOF (120 samples); 2 features selected\n",
      "\n"
     ]
    },
    {
     "name": "stderr",
     "output_type": "stream",
     "text": [
      "                                                               27<00:00,  8.75s/it]\r"
     ]
    },
    {
     "name": "stdout",
     "output_type": "stream",
     "text": [
      "STABL finished on Proteomics (120 samples); 14 features selected\n",
      "\n"
     ]
    },
    {
     "name": "stderr",
     "output_type": "stream",
     "text": [
      "                                                               15<00:00, 18.22s/it]\r"
     ]
    },
    {
     "name": "stdout",
     "output_type": "stream",
     "text": [
      "STABL finished on Metabolomics (120 samples); 7 features selected\n",
      "\n"
     ]
    },
    {
     "name": "stderr",
     "output_type": "stream",
     "text": [
      "                                                               04<00:00, 12.31s/it]\r"
     ]
    },
    {
     "name": "stdout",
     "output_type": "stream",
     "text": [
      "~~~~~~~~~~~~~~~~~~~~~~~~~~~~~~~~~~~~~~~~~~~~~~~~~~~~~~~\n",
      "This fold: 23 features selected for STABL\n",
      "This fold: 86 features selected for SS 03\n",
      "This fold: 41 features selected for SS 05\n",
      "This fold: 9 features selected for SS 08\n",
      "~~~~~~~~~~~~~~~~~~~~~~~~~~~~~~~~~~~~~~~~~~~~~~~~~~~~~~~\n",
      "\n",
      "**************************** Iteration 84 over 100 ***************************** \n",
      "\n",
      "119 train samples, 31 test samples\n"
     ]
    },
    {
     "name": "stderr",
     "output_type": "stream",
     "text": [
      "                                                               27<00:00,  1.40s/it]\r"
     ]
    },
    {
     "name": "stdout",
     "output_type": "stream",
     "text": [
      "STABL finished on CyTOF (119 samples); 5 features selected\n",
      "\n"
     ]
    },
    {
     "name": "stderr",
     "output_type": "stream",
     "text": [
      "                                                               25<00:00,  8.45s/it]\r"
     ]
    },
    {
     "name": "stdout",
     "output_type": "stream",
     "text": [
      "STABL finished on Proteomics (119 samples); 11 features selected\n",
      "\n"
     ]
    },
    {
     "name": "stderr",
     "output_type": "stream",
     "text": [
      "                                                               10<00:00, 17.13s/it]\r"
     ]
    },
    {
     "name": "stdout",
     "output_type": "stream",
     "text": [
      "STABL finished on Metabolomics (119 samples); 8 features selected\n",
      "\n"
     ]
    },
    {
     "name": "stderr",
     "output_type": "stream",
     "text": [
      "                                                               15<00:00, 13.77s/it]\r"
     ]
    },
    {
     "name": "stdout",
     "output_type": "stream",
     "text": [
      "~~~~~~~~~~~~~~~~~~~~~~~~~~~~~~~~~~~~~~~~~~~~~~~~~~~~~~~\n",
      "This fold: 24 features selected for STABL\n",
      "This fold: 82 features selected for SS 03\n",
      "This fold: 30 features selected for SS 05\n",
      "This fold: 10 features selected for SS 08\n",
      "~~~~~~~~~~~~~~~~~~~~~~~~~~~~~~~~~~~~~~~~~~~~~~~~~~~~~~~\n",
      "\n",
      "**************************** Iteration 85 over 100 ***************************** \n",
      "\n",
      "118 train samples, 32 test samples\n"
     ]
    },
    {
     "name": "stderr",
     "output_type": "stream",
     "text": [
      "                                                               04<00:00,  3.63s/it]\r"
     ]
    },
    {
     "name": "stdout",
     "output_type": "stream",
     "text": [
      "STABL finished on CyTOF (118 samples); 3 features selected\n",
      "\n"
     ]
    },
    {
     "name": "stderr",
     "output_type": "stream",
     "text": [
      "                                                               04<00:00, 12.61s/it]\r"
     ]
    },
    {
     "name": "stdout",
     "output_type": "stream",
     "text": [
      "STABL finished on Proteomics (118 samples); 9 features selected\n",
      "\n"
     ]
    },
    {
     "name": "stderr",
     "output_type": "stream",
     "text": [
      "                                                               30<00:00, 18.47s/it]\r"
     ]
    },
    {
     "name": "stdout",
     "output_type": "stream",
     "text": [
      "STABL finished on Metabolomics (118 samples); 12 features selected\n",
      "\n"
     ]
    },
    {
     "name": "stderr",
     "output_type": "stream",
     "text": [
      "                                                               29<00:00, 13.39s/it]\r"
     ]
    },
    {
     "name": "stdout",
     "output_type": "stream",
     "text": [
      "~~~~~~~~~~~~~~~~~~~~~~~~~~~~~~~~~~~~~~~~~~~~~~~~~~~~~~~\n",
      "This fold: 24 features selected for STABL\n",
      "This fold: 79 features selected for SS 03\n",
      "This fold: 36 features selected for SS 05\n",
      "This fold: 9 features selected for SS 08\n",
      "~~~~~~~~~~~~~~~~~~~~~~~~~~~~~~~~~~~~~~~~~~~~~~~~~~~~~~~\n",
      "\n",
      "**************************** Iteration 86 over 100 ***************************** \n",
      "\n",
      "122 train samples, 28 test samples\n"
     ]
    },
    {
     "name": "stderr",
     "output_type": "stream",
     "text": [
      "                                                               07<00:00,  3.20s/it]\r"
     ]
    },
    {
     "name": "stdout",
     "output_type": "stream",
     "text": [
      "STABL finished on CyTOF (122 samples); 3 features selected\n",
      "\n"
     ]
    },
    {
     "name": "stderr",
     "output_type": "stream",
     "text": [
      "                                                               53<00:00, 11.41s/it]\r"
     ]
    },
    {
     "name": "stdout",
     "output_type": "stream",
     "text": [
      "STABL finished on Proteomics (122 samples); 15 features selected\n",
      "\n"
     ]
    },
    {
     "name": "stderr",
     "output_type": "stream",
     "text": [
      "                                                               18<00:00, 17.69s/it]\r"
     ]
    },
    {
     "name": "stdout",
     "output_type": "stream",
     "text": [
      "STABL finished on Metabolomics (122 samples); 10 features selected\n",
      "\n"
     ]
    },
    {
     "name": "stderr",
     "output_type": "stream",
     "text": [
      "                                                               08<00:00, 12.73s/it]\r"
     ]
    },
    {
     "name": "stdout",
     "output_type": "stream",
     "text": [
      "~~~~~~~~~~~~~~~~~~~~~~~~~~~~~~~~~~~~~~~~~~~~~~~~~~~~~~~\n",
      "This fold: 28 features selected for STABL\n",
      "This fold: 89 features selected for SS 03\n",
      "This fold: 34 features selected for SS 05\n",
      "This fold: 9 features selected for SS 08\n",
      "~~~~~~~~~~~~~~~~~~~~~~~~~~~~~~~~~~~~~~~~~~~~~~~~~~~~~~~\n",
      "\n",
      "**************************** Iteration 87 over 100 ***************************** \n",
      "\n",
      "117 train samples, 33 test samples\n"
     ]
    },
    {
     "name": "stderr",
     "output_type": "stream",
     "text": [
      "                                                               43<00:00,  1.83s/it]\r"
     ]
    },
    {
     "name": "stdout",
     "output_type": "stream",
     "text": [
      "STABL finished on CyTOF (117 samples); 2 features selected\n",
      "\n"
     ]
    },
    {
     "name": "stderr",
     "output_type": "stream",
     "text": [
      "                                                               48<00:00, 10.74s/it]\r"
     ]
    },
    {
     "name": "stdout",
     "output_type": "stream",
     "text": [
      "STABL finished on Proteomics (117 samples); 13 features selected\n",
      "\n"
     ]
    },
    {
     "name": "stderr",
     "output_type": "stream",
     "text": [
      "                                                               28<00:00, 18.44s/it]\r"
     ]
    },
    {
     "name": "stdout",
     "output_type": "stream",
     "text": [
      "STABL finished on Metabolomics (117 samples); 10 features selected\n",
      "\n"
     ]
    },
    {
     "name": "stderr",
     "output_type": "stream",
     "text": [
      "                                                               23<00:00, 12.83s/it]\r"
     ]
    },
    {
     "name": "stdout",
     "output_type": "stream",
     "text": [
      "~~~~~~~~~~~~~~~~~~~~~~~~~~~~~~~~~~~~~~~~~~~~~~~~~~~~~~~\n",
      "This fold: 25 features selected for STABL\n",
      "This fold: 82 features selected for SS 03\n",
      "This fold: 24 features selected for SS 05\n",
      "This fold: 8 features selected for SS 08\n",
      "~~~~~~~~~~~~~~~~~~~~~~~~~~~~~~~~~~~~~~~~~~~~~~~~~~~~~~~\n",
      "\n",
      "**************************** Iteration 88 over 100 ***************************** \n",
      "\n",
      "117 train samples, 33 test samples\n"
     ]
    },
    {
     "name": "stderr",
     "output_type": "stream",
     "text": [
      "                                                               57<00:00,  2.24s/it]\r"
     ]
    },
    {
     "name": "stdout",
     "output_type": "stream",
     "text": [
      "STABL finished on CyTOF (117 samples); 2 features selected\n",
      "\n"
     ]
    },
    {
     "name": "stderr",
     "output_type": "stream",
     "text": [
      "                                                               56<00:00, 11.63s/it]\r"
     ]
    },
    {
     "name": "stdout",
     "output_type": "stream",
     "text": [
      "STABL finished on Proteomics (117 samples); 11 features selected\n",
      "\n"
     ]
    },
    {
     "name": "stderr",
     "output_type": "stream",
     "text": [
      "                                                                   <00:00, 1363.85s/it]\r"
     ]
    },
    {
     "name": "stdout",
     "output_type": "stream",
     "text": [
      "STABL finished on Metabolomics (117 samples); 5 features selected\n",
      "\n"
     ]
    },
    {
     "name": "stderr",
     "output_type": "stream",
     "text": [
      "                                                               29<00:00, 12.77s/it]\r"
     ]
    },
    {
     "name": "stdout",
     "output_type": "stream",
     "text": [
      "~~~~~~~~~~~~~~~~~~~~~~~~~~~~~~~~~~~~~~~~~~~~~~~~~~~~~~~\n",
      "This fold: 18 features selected for STABL\n",
      "This fold: 88 features selected for SS 03\n",
      "This fold: 35 features selected for SS 05\n",
      "This fold: 11 features selected for SS 08\n",
      "~~~~~~~~~~~~~~~~~~~~~~~~~~~~~~~~~~~~~~~~~~~~~~~~~~~~~~~\n",
      "\n",
      "**************************** Iteration 89 over 100 ***************************** \n",
      "\n",
      "120 train samples, 30 test samples\n"
     ]
    },
    {
     "name": "stderr",
     "output_type": "stream",
     "text": [
      "                                                               49<00:00,  2.41s/it]\r"
     ]
    },
    {
     "name": "stdout",
     "output_type": "stream",
     "text": [
      "STABL finished on CyTOF (120 samples); 6 features selected\n",
      "\n"
     ]
    },
    {
     "name": "stderr",
     "output_type": "stream",
     "text": [
      "                                                               24<00:00,  7.98s/it]\r"
     ]
    },
    {
     "name": "stdout",
     "output_type": "stream",
     "text": [
      "STABL finished on Proteomics (120 samples); 21 features selected\n",
      "\n"
     ]
    },
    {
     "name": "stderr",
     "output_type": "stream",
     "text": [
      "                                                               43<00:00, 19.20s/it]\r"
     ]
    },
    {
     "name": "stdout",
     "output_type": "stream",
     "text": [
      "STABL finished on Metabolomics (120 samples); 12 features selected\n",
      "\n"
     ]
    },
    {
     "name": "stderr",
     "output_type": "stream",
     "text": [
      "                                                               16<00:00, 13.68s/it]\r"
     ]
    },
    {
     "name": "stdout",
     "output_type": "stream",
     "text": [
      "~~~~~~~~~~~~~~~~~~~~~~~~~~~~~~~~~~~~~~~~~~~~~~~~~~~~~~~\n",
      "This fold: 39 features selected for STABL\n",
      "This fold: 84 features selected for SS 03\n",
      "This fold: 38 features selected for SS 05\n",
      "This fold: 8 features selected for SS 08\n",
      "~~~~~~~~~~~~~~~~~~~~~~~~~~~~~~~~~~~~~~~~~~~~~~~~~~~~~~~\n",
      "\n",
      "**************************** Iteration 90 over 100 ***************************** \n",
      "\n",
      "118 train samples, 32 test samples\n"
     ]
    },
    {
     "name": "stderr",
     "output_type": "stream",
     "text": [
      "                                                               59<00:00,  2.45s/it]\r"
     ]
    },
    {
     "name": "stdout",
     "output_type": "stream",
     "text": [
      "STABL finished on CyTOF (118 samples); 2 features selected\n",
      "\n"
     ]
    },
    {
     "name": "stderr",
     "output_type": "stream",
     "text": [
      "                                                               25<00:00,  8.37s/it]\r"
     ]
    },
    {
     "name": "stdout",
     "output_type": "stream",
     "text": [
      "STABL finished on Proteomics (118 samples); 11 features selected\n",
      "\n"
     ]
    },
    {
     "name": "stderr",
     "output_type": "stream",
     "text": [
      "                                                               13<00:00, 17.71s/it]\r"
     ]
    },
    {
     "name": "stdout",
     "output_type": "stream",
     "text": [
      "STABL finished on Metabolomics (118 samples); 5 features selected\n",
      "\n"
     ]
    },
    {
     "name": "stderr",
     "output_type": "stream",
     "text": [
      "                                                               08<00:00, 12.70s/it]\r"
     ]
    },
    {
     "name": "stdout",
     "output_type": "stream",
     "text": [
      "~~~~~~~~~~~~~~~~~~~~~~~~~~~~~~~~~~~~~~~~~~~~~~~~~~~~~~~\n",
      "This fold: 18 features selected for STABL\n",
      "This fold: 84 features selected for SS 03\n",
      "This fold: 31 features selected for SS 05\n",
      "This fold: 11 features selected for SS 08\n",
      "~~~~~~~~~~~~~~~~~~~~~~~~~~~~~~~~~~~~~~~~~~~~~~~~~~~~~~~\n",
      "\n",
      "**************************** Iteration 91 over 100 ***************************** \n",
      "\n",
      "118 train samples, 32 test samples\n"
     ]
    },
    {
     "name": "stderr",
     "output_type": "stream",
     "text": [
      "                                                               49<00:00,  2.10s/it]\r"
     ]
    },
    {
     "name": "stdout",
     "output_type": "stream",
     "text": [
      "STABL finished on CyTOF (118 samples); 2 features selected\n",
      "\n"
     ]
    },
    {
     "name": "stderr",
     "output_type": "stream",
     "text": [
      "                                                               27<00:00,  8.52s/it]\r"
     ]
    },
    {
     "name": "stdout",
     "output_type": "stream",
     "text": [
      "STABL finished on Proteomics (118 samples); 22 features selected\n",
      "\n"
     ]
    },
    {
     "name": "stderr",
     "output_type": "stream",
     "text": [
      "                                                               15<00:00, 17.37s/it]\r"
     ]
    },
    {
     "name": "stdout",
     "output_type": "stream",
     "text": [
      "STABL finished on Metabolomics (118 samples); 10 features selected\n",
      "\n"
     ]
    },
    {
     "name": "stderr",
     "output_type": "stream",
     "text": [
      "                                                               09<00:00, 13.23s/it]\r"
     ]
    },
    {
     "name": "stdout",
     "output_type": "stream",
     "text": [
      "~~~~~~~~~~~~~~~~~~~~~~~~~~~~~~~~~~~~~~~~~~~~~~~~~~~~~~~\n",
      "This fold: 34 features selected for STABL\n",
      "This fold: 80 features selected for SS 03\n",
      "This fold: 36 features selected for SS 05\n",
      "This fold: 11 features selected for SS 08\n",
      "~~~~~~~~~~~~~~~~~~~~~~~~~~~~~~~~~~~~~~~~~~~~~~~~~~~~~~~\n",
      "\n",
      "**************************** Iteration 92 over 100 ***************************** \n",
      "\n",
      "122 train samples, 28 test samples\n"
     ]
    },
    {
     "name": "stderr",
     "output_type": "stream",
     "text": [
      "                                                               46<00:00,  2.13s/it]\r"
     ]
    },
    {
     "name": "stdout",
     "output_type": "stream",
     "text": [
      "STABL finished on CyTOF (122 samples); 3 features selected\n",
      "\n"
     ]
    },
    {
     "name": "stderr",
     "output_type": "stream",
     "text": [
      "                                                               35<00:00,  9.27s/it]\r"
     ]
    },
    {
     "name": "stdout",
     "output_type": "stream",
     "text": [
      "STABL finished on Proteomics (122 samples); 9 features selected\n",
      "\n"
     ]
    },
    {
     "name": "stderr",
     "output_type": "stream",
     "text": [
      "                                                               16<00:00, 17.46s/it]\r"
     ]
    },
    {
     "name": "stdout",
     "output_type": "stream",
     "text": [
      "STABL finished on Metabolomics (122 samples); 5 features selected\n",
      "\n"
     ]
    },
    {
     "name": "stderr",
     "output_type": "stream",
     "text": [
      "                                                               09<00:00, 12.79s/it]\r"
     ]
    },
    {
     "name": "stdout",
     "output_type": "stream",
     "text": [
      "~~~~~~~~~~~~~~~~~~~~~~~~~~~~~~~~~~~~~~~~~~~~~~~~~~~~~~~\n",
      "This fold: 17 features selected for STABL\n",
      "This fold: 94 features selected for SS 03\n",
      "This fold: 31 features selected for SS 05\n",
      "This fold: 10 features selected for SS 08\n",
      "~~~~~~~~~~~~~~~~~~~~~~~~~~~~~~~~~~~~~~~~~~~~~~~~~~~~~~~\n",
      "\n",
      "**************************** Iteration 93 over 100 ***************************** \n",
      "\n",
      "119 train samples, 31 test samples\n"
     ]
    },
    {
     "name": "stderr",
     "output_type": "stream",
     "text": [
      "                                                               45<00:00,  2.03s/it]\r"
     ]
    },
    {
     "name": "stdout",
     "output_type": "stream",
     "text": [
      "STABL finished on CyTOF (119 samples); 3 features selected\n",
      "\n"
     ]
    },
    {
     "name": "stderr",
     "output_type": "stream",
     "text": [
      "                                                               26<00:00,  8.51s/it]\r"
     ]
    },
    {
     "name": "stdout",
     "output_type": "stream",
     "text": [
      "STABL finished on Proteomics (119 samples); 14 features selected\n",
      "\n"
     ]
    },
    {
     "name": "stderr",
     "output_type": "stream",
     "text": [
      "                                                               15<00:00, 17.43s/it]\r"
     ]
    },
    {
     "name": "stdout",
     "output_type": "stream",
     "text": [
      "STABL finished on Metabolomics (119 samples); 12 features selected\n",
      "\n"
     ]
    },
    {
     "name": "stderr",
     "output_type": "stream",
     "text": [
      "                                                               08<00:00, 12.72s/it]\r"
     ]
    },
    {
     "name": "stdout",
     "output_type": "stream",
     "text": [
      "~~~~~~~~~~~~~~~~~~~~~~~~~~~~~~~~~~~~~~~~~~~~~~~~~~~~~~~\n",
      "This fold: 29 features selected for STABL\n",
      "This fold: 75 features selected for SS 03\n",
      "This fold: 32 features selected for SS 05\n",
      "This fold: 8 features selected for SS 08\n",
      "~~~~~~~~~~~~~~~~~~~~~~~~~~~~~~~~~~~~~~~~~~~~~~~~~~~~~~~\n",
      "\n",
      "**************************** Iteration 94 over 100 ***************************** \n",
      "\n",
      "122 train samples, 28 test samples\n"
     ]
    },
    {
     "name": "stderr",
     "output_type": "stream",
     "text": [
      "                                                               50<00:00,  2.79s/it]\r"
     ]
    },
    {
     "name": "stdout",
     "output_type": "stream",
     "text": [
      "STABL finished on CyTOF (122 samples); 3 features selected\n",
      "\n"
     ]
    },
    {
     "name": "stderr",
     "output_type": "stream",
     "text": [
      "                                                               33<00:00,  9.09s/it]\r"
     ]
    },
    {
     "name": "stdout",
     "output_type": "stream",
     "text": [
      "STABL finished on Proteomics (122 samples); 17 features selected\n",
      "\n"
     ]
    },
    {
     "name": "stderr",
     "output_type": "stream",
     "text": [
      "                                                               23<00:00, 18.34s/it]\r"
     ]
    },
    {
     "name": "stdout",
     "output_type": "stream",
     "text": [
      "STABL finished on Metabolomics (122 samples); 6 features selected\n",
      "\n"
     ]
    },
    {
     "name": "stderr",
     "output_type": "stream",
     "text": [
      "                                                               16<00:00, 13.48s/it]\r"
     ]
    },
    {
     "name": "stdout",
     "output_type": "stream",
     "text": [
      "~~~~~~~~~~~~~~~~~~~~~~~~~~~~~~~~~~~~~~~~~~~~~~~~~~~~~~~\n",
      "This fold: 26 features selected for STABL\n",
      "This fold: 93 features selected for SS 03\n",
      "This fold: 37 features selected for SS 05\n",
      "This fold: 9 features selected for SS 08\n",
      "~~~~~~~~~~~~~~~~~~~~~~~~~~~~~~~~~~~~~~~~~~~~~~~~~~~~~~~\n",
      "\n",
      "**************************** Iteration 95 over 100 ***************************** \n",
      "\n",
      "118 train samples, 32 test samples\n"
     ]
    },
    {
     "name": "stderr",
     "output_type": "stream",
     "text": [
      "                                                               43<00:00,  2.04s/it]\r"
     ]
    },
    {
     "name": "stdout",
     "output_type": "stream",
     "text": [
      "STABL finished on CyTOF (118 samples); 4 features selected\n",
      "\n"
     ]
    },
    {
     "name": "stderr",
     "output_type": "stream",
     "text": [
      "                                                               01<00:00, 12.03s/it]\r"
     ]
    },
    {
     "name": "stdout",
     "output_type": "stream",
     "text": [
      "STABL finished on Proteomics (118 samples); 24 features selected\n",
      "\n"
     ]
    },
    {
     "name": "stderr",
     "output_type": "stream",
     "text": [
      "                                                               10<00:00, 17.63s/it]\r"
     ]
    },
    {
     "name": "stdout",
     "output_type": "stream",
     "text": [
      "STABL finished on Metabolomics (118 samples); 10 features selected\n",
      "\n"
     ]
    },
    {
     "name": "stderr",
     "output_type": "stream",
     "text": [
      "                                                               13<00:00, 13.31s/it]\r"
     ]
    },
    {
     "name": "stdout",
     "output_type": "stream",
     "text": [
      "~~~~~~~~~~~~~~~~~~~~~~~~~~~~~~~~~~~~~~~~~~~~~~~~~~~~~~~\n",
      "This fold: 38 features selected for STABL\n",
      "This fold: 86 features selected for SS 03\n",
      "This fold: 36 features selected for SS 05\n",
      "This fold: 12 features selected for SS 08\n",
      "~~~~~~~~~~~~~~~~~~~~~~~~~~~~~~~~~~~~~~~~~~~~~~~~~~~~~~~\n",
      "\n",
      "**************************** Iteration 96 over 100 ***************************** \n",
      "\n",
      "121 train samples, 29 test samples\n"
     ]
    },
    {
     "name": "stderr",
     "output_type": "stream",
     "text": [
      "                                                               43<00:00,  1.90s/it]\r"
     ]
    },
    {
     "name": "stdout",
     "output_type": "stream",
     "text": [
      "STABL finished on CyTOF (121 samples); 1 features selected\n",
      "\n"
     ]
    },
    {
     "name": "stderr",
     "output_type": "stream",
     "text": [
      "                                                               54<00:00, 11.37s/it]\r"
     ]
    },
    {
     "name": "stdout",
     "output_type": "stream",
     "text": [
      "STABL finished on Proteomics (121 samples); 9 features selected\n",
      "\n"
     ]
    },
    {
     "name": "stderr",
     "output_type": "stream",
     "text": [
      "                                                               13<00:00, 17.36s/it]\r"
     ]
    },
    {
     "name": "stdout",
     "output_type": "stream",
     "text": [
      "STABL finished on Metabolomics (121 samples); 10 features selected\n",
      "\n"
     ]
    },
    {
     "name": "stderr",
     "output_type": "stream",
     "text": [
      "                                                               10<00:00, 13.14s/it]\r"
     ]
    },
    {
     "name": "stdout",
     "output_type": "stream",
     "text": [
      "~~~~~~~~~~~~~~~~~~~~~~~~~~~~~~~~~~~~~~~~~~~~~~~~~~~~~~~\n",
      "This fold: 20 features selected for STABL\n",
      "This fold: 85 features selected for SS 03\n",
      "This fold: 31 features selected for SS 05\n",
      "This fold: 8 features selected for SS 08\n",
      "~~~~~~~~~~~~~~~~~~~~~~~~~~~~~~~~~~~~~~~~~~~~~~~~~~~~~~~\n",
      "\n",
      "**************************** Iteration 97 over 100 ***************************** \n",
      "\n",
      "119 train samples, 31 test samples\n"
     ]
    },
    {
     "name": "stderr",
     "output_type": "stream",
     "text": [
      "                                                               48<00:00,  2.22s/it]\r"
     ]
    },
    {
     "name": "stdout",
     "output_type": "stream",
     "text": [
      "STABL finished on CyTOF (119 samples); 4 features selected\n",
      "\n"
     ]
    },
    {
     "name": "stderr",
     "output_type": "stream",
     "text": [
      "                                                               56<00:00, 11.59s/it]\r"
     ]
    },
    {
     "name": "stdout",
     "output_type": "stream",
     "text": [
      "STABL finished on Proteomics (119 samples); 14 features selected\n",
      "\n"
     ]
    },
    {
     "name": "stderr",
     "output_type": "stream",
     "text": [
      "                                                               04<00:00, 16.97s/it]\r"
     ]
    },
    {
     "name": "stdout",
     "output_type": "stream",
     "text": [
      "STABL finished on Metabolomics (119 samples); 5 features selected\n",
      "\n"
     ]
    },
    {
     "name": "stderr",
     "output_type": "stream",
     "text": [
      "                                                               09<00:00, 12.99s/it]\r"
     ]
    },
    {
     "name": "stdout",
     "output_type": "stream",
     "text": [
      "~~~~~~~~~~~~~~~~~~~~~~~~~~~~~~~~~~~~~~~~~~~~~~~~~~~~~~~\n",
      "This fold: 23 features selected for STABL\n",
      "This fold: 79 features selected for SS 03\n",
      "This fold: 36 features selected for SS 05\n",
      "This fold: 10 features selected for SS 08\n",
      "~~~~~~~~~~~~~~~~~~~~~~~~~~~~~~~~~~~~~~~~~~~~~~~~~~~~~~~\n",
      "\n",
      "**************************** Iteration 98 over 100 ***************************** \n",
      "\n",
      "119 train samples, 31 test samples\n"
     ]
    },
    {
     "name": "stderr",
     "output_type": "stream",
     "text": [
      "                                                               34<00:00,  1.65s/it]\r"
     ]
    },
    {
     "name": "stdout",
     "output_type": "stream",
     "text": [
      "STABL finished on CyTOF (119 samples); 8 features selected\n",
      "\n"
     ]
    },
    {
     "name": "stderr",
     "output_type": "stream",
     "text": [
      "                                                               58<00:00, 12.36s/it]\r"
     ]
    },
    {
     "name": "stdout",
     "output_type": "stream",
     "text": [
      "STABL finished on Proteomics (119 samples); 15 features selected\n",
      "\n"
     ]
    },
    {
     "name": "stderr",
     "output_type": "stream",
     "text": [
      "                                                               29<00:00, 17.28s/it]\r"
     ]
    },
    {
     "name": "stdout",
     "output_type": "stream",
     "text": [
      "STABL finished on Metabolomics (119 samples); 6 features selected\n",
      "\n"
     ]
    },
    {
     "name": "stderr",
     "output_type": "stream",
     "text": [
      "                                                               12<00:00, 13.03s/it]\r"
     ]
    },
    {
     "name": "stdout",
     "output_type": "stream",
     "text": [
      "~~~~~~~~~~~~~~~~~~~~~~~~~~~~~~~~~~~~~~~~~~~~~~~~~~~~~~~\n",
      "This fold: 29 features selected for STABL\n",
      "This fold: 87 features selected for SS 03\n",
      "This fold: 34 features selected for SS 05\n",
      "This fold: 9 features selected for SS 08\n",
      "~~~~~~~~~~~~~~~~~~~~~~~~~~~~~~~~~~~~~~~~~~~~~~~~~~~~~~~\n",
      "\n",
      "**************************** Iteration 99 over 100 ***************************** \n",
      "\n",
      "120 train samples, 30 test samples\n"
     ]
    },
    {
     "name": "stderr",
     "output_type": "stream",
     "text": [
      "                                                               43<00:00,  1.86s/it]\r"
     ]
    },
    {
     "name": "stdout",
     "output_type": "stream",
     "text": [
      "STABL finished on CyTOF (120 samples); 4 features selected\n",
      "\n"
     ]
    },
    {
     "name": "stderr",
     "output_type": "stream",
     "text": [
      "                                                               52<00:00, 11.20s/it]\r"
     ]
    },
    {
     "name": "stdout",
     "output_type": "stream",
     "text": [
      "STABL finished on Proteomics (120 samples); 6 features selected\n",
      "\n"
     ]
    },
    {
     "name": "stderr",
     "output_type": "stream",
     "text": [
      "                                                               09<00:00, 17.06s/it]\r"
     ]
    },
    {
     "name": "stdout",
     "output_type": "stream",
     "text": [
      "STABL finished on Metabolomics (120 samples); 7 features selected\n",
      "\n"
     ]
    },
    {
     "name": "stderr",
     "output_type": "stream",
     "text": [
      "                                                               11<00:00, 13.08s/it]\r"
     ]
    },
    {
     "name": "stdout",
     "output_type": "stream",
     "text": [
      "~~~~~~~~~~~~~~~~~~~~~~~~~~~~~~~~~~~~~~~~~~~~~~~~~~~~~~~\n",
      "This fold: 17 features selected for STABL\n",
      "This fold: 89 features selected for SS 03\n",
      "This fold: 29 features selected for SS 05\n",
      "This fold: 10 features selected for SS 08\n",
      "~~~~~~~~~~~~~~~~~~~~~~~~~~~~~~~~~~~~~~~~~~~~~~~~~~~~~~~\n",
      "\n",
      "**************************** Iteration 100 over 100 **************************** \n",
      "\n",
      "118 train samples, 32 test samples\n"
     ]
    },
    {
     "name": "stderr",
     "output_type": "stream",
     "text": [
      "                                                               37<00:00,  1.76s/it]\r"
     ]
    },
    {
     "name": "stdout",
     "output_type": "stream",
     "text": [
      "STABL finished on CyTOF (118 samples); 1 features selected\n",
      "\n"
     ]
    },
    {
     "name": "stderr",
     "output_type": "stream",
     "text": [
      "                                                               52<00:00, 11.33s/it]\r"
     ]
    },
    {
     "name": "stdout",
     "output_type": "stream",
     "text": [
      "STABL finished on Proteomics (118 samples); 12 features selected\n",
      "\n"
     ]
    },
    {
     "name": "stderr",
     "output_type": "stream",
     "text": [
      "                                                               12<00:00, 17.07s/it]\r"
     ]
    },
    {
     "name": "stdout",
     "output_type": "stream",
     "text": [
      "STABL finished on Metabolomics (118 samples); 7 features selected\n",
      "\n"
     ]
    },
    {
     "name": "stderr",
     "output_type": "stream",
     "text": [
      "                                                               10<00:00, 13.01s/it]\r"
     ]
    },
    {
     "name": "stdout",
     "output_type": "stream",
     "text": [
      "~~~~~~~~~~~~~~~~~~~~~~~~~~~~~~~~~~~~~~~~~~~~~~~~~~~~~~~\n",
      "This fold: 20 features selected for STABL\n",
      "This fold: 74 features selected for SS 03\n",
      "This fold: 31 features selected for SS 05\n",
      "This fold: 7 features selected for SS 08\n",
      "~~~~~~~~~~~~~~~~~~~~~~~~~~~~~~~~~~~~~~~~~~~~~~~~~~~~~~~\n",
      "\n"
     ]
    }
   ],
   "source": [
    "predictions_dict = multi_omic_stabl_cv(\n",
    "    data_dict=train_data_dict,\n",
    "    y=y_train,\n",
    "    outer_splitter=outer_splitter,\n",
    "    stabl=stabl,\n",
    "    stability_selection=stability_selection,\n",
    "    task_type=\"regression\",\n",
    "    save_path=Path(result_folder, \"Cytof_Prot_Meta\"),\n",
    "    outer_groups=patients_id\n",
    ")"
   ]
  },
  {
   "cell_type": "markdown",
   "id": "90e68587",
   "metadata": {},
   "source": [
    "# Multi-omic Training (Cytof+Prot+Meta)"
   ]
  },
  {
   "cell_type": "code",
   "execution_count": 10,
   "id": "f0dc1407",
   "metadata": {
    "tags": []
   },
   "outputs": [],
   "source": [
    "stabl_multi = Stabl(\n",
    "    base_estimator=lasso,\n",
    "    lambda_name='alpha',\n",
    "    lambda_grid=np.logspace(0, 2, 30),\n",
    "    n_bootstraps=1000,\n",
    "    artificial_proportion=1.,\n",
    "    artificial_type=\"random_permutation\",\n",
    "    replace=False,\n",
    "    fdr_threshold_range=np.arange(0.2, 1, 0.01),\n",
    "    sample_fraction=.5,\n",
    "    random_state=42\n",
    ")\n",
    "\n",
    "stability_selection = clone(stabl_multi).set_params(artificial_type=None, hard_threshold=.1)"
   ]
  },
  {
   "cell_type": "code",
   "execution_count": 11,
   "id": "7266dc63",
   "metadata": {
    "tags": []
   },
   "outputs": [
    {
     "name": "stderr",
     "output_type": "stream",
     "text": [
      "                                                               18<00:00,  4.53s/it]\r"
     ]
    },
    {
     "name": "stdout",
     "output_type": "stream",
     "text": [
      "STABL finished on CyTOF; 2 features selected\n"
     ]
    },
    {
     "name": "stderr",
     "output_type": "stream",
     "text": [
      "                                                               23<00:00, 47.08s/it]\r"
     ]
    },
    {
     "name": "stdout",
     "output_type": "stream",
     "text": [
      "STABL finished on Proteomics; 17 features selected\n"
     ]
    },
    {
     "name": "stderr",
     "output_type": "stream",
     "text": [
      "                                                               14<00:00, 66.34s/it]\r"
     ]
    },
    {
     "name": "stdout",
     "output_type": "stream",
     "text": [
      "STABL finished on Metabolomics; 11 features selected\n"
     ]
    },
    {
     "name": "stderr",
     "output_type": "stream",
     "text": [
      "                                                               58<00:00, 51.38s/it]\r"
     ]
    }
   ],
   "source": [
    "predictions_dict = multi_omic_stabl(\n",
    "    data_dict=train_data_dict,\n",
    "    y=y_train,\n",
    "    stabl=stabl_multi,\n",
    "    stability_selection=stability_selection,\n",
    "    task_type=\"regression\",\n",
    "    save_path=Path(result_folder, \"Cytof_Prot_Meta\"),\n",
    ")"
   ]
  },
  {
   "cell_type": "markdown",
   "id": "4a372416",
   "metadata": {},
   "source": [
    "# Multi-omic Training-Validation (Cytof+Prot)"
   ]
  },
  {
   "cell_type": "code",
   "execution_count": 12,
   "id": "d2b42a8a",
   "metadata": {
    "tags": []
   },
   "outputs": [],
   "source": [
    "stabl_multi = Stabl(\n",
    "    base_estimator=lasso,\n",
    "    lambda_name='alpha',\n",
    "    lambda_grid=np.logspace(0, 2, 30),\n",
    "    n_bootstraps=1000,\n",
    "    artificial_proportion=1.,\n",
    "    artificial_type=\"random_permutation\",\n",
    "    replace=False,\n",
    "    fdr_threshold_range=np.arange(0.2, 1, 0.01),\n",
    "    sample_fraction=.5,\n",
    "    random_state=42\n",
    ")\n",
    "\n",
    "stability_selection = clone(stabl_multi).set_params(artificial_type=None, hard_threshold=.1)"
   ]
  },
  {
   "cell_type": "code",
   "execution_count": 13,
   "id": "34209157",
   "metadata": {
    "tags": []
   },
   "outputs": [
    {
     "name": "stderr",
     "output_type": "stream",
     "text": [
      "                                                               55<00:00,  4.85s/it]\r"
     ]
    },
    {
     "name": "stdout",
     "output_type": "stream",
     "text": [
      "STABL finished on CyTOF; 2 features selected\n"
     ]
    },
    {
     "name": "stderr",
     "output_type": "stream",
     "text": [
      "                                                               25<00:00, 45.67s/it]\r"
     ]
    },
    {
     "name": "stdout",
     "output_type": "stream",
     "text": [
      "STABL finished on Proteomics; 17 features selected\n"
     ]
    },
    {
     "name": "stderr",
     "output_type": "stream",
     "text": [
      "                                                               47<00:00,  5.53s/it]\r"
     ]
    }
   ],
   "source": [
    "predictions_dict = multi_omic_stabl(\n",
    "    data_dict=train_data_dict_red,\n",
    "    y=y_train,\n",
    "    stabl=stabl_multi,\n",
    "    stability_selection=stability_selection,\n",
    "    task_type=\"regression\",\n",
    "    save_path=Path(result_folder, \"Cytof_Prot\"),\n",
    "    X_test=pd.concat(test_data_dict.values(),axis=1),\n",
    "    y_test=y_test\n",
    ")"
   ]
  },
  {
   "cell_type": "markdown",
   "id": "0b99bb77-4834-4fe0-9003-d4cac805ab78",
   "metadata": {},
   "source": [
    "# Late fusion Lasso"
   ]
  },
  {
   "cell_type": "code",
   "execution_count": 14,
   "id": "51f91bc0-678a-4578-8740-99b0656f50e2",
   "metadata": {
    "tags": []
   },
   "outputs": [
    {
     "name": "stdout",
     "output_type": "stream",
     "text": [
      "Omic CyTOF\n",
      "Iteration 1 over 100\n",
      "Iteration 2 over 100\n",
      "Iteration 3 over 100\n",
      "Iteration 4 over 100\n",
      "Iteration 5 over 100\n",
      "Iteration 6 over 100\n",
      "Iteration 7 over 100\n",
      "Iteration 8 over 100\n",
      "Iteration 9 over 100\n",
      "Iteration 10 over 100\n",
      "Iteration 11 over 100\n",
      "Iteration 12 over 100\n",
      "Iteration 13 over 100\n",
      "Iteration 14 over 100\n",
      "Iteration 15 over 100\n",
      "Iteration 16 over 100\n",
      "Iteration 17 over 100\n",
      "Iteration 18 over 100\n",
      "Iteration 19 over 100\n",
      "Iteration 20 over 100\n",
      "Iteration 21 over 100\n",
      "Iteration 22 over 100\n",
      "Iteration 23 over 100\n",
      "Iteration 24 over 100\n",
      "Iteration 25 over 100\n",
      "Iteration 26 over 100\n",
      "Iteration 27 over 100\n",
      "Iteration 28 over 100\n",
      "Iteration 29 over 100\n",
      "Iteration 30 over 100\n",
      "Iteration 31 over 100\n",
      "Iteration 32 over 100\n",
      "Iteration 33 over 100\n",
      "Iteration 34 over 100\n",
      "Iteration 35 over 100\n",
      "Iteration 36 over 100\n",
      "Iteration 37 over 100\n",
      "Iteration 38 over 100\n",
      "Iteration 39 over 100\n",
      "Iteration 40 over 100\n",
      "Iteration 41 over 100\n",
      "Iteration 42 over 100\n",
      "Iteration 43 over 100\n",
      "Iteration 44 over 100\n",
      "Iteration 45 over 100\n",
      "Iteration 46 over 100\n",
      "Iteration 47 over 100\n",
      "Iteration 48 over 100\n",
      "Iteration 49 over 100\n",
      "Iteration 50 over 100\n",
      "Iteration 51 over 100\n",
      "Iteration 52 over 100\n",
      "Iteration 53 over 100\n",
      "Iteration 54 over 100\n",
      "Iteration 55 over 100\n",
      "Iteration 56 over 100\n",
      "Iteration 57 over 100\n",
      "Iteration 58 over 100\n",
      "Iteration 59 over 100\n",
      "Iteration 60 over 100\n",
      "Iteration 61 over 100\n",
      "Iteration 62 over 100\n",
      "Iteration 63 over 100\n",
      "Iteration 64 over 100\n",
      "Iteration 65 over 100\n",
      "Iteration 66 over 100\n",
      "Iteration 67 over 100\n",
      "Iteration 68 over 100\n",
      "Iteration 69 over 100\n",
      "Iteration 70 over 100\n",
      "Iteration 71 over 100\n",
      "Iteration 72 over 100\n",
      "Iteration 73 over 100\n",
      "Iteration 74 over 100\n",
      "Iteration 75 over 100\n",
      "Iteration 76 over 100\n",
      "Iteration 77 over 100\n",
      "Iteration 78 over 100\n",
      "Iteration 79 over 100\n",
      "Iteration 80 over 100\n",
      "Iteration 81 over 100\n",
      "Iteration 82 over 100\n",
      "Iteration 83 over 100\n",
      "Iteration 84 over 100\n",
      "Iteration 85 over 100\n",
      "Iteration 86 over 100\n",
      "Iteration 87 over 100\n",
      "Iteration 88 over 100\n",
      "Iteration 89 over 100\n",
      "Iteration 90 over 100\n",
      "Iteration 91 over 100\n",
      "Iteration 92 over 100\n",
      "Iteration 93 over 100\n",
      "Iteration 94 over 100\n",
      "Iteration 95 over 100\n",
      "Iteration 96 over 100\n",
      "Iteration 97 over 100\n",
      "Iteration 98 over 100\n",
      "Iteration 99 over 100\n",
      "Iteration 100 over 100\n",
      "Omic Proteomics\n",
      "Iteration 1 over 100\n",
      "Iteration 2 over 100\n",
      "Iteration 3 over 100\n",
      "Iteration 4 over 100\n",
      "Iteration 5 over 100\n",
      "Iteration 6 over 100\n",
      "Iteration 7 over 100\n",
      "Iteration 8 over 100\n",
      "Iteration 9 over 100\n",
      "Iteration 10 over 100\n",
      "Iteration 11 over 100\n",
      "Iteration 12 over 100\n",
      "Iteration 13 over 100\n",
      "Iteration 14 over 100\n",
      "Iteration 15 over 100\n",
      "Iteration 16 over 100\n",
      "Iteration 17 over 100\n",
      "Iteration 18 over 100\n",
      "Iteration 19 over 100\n",
      "Iteration 20 over 100\n",
      "Iteration 21 over 100\n",
      "Iteration 22 over 100\n",
      "Iteration 23 over 100\n",
      "Iteration 24 over 100\n",
      "Iteration 25 over 100\n",
      "Iteration 26 over 100\n",
      "Iteration 27 over 100\n",
      "Iteration 28 over 100\n",
      "Iteration 29 over 100\n",
      "Iteration 30 over 100\n",
      "Iteration 31 over 100\n",
      "Iteration 32 over 100\n",
      "Iteration 33 over 100\n",
      "Iteration 34 over 100\n",
      "Iteration 35 over 100\n",
      "Iteration 36 over 100\n",
      "Iteration 37 over 100\n",
      "Iteration 38 over 100\n",
      "Iteration 39 over 100\n",
      "Iteration 40 over 100\n",
      "Iteration 41 over 100\n",
      "Iteration 42 over 100\n",
      "Iteration 43 over 100\n",
      "Iteration 44 over 100\n",
      "Iteration 45 over 100\n",
      "Iteration 46 over 100\n",
      "Iteration 47 over 100\n",
      "Iteration 48 over 100\n",
      "Iteration 49 over 100\n",
      "Iteration 50 over 100\n",
      "Iteration 51 over 100\n",
      "Iteration 52 over 100\n",
      "Iteration 53 over 100\n",
      "Iteration 54 over 100\n",
      "Iteration 55 over 100\n",
      "Iteration 56 over 100\n",
      "Iteration 57 over 100\n",
      "Iteration 58 over 100\n",
      "Iteration 59 over 100\n",
      "Iteration 60 over 100\n",
      "Iteration 61 over 100\n",
      "Iteration 62 over 100\n",
      "Iteration 63 over 100\n",
      "Iteration 64 over 100\n",
      "Iteration 65 over 100\n",
      "Iteration 66 over 100\n",
      "Iteration 67 over 100\n",
      "Iteration 68 over 100\n",
      "Iteration 69 over 100\n",
      "Iteration 70 over 100\n",
      "Iteration 71 over 100\n",
      "Iteration 72 over 100\n",
      "Iteration 73 over 100\n",
      "Iteration 74 over 100\n",
      "Iteration 75 over 100\n",
      "Iteration 76 over 100\n",
      "Iteration 77 over 100\n",
      "Iteration 78 over 100\n",
      "Iteration 79 over 100\n",
      "Iteration 80 over 100\n",
      "Iteration 81 over 100\n",
      "Iteration 82 over 100\n",
      "Iteration 83 over 100\n",
      "Iteration 84 over 100\n",
      "Iteration 85 over 100\n",
      "Iteration 86 over 100\n",
      "Iteration 87 over 100\n",
      "Iteration 88 over 100\n",
      "Iteration 89 over 100\n",
      "Iteration 90 over 100\n",
      "Iteration 91 over 100\n",
      "Iteration 92 over 100\n",
      "Iteration 93 over 100\n",
      "Iteration 94 over 100\n",
      "Iteration 95 over 100\n",
      "Iteration 96 over 100\n",
      "Iteration 97 over 100\n",
      "Iteration 98 over 100\n",
      "Iteration 99 over 100\n",
      "Iteration 100 over 100\n",
      "Omic Metabolomics\n",
      "Iteration 1 over 100\n",
      "Iteration 2 over 100\n",
      "Iteration 3 over 100\n",
      "Iteration 4 over 100\n",
      "Iteration 5 over 100\n",
      "Iteration 6 over 100\n",
      "Iteration 7 over 100\n",
      "Iteration 8 over 100\n",
      "Iteration 9 over 100\n",
      "Iteration 10 over 100\n",
      "Iteration 11 over 100\n",
      "Iteration 12 over 100\n",
      "Iteration 13 over 100\n",
      "Iteration 14 over 100\n",
      "Iteration 15 over 100\n",
      "Iteration 16 over 100\n",
      "Iteration 17 over 100\n",
      "Iteration 18 over 100\n",
      "Iteration 19 over 100\n",
      "Iteration 20 over 100\n",
      "Iteration 21 over 100\n",
      "Iteration 22 over 100\n",
      "Iteration 23 over 100\n",
      "Iteration 24 over 100\n",
      "Iteration 25 over 100\n",
      "Iteration 26 over 100\n",
      "Iteration 27 over 100\n",
      "Iteration 28 over 100\n",
      "Iteration 29 over 100\n",
      "Iteration 30 over 100\n",
      "Iteration 31 over 100\n",
      "Iteration 32 over 100\n",
      "Iteration 33 over 100\n",
      "Iteration 34 over 100\n",
      "Iteration 35 over 100\n",
      "Iteration 36 over 100\n",
      "Iteration 37 over 100\n",
      "Iteration 38 over 100\n",
      "Iteration 39 over 100\n",
      "Iteration 40 over 100\n",
      "Iteration 41 over 100\n",
      "Iteration 42 over 100\n",
      "Iteration 43 over 100\n",
      "Iteration 44 over 100\n",
      "Iteration 45 over 100\n",
      "Iteration 46 over 100\n",
      "Iteration 47 over 100\n",
      "Iteration 48 over 100\n",
      "Iteration 49 over 100\n",
      "Iteration 50 over 100\n",
      "Iteration 51 over 100\n",
      "Iteration 52 over 100\n",
      "Iteration 53 over 100\n",
      "Iteration 54 over 100\n",
      "Iteration 55 over 100\n",
      "Iteration 56 over 100\n",
      "Iteration 57 over 100\n",
      "Iteration 58 over 100\n",
      "Iteration 59 over 100\n",
      "Iteration 60 over 100\n",
      "Iteration 61 over 100\n",
      "Iteration 62 over 100\n",
      "Iteration 63 over 100\n",
      "Iteration 64 over 100\n",
      "Iteration 65 over 100\n",
      "Iteration 66 over 100\n",
      "Iteration 67 over 100\n",
      "Iteration 68 over 100\n",
      "Iteration 69 over 100\n",
      "Iteration 70 over 100\n",
      "Iteration 71 over 100\n",
      "Iteration 72 over 100\n",
      "Iteration 73 over 100\n",
      "Iteration 74 over 100\n",
      "Iteration 75 over 100\n",
      "Iteration 76 over 100\n",
      "Iteration 77 over 100\n",
      "Iteration 78 over 100\n",
      "Iteration 79 over 100\n",
      "Iteration 80 over 100\n",
      "Iteration 81 over 100\n",
      "Iteration 82 over 100\n",
      "Iteration 83 over 100\n",
      "Iteration 84 over 100\n",
      "Iteration 85 over 100\n",
      "Iteration 86 over 100\n",
      "Iteration 87 over 100\n",
      "Iteration 88 over 100\n",
      "Iteration 89 over 100\n",
      "Iteration 90 over 100\n",
      "Iteration 91 over 100\n",
      "Iteration 92 over 100\n",
      "Iteration 93 over 100\n",
      "Iteration 94 over 100\n",
      "Iteration 95 over 100\n",
      "Iteration 96 over 100\n",
      "Iteration 97 over 100\n",
      "Iteration 98 over 100\n",
      "Iteration 99 over 100\n",
      "Iteration 100 over 100\n"
     ]
    }
   ],
   "source": [
    "late_fusion_lasso_cv(\n",
    "    train_data_dict=train_data_dict,\n",
    "    y=y_train,\n",
    "    outer_splitter=outer_splitter,\n",
    "    task_type=\"regression\",\n",
    "    save_path=Path(result_folder, \"Cytof_Prot_Meta\"),\n",
    "    groups=patients_id\n",
    ")"
   ]
  },
  {
   "cell_type": "markdown",
   "id": "dfe92665-cef4-4665-ba16-404f55cfcfd4",
   "metadata": {},
   "source": [
    "# Table of features"
   ]
  },
  {
   "cell_type": "markdown",
   "id": "7393c5ec",
   "metadata": {},
   "source": [
    "## Table of features for Cytof+Prot+Meta case"
   ]
  },
  {
   "cell_type": "code",
   "execution_count": 15,
   "id": "8b23faaa",
   "metadata": {},
   "outputs": [],
   "source": [
    "selected_features_dict = dict()\n",
    "for model in [\"STABL\", \"EF Lasso\", \"SS 03\", \"SS 05\", \"SS 08\"]:\n",
    "    path = Path(result_folder, \"Cytof_Prot_Meta\", \"Training-Validation\", f\"{model} coefficients.csv\")\n",
    "    try:\n",
    "        selected_features_dict[model] = list(pd.read_csv(path, index_col=0).iloc[:, 0].index)\n",
    "    except:\n",
    "        selected_features_dict[model] = []"
   ]
  },
  {
   "cell_type": "code",
   "execution_count": 16,
   "id": "c0c971bd",
   "metadata": {},
   "outputs": [],
   "source": [
    "features_table = compute_features_table(\n",
    "    selected_features_dict,\n",
    "    X_train=pd.concat(train_data_dict.values(), axis=1),\n",
    "    y_train=y_train,\n",
    "    #X_test=pd.concat(test_data_dict.values(), axis=1),\n",
    "    #y_test=y_test,\n",
    "    task_type=\"regression\"\n",
    ")"
   ]
  },
  {
   "cell_type": "code",
   "execution_count": 17,
   "id": "4169ff97",
   "metadata": {},
   "outputs": [],
   "source": [
    "features_table.to_csv(Path(result_folder, \"Cytof_Prot_Meta\", \"Training-Validation\", \"Table of features.csv\"))"
   ]
  },
  {
   "cell_type": "markdown",
   "id": "d9a96fae",
   "metadata": {},
   "source": [
    "## Table of features for Cytof+Prot case (with validation)"
   ]
  },
  {
   "cell_type": "code",
   "execution_count": 18,
   "id": "a0b514bc",
   "metadata": {},
   "outputs": [],
   "source": [
    "selected_features_dict = dict()\n",
    "for model in [\"STABL\", \"EF Lasso\", \"SS 03\", \"SS 05\", \"SS 08\"]:\n",
    "    path = Path(result_folder, \"Cytof_Prot\", \"Training-Validation\", f\"{model} coefficients.csv\")\n",
    "    try:\n",
    "        selected_features_dict[model] = list(pd.read_csv(path, index_col=0).iloc[:, 0].index)\n",
    "    except:\n",
    "        selected_features_dict[model] = []"
   ]
  },
  {
   "cell_type": "code",
   "execution_count": 19,
   "id": "1794379b",
   "metadata": {},
   "outputs": [],
   "source": [
    "features_table = compute_features_table(\n",
    "    selected_features_dict,\n",
    "    X_train=pd.concat(train_data_dict.values(), axis=1),\n",
    "    y_train=y_train,\n",
    "    X_test=pd.concat(test_data_dict.values(), axis=1),\n",
    "    y_test=y_test,\n",
    "    task_type=\"regression\"\n",
    ")"
   ]
  },
  {
   "cell_type": "code",
   "execution_count": 20,
   "id": "8e89a226",
   "metadata": {},
   "outputs": [],
   "source": [
    "features_table.to_csv(Path(result_folder,\"Cytof_Prot\", \"Training-Validation\", \"Table of features.csv\"))"
   ]
  },
  {
   "attachments": {},
   "cell_type": "markdown",
   "id": "ff532f1c",
   "metadata": {},
   "source": [
    "Spearman corr and Pvalue pipeline\n",
    "---"
   ]
  },
  {
   "attachments": {},
   "cell_type": "markdown",
   "id": "f0fb61cb",
   "metadata": {},
   "source": [
    "**Cyto-Prot-Meta**"
   ]
  },
  {
   "cell_type": "code",
   "execution_count": 117,
   "id": "17d2ca2c",
   "metadata": {},
   "outputs": [],
   "source": [
    "from scipy.stats import spearmanr\n",
    "import numpy as np\n",
    "\n",
    "Spearmancorr = {}\n",
    "\n",
    "data_dict = {\n",
    "    \"CyTOF\": pd.concat([cyto_train, cyto_test], axis = 0),\n",
    "    \"Proteomics\": pd.concat([prot_train, prot_test], axis = 0),\n",
    "    \"Metabolomics\": meta_train\n",
    "}\n",
    "X_tot = pd.concat(data_dict.values(), axis=\"columns\")\n",
    "y = pd.concat([y_train, y_test], axis = 0)\n",
    "\n",
    "features = X_tot.columns\n",
    "\n",
    "for feature in features:\n",
    "    \n",
    "    corr, pval = spearmanr(X_tot[feature], y)\n",
    "    Spearmancorr[feature] = [corr, pval]\n",
    "\n",
    "SpearmanPvalue = pd.DataFrame(Spearmancorr).T\n",
    "SpearmanPvalue.columns = ['Spearman corr', 'pvalue']\n",
    "SpearmanPvalue.sort_values('pvalue', inplace=True)\n",
    "SpearmanPvalue.to_csv('/Users/jonasamar/Stabl/Notebook examples/Results Onset of Labor/Cytof_Prot_Meta/Summary/SpearmanCorrelationsPval.csv', index=True)"
   ]
  },
  {
   "cell_type": "code",
   "execution_count": 126,
   "id": "13209348",
   "metadata": {},
   "outputs": [],
   "source": [
    "from stabl.visualization import scatterplot_features\n",
    "\n",
    "scatterplot_features(\n",
    "        SpearmanPvalue[:10].index,\n",
    "        X_tot,\n",
    "        y,\n",
    "        show_fig=False,\n",
    "        export_file=True,\n",
    "        path='/Users/jonasamar/Stabl/Notebook examples/Results Onset of Labor/Cytof_Prot_Meta/Univariate')"
   ]
  },
  {
   "attachments": {},
   "cell_type": "markdown",
   "id": "b82cfcd3",
   "metadata": {},
   "source": [
    "**Cyto-Prot**"
   ]
  },
  {
   "cell_type": "code",
   "execution_count": 128,
   "id": "99bcb1c8",
   "metadata": {},
   "outputs": [],
   "source": [
    "from scipy.stats import spearmanr\n",
    "import numpy as np\n",
    "\n",
    "Spearmancorr = {}\n",
    "\n",
    "data_dict = {\n",
    "    \"CyTOF\": pd.concat([cyto_train, cyto_test], axis = 0),\n",
    "    \"Proteomics\": pd.concat([prot_train, prot_test], axis = 0)\n",
    "}\n",
    "X_tot = pd.concat(data_dict.values(), axis=\"columns\")\n",
    "y = pd.concat([y_train, y_test], axis = 0)\n",
    "\n",
    "features = X_tot.columns\n",
    "\n",
    "for feature in features:\n",
    "    \n",
    "    corr, pval = spearmanr(X_tot[feature], y)\n",
    "    Spearmancorr[feature] = [corr, pval]\n",
    "\n",
    "SpearmanPvalue = pd.DataFrame(Spearmancorr).T\n",
    "SpearmanPvalue.columns = ['Spearman corr', 'pvalue']\n",
    "SpearmanPvalue.sort_values('pvalue', inplace=True)\n",
    "SpearmanPvalue.to_csv('/Users/jonasamar/Stabl/Notebook examples/Results Onset of Labor/Cytof_Prot/Summary/SpearmanCorrelationsPval.csv', index=True)"
   ]
  },
  {
   "cell_type": "code",
   "execution_count": 129,
   "id": "fcd2c8da",
   "metadata": {},
   "outputs": [],
   "source": [
    "from stabl.visualization import scatterplot_features\n",
    "\n",
    "scatterplot_features(\n",
    "        SpearmanPvalue[:10].index,\n",
    "        X_tot,\n",
    "        y,\n",
    "        show_fig=False,\n",
    "        export_file=True,\n",
    "        path='/Users/jonasamar/Stabl/Notebook examples/Results Onset of Labor/Cytof_Prot/Univariate')"
   ]
  },
  {
   "cell_type": "code",
   "execution_count": null,
   "id": "815eba32",
   "metadata": {},
   "outputs": [],
   "source": []
  }
 ],
 "metadata": {
  "kernelspec": {
   "display_name": ".venv",
   "language": "python",
   "name": "python3"
  },
  "language_info": {
   "codemirror_mode": {
    "name": "ipython",
    "version": 3
   },
   "file_extension": ".py",
   "mimetype": "text/x-python",
   "name": "python",
   "nbconvert_exporter": "python",
   "pygments_lexer": "ipython3",
   "version": "3.9.5"
  },
  "lcc_arn": "arn:aws:sagemaker:us-east-1:011021124722:studio-lifecycle-config/pip-install-kernel",
  "toc": {
   "base_numbering": 1,
   "nav_menu": {},
   "number_sections": true,
   "sideBar": true,
   "skip_h1_title": false,
   "title_cell": "Table of Contents",
   "title_sidebar": "Contents",
   "toc_cell": false,
   "toc_position": {},
   "toc_section_display": true,
   "toc_window_display": false
  },
  "vscode": {
   "interpreter": {
    "hash": "d79ce8a9c567bcd5b807d9facb16a9b5bb341f8ca04ba03de5d1f0eaaf8a7151"
   }
  }
 },
 "nbformat": 4,
 "nbformat_minor": 5
}
