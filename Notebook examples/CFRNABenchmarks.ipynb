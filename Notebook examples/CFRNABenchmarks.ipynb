{
 "cells": [
  {
   "cell_type": "code",
   "execution_count": null,
   "id": "8dc696fb",
   "metadata": {},
   "outputs": [],
   "source": [
    "import warnings\n",
    "warnings.filterwarnings('ignore')"
   ]
  },
  {
   "cell_type": "markdown",
   "id": "264d95c3-a18c-4887-ae4f-be4269ba5035",
   "metadata": {},
   "source": [
    "# Libraries"
   ]
  },
  {
   "cell_type": "markdown",
   "id": "e7ba869f",
   "metadata": {},
   "source": [
    "## Basic libraries"
   ]
  },
  {
   "cell_type": "code",
   "execution_count": null,
   "id": "2eca9194-82e6-4d32-b180-c262125c6ce4",
   "metadata": {},
   "outputs": [],
   "source": [
    "import numpy as np\n",
    "import pandas as pd\n",
    "from pathlib import Path\n",
    "\n",
    "from sklearn.model_selection import GroupShuffleSplit\n",
    "from sklearn.base import clone \n",
    "\n",
    "from stabl.stabl import Stabl, plot_stabl_path, plot_fdr_graph, save_stabl_results\n",
    "from stabl.preprocessing import LowInfoFilter, remove_low_info_samples\n",
    "\n",
    "%config InlineBackend.figure_formats=['retina']"
   ]
  },
  {
   "cell_type": "markdown",
   "id": "4ab5819c",
   "metadata": {},
   "source": [
    "## Stabl pipelines"
   ]
  },
  {
   "cell_type": "code",
   "execution_count": null,
   "id": "4ae4d22c-6d4d-4035-b9bc-773e11e0ad06",
   "metadata": {},
   "outputs": [],
   "source": [
    "from stabl.multi_omic_pipelines import multi_omic_stabl, multi_omic_stabl_cv\n",
    "from stabl.single_omic_pipelines import single_omic_stabl, single_omic_stabl_cv\n",
    "from stabl.pipelines_utils import compute_features_table"
   ]
  },
  {
   "cell_type": "markdown",
   "id": "21980ae1",
   "metadata": {},
   "source": [
    "# Data"
   ]
  },
  {
   "cell_type": "code",
   "execution_count": null,
   "id": "05959e5d-d435-4a26-9b0d-d573a0ef856e",
   "metadata": {},
   "outputs": [],
   "source": [
    "# Importing the input dataframe\n",
    "X = pd.read_csv(\"../Sample Data/CFRNA/cfrna_dataFINAL.csv\", index_col=0)\n",
    "\n",
    "# Importing patients' ID\n",
    "IDs = pd.read_csv(\"../Sample Data/CFRNA/ID.csv\", index_col=0)\n",
    "\n",
    "# Importing the Preeclampsia outcome\n",
    "y = pd.read_csv(\"../Sample Data/CFRNA/all_outcomes.csv\", index_col=0)"
   ]
  },
  {
   "cell_type": "markdown",
   "id": "29066295",
   "metadata": {},
   "source": [
    "The preprocessing will be done during the cross-validation process. Therefore we only remove samples without any information and apply a logarithm transformation on the data"
   ]
  },
  {
   "cell_type": "code",
   "execution_count": null,
   "id": "66f4adae-cdb9-422d-bc41-372cd2e66cda",
   "metadata": {},
   "outputs": [],
   "source": [
    "X = remove_low_info_samples(X)  # Removing samples without any information\n",
    "X = X.apply(lambda x: np.log2(x+1))  # Applying the log2(x+1) transformation\n",
    "\n",
    "IDs = IDs.loc[X.index]\n",
    "y = y.loc[X.index].Preeclampsia"
   ]
  },
  {
   "cell_type": "markdown",
   "id": "d26622f0-dd95-436a-9c60-748d07ee5caf",
   "metadata": {},
   "source": [
    "# Single Omic in Training-CV"
   ]
  },
  {
   "cell_type": "code",
   "execution_count": null,
   "id": "86069f53-b43b-4408-b500-9373befa62d9",
   "metadata": {},
   "outputs": [],
   "source": [
    "stabl = Stabl(\n",
    "    lambda_grid=np.linspace(0.01, 5, 10),\n",
    "    n_bootstraps=250,\n",
    "    artificial_type=\"random_permutation\",\n",
    "    artificial_proportion=.5,\n",
    "    replace=False,\n",
    "    fdr_threshold_range=np.arange(0.1, 1, 0.01),\n",
    "    sample_fraction=.5,\n",
    "    backend_multi=\"threading\",\n",
    "    random_state=42\n",
    " )\n",
    "\n",
    "outer_splitter = GroupShuffleSplit(n_splits=100, test_size=.2, random_state=2)\n",
    "\n",
    "stability_selection = clone(stabl).set_params(artificial_type=None, hard_threshold=0.3)"
   ]
  },
  {
   "cell_type": "code",
   "execution_count": null,
   "id": "ab15f937-b138-48b8-9741-abdf6cbe807d",
   "metadata": {},
   "outputs": [],
   "source": [
    "result_folder = \"./Results CFRNA\""
   ]
  },
  {
   "cell_type": "code",
   "execution_count": null,
   "id": "b876738b-f61f-49cf-8572-a26013898557",
   "metadata": {
    "scrolled": true,
    "tags": []
   },
   "outputs": [],
   "source": [
    "single_omic_stabl_cv(\n",
    "    X=X,\n",
    "    y=y.astype(int),\n",
    "    outer_splitter=outer_splitter,\n",
    "    stabl=stabl,\n",
    "    stability_selection=stability_selection,\n",
    "    task_type=\"binary\",\n",
    "    save_path=Path(result_folder),\n",
    "    outer_groups=IDs,\n",
    ")"
   ]
  },
  {
   "cell_type": "markdown",
   "id": "34fae91c",
   "metadata": {},
   "source": [
    "# Single Omic Training"
   ]
  },
  {
   "cell_type": "code",
   "execution_count": null,
   "id": "49593e5d-03e4-4569-9f47-58c96e69827c",
   "metadata": {
    "tags": []
   },
   "outputs": [],
   "source": [
    "stabl = Stabl(\n",
    "    lambda_grid=np.linspace(0.01, 5, 30),\n",
    "    n_bootstraps=1000,\n",
    "    artificial_type=\"random_permutation\",\n",
    "    artificial_proportion=.5,\n",
    "    replace=False,\n",
    "    fdr_threshold_range=np.arange(0.1, 1, 0.01),\n",
    "    sample_fraction=.5,\n",
    "    backend_multi=\"threading\",\n",
    "    random_state=42\n",
    " )\n",
    "stability_selection = clone(stabl).set_params(artificial_type=None, hard_threshold=0.3)"
   ]
  },
  {
   "cell_type": "code",
   "execution_count": null,
   "id": "59f34925-d9f9-4636-9ef4-5b0660defabf",
   "metadata": {},
   "outputs": [],
   "source": [
    "single_omic_stabl(\n",
    "    X=X,\n",
    "    y=y.astype(int),\n",
    "    stabl=stabl,\n",
    "    stability_selection=stability_selection,\n",
    "    task_type=\"binary\",\n",
    "    save_path=Path(result_folder)\n",
    ")"
   ]
  },
  {
   "cell_type": "markdown",
   "id": "8324614a-dc41-4411-830e-c21cf651165c",
   "metadata": {},
   "source": [
    "# Table of features"
   ]
  },
  {
   "cell_type": "code",
   "execution_count": null,
   "id": "b00e5ac3-4ed8-4cd5-92fb-122571e44d07",
   "metadata": {
    "tags": []
   },
   "outputs": [],
   "source": [
    "selected_features_dict = dict()\n",
    "for model in [\"STABL\", \"Lasso\", \"Lasso 1SE\", \"ElasticNet\", \"SS 03\", \"SS 05\", \"SS 08\"]:\n",
    "    path = Path(result_folder, \"Training-Validation\", f\"{model} coefficients.csv\")\n",
    "    try:\n",
    "        selected_features_dict[model] = list(pd.read_csv(path, index_col=0).iloc[:, 0].index)\n",
    "    except:\n",
    "        selected_features_dict[model] = []"
   ]
  },
  {
   "cell_type": "code",
   "execution_count": null,
   "id": "1de0d2d3-3c44-4fca-98e3-11b7eb26b297",
   "metadata": {
    "tags": []
   },
   "outputs": [],
   "source": [
    "features_table = compute_features_table(\n",
    "    selected_features_dict,\n",
    "    X_train=X,\n",
    "    y_train=y.astype(int),\n",
    "    task_type=\"binary\")"
   ]
  },
  {
   "cell_type": "code",
   "execution_count": null,
   "id": "e3b9fef5-c179-47ef-a014-b2cdd23376cd",
   "metadata": {
    "tags": []
   },
   "outputs": [],
   "source": [
    "features_table.to_csv(Path(result_folder, \"Training-Validation\", \"Table of features.csv\"))"
   ]
  }
 ],
 "metadata": {
  "instance_type": "ml.c5.12xlarge",
  "kernelspec": {
   "display_name": "Python 3 (ipykernel)",
   "language": "python",
   "name": "python3"
  },
  "language_info": {
   "codemirror_mode": {
    "name": "ipython",
    "version": 3
   },
   "file_extension": ".py",
   "mimetype": "text/x-python",
   "name": "python",
   "nbconvert_exporter": "python",
   "pygments_lexer": "ipython3",
   "version": "3.10.4"
  },
  "lcc_arn": "arn:aws:sagemaker:us-east-1:011021124722:studio-lifecycle-config/pip-install-kernel",
  "toc": {
   "base_numbering": 1,
   "nav_menu": {},
   "number_sections": true,
   "sideBar": true,
   "skip_h1_title": false,
   "title_cell": "Table of Contents",
   "title_sidebar": "Contents",
   "toc_cell": false,
   "toc_position": {
    "height": "calc(100% - 180px)",
    "left": "10px",
    "top": "150px",
    "width": "335px"
   },
   "toc_section_display": true,
   "toc_window_display": true
  }
 },
 "nbformat": 4,
 "nbformat_minor": 5
}
