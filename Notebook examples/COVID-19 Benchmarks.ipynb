{
 "cells": [
  {
   "cell_type": "code",
   "execution_count": 9,
   "id": "8e9a7aa1",
   "metadata": {},
   "outputs": [],
   "source": [
    "import warnings\n",
    "warnings.filterwarnings('ignore')"
   ]
  },
  {
   "cell_type": "markdown",
   "id": "89424e6b",
   "metadata": {},
   "source": [
    "# Libraries"
   ]
  },
  {
   "cell_type": "markdown",
   "id": "453b83ba",
   "metadata": {},
   "source": [
    "## Basic libraries"
   ]
  },
  {
   "cell_type": "code",
   "execution_count": 10,
   "id": "46d4d5b0",
   "metadata": {
    "tags": []
   },
   "outputs": [],
   "source": [
    "import numpy as np\n",
    "import pandas as pd\n",
    "from pathlib import Path\n",
    "\n",
    "from sklearn.model_selection import RepeatedStratifiedKFold\n",
    "from sklearn.base import clone\n",
    "\n",
    "from stabl.stabl import Stabl, plot_stabl_path, plot_fdr_graph, save_stabl_results\n",
    "from stabl.preprocessing import LowInfoFilter, remove_low_info_samples\n",
    "\n",
    "%config InlineBackend.figure_formats=['retina']"
   ]
  },
  {
   "cell_type": "markdown",
   "id": "a4e6088e",
   "metadata": {},
   "source": [
    "## Stabl Pipelines"
   ]
  },
  {
   "cell_type": "code",
   "execution_count": 11,
   "id": "ca733a9e",
   "metadata": {
    "tags": []
   },
   "outputs": [],
   "source": [
    "from stabl.multi_omic_pipelines import multi_omic_stabl, multi_omic_stabl_cv\n",
    "from stabl.single_omic_pipelines import single_omic_stabl, single_omic_stabl_cv\n",
    "from stabl.pipelines_utils import compute_features_table"
   ]
  },
  {
   "cell_type": "markdown",
   "id": "216799f5",
   "metadata": {},
   "source": [
    "# Data"
   ]
  },
  {
   "cell_type": "markdown",
   "id": "894f75ce",
   "metadata": {},
   "source": [
    "## Training data"
   ]
  },
  {
   "cell_type": "code",
   "execution_count": 12,
   "id": "8c57e425",
   "metadata": {
    "tags": []
   },
   "outputs": [],
   "source": [
    "# Importing the training data\n",
    "X_train = pd.read_csv('../Sample Data/COVID-19/Training/Proteomics.csv',index_col=\"sampleID\")\n",
    "y_train = pd.read_csv(\"../Sample Data/COVID-19/Training/Mild&ModVsSevere.csv\", index_col=0).iloc[:, 0]"
   ]
  },
  {
   "cell_type": "markdown",
   "id": "89ac7942",
   "metadata": {},
   "source": [
    "## Validation Data"
   ]
  },
  {
   "cell_type": "code",
   "execution_count": 13,
   "id": "89f6e868-a862-4cc4-b0a2-29d75279dd85",
   "metadata": {
    "tags": []
   },
   "outputs": [],
   "source": [
    "X_val = pd.read_csv(\"../Sample Data/COVID-19/Validation/Validation_proteomics.csv\", index_col=0)\n",
    "y_val = ~pd.read_csv(\"../Sample Data/COVID-19/Validation/Validation_outcome(WHO.0 ≥ 5).csv\", index_col=0).iloc[:,0]"
   ]
  },
  {
   "cell_type": "markdown",
   "id": "ba43c6d4",
   "metadata": {},
   "source": [
    "# Result folder name"
   ]
  },
  {
   "cell_type": "code",
   "execution_count": 14,
   "id": "e0bfa286",
   "metadata": {
    "tags": []
   },
   "outputs": [],
   "source": [
    "result_folder = \"./Results COVID-19\""
   ]
  },
  {
   "cell_type": "markdown",
   "id": "abbb89da",
   "metadata": {},
   "source": [
    "# Single-omic Training-CV"
   ]
  },
  {
   "cell_type": "code",
   "execution_count": 15,
   "id": "8c688774",
   "metadata": {
    "tags": []
   },
   "outputs": [],
   "source": [
    "stabl = Stabl(\n",
    "    lambda_grid=np.linspace(0.01, 5, 10),\n",
    "    n_bootstraps=1000,\n",
    "    artificial_type=\"random_permutation\",\n",
    "    replace=False,\n",
    "    fdr_threshold_range=np.arange(0.1, 1, 0.01),\n",
    "    sample_fraction=.5,\n",
    "    random_state=42\n",
    ")\n",
    "\n",
    "stability_selection = clone(stabl).set_params(hard_threshold=.1, artificial_type = None)\n",
    "\n",
    "outer_splitter = RepeatedStratifiedKFold(n_splits=5, n_repeats=20, random_state=42)"
   ]
  },
  {
   "cell_type": "code",
   "execution_count": 16,
   "id": "cbf974e4-3fe1-419d-b1b0-8698191191f4",
   "metadata": {
    "scrolled": true,
    "tags": []
   },
   "outputs": [
    {
     "name": "stdout",
     "output_type": "stream",
     "text": [
      "***************************** Iteration 1 over 100 ***************************** \n",
      "\n",
      "54 train samples, 14 test samples\n"
     ]
    },
    {
     "name": "stderr",
     "output_type": "stream",
     "text": [
      "                                                               29<00:00,  8.98s/it]\r"
     ]
    },
    {
     "name": "stdout",
     "output_type": "stream",
     "text": [
      "STABL finished (54 samples); 3 features selected\n",
      "\n"
     ]
    },
    {
     "name": "stderr",
     "output_type": "stream",
     "text": [
      "                                                               43<00:00,  4.44s/it]\r"
     ]
    },
    {
     "name": "stdout",
     "output_type": "stream",
     "text": [
      "~~~~~~~~~~~~~~~~~~~~~~~~~~~~~~~~~~~~~~~~~~~~~~~~~~~~~~~\n",
      "This fold: 3 features selected for STABL\n",
      "This fold: 1 features selected for SS 03\n",
      "This fold: 0 features selected for SS 05\n",
      "This fold: 0 features selected for SS 08\n",
      "~~~~~~~~~~~~~~~~~~~~~~~~~~~~~~~~~~~~~~~~~~~~~~~~~~~~~~~\n",
      "\n",
      "***************************** Iteration 2 over 100 ***************************** \n",
      "\n",
      "54 train samples, 14 test samples\n"
     ]
    },
    {
     "name": "stderr",
     "output_type": "stream",
     "text": [
      "                                                               13<00:00,  7.55s/it]\r"
     ]
    },
    {
     "name": "stdout",
     "output_type": "stream",
     "text": [
      "STABL finished (54 samples); 18 features selected\n",
      "\n"
     ]
    },
    {
     "name": "stderr",
     "output_type": "stream",
     "text": [
      "                                                               36<00:00,  3.77s/it]\r"
     ]
    },
    {
     "name": "stdout",
     "output_type": "stream",
     "text": [
      "~~~~~~~~~~~~~~~~~~~~~~~~~~~~~~~~~~~~~~~~~~~~~~~~~~~~~~~\n",
      "This fold: 18 features selected for STABL\n",
      "This fold: 4 features selected for SS 03\n",
      "This fold: 0 features selected for SS 05\n",
      "This fold: 0 features selected for SS 08\n",
      "~~~~~~~~~~~~~~~~~~~~~~~~~~~~~~~~~~~~~~~~~~~~~~~~~~~~~~~\n",
      "\n",
      "***************************** Iteration 3 over 100 ***************************** \n",
      "\n",
      "54 train samples, 14 test samples\n"
     ]
    },
    {
     "name": "stderr",
     "output_type": "stream",
     "text": [
      "                                                               18<00:00,  7.87s/it]\r"
     ]
    },
    {
     "name": "stdout",
     "output_type": "stream",
     "text": [
      "STABL finished (54 samples); 7 features selected\n",
      "\n"
     ]
    },
    {
     "name": "stderr",
     "output_type": "stream",
     "text": [
      "                                                               38<00:00,  4.11s/it]\r"
     ]
    },
    {
     "name": "stdout",
     "output_type": "stream",
     "text": [
      "~~~~~~~~~~~~~~~~~~~~~~~~~~~~~~~~~~~~~~~~~~~~~~~~~~~~~~~\n",
      "This fold: 7 features selected for STABL\n",
      "This fold: 2 features selected for SS 03\n",
      "This fold: 0 features selected for SS 05\n",
      "This fold: 0 features selected for SS 08\n",
      "~~~~~~~~~~~~~~~~~~~~~~~~~~~~~~~~~~~~~~~~~~~~~~~~~~~~~~~\n",
      "\n",
      "***************************** Iteration 4 over 100 ***************************** \n",
      "\n",
      "55 train samples, 13 test samples\n"
     ]
    },
    {
     "name": "stderr",
     "output_type": "stream",
     "text": [
      "                                                               12<00:00,  7.53s/it]\r"
     ]
    },
    {
     "name": "stdout",
     "output_type": "stream",
     "text": [
      "STABL finished (55 samples); 4 features selected\n",
      "\n"
     ]
    },
    {
     "name": "stderr",
     "output_type": "stream",
     "text": [
      "                                                               36<00:00,  3.79s/it]\r"
     ]
    },
    {
     "name": "stdout",
     "output_type": "stream",
     "text": [
      "~~~~~~~~~~~~~~~~~~~~~~~~~~~~~~~~~~~~~~~~~~~~~~~~~~~~~~~\n",
      "This fold: 4 features selected for STABL\n",
      "This fold: 5 features selected for SS 03\n",
      "This fold: 1 features selected for SS 05\n",
      "This fold: 0 features selected for SS 08\n",
      "~~~~~~~~~~~~~~~~~~~~~~~~~~~~~~~~~~~~~~~~~~~~~~~~~~~~~~~\n",
      "\n",
      "***************************** Iteration 5 over 100 ***************************** \n",
      "\n",
      "55 train samples, 13 test samples\n"
     ]
    },
    {
     "name": "stderr",
     "output_type": "stream",
     "text": [
      "                                                               12<00:00,  7.49s/it]\r"
     ]
    },
    {
     "name": "stdout",
     "output_type": "stream",
     "text": [
      "STABL finished (55 samples); 7 features selected\n",
      "\n"
     ]
    },
    {
     "name": "stderr",
     "output_type": "stream",
     "text": [
      "                                                               36<00:00,  3.82s/it]\r"
     ]
    },
    {
     "name": "stdout",
     "output_type": "stream",
     "text": [
      "~~~~~~~~~~~~~~~~~~~~~~~~~~~~~~~~~~~~~~~~~~~~~~~~~~~~~~~\n",
      "This fold: 7 features selected for STABL\n",
      "This fold: 5 features selected for SS 03\n",
      "This fold: 2 features selected for SS 05\n",
      "This fold: 0 features selected for SS 08\n",
      "~~~~~~~~~~~~~~~~~~~~~~~~~~~~~~~~~~~~~~~~~~~~~~~~~~~~~~~\n",
      "\n",
      "***************************** Iteration 6 over 100 ***************************** \n",
      "\n",
      "54 train samples, 14 test samples\n"
     ]
    },
    {
     "name": "stderr",
     "output_type": "stream",
     "text": [
      "                                                               14<00:00,  7.68s/it]\r"
     ]
    },
    {
     "name": "stdout",
     "output_type": "stream",
     "text": [
      "STABL finished (54 samples); 9 features selected\n",
      "\n"
     ]
    },
    {
     "name": "stderr",
     "output_type": "stream",
     "text": [
      "                                                               39<00:00,  4.19s/it]\r"
     ]
    },
    {
     "name": "stdout",
     "output_type": "stream",
     "text": [
      "~~~~~~~~~~~~~~~~~~~~~~~~~~~~~~~~~~~~~~~~~~~~~~~~~~~~~~~\n",
      "This fold: 9 features selected for STABL\n",
      "This fold: 3 features selected for SS 03\n",
      "This fold: 0 features selected for SS 05\n",
      "This fold: 0 features selected for SS 08\n",
      "~~~~~~~~~~~~~~~~~~~~~~~~~~~~~~~~~~~~~~~~~~~~~~~~~~~~~~~\n",
      "\n",
      "***************************** Iteration 7 over 100 ***************************** \n",
      "\n",
      "54 train samples, 14 test samples\n"
     ]
    },
    {
     "name": "stderr",
     "output_type": "stream",
     "text": [
      "                                                               16<00:00,  7.91s/it]\r"
     ]
    },
    {
     "name": "stdout",
     "output_type": "stream",
     "text": [
      "STABL finished (54 samples); 9 features selected\n",
      "\n"
     ]
    },
    {
     "name": "stderr",
     "output_type": "stream",
     "text": [
      "                                                               37<00:00,  3.88s/it]\r"
     ]
    },
    {
     "name": "stdout",
     "output_type": "stream",
     "text": [
      "~~~~~~~~~~~~~~~~~~~~~~~~~~~~~~~~~~~~~~~~~~~~~~~~~~~~~~~\n",
      "This fold: 9 features selected for STABL\n",
      "This fold: 3 features selected for SS 03\n",
      "This fold: 0 features selected for SS 05\n",
      "This fold: 0 features selected for SS 08\n",
      "~~~~~~~~~~~~~~~~~~~~~~~~~~~~~~~~~~~~~~~~~~~~~~~~~~~~~~~\n",
      "\n",
      "***************************** Iteration 8 over 100 ***************************** \n",
      "\n",
      "54 train samples, 14 test samples\n"
     ]
    },
    {
     "name": "stderr",
     "output_type": "stream",
     "text": [
      "                                                               13<00:00,  7.56s/it]\r"
     ]
    },
    {
     "name": "stdout",
     "output_type": "stream",
     "text": [
      "STABL finished (54 samples); 5 features selected\n",
      "\n"
     ]
    },
    {
     "name": "stderr",
     "output_type": "stream",
     "text": [
      "                                                               37<00:00,  3.77s/it]\r"
     ]
    },
    {
     "name": "stdout",
     "output_type": "stream",
     "text": [
      "~~~~~~~~~~~~~~~~~~~~~~~~~~~~~~~~~~~~~~~~~~~~~~~~~~~~~~~\n",
      "This fold: 5 features selected for STABL\n",
      "This fold: 5 features selected for SS 03\n",
      "This fold: 1 features selected for SS 05\n",
      "This fold: 0 features selected for SS 08\n",
      "~~~~~~~~~~~~~~~~~~~~~~~~~~~~~~~~~~~~~~~~~~~~~~~~~~~~~~~\n",
      "\n",
      "***************************** Iteration 9 over 100 ***************************** \n",
      "\n",
      "55 train samples, 13 test samples\n"
     ]
    },
    {
     "name": "stderr",
     "output_type": "stream",
     "text": [
      "                                                               13<00:00,  7.78s/it]\r"
     ]
    },
    {
     "name": "stdout",
     "output_type": "stream",
     "text": [
      "STABL finished (55 samples); 3 features selected\n",
      "\n"
     ]
    },
    {
     "name": "stderr",
     "output_type": "stream",
     "text": [
      "                                                               37<00:00,  3.90s/it]\r"
     ]
    },
    {
     "name": "stdout",
     "output_type": "stream",
     "text": [
      "~~~~~~~~~~~~~~~~~~~~~~~~~~~~~~~~~~~~~~~~~~~~~~~~~~~~~~~\n",
      "This fold: 3 features selected for STABL\n",
      "This fold: 2 features selected for SS 03\n",
      "This fold: 0 features selected for SS 05\n",
      "This fold: 0 features selected for SS 08\n",
      "~~~~~~~~~~~~~~~~~~~~~~~~~~~~~~~~~~~~~~~~~~~~~~~~~~~~~~~\n",
      "\n",
      "**************************** Iteration 10 over 100 ***************************** \n",
      "\n",
      "55 train samples, 13 test samples\n"
     ]
    },
    {
     "name": "stderr",
     "output_type": "stream",
     "text": [
      "                                                               17<00:00,  8.26s/it]\r"
     ]
    },
    {
     "name": "stdout",
     "output_type": "stream",
     "text": [
      "STABL finished (55 samples); 7 features selected\n",
      "\n"
     ]
    },
    {
     "name": "stderr",
     "output_type": "stream",
     "text": [
      "                                                               40<00:00,  4.08s/it]\r"
     ]
    },
    {
     "name": "stdout",
     "output_type": "stream",
     "text": [
      "~~~~~~~~~~~~~~~~~~~~~~~~~~~~~~~~~~~~~~~~~~~~~~~~~~~~~~~\n",
      "This fold: 7 features selected for STABL\n",
      "This fold: 5 features selected for SS 03\n",
      "This fold: 0 features selected for SS 05\n",
      "This fold: 0 features selected for SS 08\n",
      "~~~~~~~~~~~~~~~~~~~~~~~~~~~~~~~~~~~~~~~~~~~~~~~~~~~~~~~\n",
      "\n",
      "**************************** Iteration 11 over 100 ***************************** \n",
      "\n",
      "54 train samples, 14 test samples\n"
     ]
    },
    {
     "name": "stderr",
     "output_type": "stream",
     "text": [
      "                                                               15<00:00,  7.71s/it]\r"
     ]
    },
    {
     "name": "stdout",
     "output_type": "stream",
     "text": [
      "STABL finished (54 samples); 16 features selected\n",
      "\n"
     ]
    },
    {
     "name": "stderr",
     "output_type": "stream",
     "text": [
      "                                                               37<00:00,  3.81s/it]\r"
     ]
    },
    {
     "name": "stdout",
     "output_type": "stream",
     "text": [
      "~~~~~~~~~~~~~~~~~~~~~~~~~~~~~~~~~~~~~~~~~~~~~~~~~~~~~~~\n",
      "This fold: 16 features selected for STABL\n",
      "This fold: 2 features selected for SS 03\n",
      "This fold: 0 features selected for SS 05\n",
      "This fold: 0 features selected for SS 08\n",
      "~~~~~~~~~~~~~~~~~~~~~~~~~~~~~~~~~~~~~~~~~~~~~~~~~~~~~~~\n",
      "\n",
      "**************************** Iteration 12 over 100 ***************************** \n",
      "\n",
      "54 train samples, 14 test samples\n"
     ]
    },
    {
     "name": "stderr",
     "output_type": "stream",
     "text": [
      "                                                               13<00:00,  7.55s/it]\r"
     ]
    },
    {
     "name": "stdout",
     "output_type": "stream",
     "text": [
      "STABL finished (54 samples); 6 features selected\n",
      "\n"
     ]
    },
    {
     "name": "stderr",
     "output_type": "stream",
     "text": [
      "                                                               37<00:00,  3.90s/it]\r"
     ]
    },
    {
     "name": "stdout",
     "output_type": "stream",
     "text": [
      "~~~~~~~~~~~~~~~~~~~~~~~~~~~~~~~~~~~~~~~~~~~~~~~~~~~~~~~\n",
      "This fold: 6 features selected for STABL\n",
      "This fold: 4 features selected for SS 03\n",
      "This fold: 1 features selected for SS 05\n",
      "This fold: 0 features selected for SS 08\n",
      "~~~~~~~~~~~~~~~~~~~~~~~~~~~~~~~~~~~~~~~~~~~~~~~~~~~~~~~\n",
      "\n",
      "**************************** Iteration 13 over 100 ***************************** \n",
      "\n",
      "54 train samples, 14 test samples\n"
     ]
    },
    {
     "name": "stderr",
     "output_type": "stream",
     "text": [
      "                                                               15<00:00,  7.64s/it]\r"
     ]
    },
    {
     "name": "stdout",
     "output_type": "stream",
     "text": [
      "STABL finished (54 samples); 28 features selected\n",
      "\n"
     ]
    },
    {
     "name": "stderr",
     "output_type": "stream",
     "text": [
      "                                                               38<00:00,  3.88s/it]\r"
     ]
    },
    {
     "name": "stdout",
     "output_type": "stream",
     "text": [
      "~~~~~~~~~~~~~~~~~~~~~~~~~~~~~~~~~~~~~~~~~~~~~~~~~~~~~~~\n",
      "This fold: 28 features selected for STABL\n",
      "This fold: 1 features selected for SS 03\n",
      "This fold: 0 features selected for SS 05\n",
      "This fold: 0 features selected for SS 08\n",
      "~~~~~~~~~~~~~~~~~~~~~~~~~~~~~~~~~~~~~~~~~~~~~~~~~~~~~~~\n",
      "\n",
      "**************************** Iteration 14 over 100 ***************************** \n",
      "\n",
      "55 train samples, 13 test samples\n"
     ]
    },
    {
     "name": "stderr",
     "output_type": "stream",
     "text": [
      "                                                               16<00:00,  7.88s/it]\r"
     ]
    },
    {
     "name": "stdout",
     "output_type": "stream",
     "text": [
      "STABL finished (55 samples); 16 features selected\n",
      "\n"
     ]
    },
    {
     "name": "stderr",
     "output_type": "stream",
     "text": [
      "                                                               37<00:00,  3.86s/it]\r"
     ]
    },
    {
     "name": "stdout",
     "output_type": "stream",
     "text": [
      "~~~~~~~~~~~~~~~~~~~~~~~~~~~~~~~~~~~~~~~~~~~~~~~~~~~~~~~\n",
      "This fold: 16 features selected for STABL\n",
      "This fold: 5 features selected for SS 03\n",
      "This fold: 0 features selected for SS 05\n",
      "This fold: 0 features selected for SS 08\n",
      "~~~~~~~~~~~~~~~~~~~~~~~~~~~~~~~~~~~~~~~~~~~~~~~~~~~~~~~\n",
      "\n",
      "**************************** Iteration 15 over 100 ***************************** \n",
      "\n",
      "55 train samples, 13 test samples\n"
     ]
    },
    {
     "name": "stderr",
     "output_type": "stream",
     "text": [
      "                                                               17<00:00,  7.64s/it]\r"
     ]
    },
    {
     "name": "stdout",
     "output_type": "stream",
     "text": [
      "STABL finished (55 samples); 8 features selected\n",
      "\n"
     ]
    },
    {
     "name": "stderr",
     "output_type": "stream",
     "text": [
      "                                                               42<00:00,  4.94s/it]\r"
     ]
    },
    {
     "name": "stdout",
     "output_type": "stream",
     "text": [
      "~~~~~~~~~~~~~~~~~~~~~~~~~~~~~~~~~~~~~~~~~~~~~~~~~~~~~~~\n",
      "This fold: 8 features selected for STABL\n",
      "This fold: 3 features selected for SS 03\n",
      "This fold: 1 features selected for SS 05\n",
      "This fold: 0 features selected for SS 08\n",
      "~~~~~~~~~~~~~~~~~~~~~~~~~~~~~~~~~~~~~~~~~~~~~~~~~~~~~~~\n",
      "\n",
      "**************************** Iteration 16 over 100 ***************************** \n",
      "\n",
      "54 train samples, 14 test samples\n"
     ]
    },
    {
     "name": "stderr",
     "output_type": "stream",
     "text": [
      "                                                               19<00:00,  8.15s/it]\r"
     ]
    },
    {
     "name": "stdout",
     "output_type": "stream",
     "text": [
      "STABL finished (54 samples); 7 features selected\n",
      "\n"
     ]
    },
    {
     "name": "stderr",
     "output_type": "stream",
     "text": [
      "                                                               42<00:00,  4.28s/it]\r"
     ]
    },
    {
     "name": "stdout",
     "output_type": "stream",
     "text": [
      "~~~~~~~~~~~~~~~~~~~~~~~~~~~~~~~~~~~~~~~~~~~~~~~~~~~~~~~\n",
      "This fold: 7 features selected for STABL\n",
      "This fold: 3 features selected for SS 03\n",
      "This fold: 0 features selected for SS 05\n",
      "This fold: 0 features selected for SS 08\n",
      "~~~~~~~~~~~~~~~~~~~~~~~~~~~~~~~~~~~~~~~~~~~~~~~~~~~~~~~\n",
      "\n",
      "**************************** Iteration 17 over 100 ***************************** \n",
      "\n",
      "54 train samples, 14 test samples\n"
     ]
    },
    {
     "name": "stderr",
     "output_type": "stream",
     "text": [
      "                                                               18<00:00,  8.09s/it]\r"
     ]
    },
    {
     "name": "stdout",
     "output_type": "stream",
     "text": [
      "STABL finished (54 samples); 18 features selected\n",
      "\n"
     ]
    },
    {
     "name": "stderr",
     "output_type": "stream",
     "text": [
      "                                                               40<00:00,  4.17s/it]\r"
     ]
    },
    {
     "name": "stdout",
     "output_type": "stream",
     "text": [
      "~~~~~~~~~~~~~~~~~~~~~~~~~~~~~~~~~~~~~~~~~~~~~~~~~~~~~~~\n",
      "This fold: 18 features selected for STABL\n",
      "This fold: 3 features selected for SS 03\n",
      "This fold: 0 features selected for SS 05\n",
      "This fold: 0 features selected for SS 08\n",
      "~~~~~~~~~~~~~~~~~~~~~~~~~~~~~~~~~~~~~~~~~~~~~~~~~~~~~~~\n",
      "\n",
      "**************************** Iteration 18 over 100 ***************************** \n",
      "\n",
      "54 train samples, 14 test samples\n"
     ]
    },
    {
     "name": "stderr",
     "output_type": "stream",
     "text": [
      "                                                               17<00:00,  7.96s/it]\r"
     ]
    },
    {
     "name": "stdout",
     "output_type": "stream",
     "text": [
      "STABL finished (54 samples); 7 features selected\n",
      "\n"
     ]
    },
    {
     "name": "stderr",
     "output_type": "stream",
     "text": [
      "                                                               39<00:00,  4.08s/it]\r"
     ]
    },
    {
     "name": "stdout",
     "output_type": "stream",
     "text": [
      "~~~~~~~~~~~~~~~~~~~~~~~~~~~~~~~~~~~~~~~~~~~~~~~~~~~~~~~\n",
      "This fold: 7 features selected for STABL\n",
      "This fold: 4 features selected for SS 03\n",
      "This fold: 0 features selected for SS 05\n",
      "This fold: 0 features selected for SS 08\n",
      "~~~~~~~~~~~~~~~~~~~~~~~~~~~~~~~~~~~~~~~~~~~~~~~~~~~~~~~\n",
      "\n",
      "**************************** Iteration 19 over 100 ***************************** \n",
      "\n",
      "55 train samples, 13 test samples\n"
     ]
    },
    {
     "name": "stderr",
     "output_type": "stream",
     "text": [
      "                                                               13<00:00, 18.59s/it]\r"
     ]
    },
    {
     "name": "stdout",
     "output_type": "stream",
     "text": [
      "STABL finished (55 samples); 11 features selected\n",
      "\n"
     ]
    },
    {
     "name": "stderr",
     "output_type": "stream",
     "text": [
      "                                                               13<00:00,  7.12s/it]\r"
     ]
    },
    {
     "name": "stdout",
     "output_type": "stream",
     "text": [
      "~~~~~~~~~~~~~~~~~~~~~~~~~~~~~~~~~~~~~~~~~~~~~~~~~~~~~~~\n",
      "This fold: 11 features selected for STABL\n",
      "This fold: 4 features selected for SS 03\n",
      "This fold: 0 features selected for SS 05\n",
      "This fold: 0 features selected for SS 08\n",
      "~~~~~~~~~~~~~~~~~~~~~~~~~~~~~~~~~~~~~~~~~~~~~~~~~~~~~~~\n",
      "\n",
      "**************************** Iteration 20 over 100 ***************************** \n",
      "\n",
      "55 train samples, 13 test samples\n"
     ]
    },
    {
     "name": "stderr",
     "output_type": "stream",
     "text": [
      "                                                               51<00:00, 13.59s/it]\r"
     ]
    },
    {
     "name": "stdout",
     "output_type": "stream",
     "text": [
      "STABL finished (55 samples); 6 features selected\n",
      "\n"
     ]
    },
    {
     "name": "stderr",
     "output_type": "stream",
     "text": [
      "                                                               12<00:00,  6.92s/it]\r"
     ]
    },
    {
     "name": "stdout",
     "output_type": "stream",
     "text": [
      "~~~~~~~~~~~~~~~~~~~~~~~~~~~~~~~~~~~~~~~~~~~~~~~~~~~~~~~\n",
      "This fold: 6 features selected for STABL\n",
      "This fold: 5 features selected for SS 03\n",
      "This fold: 0 features selected for SS 05\n",
      "This fold: 0 features selected for SS 08\n",
      "~~~~~~~~~~~~~~~~~~~~~~~~~~~~~~~~~~~~~~~~~~~~~~~~~~~~~~~\n",
      "\n",
      "**************************** Iteration 21 over 100 ***************************** \n",
      "\n",
      "54 train samples, 14 test samples\n"
     ]
    },
    {
     "name": "stderr",
     "output_type": "stream",
     "text": [
      "                                                               22<00:00, 21.26s/it]\r"
     ]
    },
    {
     "name": "stdout",
     "output_type": "stream",
     "text": [
      "STABL finished (54 samples); 3 features selected\n",
      "\n"
     ]
    },
    {
     "name": "stderr",
     "output_type": "stream",
     "text": [
      "                                                               23<00:00,  8.87s/it]\r"
     ]
    },
    {
     "name": "stdout",
     "output_type": "stream",
     "text": [
      "~~~~~~~~~~~~~~~~~~~~~~~~~~~~~~~~~~~~~~~~~~~~~~~~~~~~~~~\n",
      "This fold: 3 features selected for STABL\n",
      "This fold: 4 features selected for SS 03\n",
      "This fold: 1 features selected for SS 05\n",
      "This fold: 0 features selected for SS 08\n",
      "~~~~~~~~~~~~~~~~~~~~~~~~~~~~~~~~~~~~~~~~~~~~~~~~~~~~~~~\n",
      "\n",
      "**************************** Iteration 22 over 100 ***************************** \n",
      "\n",
      "54 train samples, 14 test samples\n"
     ]
    },
    {
     "name": "stderr",
     "output_type": "stream",
     "text": [
      "                                                               54<00:00, 16.58s/it]\r"
     ]
    },
    {
     "name": "stdout",
     "output_type": "stream",
     "text": [
      "STABL finished (54 samples); 4 features selected\n",
      "\n"
     ]
    },
    {
     "name": "stderr",
     "output_type": "stream",
     "text": [
      "                                                               16<00:00,  7.80s/it]\r"
     ]
    },
    {
     "name": "stdout",
     "output_type": "stream",
     "text": [
      "~~~~~~~~~~~~~~~~~~~~~~~~~~~~~~~~~~~~~~~~~~~~~~~~~~~~~~~\n",
      "This fold: 4 features selected for STABL\n",
      "This fold: 2 features selected for SS 03\n",
      "This fold: 0 features selected for SS 05\n",
      "This fold: 0 features selected for SS 08\n",
      "~~~~~~~~~~~~~~~~~~~~~~~~~~~~~~~~~~~~~~~~~~~~~~~~~~~~~~~\n",
      "\n",
      "**************************** Iteration 23 over 100 ***************************** \n",
      "\n",
      "54 train samples, 14 test samples\n"
     ]
    },
    {
     "name": "stderr",
     "output_type": "stream",
     "text": [
      "                                                               12<00:00, 14.57s/it]\r"
     ]
    },
    {
     "name": "stdout",
     "output_type": "stream",
     "text": [
      "STABL finished (54 samples); 4 features selected\n",
      "\n"
     ]
    },
    {
     "name": "stderr",
     "output_type": "stream",
     "text": [
      "                                                               08<00:00,  7.08s/it]\r"
     ]
    },
    {
     "name": "stdout",
     "output_type": "stream",
     "text": [
      "~~~~~~~~~~~~~~~~~~~~~~~~~~~~~~~~~~~~~~~~~~~~~~~~~~~~~~~\n",
      "This fold: 4 features selected for STABL\n",
      "This fold: 4 features selected for SS 03\n",
      "This fold: 0 features selected for SS 05\n",
      "This fold: 0 features selected for SS 08\n",
      "~~~~~~~~~~~~~~~~~~~~~~~~~~~~~~~~~~~~~~~~~~~~~~~~~~~~~~~\n",
      "\n",
      "**************************** Iteration 24 over 100 ***************************** \n",
      "\n",
      "55 train samples, 13 test samples\n"
     ]
    },
    {
     "name": "stderr",
     "output_type": "stream",
     "text": [
      "                                                               34<00:00,  8.72s/it]\r"
     ]
    },
    {
     "name": "stdout",
     "output_type": "stream",
     "text": [
      "STABL finished (55 samples); 3 features selected\n",
      "\n"
     ]
    },
    {
     "name": "stderr",
     "output_type": "stream",
     "text": [
      "                                                               05<00:00,  6.24s/it]\r"
     ]
    },
    {
     "name": "stdout",
     "output_type": "stream",
     "text": [
      "~~~~~~~~~~~~~~~~~~~~~~~~~~~~~~~~~~~~~~~~~~~~~~~~~~~~~~~\n",
      "This fold: 3 features selected for STABL\n",
      "This fold: 3 features selected for SS 03\n",
      "This fold: 1 features selected for SS 05\n",
      "This fold: 0 features selected for SS 08\n",
      "~~~~~~~~~~~~~~~~~~~~~~~~~~~~~~~~~~~~~~~~~~~~~~~~~~~~~~~\n",
      "\n",
      "**************************** Iteration 25 over 100 ***************************** \n",
      "\n",
      "55 train samples, 13 test samples\n"
     ]
    },
    {
     "name": "stderr",
     "output_type": "stream",
     "text": [
      "                                                               35<00:00,  9.24s/it]\r"
     ]
    },
    {
     "name": "stdout",
     "output_type": "stream",
     "text": [
      "STABL finished (55 samples); 8 features selected\n",
      "\n"
     ]
    },
    {
     "name": "stderr",
     "output_type": "stream",
     "text": [
      "                                                               11<00:00,  7.76s/it]\r"
     ]
    },
    {
     "name": "stdout",
     "output_type": "stream",
     "text": [
      "~~~~~~~~~~~~~~~~~~~~~~~~~~~~~~~~~~~~~~~~~~~~~~~~~~~~~~~\n",
      "This fold: 8 features selected for STABL\n",
      "This fold: 4 features selected for SS 03\n",
      "This fold: 1 features selected for SS 05\n",
      "This fold: 0 features selected for SS 08\n",
      "~~~~~~~~~~~~~~~~~~~~~~~~~~~~~~~~~~~~~~~~~~~~~~~~~~~~~~~\n",
      "\n",
      "**************************** Iteration 26 over 100 ***************************** \n",
      "\n",
      "54 train samples, 14 test samples\n"
     ]
    },
    {
     "name": "stderr",
     "output_type": "stream",
     "text": [
      "                                                               41<00:00, 13.45s/it]\r"
     ]
    },
    {
     "name": "stdout",
     "output_type": "stream",
     "text": [
      "STABL finished (54 samples); 6 features selected\n",
      "\n"
     ]
    },
    {
     "name": "stderr",
     "output_type": "stream",
     "text": [
      "                                                               13<00:00,  7.82s/it]\r"
     ]
    },
    {
     "name": "stdout",
     "output_type": "stream",
     "text": [
      "~~~~~~~~~~~~~~~~~~~~~~~~~~~~~~~~~~~~~~~~~~~~~~~~~~~~~~~\n",
      "This fold: 6 features selected for STABL\n",
      "This fold: 5 features selected for SS 03\n",
      "This fold: 0 features selected for SS 05\n",
      "This fold: 0 features selected for SS 08\n",
      "~~~~~~~~~~~~~~~~~~~~~~~~~~~~~~~~~~~~~~~~~~~~~~~~~~~~~~~\n",
      "\n",
      "**************************** Iteration 27 over 100 ***************************** \n",
      "\n",
      "54 train samples, 14 test samples\n"
     ]
    },
    {
     "name": "stderr",
     "output_type": "stream",
     "text": [
      "                                                               45<00:00, 12.40s/it]\r"
     ]
    },
    {
     "name": "stdout",
     "output_type": "stream",
     "text": [
      "STABL finished (54 samples); 23 features selected\n",
      "\n"
     ]
    },
    {
     "name": "stderr",
     "output_type": "stream",
     "text": [
      "                                                               09<00:00,  6.35s/it]\r"
     ]
    },
    {
     "name": "stdout",
     "output_type": "stream",
     "text": [
      "~~~~~~~~~~~~~~~~~~~~~~~~~~~~~~~~~~~~~~~~~~~~~~~~~~~~~~~\n",
      "This fold: 23 features selected for STABL\n",
      "This fold: 4 features selected for SS 03\n",
      "This fold: 0 features selected for SS 05\n",
      "This fold: 0 features selected for SS 08\n",
      "~~~~~~~~~~~~~~~~~~~~~~~~~~~~~~~~~~~~~~~~~~~~~~~~~~~~~~~\n",
      "\n",
      "**************************** Iteration 28 over 100 ***************************** \n",
      "\n",
      "54 train samples, 14 test samples\n"
     ]
    },
    {
     "name": "stderr",
     "output_type": "stream",
     "text": [
      "                                                               19<00:00,  8.88s/it]\r"
     ]
    },
    {
     "name": "stdout",
     "output_type": "stream",
     "text": [
      "STABL finished (54 samples); 5 features selected\n",
      "\n"
     ]
    },
    {
     "name": "stderr",
     "output_type": "stream",
     "text": [
      "                                                               05<00:00,  6.79s/it]\r"
     ]
    },
    {
     "name": "stdout",
     "output_type": "stream",
     "text": [
      "~~~~~~~~~~~~~~~~~~~~~~~~~~~~~~~~~~~~~~~~~~~~~~~~~~~~~~~\n",
      "This fold: 5 features selected for STABL\n",
      "This fold: 3 features selected for SS 03\n",
      "This fold: 0 features selected for SS 05\n",
      "This fold: 0 features selected for SS 08\n",
      "~~~~~~~~~~~~~~~~~~~~~~~~~~~~~~~~~~~~~~~~~~~~~~~~~~~~~~~\n",
      "\n",
      "**************************** Iteration 29 over 100 ***************************** \n",
      "\n",
      "55 train samples, 13 test samples\n"
     ]
    },
    {
     "name": "stderr",
     "output_type": "stream",
     "text": [
      "                                                               23<00:00,  9.50s/it]\r"
     ]
    },
    {
     "name": "stdout",
     "output_type": "stream",
     "text": [
      "STABL finished (55 samples); 18 features selected\n",
      "\n"
     ]
    },
    {
     "name": "stderr",
     "output_type": "stream",
     "text": [
      "                                                               33<00:00,  9.60s/it]\r"
     ]
    },
    {
     "name": "stdout",
     "output_type": "stream",
     "text": [
      "~~~~~~~~~~~~~~~~~~~~~~~~~~~~~~~~~~~~~~~~~~~~~~~~~~~~~~~\n",
      "This fold: 18 features selected for STABL\n",
      "This fold: 1 features selected for SS 03\n",
      "This fold: 1 features selected for SS 05\n",
      "This fold: 0 features selected for SS 08\n",
      "~~~~~~~~~~~~~~~~~~~~~~~~~~~~~~~~~~~~~~~~~~~~~~~~~~~~~~~\n",
      "\n",
      "**************************** Iteration 30 over 100 ***************************** \n",
      "\n",
      "55 train samples, 13 test samples\n"
     ]
    },
    {
     "name": "stderr",
     "output_type": "stream",
     "text": [
      "                                                               21<00:00, 11.01s/it]\r"
     ]
    },
    {
     "name": "stdout",
     "output_type": "stream",
     "text": [
      "STABL finished (55 samples); 3 features selected\n",
      "\n"
     ]
    },
    {
     "name": "stderr",
     "output_type": "stream",
     "text": [
      "                                                               08<00:00,  7.70s/it]\r"
     ]
    },
    {
     "name": "stdout",
     "output_type": "stream",
     "text": [
      "~~~~~~~~~~~~~~~~~~~~~~~~~~~~~~~~~~~~~~~~~~~~~~~~~~~~~~~\n",
      "This fold: 3 features selected for STABL\n",
      "This fold: 2 features selected for SS 03\n",
      "This fold: 0 features selected for SS 05\n",
      "This fold: 0 features selected for SS 08\n",
      "~~~~~~~~~~~~~~~~~~~~~~~~~~~~~~~~~~~~~~~~~~~~~~~~~~~~~~~\n",
      "\n",
      "**************************** Iteration 31 over 100 ***************************** \n",
      "\n",
      "54 train samples, 14 test samples\n"
     ]
    },
    {
     "name": "stderr",
     "output_type": "stream",
     "text": [
      "                                                               53<00:00, 15.30s/it]\r"
     ]
    },
    {
     "name": "stdout",
     "output_type": "stream",
     "text": [
      "STABL finished (54 samples); 3 features selected\n",
      "\n"
     ]
    },
    {
     "name": "stderr",
     "output_type": "stream",
     "text": [
      "                                                               41<00:00, 10.75s/it]\r"
     ]
    },
    {
     "name": "stdout",
     "output_type": "stream",
     "text": [
      "~~~~~~~~~~~~~~~~~~~~~~~~~~~~~~~~~~~~~~~~~~~~~~~~~~~~~~~\n",
      "This fold: 3 features selected for STABL\n",
      "This fold: 3 features selected for SS 03\n",
      "This fold: 1 features selected for SS 05\n",
      "This fold: 0 features selected for SS 08\n",
      "~~~~~~~~~~~~~~~~~~~~~~~~~~~~~~~~~~~~~~~~~~~~~~~~~~~~~~~\n",
      "\n",
      "**************************** Iteration 32 over 100 ***************************** \n",
      "\n",
      "54 train samples, 14 test samples\n"
     ]
    },
    {
     "name": "stderr",
     "output_type": "stream",
     "text": [
      "                                                               41<00:00, 16.66s/it]\r"
     ]
    },
    {
     "name": "stdout",
     "output_type": "stream",
     "text": [
      "STABL finished (54 samples); 7 features selected\n",
      "\n"
     ]
    },
    {
     "name": "stderr",
     "output_type": "stream",
     "text": [
      "                                                               31<00:00,  8.80s/it]\r"
     ]
    },
    {
     "name": "stdout",
     "output_type": "stream",
     "text": [
      "~~~~~~~~~~~~~~~~~~~~~~~~~~~~~~~~~~~~~~~~~~~~~~~~~~~~~~~\n",
      "This fold: 7 features selected for STABL\n",
      "This fold: 4 features selected for SS 03\n",
      "This fold: 1 features selected for SS 05\n",
      "This fold: 0 features selected for SS 08\n",
      "~~~~~~~~~~~~~~~~~~~~~~~~~~~~~~~~~~~~~~~~~~~~~~~~~~~~~~~\n",
      "\n",
      "**************************** Iteration 33 over 100 ***************************** \n",
      "\n",
      "54 train samples, 14 test samples\n"
     ]
    },
    {
     "name": "stderr",
     "output_type": "stream",
     "text": [
      "                                                               55<00:00, 14.79s/it]\r"
     ]
    },
    {
     "name": "stdout",
     "output_type": "stream",
     "text": [
      "STABL finished (54 samples); 6 features selected\n",
      "\n"
     ]
    },
    {
     "name": "stderr",
     "output_type": "stream",
     "text": [
      "                                                               56<00:00,  6.60s/it]\r"
     ]
    },
    {
     "name": "stdout",
     "output_type": "stream",
     "text": [
      "~~~~~~~~~~~~~~~~~~~~~~~~~~~~~~~~~~~~~~~~~~~~~~~~~~~~~~~\n",
      "This fold: 6 features selected for STABL\n",
      "This fold: 3 features selected for SS 03\n",
      "This fold: 2 features selected for SS 05\n",
      "This fold: 0 features selected for SS 08\n",
      "~~~~~~~~~~~~~~~~~~~~~~~~~~~~~~~~~~~~~~~~~~~~~~~~~~~~~~~\n",
      "\n",
      "**************************** Iteration 34 over 100 ***************************** \n",
      "\n",
      "55 train samples, 13 test samples\n"
     ]
    },
    {
     "name": "stderr",
     "output_type": "stream",
     "text": [
      "                                                               34<00:00, 22.00s/it]\r"
     ]
    },
    {
     "name": "stdout",
     "output_type": "stream",
     "text": [
      "STABL finished (55 samples); 8 features selected\n",
      "\n"
     ]
    },
    {
     "name": "stderr",
     "output_type": "stream",
     "text": [
      "                                                               58<00:00, 11.74s/it]\r"
     ]
    },
    {
     "name": "stdout",
     "output_type": "stream",
     "text": [
      "~~~~~~~~~~~~~~~~~~~~~~~~~~~~~~~~~~~~~~~~~~~~~~~~~~~~~~~\n",
      "This fold: 8 features selected for STABL\n",
      "This fold: 3 features selected for SS 03\n",
      "This fold: 0 features selected for SS 05\n",
      "This fold: 0 features selected for SS 08\n",
      "~~~~~~~~~~~~~~~~~~~~~~~~~~~~~~~~~~~~~~~~~~~~~~~~~~~~~~~\n",
      "\n",
      "**************************** Iteration 35 over 100 ***************************** \n",
      "\n",
      "55 train samples, 13 test samples\n"
     ]
    },
    {
     "name": "stderr",
     "output_type": "stream",
     "text": [
      "                                                               35<00:00, 22.61s/it]\r"
     ]
    },
    {
     "name": "stdout",
     "output_type": "stream",
     "text": [
      "STABL finished (55 samples); 2 features selected\n",
      "\n"
     ]
    },
    {
     "name": "stderr",
     "output_type": "stream",
     "text": [
      "                                                               08<00:00, 13.41s/it]\r"
     ]
    },
    {
     "name": "stdout",
     "output_type": "stream",
     "text": [
      "~~~~~~~~~~~~~~~~~~~~~~~~~~~~~~~~~~~~~~~~~~~~~~~~~~~~~~~\n",
      "This fold: 2 features selected for STABL\n",
      "This fold: 2 features selected for SS 03\n",
      "This fold: 0 features selected for SS 05\n",
      "This fold: 0 features selected for SS 08\n",
      "~~~~~~~~~~~~~~~~~~~~~~~~~~~~~~~~~~~~~~~~~~~~~~~~~~~~~~~\n",
      "\n",
      "**************************** Iteration 36 over 100 ***************************** \n",
      "\n",
      "54 train samples, 14 test samples\n"
     ]
    },
    {
     "name": "stderr",
     "output_type": "stream",
     "text": [
      "                                                               33<00:00, 25.78s/it]\r"
     ]
    },
    {
     "name": "stdout",
     "output_type": "stream",
     "text": [
      "STABL finished (54 samples); 21 features selected\n",
      "\n"
     ]
    },
    {
     "name": "stderr",
     "output_type": "stream",
     "text": [
      "                                                               29<00:00, 15.89s/it]\r"
     ]
    },
    {
     "name": "stdout",
     "output_type": "stream",
     "text": [
      "~~~~~~~~~~~~~~~~~~~~~~~~~~~~~~~~~~~~~~~~~~~~~~~~~~~~~~~\n",
      "This fold: 21 features selected for STABL\n",
      "This fold: 3 features selected for SS 03\n",
      "This fold: 0 features selected for SS 05\n",
      "This fold: 0 features selected for SS 08\n",
      "~~~~~~~~~~~~~~~~~~~~~~~~~~~~~~~~~~~~~~~~~~~~~~~~~~~~~~~\n",
      "\n",
      "**************************** Iteration 37 over 100 ***************************** \n",
      "\n",
      "54 train samples, 14 test samples\n"
     ]
    },
    {
     "name": "stderr",
     "output_type": "stream",
     "text": [
      "                                                               43<00:00, 29.52s/it]\r"
     ]
    },
    {
     "name": "stdout",
     "output_type": "stream",
     "text": [
      "STABL finished (54 samples); 6 features selected\n",
      "\n"
     ]
    },
    {
     "name": "stderr",
     "output_type": "stream",
     "text": [
      "                                                               38<00:00, 16.75s/it]\r"
     ]
    },
    {
     "name": "stdout",
     "output_type": "stream",
     "text": [
      "~~~~~~~~~~~~~~~~~~~~~~~~~~~~~~~~~~~~~~~~~~~~~~~~~~~~~~~\n",
      "This fold: 6 features selected for STABL\n",
      "This fold: 5 features selected for SS 03\n",
      "This fold: 0 features selected for SS 05\n",
      "This fold: 0 features selected for SS 08\n",
      "~~~~~~~~~~~~~~~~~~~~~~~~~~~~~~~~~~~~~~~~~~~~~~~~~~~~~~~\n",
      "\n",
      "**************************** Iteration 38 over 100 ***************************** \n",
      "\n",
      "54 train samples, 14 test samples\n"
     ]
    },
    {
     "name": "stderr",
     "output_type": "stream",
     "text": [
      "                                                               21<00:00, 31.20s/it]\r"
     ]
    },
    {
     "name": "stdout",
     "output_type": "stream",
     "text": [
      "STABL finished (54 samples); 11 features selected\n",
      "\n"
     ]
    },
    {
     "name": "stderr",
     "output_type": "stream",
     "text": [
      "                                                               46<00:00, 17.22s/it]\r"
     ]
    },
    {
     "name": "stdout",
     "output_type": "stream",
     "text": [
      "~~~~~~~~~~~~~~~~~~~~~~~~~~~~~~~~~~~~~~~~~~~~~~~~~~~~~~~\n",
      "This fold: 11 features selected for STABL\n",
      "This fold: 5 features selected for SS 03\n",
      "This fold: 0 features selected for SS 05\n",
      "This fold: 0 features selected for SS 08\n",
      "~~~~~~~~~~~~~~~~~~~~~~~~~~~~~~~~~~~~~~~~~~~~~~~~~~~~~~~\n",
      "\n",
      "**************************** Iteration 39 over 100 ***************************** \n",
      "\n",
      "55 train samples, 13 test samples\n"
     ]
    },
    {
     "name": "stderr",
     "output_type": "stream",
     "text": [
      "                                                               46<00:00, 34.27s/it]\r"
     ]
    },
    {
     "name": "stdout",
     "output_type": "stream",
     "text": [
      "STABL finished (55 samples); 8 features selected\n",
      "\n"
     ]
    },
    {
     "name": "stderr",
     "output_type": "stream",
     "text": [
      "                                                               59<00:00, 16.31s/it]\r"
     ]
    },
    {
     "name": "stdout",
     "output_type": "stream",
     "text": [
      "~~~~~~~~~~~~~~~~~~~~~~~~~~~~~~~~~~~~~~~~~~~~~~~~~~~~~~~\n",
      "This fold: 8 features selected for STABL\n",
      "This fold: 5 features selected for SS 03\n",
      "This fold: 1 features selected for SS 05\n",
      "This fold: 0 features selected for SS 08\n",
      "~~~~~~~~~~~~~~~~~~~~~~~~~~~~~~~~~~~~~~~~~~~~~~~~~~~~~~~\n",
      "\n",
      "**************************** Iteration 40 over 100 ***************************** \n",
      "\n",
      "55 train samples, 13 test samples\n"
     ]
    },
    {
     "name": "stderr",
     "output_type": "stream",
     "text": [
      "                                                               47<00:00, 33.31s/it]\r"
     ]
    },
    {
     "name": "stdout",
     "output_type": "stream",
     "text": [
      "STABL finished (55 samples); 3 features selected\n",
      "\n"
     ]
    },
    {
     "name": "stderr",
     "output_type": "stream",
     "text": [
      "                                                               06<00:00, 18.70s/it]\r"
     ]
    },
    {
     "name": "stdout",
     "output_type": "stream",
     "text": [
      "~~~~~~~~~~~~~~~~~~~~~~~~~~~~~~~~~~~~~~~~~~~~~~~~~~~~~~~\n",
      "This fold: 3 features selected for STABL\n",
      "This fold: 6 features selected for SS 03\n",
      "This fold: 0 features selected for SS 05\n",
      "This fold: 0 features selected for SS 08\n",
      "~~~~~~~~~~~~~~~~~~~~~~~~~~~~~~~~~~~~~~~~~~~~~~~~~~~~~~~\n",
      "\n",
      "**************************** Iteration 41 over 100 ***************************** \n",
      "\n",
      "54 train samples, 14 test samples\n"
     ]
    },
    {
     "name": "stderr",
     "output_type": "stream",
     "text": [
      "                                                               10<00:00, 23.02s/it]\r"
     ]
    },
    {
     "name": "stdout",
     "output_type": "stream",
     "text": [
      "STABL finished (54 samples); 10 features selected\n",
      "\n"
     ]
    },
    {
     "name": "stderr",
     "output_type": "stream",
     "text": [
      "                                                               03<00:00, 12.46s/it]\r"
     ]
    },
    {
     "name": "stdout",
     "output_type": "stream",
     "text": [
      "~~~~~~~~~~~~~~~~~~~~~~~~~~~~~~~~~~~~~~~~~~~~~~~~~~~~~~~\n",
      "This fold: 10 features selected for STABL\n",
      "This fold: 3 features selected for SS 03\n",
      "This fold: 0 features selected for SS 05\n",
      "This fold: 0 features selected for SS 08\n",
      "~~~~~~~~~~~~~~~~~~~~~~~~~~~~~~~~~~~~~~~~~~~~~~~~~~~~~~~\n",
      "\n",
      "**************************** Iteration 42 over 100 ***************************** \n",
      "\n",
      "54 train samples, 14 test samples\n"
     ]
    },
    {
     "name": "stderr",
     "output_type": "stream",
     "text": [
      "                                                               17<00:00, 27.04s/it]\r"
     ]
    },
    {
     "name": "stdout",
     "output_type": "stream",
     "text": [
      "STABL finished (54 samples); 16 features selected\n",
      "\n"
     ]
    },
    {
     "name": "stderr",
     "output_type": "stream",
     "text": [
      "                                                               26<00:00, 15.42s/it]\r"
     ]
    },
    {
     "name": "stdout",
     "output_type": "stream",
     "text": [
      "~~~~~~~~~~~~~~~~~~~~~~~~~~~~~~~~~~~~~~~~~~~~~~~~~~~~~~~\n",
      "This fold: 16 features selected for STABL\n",
      "This fold: 3 features selected for SS 03\n",
      "This fold: 0 features selected for SS 05\n",
      "This fold: 0 features selected for SS 08\n",
      "~~~~~~~~~~~~~~~~~~~~~~~~~~~~~~~~~~~~~~~~~~~~~~~~~~~~~~~\n",
      "\n",
      "**************************** Iteration 43 over 100 ***************************** \n",
      "\n",
      "54 train samples, 14 test samples\n"
     ]
    },
    {
     "name": "stderr",
     "output_type": "stream",
     "text": [
      "                                                               29<00:00, 56.05s/it]\r"
     ]
    },
    {
     "name": "stdout",
     "output_type": "stream",
     "text": [
      "STABL finished (54 samples); 10 features selected\n",
      "\n"
     ]
    },
    {
     "name": "stderr",
     "output_type": "stream",
     "text": [
      "                                                                9<00:00, 319.54s/it]\r"
     ]
    },
    {
     "name": "stdout",
     "output_type": "stream",
     "text": [
      "~~~~~~~~~~~~~~~~~~~~~~~~~~~~~~~~~~~~~~~~~~~~~~~~~~~~~~~\n",
      "This fold: 10 features selected for STABL\n",
      "This fold: 5 features selected for SS 03\n",
      "This fold: 0 features selected for SS 05\n",
      "This fold: 0 features selected for SS 08\n",
      "~~~~~~~~~~~~~~~~~~~~~~~~~~~~~~~~~~~~~~~~~~~~~~~~~~~~~~~\n",
      "\n",
      "**************************** Iteration 44 over 100 ***************************** \n",
      "\n",
      "55 train samples, 13 test samples\n"
     ]
    },
    {
     "name": "stderr",
     "output_type": "stream",
     "text": [
      "                                                               14<00:00, 18.45s/it]\r"
     ]
    },
    {
     "name": "stdout",
     "output_type": "stream",
     "text": [
      "STABL finished (55 samples); 27 features selected\n",
      "\n"
     ]
    },
    {
     "name": "stderr",
     "output_type": "stream",
     "text": [
      "                                                               37<00:00, 11.29s/it]\r"
     ]
    },
    {
     "name": "stdout",
     "output_type": "stream",
     "text": [
      "~~~~~~~~~~~~~~~~~~~~~~~~~~~~~~~~~~~~~~~~~~~~~~~~~~~~~~~\n",
      "This fold: 27 features selected for STABL\n",
      "This fold: 2 features selected for SS 03\n",
      "This fold: 0 features selected for SS 05\n",
      "This fold: 0 features selected for SS 08\n",
      "~~~~~~~~~~~~~~~~~~~~~~~~~~~~~~~~~~~~~~~~~~~~~~~~~~~~~~~\n",
      "\n",
      "**************************** Iteration 45 over 100 ***************************** \n",
      "\n",
      "55 train samples, 13 test samples\n"
     ]
    },
    {
     "name": "stderr",
     "output_type": "stream",
     "text": [
      "                                                               25<00:00, 18.85s/it]\r"
     ]
    },
    {
     "name": "stdout",
     "output_type": "stream",
     "text": [
      "STABL finished (55 samples); 22 features selected\n",
      "\n"
     ]
    },
    {
     "name": "stderr",
     "output_type": "stream",
     "text": [
      "                                                               50<00:00, 12.05s/it]\r"
     ]
    },
    {
     "name": "stdout",
     "output_type": "stream",
     "text": [
      "~~~~~~~~~~~~~~~~~~~~~~~~~~~~~~~~~~~~~~~~~~~~~~~~~~~~~~~\n",
      "This fold: 22 features selected for STABL\n",
      "This fold: 3 features selected for SS 03\n",
      "This fold: 0 features selected for SS 05\n",
      "This fold: 0 features selected for SS 08\n",
      "~~~~~~~~~~~~~~~~~~~~~~~~~~~~~~~~~~~~~~~~~~~~~~~~~~~~~~~\n",
      "\n",
      "**************************** Iteration 46 over 100 ***************************** \n",
      "\n",
      "54 train samples, 14 test samples\n"
     ]
    },
    {
     "name": "stderr",
     "output_type": "stream",
     "text": [
      "                                                               26<00:00, 27.85s/it]   \r"
     ]
    },
    {
     "name": "stdout",
     "output_type": "stream",
     "text": [
      "STABL finished (54 samples); 6 features selected\n",
      "\n"
     ]
    },
    {
     "name": "stderr",
     "output_type": "stream",
     "text": [
      "                                                               30<00:00, 10.27s/it]\r"
     ]
    },
    {
     "name": "stdout",
     "output_type": "stream",
     "text": [
      "~~~~~~~~~~~~~~~~~~~~~~~~~~~~~~~~~~~~~~~~~~~~~~~~~~~~~~~\n",
      "This fold: 6 features selected for STABL\n",
      "This fold: 4 features selected for SS 03\n",
      "This fold: 0 features selected for SS 05\n",
      "This fold: 0 features selected for SS 08\n",
      "~~~~~~~~~~~~~~~~~~~~~~~~~~~~~~~~~~~~~~~~~~~~~~~~~~~~~~~\n",
      "\n",
      "**************************** Iteration 47 over 100 ***************************** \n",
      "\n",
      "54 train samples, 14 test samples\n"
     ]
    },
    {
     "name": "stderr",
     "output_type": "stream",
     "text": [
      "                                                               14<00:00, 17.69s/it]\r"
     ]
    },
    {
     "name": "stdout",
     "output_type": "stream",
     "text": [
      "STABL finished (54 samples); 4 features selected\n",
      "\n"
     ]
    },
    {
     "name": "stderr",
     "output_type": "stream",
     "text": [
      "                                                               38<00:00, 11.24s/it]\r"
     ]
    },
    {
     "name": "stdout",
     "output_type": "stream",
     "text": [
      "~~~~~~~~~~~~~~~~~~~~~~~~~~~~~~~~~~~~~~~~~~~~~~~~~~~~~~~\n",
      "This fold: 4 features selected for STABL\n",
      "This fold: 2 features selected for SS 03\n",
      "This fold: 0 features selected for SS 05\n",
      "This fold: 0 features selected for SS 08\n",
      "~~~~~~~~~~~~~~~~~~~~~~~~~~~~~~~~~~~~~~~~~~~~~~~~~~~~~~~\n",
      "\n",
      "**************************** Iteration 48 over 100 ***************************** \n",
      "\n",
      "54 train samples, 14 test samples\n"
     ]
    },
    {
     "name": "stderr",
     "output_type": "stream",
     "text": [
      "                                                               24<00:00, 19.42s/it]\r"
     ]
    },
    {
     "name": "stdout",
     "output_type": "stream",
     "text": [
      "STABL finished (54 samples); 18 features selected\n",
      "\n"
     ]
    },
    {
     "name": "stderr",
     "output_type": "stream",
     "text": [
      "                                                               42<00:00, 11.82s/it]\r"
     ]
    },
    {
     "name": "stdout",
     "output_type": "stream",
     "text": [
      "~~~~~~~~~~~~~~~~~~~~~~~~~~~~~~~~~~~~~~~~~~~~~~~~~~~~~~~\n",
      "This fold: 18 features selected for STABL\n",
      "This fold: 4 features selected for SS 03\n",
      "This fold: 0 features selected for SS 05\n",
      "This fold: 0 features selected for SS 08\n",
      "~~~~~~~~~~~~~~~~~~~~~~~~~~~~~~~~~~~~~~~~~~~~~~~~~~~~~~~\n",
      "\n",
      "**************************** Iteration 49 over 100 ***************************** \n",
      "\n",
      "55 train samples, 13 test samples\n"
     ]
    },
    {
     "name": "stderr",
     "output_type": "stream",
     "text": [
      "                                                               09<00:00, 17.97s/it]\r"
     ]
    },
    {
     "name": "stdout",
     "output_type": "stream",
     "text": [
      "STABL finished (55 samples); 5 features selected\n",
      "\n"
     ]
    },
    {
     "name": "stderr",
     "output_type": "stream",
     "text": [
      "                                                               28<00:00,  9.14s/it]\r"
     ]
    },
    {
     "name": "stdout",
     "output_type": "stream",
     "text": [
      "~~~~~~~~~~~~~~~~~~~~~~~~~~~~~~~~~~~~~~~~~~~~~~~~~~~~~~~\n",
      "This fold: 5 features selected for STABL\n",
      "This fold: 4 features selected for SS 03\n",
      "This fold: 1 features selected for SS 05\n",
      "This fold: 0 features selected for SS 08\n",
      "~~~~~~~~~~~~~~~~~~~~~~~~~~~~~~~~~~~~~~~~~~~~~~~~~~~~~~~\n",
      "\n",
      "**************************** Iteration 50 over 100 ***************************** \n",
      "\n",
      "55 train samples, 13 test samples\n"
     ]
    },
    {
     "name": "stderr",
     "output_type": "stream",
     "text": [
      "                                                               43<00:00, 19.42s/it]\r"
     ]
    },
    {
     "name": "stdout",
     "output_type": "stream",
     "text": [
      "STABL finished (55 samples); 19 features selected\n",
      "\n"
     ]
    },
    {
     "name": "stderr",
     "output_type": "stream",
     "text": [
      "                                                               11<00:00,  7.27s/it]\r"
     ]
    },
    {
     "name": "stdout",
     "output_type": "stream",
     "text": [
      "~~~~~~~~~~~~~~~~~~~~~~~~~~~~~~~~~~~~~~~~~~~~~~~~~~~~~~~\n",
      "This fold: 19 features selected for STABL\n",
      "This fold: 2 features selected for SS 03\n",
      "This fold: 0 features selected for SS 05\n",
      "This fold: 0 features selected for SS 08\n",
      "~~~~~~~~~~~~~~~~~~~~~~~~~~~~~~~~~~~~~~~~~~~~~~~~~~~~~~~\n",
      "\n",
      "**************************** Iteration 51 over 100 ***************************** \n",
      "\n",
      "54 train samples, 14 test samples\n"
     ]
    },
    {
     "name": "stderr",
     "output_type": "stream",
     "text": [
      "                                                               29<00:00, 11.23s/it]\r"
     ]
    },
    {
     "name": "stdout",
     "output_type": "stream",
     "text": [
      "STABL finished (54 samples); 8 features selected\n",
      "\n"
     ]
    },
    {
     "name": "stderr",
     "output_type": "stream",
     "text": [
      "                                                               39<00:00,  4.00s/it]\r"
     ]
    },
    {
     "name": "stdout",
     "output_type": "stream",
     "text": [
      "~~~~~~~~~~~~~~~~~~~~~~~~~~~~~~~~~~~~~~~~~~~~~~~~~~~~~~~\n",
      "This fold: 8 features selected for STABL\n",
      "This fold: 6 features selected for SS 03\n",
      "This fold: 1 features selected for SS 05\n",
      "This fold: 0 features selected for SS 08\n",
      "~~~~~~~~~~~~~~~~~~~~~~~~~~~~~~~~~~~~~~~~~~~~~~~~~~~~~~~\n",
      "\n",
      "**************************** Iteration 52 over 100 ***************************** \n",
      "\n",
      "54 train samples, 14 test samples\n"
     ]
    },
    {
     "name": "stderr",
     "output_type": "stream",
     "text": [
      "                                                               14<00:00, 13.44s/it]\r"
     ]
    },
    {
     "name": "stdout",
     "output_type": "stream",
     "text": [
      "STABL finished (54 samples); 14 features selected\n",
      "\n"
     ]
    },
    {
     "name": "stderr",
     "output_type": "stream",
     "text": [
      "                                                               42<00:00,  4.07s/it]\r"
     ]
    },
    {
     "name": "stdout",
     "output_type": "stream",
     "text": [
      "~~~~~~~~~~~~~~~~~~~~~~~~~~~~~~~~~~~~~~~~~~~~~~~~~~~~~~~\n",
      "This fold: 14 features selected for STABL\n",
      "This fold: 2 features selected for SS 03\n",
      "This fold: 0 features selected for SS 05\n",
      "This fold: 0 features selected for SS 08\n",
      "~~~~~~~~~~~~~~~~~~~~~~~~~~~~~~~~~~~~~~~~~~~~~~~~~~~~~~~\n",
      "\n",
      "**************************** Iteration 53 over 100 ***************************** \n",
      "\n",
      "54 train samples, 14 test samples\n"
     ]
    },
    {
     "name": "stderr",
     "output_type": "stream",
     "text": [
      "                                                               43<00:00,  9.62s/it]\r"
     ]
    },
    {
     "name": "stdout",
     "output_type": "stream",
     "text": [
      "STABL finished (54 samples); 12 features selected\n",
      "\n"
     ]
    },
    {
     "name": "stderr",
     "output_type": "stream",
     "text": [
      "                                                               43<00:00,  5.26s/it]\r"
     ]
    },
    {
     "name": "stdout",
     "output_type": "stream",
     "text": [
      "~~~~~~~~~~~~~~~~~~~~~~~~~~~~~~~~~~~~~~~~~~~~~~~~~~~~~~~\n",
      "This fold: 12 features selected for STABL\n",
      "This fold: 6 features selected for SS 03\n",
      "This fold: 2 features selected for SS 05\n",
      "This fold: 0 features selected for SS 08\n",
      "~~~~~~~~~~~~~~~~~~~~~~~~~~~~~~~~~~~~~~~~~~~~~~~~~~~~~~~\n",
      "\n",
      "**************************** Iteration 54 over 100 ***************************** \n",
      "\n",
      "55 train samples, 13 test samples\n"
     ]
    },
    {
     "name": "stderr",
     "output_type": "stream",
     "text": [
      "                                                               04<00:00, 13.22s/it]\r"
     ]
    },
    {
     "name": "stdout",
     "output_type": "stream",
     "text": [
      "STABL finished (55 samples); 13 features selected\n",
      "\n"
     ]
    },
    {
     "name": "stderr",
     "output_type": "stream",
     "text": [
      "                                                               57<00:00,  6.02s/it]\r"
     ]
    },
    {
     "name": "stdout",
     "output_type": "stream",
     "text": [
      "~~~~~~~~~~~~~~~~~~~~~~~~~~~~~~~~~~~~~~~~~~~~~~~~~~~~~~~\n",
      "This fold: 13 features selected for STABL\n",
      "This fold: 2 features selected for SS 03\n",
      "This fold: 0 features selected for SS 05\n",
      "This fold: 0 features selected for SS 08\n",
      "~~~~~~~~~~~~~~~~~~~~~~~~~~~~~~~~~~~~~~~~~~~~~~~~~~~~~~~\n",
      "\n",
      "**************************** Iteration 55 over 100 ***************************** \n",
      "\n",
      "55 train samples, 13 test samples\n"
     ]
    },
    {
     "name": "stderr",
     "output_type": "stream",
     "text": [
      "                                                               52<00:00, 12.70s/it]\r"
     ]
    },
    {
     "name": "stdout",
     "output_type": "stream",
     "text": [
      "STABL finished (55 samples); 3 features selected\n",
      "\n"
     ]
    },
    {
     "name": "stderr",
     "output_type": "stream",
     "text": [
      "                                                               44<00:00,  4.26s/it]\r"
     ]
    },
    {
     "name": "stdout",
     "output_type": "stream",
     "text": [
      "~~~~~~~~~~~~~~~~~~~~~~~~~~~~~~~~~~~~~~~~~~~~~~~~~~~~~~~\n",
      "This fold: 3 features selected for STABL\n",
      "This fold: 3 features selected for SS 03\n",
      "This fold: 0 features selected for SS 05\n",
      "This fold: 0 features selected for SS 08\n",
      "~~~~~~~~~~~~~~~~~~~~~~~~~~~~~~~~~~~~~~~~~~~~~~~~~~~~~~~\n",
      "\n",
      "**************************** Iteration 56 over 100 ***************************** \n",
      "\n",
      "54 train samples, 14 test samples\n"
     ]
    },
    {
     "name": "stderr",
     "output_type": "stream",
     "text": [
      "                                                               04<00:00, 26.80s/it]\r"
     ]
    },
    {
     "name": "stdout",
     "output_type": "stream",
     "text": [
      "STABL finished (54 samples); 6 features selected\n",
      "\n"
     ]
    },
    {
     "name": "stderr",
     "output_type": "stream",
     "text": [
      "                                                               51<00:00,  4.86s/it]\r"
     ]
    },
    {
     "name": "stdout",
     "output_type": "stream",
     "text": [
      "~~~~~~~~~~~~~~~~~~~~~~~~~~~~~~~~~~~~~~~~~~~~~~~~~~~~~~~\n",
      "This fold: 6 features selected for STABL\n",
      "This fold: 4 features selected for SS 03\n",
      "This fold: 1 features selected for SS 05\n",
      "This fold: 0 features selected for SS 08\n",
      "~~~~~~~~~~~~~~~~~~~~~~~~~~~~~~~~~~~~~~~~~~~~~~~~~~~~~~~\n",
      "\n",
      "**************************** Iteration 57 over 100 ***************************** \n",
      "\n",
      "54 train samples, 14 test samples\n"
     ]
    },
    {
     "name": "stderr",
     "output_type": "stream",
     "text": [
      "                                                               12<00:00, 10.91s/it]\r"
     ]
    },
    {
     "name": "stdout",
     "output_type": "stream",
     "text": [
      "STABL finished (54 samples); 16 features selected\n",
      "\n"
     ]
    },
    {
     "name": "stderr",
     "output_type": "stream",
     "text": [
      "                                                               57<00:00,  7.12s/it]\r"
     ]
    },
    {
     "name": "stdout",
     "output_type": "stream",
     "text": [
      "~~~~~~~~~~~~~~~~~~~~~~~~~~~~~~~~~~~~~~~~~~~~~~~~~~~~~~~\n",
      "This fold: 16 features selected for STABL\n",
      "This fold: 3 features selected for SS 03\n",
      "This fold: 0 features selected for SS 05\n",
      "This fold: 0 features selected for SS 08\n",
      "~~~~~~~~~~~~~~~~~~~~~~~~~~~~~~~~~~~~~~~~~~~~~~~~~~~~~~~\n",
      "\n",
      "**************************** Iteration 58 over 100 ***************************** \n",
      "\n",
      "54 train samples, 14 test samples\n"
     ]
    },
    {
     "name": "stderr",
     "output_type": "stream",
     "text": [
      "                                                               25<00:00,  8.00s/it]\r"
     ]
    },
    {
     "name": "stdout",
     "output_type": "stream",
     "text": [
      "STABL finished (54 samples); 13 features selected\n",
      "\n"
     ]
    },
    {
     "name": "stderr",
     "output_type": "stream",
     "text": [
      "                                                               03<00:00,  6.20s/it]\r"
     ]
    },
    {
     "name": "stdout",
     "output_type": "stream",
     "text": [
      "~~~~~~~~~~~~~~~~~~~~~~~~~~~~~~~~~~~~~~~~~~~~~~~~~~~~~~~\n",
      "This fold: 13 features selected for STABL\n",
      "This fold: 4 features selected for SS 03\n",
      "This fold: 0 features selected for SS 05\n",
      "This fold: 0 features selected for SS 08\n",
      "~~~~~~~~~~~~~~~~~~~~~~~~~~~~~~~~~~~~~~~~~~~~~~~~~~~~~~~\n",
      "\n",
      "**************************** Iteration 59 over 100 ***************************** \n",
      "\n",
      "55 train samples, 13 test samples\n"
     ]
    },
    {
     "name": "stderr",
     "output_type": "stream",
     "text": [
      "                                                               38<00:00,  8.89s/it]\r"
     ]
    },
    {
     "name": "stdout",
     "output_type": "stream",
     "text": [
      "STABL finished (55 samples); 2 features selected\n",
      "\n"
     ]
    },
    {
     "name": "stderr",
     "output_type": "stream",
     "text": [
      "                                                                7<00:00, 166.22s/it]\r"
     ]
    },
    {
     "name": "stdout",
     "output_type": "stream",
     "text": [
      "~~~~~~~~~~~~~~~~~~~~~~~~~~~~~~~~~~~~~~~~~~~~~~~~~~~~~~~\n",
      "This fold: 2 features selected for STABL\n",
      "This fold: 5 features selected for SS 03\n",
      "This fold: 1 features selected for SS 05\n",
      "This fold: 0 features selected for SS 08\n",
      "~~~~~~~~~~~~~~~~~~~~~~~~~~~~~~~~~~~~~~~~~~~~~~~~~~~~~~~\n",
      "\n",
      "**************************** Iteration 60 over 100 ***************************** \n",
      "\n",
      "55 train samples, 13 test samples\n"
     ]
    },
    {
     "name": "stderr",
     "output_type": "stream",
     "text": [
      "                                                               42<00:00, 20.36s/it]\r"
     ]
    },
    {
     "name": "stdout",
     "output_type": "stream",
     "text": [
      "STABL finished (55 samples); 16 features selected\n",
      "\n"
     ]
    },
    {
     "name": "stderr",
     "output_type": "stream",
     "text": [
      "                                                               12<00:00,  6.24s/it]\r"
     ]
    },
    {
     "name": "stdout",
     "output_type": "stream",
     "text": [
      "~~~~~~~~~~~~~~~~~~~~~~~~~~~~~~~~~~~~~~~~~~~~~~~~~~~~~~~\n",
      "This fold: 16 features selected for STABL\n",
      "This fold: 3 features selected for SS 03\n",
      "This fold: 0 features selected for SS 05\n",
      "This fold: 0 features selected for SS 08\n",
      "~~~~~~~~~~~~~~~~~~~~~~~~~~~~~~~~~~~~~~~~~~~~~~~~~~~~~~~\n",
      "\n",
      "**************************** Iteration 61 over 100 ***************************** \n",
      "\n",
      "54 train samples, 14 test samples\n"
     ]
    },
    {
     "name": "stderr",
     "output_type": "stream",
     "text": [
      "                                                               31<00:00, 12.97s/it]\r"
     ]
    },
    {
     "name": "stdout",
     "output_type": "stream",
     "text": [
      "STABL finished (54 samples); 13 features selected\n",
      "\n"
     ]
    },
    {
     "name": "stderr",
     "output_type": "stream",
     "text": [
      "                                                               07<00:00,  7.92s/it]\r"
     ]
    },
    {
     "name": "stdout",
     "output_type": "stream",
     "text": [
      "~~~~~~~~~~~~~~~~~~~~~~~~~~~~~~~~~~~~~~~~~~~~~~~~~~~~~~~\n",
      "This fold: 13 features selected for STABL\n",
      "This fold: 1 features selected for SS 03\n",
      "This fold: 1 features selected for SS 05\n",
      "This fold: 0 features selected for SS 08\n",
      "~~~~~~~~~~~~~~~~~~~~~~~~~~~~~~~~~~~~~~~~~~~~~~~~~~~~~~~\n",
      "\n",
      "**************************** Iteration 62 over 100 ***************************** \n",
      "\n",
      "54 train samples, 14 test samples\n"
     ]
    },
    {
     "name": "stderr",
     "output_type": "stream",
     "text": [
      "                                                               59<00:00, 12.52s/it]\r"
     ]
    },
    {
     "name": "stdout",
     "output_type": "stream",
     "text": [
      "STABL finished (54 samples); 19 features selected\n",
      "\n"
     ]
    },
    {
     "name": "stderr",
     "output_type": "stream",
     "text": [
      "                                                               12<00:00,  6.97s/it]\r"
     ]
    },
    {
     "name": "stdout",
     "output_type": "stream",
     "text": [
      "~~~~~~~~~~~~~~~~~~~~~~~~~~~~~~~~~~~~~~~~~~~~~~~~~~~~~~~\n",
      "This fold: 19 features selected for STABL\n",
      "This fold: 2 features selected for SS 03\n",
      "This fold: 0 features selected for SS 05\n",
      "This fold: 0 features selected for SS 08\n",
      "~~~~~~~~~~~~~~~~~~~~~~~~~~~~~~~~~~~~~~~~~~~~~~~~~~~~~~~\n",
      "\n",
      "**************************** Iteration 63 over 100 ***************************** \n",
      "\n",
      "54 train samples, 14 test samples\n"
     ]
    },
    {
     "name": "stderr",
     "output_type": "stream",
     "text": [
      "                                                               47<00:00, 12.17s/it]\r"
     ]
    },
    {
     "name": "stdout",
     "output_type": "stream",
     "text": [
      "STABL finished (54 samples); 3 features selected\n",
      "\n"
     ]
    },
    {
     "name": "stderr",
     "output_type": "stream",
     "text": [
      "                                                               37<00:00, 11.27s/it]\r"
     ]
    },
    {
     "name": "stdout",
     "output_type": "stream",
     "text": [
      "~~~~~~~~~~~~~~~~~~~~~~~~~~~~~~~~~~~~~~~~~~~~~~~~~~~~~~~\n",
      "This fold: 3 features selected for STABL\n",
      "This fold: 5 features selected for SS 03\n",
      "This fold: 1 features selected for SS 05\n",
      "This fold: 0 features selected for SS 08\n",
      "~~~~~~~~~~~~~~~~~~~~~~~~~~~~~~~~~~~~~~~~~~~~~~~~~~~~~~~\n",
      "\n",
      "**************************** Iteration 64 over 100 ***************************** \n",
      "\n",
      "55 train samples, 13 test samples\n"
     ]
    },
    {
     "name": "stderr",
     "output_type": "stream",
     "text": [
      "                                                               11<00:00, 17.44s/it]\r"
     ]
    },
    {
     "name": "stdout",
     "output_type": "stream",
     "text": [
      "STABL finished (55 samples); 15 features selected\n",
      "\n"
     ]
    },
    {
     "name": "stderr",
     "output_type": "stream",
     "text": [
      "                                                               32<00:00,  8.98s/it]\r"
     ]
    },
    {
     "name": "stdout",
     "output_type": "stream",
     "text": [
      "~~~~~~~~~~~~~~~~~~~~~~~~~~~~~~~~~~~~~~~~~~~~~~~~~~~~~~~\n",
      "This fold: 15 features selected for STABL\n",
      "This fold: 2 features selected for SS 03\n",
      "This fold: 0 features selected for SS 05\n",
      "This fold: 0 features selected for SS 08\n",
      "~~~~~~~~~~~~~~~~~~~~~~~~~~~~~~~~~~~~~~~~~~~~~~~~~~~~~~~\n",
      "\n",
      "**************************** Iteration 65 over 100 ***************************** \n",
      "\n",
      "55 train samples, 13 test samples\n"
     ]
    },
    {
     "name": "stderr",
     "output_type": "stream",
     "text": [
      "                                                               23<00:00, 12.51s/it]\r"
     ]
    },
    {
     "name": "stdout",
     "output_type": "stream",
     "text": [
      "STABL finished (55 samples); 10 features selected\n",
      "\n"
     ]
    },
    {
     "name": "stderr",
     "output_type": "stream",
     "text": [
      "                                                               11<00:00,  8.42s/it]\r"
     ]
    },
    {
     "name": "stdout",
     "output_type": "stream",
     "text": [
      "~~~~~~~~~~~~~~~~~~~~~~~~~~~~~~~~~~~~~~~~~~~~~~~~~~~~~~~\n",
      "This fold: 10 features selected for STABL\n",
      "This fold: 6 features selected for SS 03\n",
      "This fold: 0 features selected for SS 05\n",
      "This fold: 0 features selected for SS 08\n",
      "~~~~~~~~~~~~~~~~~~~~~~~~~~~~~~~~~~~~~~~~~~~~~~~~~~~~~~~\n",
      "\n",
      "**************************** Iteration 66 over 100 ***************************** \n",
      "\n",
      "54 train samples, 14 test samples\n"
     ]
    },
    {
     "name": "stderr",
     "output_type": "stream",
     "text": [
      "                                                               42<00:00, 13.96s/it]\r"
     ]
    },
    {
     "name": "stdout",
     "output_type": "stream",
     "text": [
      "STABL finished (54 samples); 6 features selected\n",
      "\n"
     ]
    },
    {
     "name": "stderr",
     "output_type": "stream",
     "text": [
      "                                                               06<00:00,  6.76s/it]\r"
     ]
    },
    {
     "name": "stdout",
     "output_type": "stream",
     "text": [
      "~~~~~~~~~~~~~~~~~~~~~~~~~~~~~~~~~~~~~~~~~~~~~~~~~~~~~~~\n",
      "This fold: 6 features selected for STABL\n",
      "This fold: 6 features selected for SS 03\n",
      "This fold: 0 features selected for SS 05\n",
      "This fold: 0 features selected for SS 08\n",
      "~~~~~~~~~~~~~~~~~~~~~~~~~~~~~~~~~~~~~~~~~~~~~~~~~~~~~~~\n",
      "\n",
      "**************************** Iteration 67 over 100 ***************************** \n",
      "\n",
      "54 train samples, 14 test samples\n"
     ]
    },
    {
     "name": "stderr",
     "output_type": "stream",
     "text": [
      "                                                               05<00:00, 15.09s/it]\r"
     ]
    },
    {
     "name": "stdout",
     "output_type": "stream",
     "text": [
      "STABL finished (54 samples); 8 features selected\n",
      "\n"
     ]
    },
    {
     "name": "stderr",
     "output_type": "stream",
     "text": [
      "                                                               54<00:00,  6.11s/it]\r"
     ]
    },
    {
     "name": "stdout",
     "output_type": "stream",
     "text": [
      "~~~~~~~~~~~~~~~~~~~~~~~~~~~~~~~~~~~~~~~~~~~~~~~~~~~~~~~\n",
      "This fold: 8 features selected for STABL\n",
      "This fold: 5 features selected for SS 03\n",
      "This fold: 0 features selected for SS 05\n",
      "This fold: 0 features selected for SS 08\n",
      "~~~~~~~~~~~~~~~~~~~~~~~~~~~~~~~~~~~~~~~~~~~~~~~~~~~~~~~\n",
      "\n",
      "**************************** Iteration 68 over 100 ***************************** \n",
      "\n",
      "54 train samples, 14 test samples\n"
     ]
    },
    {
     "name": "stderr",
     "output_type": "stream",
     "text": [
      "                                                               16<00:00, 13.59s/it]\r"
     ]
    },
    {
     "name": "stdout",
     "output_type": "stream",
     "text": [
      "STABL finished (54 samples); 12 features selected\n",
      "\n"
     ]
    },
    {
     "name": "stderr",
     "output_type": "stream",
     "text": [
      "                                                               46<00:00,  4.37s/it]\r"
     ]
    },
    {
     "name": "stdout",
     "output_type": "stream",
     "text": [
      "~~~~~~~~~~~~~~~~~~~~~~~~~~~~~~~~~~~~~~~~~~~~~~~~~~~~~~~\n",
      "This fold: 12 features selected for STABL\n",
      "This fold: 4 features selected for SS 03\n",
      "This fold: 1 features selected for SS 05\n",
      "This fold: 0 features selected for SS 08\n",
      "~~~~~~~~~~~~~~~~~~~~~~~~~~~~~~~~~~~~~~~~~~~~~~~~~~~~~~~\n",
      "\n",
      "**************************** Iteration 69 over 100 ***************************** \n",
      "\n",
      "55 train samples, 13 test samples\n"
     ]
    },
    {
     "name": "stderr",
     "output_type": "stream",
     "text": [
      "                                                               54<00:00, 12.09s/it]\r"
     ]
    },
    {
     "name": "stdout",
     "output_type": "stream",
     "text": [
      "STABL finished (55 samples); 21 features selected\n",
      "\n"
     ]
    },
    {
     "name": "stderr",
     "output_type": "stream",
     "text": [
      "                                                               50<00:00,  4.60s/it]\r"
     ]
    },
    {
     "name": "stdout",
     "output_type": "stream",
     "text": [
      "~~~~~~~~~~~~~~~~~~~~~~~~~~~~~~~~~~~~~~~~~~~~~~~~~~~~~~~\n",
      "This fold: 21 features selected for STABL\n",
      "This fold: 1 features selected for SS 03\n",
      "This fold: 0 features selected for SS 05\n",
      "This fold: 0 features selected for SS 08\n",
      "~~~~~~~~~~~~~~~~~~~~~~~~~~~~~~~~~~~~~~~~~~~~~~~~~~~~~~~\n",
      "\n",
      "**************************** Iteration 70 over 100 ***************************** \n",
      "\n",
      "55 train samples, 13 test samples\n"
     ]
    },
    {
     "name": "stderr",
     "output_type": "stream",
     "text": [
      "                                                               22<00:00, 13.49s/it]\r"
     ]
    },
    {
     "name": "stdout",
     "output_type": "stream",
     "text": [
      "STABL finished (55 samples); 7 features selected\n",
      "\n"
     ]
    },
    {
     "name": "stderr",
     "output_type": "stream",
     "text": [
      "                                                               04<00:00,  6.56s/it]\r"
     ]
    },
    {
     "name": "stdout",
     "output_type": "stream",
     "text": [
      "~~~~~~~~~~~~~~~~~~~~~~~~~~~~~~~~~~~~~~~~~~~~~~~~~~~~~~~\n",
      "This fold: 7 features selected for STABL\n",
      "This fold: 4 features selected for SS 03\n",
      "This fold: 0 features selected for SS 05\n",
      "This fold: 0 features selected for SS 08\n",
      "~~~~~~~~~~~~~~~~~~~~~~~~~~~~~~~~~~~~~~~~~~~~~~~~~~~~~~~\n",
      "\n",
      "**************************** Iteration 71 over 100 ***************************** \n",
      "\n",
      "54 train samples, 14 test samples\n"
     ]
    },
    {
     "name": "stderr",
     "output_type": "stream",
     "text": [
      "                                                               52<00:00,  9.71s/it]\r"
     ]
    },
    {
     "name": "stdout",
     "output_type": "stream",
     "text": [
      "STABL finished (54 samples); 6 features selected\n",
      "\n"
     ]
    },
    {
     "name": "stderr",
     "output_type": "stream",
     "text": [
      "                                                               22<00:00,  6.98s/it]\r"
     ]
    },
    {
     "name": "stdout",
     "output_type": "stream",
     "text": [
      "~~~~~~~~~~~~~~~~~~~~~~~~~~~~~~~~~~~~~~~~~~~~~~~~~~~~~~~\n",
      "This fold: 6 features selected for STABL\n",
      "This fold: 4 features selected for SS 03\n",
      "This fold: 0 features selected for SS 05\n",
      "This fold: 0 features selected for SS 08\n",
      "~~~~~~~~~~~~~~~~~~~~~~~~~~~~~~~~~~~~~~~~~~~~~~~~~~~~~~~\n",
      "\n",
      "**************************** Iteration 72 over 100 ***************************** \n",
      "\n",
      "54 train samples, 14 test samples\n"
     ]
    },
    {
     "name": "stderr",
     "output_type": "stream",
     "text": [
      "                                                               57<00:00, 14.12s/it]\r"
     ]
    },
    {
     "name": "stdout",
     "output_type": "stream",
     "text": [
      "STABL finished (54 samples); 20 features selected\n",
      "\n"
     ]
    },
    {
     "name": "stderr",
     "output_type": "stream",
     "text": [
      "                                                               09<00:00,  7.34s/it]\r"
     ]
    },
    {
     "name": "stdout",
     "output_type": "stream",
     "text": [
      "~~~~~~~~~~~~~~~~~~~~~~~~~~~~~~~~~~~~~~~~~~~~~~~~~~~~~~~\n",
      "This fold: 20 features selected for STABL\n",
      "This fold: 5 features selected for SS 03\n",
      "This fold: 0 features selected for SS 05\n",
      "This fold: 0 features selected for SS 08\n",
      "~~~~~~~~~~~~~~~~~~~~~~~~~~~~~~~~~~~~~~~~~~~~~~~~~~~~~~~\n",
      "\n",
      "**************************** Iteration 73 over 100 ***************************** \n",
      "\n",
      "54 train samples, 14 test samples\n"
     ]
    },
    {
     "name": "stderr",
     "output_type": "stream",
     "text": [
      "                                                               52<00:00, 12.35s/it]\r"
     ]
    },
    {
     "name": "stdout",
     "output_type": "stream",
     "text": [
      "STABL finished (54 samples); 6 features selected\n",
      "\n"
     ]
    },
    {
     "name": "stderr",
     "output_type": "stream",
     "text": [
      "                                                               00<00:00,  6.13s/it]\r"
     ]
    },
    {
     "name": "stdout",
     "output_type": "stream",
     "text": [
      "~~~~~~~~~~~~~~~~~~~~~~~~~~~~~~~~~~~~~~~~~~~~~~~~~~~~~~~\n",
      "This fold: 6 features selected for STABL\n",
      "This fold: 4 features selected for SS 03\n",
      "This fold: 1 features selected for SS 05\n",
      "This fold: 0 features selected for SS 08\n",
      "~~~~~~~~~~~~~~~~~~~~~~~~~~~~~~~~~~~~~~~~~~~~~~~~~~~~~~~\n",
      "\n",
      "**************************** Iteration 74 over 100 ***************************** \n",
      "\n",
      "55 train samples, 13 test samples\n"
     ]
    },
    {
     "name": "stderr",
     "output_type": "stream",
     "text": [
      "                                                               29<00:00,  8.62s/it]\r"
     ]
    },
    {
     "name": "stdout",
     "output_type": "stream",
     "text": [
      "STABL finished (55 samples); 3 features selected\n",
      "\n"
     ]
    },
    {
     "name": "stderr",
     "output_type": "stream",
     "text": [
      "                                                               03<00:00,  7.20s/it]\r"
     ]
    },
    {
     "name": "stdout",
     "output_type": "stream",
     "text": [
      "~~~~~~~~~~~~~~~~~~~~~~~~~~~~~~~~~~~~~~~~~~~~~~~~~~~~~~~\n",
      "This fold: 3 features selected for STABL\n",
      "This fold: 5 features selected for SS 03\n",
      "This fold: 0 features selected for SS 05\n",
      "This fold: 0 features selected for SS 08\n",
      "~~~~~~~~~~~~~~~~~~~~~~~~~~~~~~~~~~~~~~~~~~~~~~~~~~~~~~~\n",
      "\n",
      "**************************** Iteration 75 over 100 ***************************** \n",
      "\n",
      "55 train samples, 13 test samples\n"
     ]
    },
    {
     "name": "stderr",
     "output_type": "stream",
     "text": [
      "                                                               43<00:00, 13.69s/it]\r"
     ]
    },
    {
     "name": "stdout",
     "output_type": "stream",
     "text": [
      "STABL finished (55 samples); 5 features selected\n",
      "\n"
     ]
    },
    {
     "name": "stderr",
     "output_type": "stream",
     "text": [
      "                                                               11<00:00,  7.49s/it]\r"
     ]
    },
    {
     "name": "stdout",
     "output_type": "stream",
     "text": [
      "~~~~~~~~~~~~~~~~~~~~~~~~~~~~~~~~~~~~~~~~~~~~~~~~~~~~~~~\n",
      "This fold: 5 features selected for STABL\n",
      "This fold: 4 features selected for SS 03\n",
      "This fold: 0 features selected for SS 05\n",
      "This fold: 0 features selected for SS 08\n",
      "~~~~~~~~~~~~~~~~~~~~~~~~~~~~~~~~~~~~~~~~~~~~~~~~~~~~~~~\n",
      "\n",
      "**************************** Iteration 76 over 100 ***************************** \n",
      "\n",
      "54 train samples, 14 test samples\n"
     ]
    },
    {
     "name": "stderr",
     "output_type": "stream",
     "text": [
      "                                                               42<00:00, 12.45s/it]\r"
     ]
    },
    {
     "name": "stdout",
     "output_type": "stream",
     "text": [
      "STABL finished (54 samples); 8 features selected\n",
      "\n"
     ]
    },
    {
     "name": "stderr",
     "output_type": "stream",
     "text": [
      "                                                               59<00:00,  6.13s/it]\r"
     ]
    },
    {
     "name": "stdout",
     "output_type": "stream",
     "text": [
      "~~~~~~~~~~~~~~~~~~~~~~~~~~~~~~~~~~~~~~~~~~~~~~~~~~~~~~~\n",
      "This fold: 8 features selected for STABL\n",
      "This fold: 4 features selected for SS 03\n",
      "This fold: 0 features selected for SS 05\n",
      "This fold: 0 features selected for SS 08\n",
      "~~~~~~~~~~~~~~~~~~~~~~~~~~~~~~~~~~~~~~~~~~~~~~~~~~~~~~~\n",
      "\n",
      "**************************** Iteration 77 over 100 ***************************** \n",
      "\n",
      "54 train samples, 14 test samples\n"
     ]
    },
    {
     "name": "stderr",
     "output_type": "stream",
     "text": [
      "                                                               30<00:00,  8.51s/it]\r"
     ]
    },
    {
     "name": "stdout",
     "output_type": "stream",
     "text": [
      "STABL finished (54 samples); 12 features selected\n",
      "\n"
     ]
    },
    {
     "name": "stderr",
     "output_type": "stream",
     "text": [
      "                                                               04<00:00,  6.65s/it]\r"
     ]
    },
    {
     "name": "stdout",
     "output_type": "stream",
     "text": [
      "~~~~~~~~~~~~~~~~~~~~~~~~~~~~~~~~~~~~~~~~~~~~~~~~~~~~~~~\n",
      "This fold: 12 features selected for STABL\n",
      "This fold: 3 features selected for SS 03\n",
      "This fold: 0 features selected for SS 05\n",
      "This fold: 0 features selected for SS 08\n",
      "~~~~~~~~~~~~~~~~~~~~~~~~~~~~~~~~~~~~~~~~~~~~~~~~~~~~~~~\n",
      "\n",
      "**************************** Iteration 78 over 100 ***************************** \n",
      "\n",
      "54 train samples, 14 test samples\n"
     ]
    },
    {
     "name": "stderr",
     "output_type": "stream",
     "text": [
      "                                                               51<00:00, 13.69s/it]\r"
     ]
    },
    {
     "name": "stdout",
     "output_type": "stream",
     "text": [
      "STABL finished (54 samples); 7 features selected\n",
      "\n"
     ]
    },
    {
     "name": "stderr",
     "output_type": "stream",
     "text": [
      "                                                               08<00:00,  7.21s/it]\r"
     ]
    },
    {
     "name": "stdout",
     "output_type": "stream",
     "text": [
      "~~~~~~~~~~~~~~~~~~~~~~~~~~~~~~~~~~~~~~~~~~~~~~~~~~~~~~~\n",
      "This fold: 7 features selected for STABL\n",
      "This fold: 5 features selected for SS 03\n",
      "This fold: 1 features selected for SS 05\n",
      "This fold: 0 features selected for SS 08\n",
      "~~~~~~~~~~~~~~~~~~~~~~~~~~~~~~~~~~~~~~~~~~~~~~~~~~~~~~~\n",
      "\n",
      "**************************** Iteration 79 over 100 ***************************** \n",
      "\n",
      "55 train samples, 13 test samples\n"
     ]
    },
    {
     "name": "stderr",
     "output_type": "stream",
     "text": [
      "                                                               42<00:00, 12.62s/it]\r"
     ]
    },
    {
     "name": "stdout",
     "output_type": "stream",
     "text": [
      "STABL finished (55 samples); 13 features selected\n",
      "\n"
     ]
    },
    {
     "name": "stderr",
     "output_type": "stream",
     "text": [
      "                                                               04<00:00,  6.47s/it]\r"
     ]
    },
    {
     "name": "stdout",
     "output_type": "stream",
     "text": [
      "~~~~~~~~~~~~~~~~~~~~~~~~~~~~~~~~~~~~~~~~~~~~~~~~~~~~~~~\n",
      "This fold: 13 features selected for STABL\n",
      "This fold: 2 features selected for SS 03\n",
      "This fold: 1 features selected for SS 05\n",
      "This fold: 0 features selected for SS 08\n",
      "~~~~~~~~~~~~~~~~~~~~~~~~~~~~~~~~~~~~~~~~~~~~~~~~~~~~~~~\n",
      "\n",
      "**************************** Iteration 80 over 100 ***************************** \n",
      "\n",
      "55 train samples, 13 test samples\n"
     ]
    },
    {
     "name": "stderr",
     "output_type": "stream",
     "text": [
      "                                                               24<00:00,  8.95s/it]\r"
     ]
    },
    {
     "name": "stdout",
     "output_type": "stream",
     "text": [
      "STABL finished (55 samples); 20 features selected\n",
      "\n"
     ]
    },
    {
     "name": "stderr",
     "output_type": "stream",
     "text": [
      "                                                               01<00:00,  5.82s/it]\r"
     ]
    },
    {
     "name": "stdout",
     "output_type": "stream",
     "text": [
      "~~~~~~~~~~~~~~~~~~~~~~~~~~~~~~~~~~~~~~~~~~~~~~~~~~~~~~~\n",
      "This fold: 20 features selected for STABL\n",
      "This fold: 3 features selected for SS 03\n",
      "This fold: 0 features selected for SS 05\n",
      "This fold: 0 features selected for SS 08\n",
      "~~~~~~~~~~~~~~~~~~~~~~~~~~~~~~~~~~~~~~~~~~~~~~~~~~~~~~~\n",
      "\n",
      "**************************** Iteration 81 over 100 ***************************** \n",
      "\n",
      "54 train samples, 14 test samples\n"
     ]
    },
    {
     "name": "stderr",
     "output_type": "stream",
     "text": [
      "                                                               49<00:00, 13.49s/it]\r"
     ]
    },
    {
     "name": "stdout",
     "output_type": "stream",
     "text": [
      "STABL finished (54 samples); 6 features selected\n",
      "\n"
     ]
    },
    {
     "name": "stderr",
     "output_type": "stream",
     "text": [
      "                                                               06<00:00,  6.78s/it]\r"
     ]
    },
    {
     "name": "stdout",
     "output_type": "stream",
     "text": [
      "~~~~~~~~~~~~~~~~~~~~~~~~~~~~~~~~~~~~~~~~~~~~~~~~~~~~~~~\n",
      "This fold: 6 features selected for STABL\n",
      "This fold: 4 features selected for SS 03\n",
      "This fold: 0 features selected for SS 05\n",
      "This fold: 0 features selected for SS 08\n",
      "~~~~~~~~~~~~~~~~~~~~~~~~~~~~~~~~~~~~~~~~~~~~~~~~~~~~~~~\n",
      "\n",
      "**************************** Iteration 82 over 100 ***************************** \n",
      "\n",
      "54 train samples, 14 test samples\n"
     ]
    },
    {
     "name": "stderr",
     "output_type": "stream",
     "text": [
      "                                                               38<00:00, 11.72s/it]\r"
     ]
    },
    {
     "name": "stdout",
     "output_type": "stream",
     "text": [
      "STABL finished (54 samples); 4 features selected\n",
      "\n"
     ]
    },
    {
     "name": "stderr",
     "output_type": "stream",
     "text": [
      "                                                               00<00:00,  6.36s/it]\r"
     ]
    },
    {
     "name": "stdout",
     "output_type": "stream",
     "text": [
      "~~~~~~~~~~~~~~~~~~~~~~~~~~~~~~~~~~~~~~~~~~~~~~~~~~~~~~~\n",
      "This fold: 4 features selected for STABL\n",
      "This fold: 4 features selected for SS 03\n",
      "This fold: 1 features selected for SS 05\n",
      "This fold: 0 features selected for SS 08\n",
      "~~~~~~~~~~~~~~~~~~~~~~~~~~~~~~~~~~~~~~~~~~~~~~~~~~~~~~~\n",
      "\n",
      "**************************** Iteration 83 over 100 ***************************** \n",
      "\n",
      "54 train samples, 14 test samples\n"
     ]
    },
    {
     "name": "stderr",
     "output_type": "stream",
     "text": [
      "                                                               50<00:00,  9.31s/it]\r"
     ]
    },
    {
     "name": "stdout",
     "output_type": "stream",
     "text": [
      "STABL finished (54 samples); 2 features selected\n",
      "\n"
     ]
    },
    {
     "name": "stderr",
     "output_type": "stream",
     "text": [
      "                                                               17<00:00, 10.20s/it]\r"
     ]
    },
    {
     "name": "stdout",
     "output_type": "stream",
     "text": [
      "~~~~~~~~~~~~~~~~~~~~~~~~~~~~~~~~~~~~~~~~~~~~~~~~~~~~~~~\n",
      "This fold: 2 features selected for STABL\n",
      "This fold: 4 features selected for SS 03\n",
      "This fold: 0 features selected for SS 05\n",
      "This fold: 0 features selected for SS 08\n",
      "~~~~~~~~~~~~~~~~~~~~~~~~~~~~~~~~~~~~~~~~~~~~~~~~~~~~~~~\n",
      "\n",
      "**************************** Iteration 84 over 100 ***************************** \n",
      "\n",
      "55 train samples, 13 test samples\n"
     ]
    },
    {
     "name": "stderr",
     "output_type": "stream",
     "text": [
      "                                                               30<00:00,  8.39s/it]\r"
     ]
    },
    {
     "name": "stdout",
     "output_type": "stream",
     "text": [
      "STABL finished (55 samples); 10 features selected\n",
      "\n"
     ]
    },
    {
     "name": "stderr",
     "output_type": "stream",
     "text": [
      "                                                               03<00:00,  7.04s/it]\r"
     ]
    },
    {
     "name": "stdout",
     "output_type": "stream",
     "text": [
      "~~~~~~~~~~~~~~~~~~~~~~~~~~~~~~~~~~~~~~~~~~~~~~~~~~~~~~~\n",
      "This fold: 10 features selected for STABL\n",
      "This fold: 2 features selected for SS 03\n",
      "This fold: 0 features selected for SS 05\n",
      "This fold: 0 features selected for SS 08\n",
      "~~~~~~~~~~~~~~~~~~~~~~~~~~~~~~~~~~~~~~~~~~~~~~~~~~~~~~~\n",
      "\n",
      "**************************** Iteration 85 over 100 ***************************** \n",
      "\n",
      "55 train samples, 13 test samples\n"
     ]
    },
    {
     "name": "stderr",
     "output_type": "stream",
     "text": [
      "                                                               26<00:00, 10.43s/it]\r"
     ]
    },
    {
     "name": "stdout",
     "output_type": "stream",
     "text": [
      "STABL finished (55 samples); 7 features selected\n",
      "\n"
     ]
    },
    {
     "name": "stderr",
     "output_type": "stream",
     "text": [
      "                                                               03<00:00,  6.11s/it]\r"
     ]
    },
    {
     "name": "stdout",
     "output_type": "stream",
     "text": [
      "~~~~~~~~~~~~~~~~~~~~~~~~~~~~~~~~~~~~~~~~~~~~~~~~~~~~~~~\n",
      "This fold: 7 features selected for STABL\n",
      "This fold: 4 features selected for SS 03\n",
      "This fold: 0 features selected for SS 05\n",
      "This fold: 0 features selected for SS 08\n",
      "~~~~~~~~~~~~~~~~~~~~~~~~~~~~~~~~~~~~~~~~~~~~~~~~~~~~~~~\n",
      "\n",
      "**************************** Iteration 86 over 100 ***************************** \n",
      "\n",
      "54 train samples, 14 test samples\n"
     ]
    },
    {
     "name": "stderr",
     "output_type": "stream",
     "text": [
      "                                                               46<00:00,  9.40s/it]\r"
     ]
    },
    {
     "name": "stdout",
     "output_type": "stream",
     "text": [
      "STABL finished (54 samples); 4 features selected\n",
      "\n"
     ]
    },
    {
     "name": "stderr",
     "output_type": "stream",
     "text": [
      "                                                               44<00:00,  5.38s/it]\r"
     ]
    },
    {
     "name": "stdout",
     "output_type": "stream",
     "text": [
      "~~~~~~~~~~~~~~~~~~~~~~~~~~~~~~~~~~~~~~~~~~~~~~~~~~~~~~~\n",
      "This fold: 4 features selected for STABL\n",
      "This fold: 2 features selected for SS 03\n",
      "This fold: 0 features selected for SS 05\n",
      "This fold: 0 features selected for SS 08\n",
      "~~~~~~~~~~~~~~~~~~~~~~~~~~~~~~~~~~~~~~~~~~~~~~~~~~~~~~~\n",
      "\n",
      "**************************** Iteration 87 over 100 ***************************** \n",
      "\n",
      "54 train samples, 14 test samples\n"
     ]
    },
    {
     "name": "stderr",
     "output_type": "stream",
     "text": [
      "                                                               36<00:00,  8.65s/it]\r"
     ]
    },
    {
     "name": "stdout",
     "output_type": "stream",
     "text": [
      "STABL finished (54 samples); 3 features selected\n",
      "\n"
     ]
    },
    {
     "name": "stderr",
     "output_type": "stream",
     "text": [
      "                                                               50<00:00,  6.07s/it]\r"
     ]
    },
    {
     "name": "stdout",
     "output_type": "stream",
     "text": [
      "~~~~~~~~~~~~~~~~~~~~~~~~~~~~~~~~~~~~~~~~~~~~~~~~~~~~~~~\n",
      "This fold: 3 features selected for STABL\n",
      "This fold: 4 features selected for SS 03\n",
      "This fold: 0 features selected for SS 05\n",
      "This fold: 0 features selected for SS 08\n",
      "~~~~~~~~~~~~~~~~~~~~~~~~~~~~~~~~~~~~~~~~~~~~~~~~~~~~~~~\n",
      "\n",
      "**************************** Iteration 88 over 100 ***************************** \n",
      "\n",
      "54 train samples, 14 test samples\n"
     ]
    },
    {
     "name": "stderr",
     "output_type": "stream",
     "text": [
      "                                                               53<00:00, 10.04s/it]\r"
     ]
    },
    {
     "name": "stdout",
     "output_type": "stream",
     "text": [
      "STABL finished (54 samples); 17 features selected\n",
      "\n"
     ]
    },
    {
     "name": "stderr",
     "output_type": "stream",
     "text": [
      "                                                               40<00:00,  4.51s/it]\r"
     ]
    },
    {
     "name": "stdout",
     "output_type": "stream",
     "text": [
      "~~~~~~~~~~~~~~~~~~~~~~~~~~~~~~~~~~~~~~~~~~~~~~~~~~~~~~~\n",
      "This fold: 17 features selected for STABL\n",
      "This fold: 4 features selected for SS 03\n",
      "This fold: 0 features selected for SS 05\n",
      "This fold: 0 features selected for SS 08\n",
      "~~~~~~~~~~~~~~~~~~~~~~~~~~~~~~~~~~~~~~~~~~~~~~~~~~~~~~~\n",
      "\n",
      "**************************** Iteration 89 over 100 ***************************** \n",
      "\n",
      "55 train samples, 13 test samples\n"
     ]
    },
    {
     "name": "stderr",
     "output_type": "stream",
     "text": [
      "                                                               18<00:00, 14.38s/it]\r"
     ]
    },
    {
     "name": "stdout",
     "output_type": "stream",
     "text": [
      "STABL finished (55 samples); 7 features selected\n",
      "\n"
     ]
    },
    {
     "name": "stderr",
     "output_type": "stream",
     "text": [
      "                                                               54<00:00,  4.93s/it]\r"
     ]
    },
    {
     "name": "stdout",
     "output_type": "stream",
     "text": [
      "~~~~~~~~~~~~~~~~~~~~~~~~~~~~~~~~~~~~~~~~~~~~~~~~~~~~~~~\n",
      "This fold: 7 features selected for STABL\n",
      "This fold: 3 features selected for SS 03\n",
      "This fold: 0 features selected for SS 05\n",
      "This fold: 0 features selected for SS 08\n",
      "~~~~~~~~~~~~~~~~~~~~~~~~~~~~~~~~~~~~~~~~~~~~~~~~~~~~~~~\n",
      "\n",
      "**************************** Iteration 90 over 100 ***************************** \n",
      "\n",
      "55 train samples, 13 test samples\n"
     ]
    },
    {
     "name": "stderr",
     "output_type": "stream",
     "text": [
      "                                                               51<00:00, 11.30s/it]\r"
     ]
    },
    {
     "name": "stdout",
     "output_type": "stream",
     "text": [
      "STABL finished (55 samples); 11 features selected\n",
      "\n"
     ]
    },
    {
     "name": "stderr",
     "output_type": "stream",
     "text": [
      "                                                               41<00:00,  4.22s/it]\r"
     ]
    },
    {
     "name": "stdout",
     "output_type": "stream",
     "text": [
      "~~~~~~~~~~~~~~~~~~~~~~~~~~~~~~~~~~~~~~~~~~~~~~~~~~~~~~~\n",
      "This fold: 11 features selected for STABL\n",
      "This fold: 3 features selected for SS 03\n",
      "This fold: 0 features selected for SS 05\n",
      "This fold: 0 features selected for SS 08\n",
      "~~~~~~~~~~~~~~~~~~~~~~~~~~~~~~~~~~~~~~~~~~~~~~~~~~~~~~~\n",
      "\n",
      "**************************** Iteration 91 over 100 ***************************** \n",
      "\n",
      "54 train samples, 14 test samples\n"
     ]
    },
    {
     "name": "stderr",
     "output_type": "stream",
     "text": [
      "                                                               46<00:00, 10.22s/it]\r"
     ]
    },
    {
     "name": "stdout",
     "output_type": "stream",
     "text": [
      "STABL finished (54 samples); 6 features selected\n",
      "\n"
     ]
    },
    {
     "name": "stderr",
     "output_type": "stream",
     "text": [
      "                                                               39<00:00,  4.10s/it]\r"
     ]
    },
    {
     "name": "stdout",
     "output_type": "stream",
     "text": [
      "~~~~~~~~~~~~~~~~~~~~~~~~~~~~~~~~~~~~~~~~~~~~~~~~~~~~~~~\n",
      "This fold: 6 features selected for STABL\n",
      "This fold: 2 features selected for SS 03\n",
      "This fold: 1 features selected for SS 05\n",
      "This fold: 0 features selected for SS 08\n",
      "~~~~~~~~~~~~~~~~~~~~~~~~~~~~~~~~~~~~~~~~~~~~~~~~~~~~~~~\n",
      "\n",
      "**************************** Iteration 92 over 100 ***************************** \n",
      "\n",
      "54 train samples, 14 test samples\n"
     ]
    },
    {
     "name": "stderr",
     "output_type": "stream",
     "text": [
      "                                                               54<00:00, 13.98s/it]\r"
     ]
    },
    {
     "name": "stdout",
     "output_type": "stream",
     "text": [
      "STABL finished (54 samples); 4 features selected\n",
      "\n"
     ]
    },
    {
     "name": "stderr",
     "output_type": "stream",
     "text": [
      "                                                               05<00:00, 12.45s/it]\r"
     ]
    },
    {
     "name": "stdout",
     "output_type": "stream",
     "text": [
      "~~~~~~~~~~~~~~~~~~~~~~~~~~~~~~~~~~~~~~~~~~~~~~~~~~~~~~~\n",
      "This fold: 4 features selected for STABL\n",
      "This fold: 3 features selected for SS 03\n",
      "This fold: 0 features selected for SS 05\n",
      "This fold: 0 features selected for SS 08\n",
      "~~~~~~~~~~~~~~~~~~~~~~~~~~~~~~~~~~~~~~~~~~~~~~~~~~~~~~~\n",
      "\n",
      "**************************** Iteration 93 over 100 ***************************** \n",
      "\n",
      "54 train samples, 14 test samples\n"
     ]
    },
    {
     "name": "stderr",
     "output_type": "stream",
     "text": [
      "                                                               21<00:00, 15.13s/it]\r"
     ]
    },
    {
     "name": "stdout",
     "output_type": "stream",
     "text": [
      "STABL finished (54 samples); 13 features selected\n",
      "\n"
     ]
    },
    {
     "name": "stderr",
     "output_type": "stream",
     "text": [
      "                                                               01<00:00,  5.50s/it]\r"
     ]
    },
    {
     "name": "stdout",
     "output_type": "stream",
     "text": [
      "~~~~~~~~~~~~~~~~~~~~~~~~~~~~~~~~~~~~~~~~~~~~~~~~~~~~~~~\n",
      "This fold: 13 features selected for STABL\n",
      "This fold: 2 features selected for SS 03\n",
      "This fold: 1 features selected for SS 05\n",
      "This fold: 0 features selected for SS 08\n",
      "~~~~~~~~~~~~~~~~~~~~~~~~~~~~~~~~~~~~~~~~~~~~~~~~~~~~~~~\n",
      "\n",
      "**************************** Iteration 94 over 100 ***************************** \n",
      "\n",
      "55 train samples, 13 test samples\n"
     ]
    },
    {
     "name": "stderr",
     "output_type": "stream",
     "text": [
      "                                                               19<00:00, 12.89s/it]\r"
     ]
    },
    {
     "name": "stdout",
     "output_type": "stream",
     "text": [
      "STABL finished (55 samples); 5 features selected\n",
      "\n"
     ]
    },
    {
     "name": "stderr",
     "output_type": "stream",
     "text": [
      "                                                               59<00:00,  5.92s/it]\r"
     ]
    },
    {
     "name": "stdout",
     "output_type": "stream",
     "text": [
      "~~~~~~~~~~~~~~~~~~~~~~~~~~~~~~~~~~~~~~~~~~~~~~~~~~~~~~~\n",
      "This fold: 5 features selected for STABL\n",
      "This fold: 1 features selected for SS 03\n",
      "This fold: 0 features selected for SS 05\n",
      "This fold: 0 features selected for SS 08\n",
      "~~~~~~~~~~~~~~~~~~~~~~~~~~~~~~~~~~~~~~~~~~~~~~~~~~~~~~~\n",
      "\n",
      "**************************** Iteration 95 over 100 ***************************** \n",
      "\n",
      "55 train samples, 13 test samples\n"
     ]
    },
    {
     "name": "stderr",
     "output_type": "stream",
     "text": [
      "                                                               47<00:00,  9.12s/it]\r"
     ]
    },
    {
     "name": "stdout",
     "output_type": "stream",
     "text": [
      "STABL finished (55 samples); 3 features selected\n",
      "\n"
     ]
    },
    {
     "name": "stderr",
     "output_type": "stream",
     "text": [
      "                                                               49<00:00,  6.17s/it]\r"
     ]
    },
    {
     "name": "stdout",
     "output_type": "stream",
     "text": [
      "~~~~~~~~~~~~~~~~~~~~~~~~~~~~~~~~~~~~~~~~~~~~~~~~~~~~~~~\n",
      "This fold: 3 features selected for STABL\n",
      "This fold: 3 features selected for SS 03\n",
      "This fold: 1 features selected for SS 05\n",
      "This fold: 0 features selected for SS 08\n",
      "~~~~~~~~~~~~~~~~~~~~~~~~~~~~~~~~~~~~~~~~~~~~~~~~~~~~~~~\n",
      "\n",
      "**************************** Iteration 96 over 100 ***************************** \n",
      "\n",
      "54 train samples, 14 test samples\n"
     ]
    },
    {
     "name": "stderr",
     "output_type": "stream",
     "text": [
      "                                                               35<00:00, 15.53s/it]\r"
     ]
    },
    {
     "name": "stdout",
     "output_type": "stream",
     "text": [
      "STABL finished (54 samples); 16 features selected\n",
      "\n"
     ]
    },
    {
     "name": "stderr",
     "output_type": "stream",
     "text": [
      "                                                               20<00:00,  8.43s/it]\r"
     ]
    },
    {
     "name": "stdout",
     "output_type": "stream",
     "text": [
      "~~~~~~~~~~~~~~~~~~~~~~~~~~~~~~~~~~~~~~~~~~~~~~~~~~~~~~~\n",
      "This fold: 16 features selected for STABL\n",
      "This fold: 4 features selected for SS 03\n",
      "This fold: 0 features selected for SS 05\n",
      "This fold: 0 features selected for SS 08\n",
      "~~~~~~~~~~~~~~~~~~~~~~~~~~~~~~~~~~~~~~~~~~~~~~~~~~~~~~~\n",
      "\n",
      "**************************** Iteration 97 over 100 ***************************** \n",
      "\n",
      "54 train samples, 14 test samples\n"
     ]
    },
    {
     "name": "stderr",
     "output_type": "stream",
     "text": [
      "                                                               15<00:00, 16.54s/it]\r"
     ]
    },
    {
     "name": "stdout",
     "output_type": "stream",
     "text": [
      "STABL finished (54 samples); 8 features selected\n",
      "\n"
     ]
    },
    {
     "name": "stderr",
     "output_type": "stream",
     "text": [
      "                                                               18<00:00,  8.14s/it]\r"
     ]
    },
    {
     "name": "stdout",
     "output_type": "stream",
     "text": [
      "~~~~~~~~~~~~~~~~~~~~~~~~~~~~~~~~~~~~~~~~~~~~~~~~~~~~~~~\n",
      "This fold: 8 features selected for STABL\n",
      "This fold: 6 features selected for SS 03\n",
      "This fold: 0 features selected for SS 05\n",
      "This fold: 0 features selected for SS 08\n",
      "~~~~~~~~~~~~~~~~~~~~~~~~~~~~~~~~~~~~~~~~~~~~~~~~~~~~~~~\n",
      "\n",
      "**************************** Iteration 98 over 100 ***************************** \n",
      "\n",
      "54 train samples, 14 test samples\n"
     ]
    },
    {
     "name": "stderr",
     "output_type": "stream",
     "text": [
      "                                                               34<00:00, 14.65s/it]\r"
     ]
    },
    {
     "name": "stdout",
     "output_type": "stream",
     "text": [
      "STABL finished (54 samples); 15 features selected\n",
      "\n"
     ]
    },
    {
     "name": "stderr",
     "output_type": "stream",
     "text": [
      "                                                               08<00:00,  6.29s/it]\r"
     ]
    },
    {
     "name": "stdout",
     "output_type": "stream",
     "text": [
      "~~~~~~~~~~~~~~~~~~~~~~~~~~~~~~~~~~~~~~~~~~~~~~~~~~~~~~~\n",
      "This fold: 15 features selected for STABL\n",
      "This fold: 2 features selected for SS 03\n",
      "This fold: 0 features selected for SS 05\n",
      "This fold: 0 features selected for SS 08\n",
      "~~~~~~~~~~~~~~~~~~~~~~~~~~~~~~~~~~~~~~~~~~~~~~~~~~~~~~~\n",
      "\n",
      "**************************** Iteration 99 over 100 ***************************** \n",
      "\n",
      "55 train samples, 13 test samples\n"
     ]
    },
    {
     "name": "stderr",
     "output_type": "stream",
     "text": [
      "                                                               11<00:00, 19.75s/it]\r"
     ]
    },
    {
     "name": "stdout",
     "output_type": "stream",
     "text": [
      "STABL finished (55 samples); 29 features selected\n",
      "\n"
     ]
    },
    {
     "name": "stderr",
     "output_type": "stream",
     "text": [
      "                                                               14<00:00,  7.37s/it]\r"
     ]
    },
    {
     "name": "stdout",
     "output_type": "stream",
     "text": [
      "~~~~~~~~~~~~~~~~~~~~~~~~~~~~~~~~~~~~~~~~~~~~~~~~~~~~~~~\n",
      "This fold: 29 features selected for STABL\n",
      "This fold: 2 features selected for SS 03\n",
      "This fold: 0 features selected for SS 05\n",
      "This fold: 0 features selected for SS 08\n",
      "~~~~~~~~~~~~~~~~~~~~~~~~~~~~~~~~~~~~~~~~~~~~~~~~~~~~~~~\n",
      "\n",
      "**************************** Iteration 100 over 100 **************************** \n",
      "\n",
      "55 train samples, 13 test samples\n"
     ]
    },
    {
     "name": "stderr",
     "output_type": "stream",
     "text": [
      "                                                               16<00:00, 10.90s/it]\r"
     ]
    },
    {
     "name": "stdout",
     "output_type": "stream",
     "text": [
      "STABL finished (55 samples); 4 features selected\n",
      "\n"
     ]
    },
    {
     "name": "stderr",
     "output_type": "stream",
     "text": [
      "                                                               10<00:00,  7.59s/it]\r"
     ]
    },
    {
     "name": "stdout",
     "output_type": "stream",
     "text": [
      "~~~~~~~~~~~~~~~~~~~~~~~~~~~~~~~~~~~~~~~~~~~~~~~~~~~~~~~\n",
      "This fold: 4 features selected for STABL\n",
      "This fold: 2 features selected for SS 03\n",
      "This fold: 1 features selected for SS 05\n",
      "This fold: 0 features selected for SS 08\n",
      "~~~~~~~~~~~~~~~~~~~~~~~~~~~~~~~~~~~~~~~~~~~~~~~~~~~~~~~\n",
      "\n"
     ]
    }
   ],
   "source": [
    "predictions_dict = single_omic_stabl_cv(\n",
    "    X=X_train,\n",
    "    y=y_train,\n",
    "    outer_splitter=outer_splitter,\n",
    "    stabl=stabl,\n",
    "    stability_selection=stability_selection,\n",
    "    task_type=\"binary\",\n",
    "    save_path=result_folder,\n",
    "    outer_groups=None\n",
    ")"
   ]
  },
  {
   "cell_type": "markdown",
   "id": "017ca697-569a-4996-927d-adf7c9ec7565",
   "metadata": {},
   "source": [
    "# Tables of features"
   ]
  },
  {
   "cell_type": "code",
   "execution_count": 17,
   "id": "42866cb9-02ca-4d2b-8739-609a96ee367c",
   "metadata": {
    "tags": []
   },
   "outputs": [],
   "source": [
    "selected_features_dict = dict()\n",
    "for model in [\"STABL\", \"Lasso\", \"Lasso 1SE\", \"ElasticNet\", \"SS 03\", \"SS 05\", \"SS 08\"]:\n",
    "    path = Path(result_folder, \"Training-Validation\", f\"{model} coefficients.csv\")\n",
    "    try:\n",
    "        selected_features_dict[model] = list(pd.read_csv(path, index_col=0).iloc[:, 0].index)\n",
    "    except:\n",
    "        selected_features_dict[model] = []"
   ]
  },
  {
   "cell_type": "code",
   "execution_count": 18,
   "id": "feafb92f",
   "metadata": {},
   "outputs": [],
   "source": [
    "features_table = compute_features_table(\n",
    "    selected_features_dict,\n",
    "    X_train=X_train,\n",
    "    y_train=y_train,\n",
    "    X_test=X_val,\n",
    "    y_test=y_val,\n",
    "    task_type=\"binary\")"
   ]
  },
  {
   "cell_type": "code",
   "execution_count": 6,
   "id": "50bee53d-a56c-4118-a6c5-6b74f22c67c6",
   "metadata": {
    "tags": []
   },
   "outputs": [],
   "source": [
    "#features_table.to_csv(Path(result_folder, \"Training-Validation\", \"Table of features.csv\"))"
   ]
  },
  {
   "cell_type": "code",
   "execution_count": 4,
   "id": "9b615fc5",
   "metadata": {},
   "outputs": [
    {
     "name": "stdout",
     "output_type": "stream",
     "text": [
      "['', 'ROC AUC', 'Average Precision', 'N features', 'CVS']\n",
      "['STABL', '0.871 [0.770, 0.951]', '0.785 [0.618, 0.936]', '7.500 [5.000, 13.250]', '0.222 [0.154, 0.294]']\n",
      "['SS 03', '0.847 [0.739, 0.938] (p=0.281)', '0.755 [0.563, 0.923] (p=0.316)', '3.500 [2.000, 4.000] (p=6.237e-19)', '0.200 [0.100, 0.333] (p=5.364e-14)']\n",
      "['SS 05', '0.480 [0.432, 0.500] (p=0.0)', '0.359 [0.250, 0.478] (p=0.0)', '0.000 [0.000, 1.000] (p=6.859e-36)', '0.000 [0.000, 0.000] (p=0.000e+00)']\n",
      "['SS 08', '0.500 [0.500, 0.500] (p=0.0)', '0.368 [0.265, 0.485] (p=0.0)', '0.000 [0.000, 0.000] (p=5.233e-39)', '0.000 [0.000, 0.000] (p=0.000e+00)']\n",
      "['Lasso', '0.855 [0.739, 0.954] (p=0.367)', '0.829 [0.675, 0.936] (p=0.33)', '21.500 [8.000, 105.250] (p=6.825e-09)', '0.105 [0.043, 0.217] (p=0.000e+00)']\n",
      "['Lasso 1SE', '0.854 [0.747, 0.943] (p=0.362)', '0.823 [0.675, 0.932] (p=0.338)', '22.000 [5.000, 103.250] (p=3.913e-05)', '0.071 [0.011, 0.200] (p=0.000e+00)']\n",
      "['ElasticNet', '0.859 [0.738, 0.957] (p=0.411)', '0.811 [0.644, 0.941] (p=0.388)', '31.000 [18.750, 845.000] (p=6.189e-25)', '0.113 [0.021, 0.286] (p=1.387e-148)']\n"
     ]
    }
   ],
   "source": [
    "import csv\n",
    "\n",
    "# Lecture du fichier CSV\n",
    "with open('/Users/jonasamar/Stabl/Notebook examples/Results COVID-19/Summary/Scores training CV.csv', newline='') as csvfile:\n",
    "    reader = csv.reader(csvfile)\n",
    "    for row in reader:\n",
    "        print(row)"
   ]
  },
  {
   "cell_type": "code",
   "execution_count": 38,
   "id": "635cedf3",
   "metadata": {},
   "outputs": [],
   "source": [
    "from PyPDF2 import PdfReader\n",
    "\n",
    "def get_pvalue_from_Boxplot(model):\n",
    "    reader = PdfReader('/Users/jonasamar/Stabl/Notebook examples/Results COVID-19/Training CV/' + model + '/' + model + ' Boxplot of median predictions.pdf')            \n",
    "    # getting a specific page from the pdf file\n",
    "    page = reader.pages[0]\n",
    "\n",
    "    # extracting text from page\n",
    "    text = page.extract_text()\n",
    "    start_index = text.find('U-test pvalue = ') + len('U-test pvalue = ')\n",
    "    end_index = text.find('\\n', start_index)\n",
    "    return text[start_index:end_index]"
   ]
  },
  {
   "cell_type": "code",
   "execution_count": 39,
   "id": "f3c1e896",
   "metadata": {},
   "outputs": [],
   "source": [
    "# Modifying a csv file to add the U-test pvalue\n",
    "with open('/Users/jonasamar/Stabl/Notebook examples/Results COVID-19/Summary/Scores training CV.csv', newline='') as csvfile:\n",
    "    reader = csv.reader(csvfile)\n",
    "    with open('/Users/jonasamar/Stabl/Notebook examples/Results COVID-19/Summary/Scores training CV (2).csv', mode='w', newline='') as new_csvfile:\n",
    "        writer = csv.writer(new_csvfile)\n",
    "        for i, row in enumerate(reader):\n",
    "            # modified values\n",
    "            if i == 0:\n",
    "                row.append('U-test pvalue')\n",
    "            else:\n",
    "                model = row[0]\n",
    "                row.append(get_pvalue_from_Boxplot(model))\n",
    "            writer.writerow(row)"
   ]
  },
  {
   "cell_type": "code",
   "execution_count": null,
   "id": "2dba3ead",
   "metadata": {},
   "outputs": [],
   "source": []
  }
 ],
 "metadata": {
  "instance_type": "ml.c5.2xlarge",
  "kernelspec": {
   "display_name": ".venv",
   "language": "python",
   "name": "python3"
  },
  "language_info": {
   "codemirror_mode": {
    "name": "ipython",
    "version": 3
   },
   "file_extension": ".py",
   "mimetype": "text/x-python",
   "name": "python",
   "nbconvert_exporter": "python",
   "pygments_lexer": "ipython3",
   "version": "3.9.5"
  },
  "lcc_arn": "arn:aws:sagemaker:us-east-1:011021124722:studio-lifecycle-config/pip-install-kernel",
  "toc": {
   "base_numbering": 1,
   "nav_menu": {},
   "number_sections": true,
   "sideBar": true,
   "skip_h1_title": false,
   "title_cell": "Table of Contents",
   "title_sidebar": "Contents",
   "toc_cell": false,
   "toc_position": {
    "height": "calc(100% - 180px)",
    "left": "10px",
    "top": "150px",
    "width": "384px"
   },
   "toc_section_display": true,
   "toc_window_display": true
  },
  "vscode": {
   "interpreter": {
    "hash": "d79ce8a9c567bcd5b807d9facb16a9b5bb341f8ca04ba03de5d1f0eaaf8a7151"
   }
  }
 },
 "nbformat": 4,
 "nbformat_minor": 5
}
